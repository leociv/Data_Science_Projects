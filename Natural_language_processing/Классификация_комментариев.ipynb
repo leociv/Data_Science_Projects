{
 "cells": [
  {
   "cell_type": "markdown",
   "id": "3ec6cfd4",
   "metadata": {},
   "source": [
    "# Классификация комментариев"
   ]
  },
  {
   "cell_type": "markdown",
   "id": "73de0357",
   "metadata": {},
   "source": [
    "Магазину нужен инструмент, который будет искать токсичные комментарии и отправлять их на модерацию. \n",
    "\n",
    "В нашем распоряжении датасет с комментариями и отметкой об их негативном или позитивном содержании.\n",
    "\n",
    "**Задача** - обучить модель классифицировать комментарии на позитивные и негативные.\n",
    "\n",
    "**Описание данных**\n",
    "\n",
    "Столбец *text* содержит текст комментария, а *toxic* — целевой признак."
   ]
  },
  {
   "cell_type": "markdown",
   "id": "9d304423",
   "metadata": {},
   "source": [
    "## Подготовка и обучение"
   ]
  },
  {
   "cell_type": "code",
   "execution_count": 1,
   "id": "2279ec7e",
   "metadata": {},
   "outputs": [
    {
     "name": "stderr",
     "output_type": "stream",
     "text": [
      "[nltk_data] Downloading package wordnet to\n",
      "[nltk_data]     C:\\Users\\leoci\\AppData\\Roaming\\nltk_data...\n",
      "[nltk_data]   Package wordnet is already up-to-date!\n",
      "[nltk_data] Downloading package stopwords to\n",
      "[nltk_data]     C:\\Users\\leoci\\AppData\\Roaming\\nltk_data...\n",
      "[nltk_data]   Package stopwords is already up-to-date!\n"
     ]
    }
   ],
   "source": [
    "import numpy as np\n",
    "import pandas as pd\n",
    "\n",
    "import re\n",
    "\n",
    "import nltk\n",
    "nltk.download('wordnet')\n",
    "nltk.download('stopwords')\n",
    "from nltk.stem import WordNetLemmatizer\n",
    "w = WordNetLemmatizer()\n",
    "from nltk.corpus import stopwords as nltk_stopwords\n",
    "from sklearn.feature_extraction.text import TfidfVectorizer, CountVectorizer\n",
    "\n",
    "from sklearn.utils import shuffle\n",
    "\n",
    "from tqdm import notebook\n",
    "from sklearn.linear_model import LogisticRegression\n",
    "from sklearn.tree import DecisionTreeClassifier\n",
    "from sklearn.ensemble import RandomForestClassifier\n",
    "from catboost import CatBoostClassifier\n",
    "from lightgbm import LGBMClassifier\n",
    "from sklearn.model_selection import cross_val_score, train_test_split, GridSearchCV\n",
    "from sklearn.metrics import f1_score, make_scorer, accuracy_score, roc_auc_score"
   ]
  },
  {
   "cell_type": "markdown",
   "id": "697d32da",
   "metadata": {},
   "source": [
    "Загружаем данные"
   ]
  },
  {
   "cell_type": "code",
   "execution_count": 2,
   "id": "f2c04d6e",
   "metadata": {},
   "outputs": [],
   "source": [
    "df = pd.read_csv('C:/Users/leoci/Downloads/toxic_comments.csv')"
   ]
  },
  {
   "cell_type": "code",
   "execution_count": 3,
   "id": "fea56439",
   "metadata": {},
   "outputs": [
    {
     "name": "stdout",
     "output_type": "stream",
     "text": [
      "<class 'pandas.core.frame.DataFrame'>\n",
      "RangeIndex: 159571 entries, 0 to 159570\n",
      "Data columns (total 2 columns):\n",
      " #   Column  Non-Null Count   Dtype \n",
      "---  ------  --------------   ----- \n",
      " 0   text    159571 non-null  object\n",
      " 1   toxic   159571 non-null  int64 \n",
      "dtypes: int64(1), object(1)\n",
      "memory usage: 2.4+ MB\n",
      "None\n"
     ]
    }
   ],
   "source": [
    "print(df.info())"
   ]
  },
  {
   "cell_type": "markdown",
   "id": "46c9888d",
   "metadata": {},
   "source": [
    "Датасет содержит 159571 строк и 2 столбца. В первом столбце текст, во втором отметка о его токсичности."
   ]
  },
  {
   "cell_type": "markdown",
   "id": "9fde2d83",
   "metadata": {},
   "source": [
    "Лемматизируем текст, сохраним лемматизированый текст в отдельный столбце."
   ]
  },
  {
   "cell_type": "code",
   "execution_count": 4,
   "id": "66b5b9ab",
   "metadata": {},
   "outputs": [],
   "source": [
    "def lemmatize(text):\n",
    "    clear_text = \" \".join(re.sub(r'[^a-zA-Z]', ' ', text).split())\n",
    "    lemm_list = w.lemmatize(clear_text)\n",
    "    lemm_text = \"\".join(lemm_list)\n",
    "    return lemm_text\n",
    "df['lemm_text'] = df['text'].apply(lemmatize)"
   ]
  },
  {
   "cell_type": "markdown",
   "id": "6211ded3",
   "metadata": {},
   "source": [
    "Выделим из датасета целевой признак. Поделим датасет на обучающую и тестовую и валидационную выборки. Зададим размер тестовой выборки 20% от данных."
   ]
  },
  {
   "cell_type": "code",
   "execution_count": 5,
   "id": "f98ec9ed",
   "metadata": {},
   "outputs": [],
   "source": [
    "X = df.drop('toxic', axis=1) \n",
    "y = df['toxic'] \n",
    "x_pre_train, x_test, y_pre_train, y_test = train_test_split(X, y, test_size=0.2, random_state=123)\n",
    "x_train, x_valid, y_train, y_valid = train_test_split(x_pre_train, y_pre_train, test_size=0.25, random_state=123)\n"
   ]
  },
  {
   "cell_type": "markdown",
   "id": "c1f03055",
   "metadata": {},
   "source": [
    "Создадим корпусы текстов в обучающей, валидационной и тестовой выборках. Выведем на экран размеры получившихся выборок"
   ]
  },
  {
   "cell_type": "code",
   "execution_count": 6,
   "id": "0b68236e",
   "metadata": {},
   "outputs": [],
   "source": [
    "corpus_x_train = x_train['lemm_text'].values.astype('U')\n",
    "corpus_x_test = x_test['lemm_text'].values.astype('U')\n",
    "corpus_x_valid = x_valid['lemm_text'].values.astype('U')"
   ]
  },
  {
   "cell_type": "code",
   "execution_count": 7,
   "id": "28ae4a19",
   "metadata": {},
   "outputs": [
    {
     "name": "stdout",
     "output_type": "stream",
     "text": [
      "(95742,)\n",
      "(95742,)\n",
      "(31915,)\n",
      "(31915,)\n",
      "(31914,)\n",
      "(31914,)\n"
     ]
    }
   ],
   "source": [
    "print(corpus_x_train.shape)\n",
    "print(y_train.shape)\n",
    "print(corpus_x_test.shape)\n",
    "print(y_test.shape)\n",
    "print(corpus_x_valid.shape)\n",
    "print(y_valid.shape)"
   ]
  },
  {
   "cell_type": "markdown",
   "id": "2963d045",
   "metadata": {},
   "source": [
    "Посчитаем TF-IDF для корпуса текстов. Зададим TF-IDF как признаки для модели."
   ]
  },
  {
   "cell_type": "code",
   "execution_count": 8,
   "id": "0dcb348f",
   "metadata": {},
   "outputs": [],
   "source": [
    "stopwords = set(nltk_stopwords.words('english'))\n",
    "count = TfidfVectorizer(stop_words=stopwords)\n",
    "x_train = count.fit_transform(corpus_x_train)\n",
    "x_test = count.transform(corpus_x_test) \n",
    "x_valid = count.transform(corpus_x_valid) "
   ]
  },
  {
   "cell_type": "code",
   "execution_count": 9,
   "id": "a394b7c5",
   "metadata": {},
   "outputs": [
    {
     "name": "stdout",
     "output_type": "stream",
     "text": [
      "(95742, 125661)\n",
      "(31915, 125661)\n",
      "(31914, 125661)\n"
     ]
    }
   ],
   "source": [
    "print(x_train.shape)\n",
    "print(x_test.shape)\n",
    "print(x_valid.shape)"
   ]
  },
  {
   "cell_type": "markdown",
   "id": "281a77e0",
   "metadata": {},
   "source": [
    "## Обучение моделей"
   ]
  },
  {
   "cell_type": "markdown",
   "id": "44af3ed1",
   "metadata": {},
   "source": [
    "### Логистическая регрессия"
   ]
  },
  {
   "cell_type": "markdown",
   "id": "e920fcf5",
   "metadata": {},
   "source": [
    "Проверим сбалансированность классов"
   ]
  },
  {
   "cell_type": "code",
   "execution_count": 10,
   "id": "a8c4358c",
   "metadata": {},
   "outputs": [
    {
     "name": "stdout",
     "output_type": "stream",
     "text": [
      "0    86040\n",
      "1     9702\n",
      "Name: toxic, dtype: int64\n"
     ]
    }
   ],
   "source": [
    "print(y_train.value_counts())"
   ]
  },
  {
   "cell_type": "markdown",
   "id": "c39c8955",
   "metadata": {},
   "source": [
    "Наблюдается явный дисбаланс классов. При обучении логистической регрессии укажем параметр class_weight = 'balanced'"
   ]
  },
  {
   "cell_type": "code",
   "execution_count": 11,
   "id": "fb2230ed",
   "metadata": {},
   "outputs": [
    {
     "name": "stdout",
     "output_type": "stream",
     "text": [
      "Wall time: 8.03 s\n"
     ]
    },
    {
     "name": "stderr",
     "output_type": "stream",
     "text": [
      "C:\\Anaconda\\lib\\site-packages\\sklearn\\linear_model\\_sag.py:328: ConvergenceWarning: The max_iter was reached which means the coef_ did not converge\n",
      "  warnings.warn(\"The max_iter was reached which means \"\n"
     ]
    },
    {
     "data": {
      "text/plain": [
       "LogisticRegression(class_weight='balanced', solver='saga')"
      ]
     },
     "execution_count": 11,
     "metadata": {},
     "output_type": "execute_result"
    }
   ],
   "source": [
    "%%time\n",
    "\n",
    "model1 = LogisticRegression(solver='saga', class_weight='balanced')\n",
    "model1.fit(x_train, y_train)\n"
   ]
  },
  {
   "cell_type": "markdown",
   "id": "a9dd16dd",
   "metadata": {},
   "source": [
    "Проверим качество модели при различных порогах"
   ]
  },
  {
   "cell_type": "code",
   "execution_count": 12,
   "id": "fcee316f",
   "metadata": {
    "scrolled": true
   },
   "outputs": [
    {
     "name": "stdout",
     "output_type": "stream",
     "text": [
      "Порог = 0.10 | F1_score = 0.36119\n",
      "Порог = 0.11 | F1_score = 0.38000\n",
      "Порог = 0.12 | F1_score = 0.39755\n",
      "Порог = 0.13 | F1_score = 0.41493\n",
      "Порог = 0.14 | F1_score = 0.43076\n",
      "Порог = 0.15 | F1_score = 0.44663\n",
      "Порог = 0.16 | F1_score = 0.46376\n",
      "Порог = 0.17 | F1_score = 0.47981\n",
      "Порог = 0.18 | F1_score = 0.49540\n",
      "Порог = 0.19 | F1_score = 0.51017\n",
      "Порог = 0.20 | F1_score = 0.52547\n",
      "Порог = 0.21 | F1_score = 0.54122\n",
      "Порог = 0.22 | F1_score = 0.55533\n",
      "Порог = 0.23 | F1_score = 0.56676\n",
      "Порог = 0.24 | F1_score = 0.58223\n",
      "Порог = 0.25 | F1_score = 0.59301\n",
      "Порог = 0.26 | F1_score = 0.60443\n",
      "Порог = 0.27 | F1_score = 0.61652\n",
      "Порог = 0.28 | F1_score = 0.62638\n",
      "Порог = 0.29 | F1_score = 0.63471\n",
      "Порог = 0.30 | F1_score = 0.64467\n",
      "Порог = 0.31 | F1_score = 0.65316\n",
      "Порог = 0.32 | F1_score = 0.66021\n",
      "Порог = 0.33 | F1_score = 0.66854\n",
      "Порог = 0.34 | F1_score = 0.67649\n",
      "Порог = 0.35 | F1_score = 0.68433\n",
      "Порог = 0.36 | F1_score = 0.69016\n",
      "Порог = 0.37 | F1_score = 0.69582\n",
      "Порог = 0.38 | F1_score = 0.70295\n",
      "Порог = 0.39 | F1_score = 0.70942\n",
      "Порог = 0.40 | F1_score = 0.71555\n",
      "Порог = 0.41 | F1_score = 0.72049\n",
      "Порог = 0.42 | F1_score = 0.72309\n",
      "Порог = 0.43 | F1_score = 0.72786\n",
      "Порог = 0.44 | F1_score = 0.73182\n",
      "Порог = 0.45 | F1_score = 0.73639\n",
      "Порог = 0.46 | F1_score = 0.74079\n",
      "Порог = 0.47 | F1_score = 0.74425\n",
      "Порог = 0.48 | F1_score = 0.74853\n",
      "Порог = 0.49 | F1_score = 0.74957\n",
      "Порог = 0.50 | F1_score = 0.75375\n",
      "Порог = 0.51 | F1_score = 0.75769\n",
      "Порог = 0.52 | F1_score = 0.76036\n",
      "Порог = 0.53 | F1_score = 0.76259\n",
      "Порог = 0.54 | F1_score = 0.76646\n",
      "Порог = 0.55 | F1_score = 0.76908\n",
      "Порог = 0.56 | F1_score = 0.77164\n",
      "Порог = 0.57 | F1_score = 0.77332\n",
      "Порог = 0.58 | F1_score = 0.77597\n",
      "Порог = 0.59 | F1_score = 0.77653\n",
      "Порог = 0.60 | F1_score = 0.77957\n",
      "Порог = 0.61 | F1_score = 0.78175\n",
      "Порог = 0.62 | F1_score = 0.78296\n",
      "Порог = 0.63 | F1_score = 0.78449\n",
      "Порог = 0.64 | F1_score = 0.78548\n",
      "Порог = 0.65 | F1_score = 0.78649\n",
      "Порог = 0.66 | F1_score = 0.78659\n",
      "Порог = 0.67 | F1_score = 0.78734\n",
      "Порог = 0.68 | F1_score = 0.78615\n",
      "Порог = 0.69 | F1_score = 0.78411\n",
      "Порог = 0.70 | F1_score = 0.78348\n",
      "Порог = 0.71 | F1_score = 0.78057\n",
      "Порог = 0.72 | F1_score = 0.78042\n",
      "Порог = 0.73 | F1_score = 0.77969\n",
      "Порог = 0.74 | F1_score = 0.77830\n",
      "Порог = 0.75 | F1_score = 0.77812\n",
      "Порог = 0.76 | F1_score = 0.77785\n",
      "Порог = 0.77 | F1_score = 0.77494\n",
      "Порог = 0.78 | F1_score = 0.77267\n",
      "Порог = 0.79 | F1_score = 0.76964\n",
      "Порог = 0.80 | F1_score = 0.76748\n",
      "Порог = 0.81 | F1_score = 0.76418\n",
      "Порог = 0.82 | F1_score = 0.76094\n",
      "Порог = 0.83 | F1_score = 0.75624\n",
      "Порог = 0.84 | F1_score = 0.75324\n",
      "Порог = 0.85 | F1_score = 0.74872\n",
      "Порог = 0.86 | F1_score = 0.74295\n",
      "Порог = 0.87 | F1_score = 0.73690\n",
      "Порог = 0.88 | F1_score = 0.72644\n",
      "Порог = 0.89 | F1_score = 0.71526\n",
      "Порог = 0.90 | F1_score = 0.70840\n",
      "Порог = 0.91 | F1_score = 0.70011\n",
      "Порог = 0.92 | F1_score = 0.69156\n",
      "Порог = 0.93 | F1_score = 0.67912\n",
      "Порог = 0.94 | F1_score = 0.66380\n",
      "\n",
      "Оптимальный порог = 0.67 | Наилучший F1_score = 0.78734\n"
     ]
    }
   ],
   "source": [
    "prob_valid = model1.predict_proba(x_valid)\n",
    "prob_one_valid = prob_valid[:, 1]\n",
    "\n",
    "best_threshold = 0\n",
    "best_f1 = 0\n",
    "best_pred1 = []\n",
    "for threshold in np.arange(0.1, 0.95, 0.01):\n",
    "    pred1 = prob_one_valid > threshold\n",
    "    f1 = f1_score(y_valid, pred1)\n",
    "    if f1 > best_f1:\n",
    "        best_f1 = f1\n",
    "        best_threshold = threshold\n",
    "        best_pred1 = pred1\n",
    "    print(\"Порог = {:.2f} | F1_score = {:.5f}\".format(threshold, f1))\n",
    "\n",
    "print('')\n",
    "print(\"Оптимальный порог = {:.2f} | Наилучший F1_score = {:.5f}\".format(best_threshold, best_f1))"
   ]
  },
  {
   "cell_type": "markdown",
   "id": "1e725cad",
   "metadata": {},
   "source": [
    "Проверим модель на тестовой выборке при полученном оптимальном пороге."
   ]
  },
  {
   "cell_type": "code",
   "execution_count": 13,
   "id": "08317356",
   "metadata": {},
   "outputs": [
    {
     "name": "stdout",
     "output_type": "stream",
     "text": [
      "порог = 0.67 | F1_score = 0.77729\n"
     ]
    }
   ],
   "source": [
    "prob_test = model1.predict_proba(x_test)\n",
    "prob_one_test = prob_test[:, 1]\n",
    "\n",
    "pred1_test = prob_one_test > best_threshold\n",
    "f1 = f1_score(y_test, pred1_test)\n",
    "    \n",
    "print(\"порог = {:.2f} | F1_score = {:.5f}\".format(best_threshold, f1))"
   ]
  },
  {
   "cell_type": "code",
   "execution_count": 14,
   "id": "57c4d15f",
   "metadata": {},
   "outputs": [
    {
     "name": "stdout",
     "output_type": "stream",
     "text": [
      "F1 = 0.7773\n",
      "Accuracy при полученном оптимальном пороге = 0.9574\n",
      "ROC-AUC score при оптимальном пороге = 0.9694\n"
     ]
    }
   ],
   "source": [
    "print(f'F1 = {f1_score(y_test, pred1_test):.4}')\n",
    "print(f'Accuracy при полученном оптимальном пороге = {accuracy_score(y_test, pred1_test):.4}')\n",
    "print(f'ROC-AUC score при оптимальном пороге = {roc_auc_score(y_test, prob_one_test):.4}')"
   ]
  },
  {
   "cell_type": "markdown",
   "id": "e383194a",
   "metadata": {},
   "source": [
    "Логистическая регрессия быстро обучается и выдаёт достаточную F1 даже при базовом пороге (при пороге 0.5 F1 = 0.752). После подбора оптимального порога удалось довести значение F1 до 0.777"
   ]
  },
  {
   "cell_type": "markdown",
   "id": "ac9f8c2d",
   "metadata": {},
   "source": [
    "### RandomForestClassifier"
   ]
  },
  {
   "cell_type": "code",
   "execution_count": 15,
   "id": "55b3ccb7",
   "metadata": {},
   "outputs": [
    {
     "name": "stdout",
     "output_type": "stream",
     "text": [
      "Комбинация параметров, которая дает лучший результат: {'n_estimators': 15}\n",
      "Максимальный F1: 0.6793\n",
      "Wall time: 6min 30s\n"
     ]
    }
   ],
   "source": [
    "%%time\n",
    "\n",
    "model2 = RandomForestClassifier(random_state=123)\n",
    "params2 = {'n_estimators' : np.arange(10,25,5)}\n",
    "grid = GridSearchCV(model2, params2, scoring='f1', cv=2)\n",
    "grid.fit(x_train, y_train)\n",
    "print('Комбинация параметров, которая дает лучший результат:', grid.best_params_)\n",
    "print(f'Максимальный F1: {grid.best_score_:.4f}')"
   ]
  },
  {
   "cell_type": "code",
   "execution_count": 16,
   "id": "51f4d29a",
   "metadata": {},
   "outputs": [
    {
     "name": "stdout",
     "output_type": "stream",
     "text": [
      "F1 на валидационной выборке = 0.7089\n",
      "F1 на тестовой выборке = 0.7104\n"
     ]
    }
   ],
   "source": [
    "pred2 = grid.predict(x_valid)\n",
    "print(f'F1 на валидационной выборке = {f1_score(y_valid, pred2):.4}')\n",
    "\n",
    "pred2 = grid.predict(x_test)\n",
    "print(f'F1 на тестовой выборке = {f1_score(y_test, pred2):.4}')"
   ]
  },
  {
   "cell_type": "markdown",
   "id": "66725543",
   "metadata": {},
   "source": [
    "Случайный лес обучается значительно дольше логистической регрессии, а получаемый результат оказывается хуже."
   ]
  },
  {
   "cell_type": "markdown",
   "id": "81493100",
   "metadata": {},
   "source": [
    "### LGBMClassifier"
   ]
  },
  {
   "cell_type": "code",
   "execution_count": 17,
   "id": "30c822cd",
   "metadata": {},
   "outputs": [
    {
     "name": "stdout",
     "output_type": "stream",
     "text": [
      "Wall time: 14.8 s\n"
     ]
    },
    {
     "data": {
      "text/plain": [
       "LGBMClassifier(class_weight='balanced', random_state=123)"
      ]
     },
     "execution_count": 17,
     "metadata": {},
     "output_type": "execute_result"
    }
   ],
   "source": [
    "%%time\n",
    "\n",
    "model3 = LGBMClassifier(random_state=123, class_weight='balanced')\n",
    "model3.fit(x_train, y_train)"
   ]
  },
  {
   "cell_type": "code",
   "execution_count": 18,
   "id": "7aaa181f",
   "metadata": {},
   "outputs": [
    {
     "name": "stdout",
     "output_type": "stream",
     "text": [
      "F1 на валидационной выборке = 0.7376\n",
      "F1 на тестовой выборке = 0.7302\n"
     ]
    }
   ],
   "source": [
    "pred3 = model3.predict(x_valid)\n",
    "print(f'F1 на валидационной выборке = {f1_score(y_valid, pred3):.4}')\n",
    "\n",
    "pred3 = model3.predict(x_test)\n",
    "print(f'F1 на тестовой выборке = {f1_score(y_test, pred3):.4}')"
   ]
  },
  {
   "cell_type": "markdown",
   "id": "61eda348",
   "metadata": {},
   "source": [
    "LGBM обучается достаточно быстро, но точность хуже чем у логистической регрессии"
   ]
  },
  {
   "cell_type": "markdown",
   "id": "4a2b17a2",
   "metadata": {},
   "source": [
    "## Выводы"
   ]
  },
  {
   "cell_type": "markdown",
   "id": "dd7e0c42",
   "metadata": {},
   "source": [
    "Задача была решена, было получено требуемое значение метрики.\n",
    "\n",
    "В ходе данной работы были обучены различные модели. Наилучшее значение F1_score достигается при использовании модели LogisticRegression, при условии подбора порога. Так же, данная модель является одной из самых быстрообучаемых."
   ]
  }
 ],
 "metadata": {
  "ExecuteTimeLog": [
   {
    "duration": 1844,
    "start_time": "2021-06-08T13:53:03.673Z"
   },
   {
    "duration": 876,
    "start_time": "2021-06-08T13:53:13.605Z"
   },
   {
    "duration": 28,
    "start_time": "2021-06-08T13:53:15.805Z"
   },
   {
    "duration": 7745,
    "start_time": "2021-06-08T13:53:18.043Z"
   },
   {
    "duration": 2345,
    "start_time": "2021-06-08T13:53:31.103Z"
   },
   {
    "duration": 4,
    "start_time": "2021-06-08T13:53:53.286Z"
   },
   {
    "duration": 8522,
    "start_time": "2021-06-08T13:53:55.723Z"
   },
   {
    "duration": 5,
    "start_time": "2021-06-08T13:54:06.230Z"
   },
   {
    "duration": 413,
    "start_time": "2021-06-08T13:56:15.652Z"
   },
   {
    "duration": 26985,
    "start_time": "2021-06-08T13:56:20.636Z"
   },
   {
    "duration": 821519,
    "start_time": "2021-06-08T13:57:00.676Z"
   },
   {
    "duration": 2667,
    "start_time": "2021-06-08T14:10:52.327Z"
   },
   {
    "duration": 20,
    "start_time": "2021-06-08T14:10:58.220Z"
   },
   {
    "duration": 196507,
    "start_time": "2021-06-08T14:12:29.654Z"
   },
   {
    "duration": 844,
    "start_time": "2021-06-08T14:16:10.022Z"
   },
   {
    "duration": 13,
    "start_time": "2021-06-08T14:16:11.432Z"
   },
   {
    "duration": 4,
    "start_time": "2021-06-08T14:16:34.758Z"
   },
   {
    "duration": 278997,
    "start_time": "2021-06-08T14:16:40.946Z"
   },
   {
    "duration": 102,
    "start_time": "2021-06-08T14:26:39.203Z"
   },
   {
    "duration": 14,
    "start_time": "2021-06-08T14:26:44.213Z"
   },
   {
    "duration": 8257,
    "start_time": "2021-06-08T14:26:59.725Z"
   },
   {
    "duration": 7,
    "start_time": "2021-06-08T14:27:27.047Z"
   },
   {
    "duration": 14,
    "start_time": "2021-06-08T14:27:27.992Z"
   },
   {
    "duration": 8236,
    "start_time": "2021-06-08T14:27:41.643Z"
   },
   {
    "duration": 8,
    "start_time": "2021-06-08T14:27:51.684Z"
   },
   {
    "duration": 13,
    "start_time": "2021-06-08T14:27:52.472Z"
   },
   {
    "duration": 1534,
    "start_time": "2021-06-08T14:27:58.451Z"
   },
   {
    "duration": 6,
    "start_time": "2021-06-08T14:28:02.088Z"
   },
   {
    "duration": 14,
    "start_time": "2021-06-08T14:28:02.576Z"
   },
   {
    "duration": 7316,
    "start_time": "2021-06-08T14:28:35.929Z"
   },
   {
    "duration": 7,
    "start_time": "2021-06-08T14:28:45.033Z"
   },
   {
    "duration": 14,
    "start_time": "2021-06-08T14:28:45.542Z"
   },
   {
    "duration": 61,
    "start_time": "2021-06-08T14:30:11.518Z"
   },
   {
    "duration": 9,
    "start_time": "2021-06-08T14:33:42.591Z"
   },
   {
    "duration": 606,
    "start_time": "2021-06-08T14:37:19.305Z"
   },
   {
    "duration": 644,
    "start_time": "2021-06-08T14:40:01.990Z"
   },
   {
    "duration": 289,
    "start_time": "2021-06-08T14:42:47.164Z"
   },
   {
    "duration": 8,
    "start_time": "2021-06-08T14:43:04.789Z"
   },
   {
    "duration": 1896,
    "start_time": "2021-06-08T14:43:54.351Z"
   },
   {
    "duration": 5066,
    "start_time": "2021-06-08T14:43:58.497Z"
   },
   {
    "duration": 35,
    "start_time": "2021-06-08T14:44:03.566Z"
   },
   {
    "duration": 7590,
    "start_time": "2021-06-08T14:44:53.015Z"
   },
   {
    "duration": 1874,
    "start_time": "2021-06-08T14:45:02.482Z"
   },
   {
    "duration": 4,
    "start_time": "2021-06-08T14:45:06.097Z"
   },
   {
    "duration": 1898,
    "start_time": "2021-06-08T14:45:07.754Z"
   },
   {
    "duration": 1980,
    "start_time": "2021-06-08T14:49:22.662Z"
   },
   {
    "duration": 6927,
    "start_time": "2021-06-08T14:49:24.645Z"
   },
   {
    "duration": 28,
    "start_time": "2021-06-08T14:49:31.575Z"
   },
   {
    "duration": 7525,
    "start_time": "2021-06-08T14:49:31.605Z"
   },
   {
    "duration": 137,
    "start_time": "2021-06-08T14:49:41.551Z"
   },
   {
    "duration": 1834,
    "start_time": "2021-06-08T14:49:46.563Z"
   },
   {
    "duration": 6,
    "start_time": "2021-06-08T14:49:49.147Z"
   },
   {
    "duration": 227,
    "start_time": "2021-06-08T14:51:23.515Z"
   },
   {
    "duration": 2000,
    "start_time": "2021-06-08T14:51:29.221Z"
   },
   {
    "duration": 6,
    "start_time": "2021-06-08T14:51:32.469Z"
   },
   {
    "duration": 8,
    "start_time": "2021-06-08T14:51:45.324Z"
   },
   {
    "duration": 231,
    "start_time": "2021-06-08T14:51:54.332Z"
   },
   {
    "duration": 1858,
    "start_time": "2021-06-08T14:51:56.619Z"
   },
   {
    "duration": 5,
    "start_time": "2021-06-08T14:51:59.018Z"
   },
   {
    "duration": 9,
    "start_time": "2021-06-08T14:52:03.686Z"
   },
   {
    "duration": 8458,
    "start_time": "2021-06-08T14:52:08.165Z"
   },
   {
    "duration": 4,
    "start_time": "2021-06-08T14:52:20.494Z"
   },
   {
    "duration": 7,
    "start_time": "2021-06-08T14:52:24.104Z"
   },
   {
    "duration": 126,
    "start_time": "2021-06-08T14:53:03.655Z"
   },
   {
    "duration": 1914,
    "start_time": "2021-06-08T14:53:21.656Z"
   },
   {
    "duration": 6695,
    "start_time": "2021-06-08T14:53:24.892Z"
   },
   {
    "duration": 30,
    "start_time": "2021-06-08T14:53:31.590Z"
   },
   {
    "duration": 7601,
    "start_time": "2021-06-08T14:53:31.624Z"
   },
   {
    "duration": 144,
    "start_time": "2021-06-08T14:53:40.206Z"
   },
   {
    "duration": 3070,
    "start_time": "2021-06-08T14:53:44.425Z"
   },
   {
    "duration": 6,
    "start_time": "2021-06-08T14:53:48.141Z"
   },
   {
    "duration": 12628,
    "start_time": "2021-06-08T14:53:52.535Z"
   },
   {
    "duration": 5,
    "start_time": "2021-06-08T14:54:07.199Z"
   },
   {
    "duration": 9,
    "start_time": "2021-06-08T14:54:10.563Z"
   },
   {
    "duration": 2763,
    "start_time": "2021-06-08T14:54:16.955Z"
   },
   {
    "duration": 9,
    "start_time": "2021-06-08T14:54:23.747Z"
   },
   {
    "duration": 16,
    "start_time": "2021-06-08T14:54:24.612Z"
   },
   {
    "duration": 59604,
    "start_time": "2021-06-08T14:54:34.229Z"
   },
   {
    "duration": 421,
    "start_time": "2021-06-08T14:55:37.113Z"
   },
   {
    "duration": 17,
    "start_time": "2021-06-08T14:55:38.508Z"
   },
   {
    "duration": 1864,
    "start_time": "2021-06-08T14:58:15.893Z"
   },
   {
    "duration": 6874,
    "start_time": "2021-06-08T14:58:17.759Z"
   },
   {
    "duration": 43,
    "start_time": "2021-06-08T14:58:26.322Z"
   },
   {
    "duration": 18425,
    "start_time": "2021-06-08T14:58:27.315Z"
   },
   {
    "duration": 160,
    "start_time": "2021-06-08T14:59:48.922Z"
   },
   {
    "duration": 1175,
    "start_time": "2021-06-08T14:59:54.714Z"
   },
   {
    "duration": 5,
    "start_time": "2021-06-08T14:59:57.617Z"
   },
   {
    "duration": 5577,
    "start_time": "2021-06-08T15:00:22.706Z"
   },
   {
    "duration": 5,
    "start_time": "2021-06-08T15:00:30.711Z"
   },
   {
    "duration": 7,
    "start_time": "2021-06-08T15:00:35.311Z"
   },
   {
    "duration": 402,
    "start_time": "2021-06-08T15:00:38.707Z"
   },
   {
    "duration": 9,
    "start_time": "2021-06-08T15:00:41.506Z"
   },
   {
    "duration": 19,
    "start_time": "2021-06-08T15:00:42.330Z"
   },
   {
    "duration": 7506,
    "start_time": "2021-06-08T15:00:46.118Z"
   },
   {
    "duration": 509,
    "start_time": "2021-06-08T15:00:54.848Z"
   },
   {
    "duration": 19,
    "start_time": "2021-06-08T15:00:55.371Z"
   },
   {
    "duration": 64452,
    "start_time": "2021-06-08T15:00:57.578Z"
   },
   {
    "duration": 909,
    "start_time": "2021-06-08T15:02:03.579Z"
   },
   {
    "duration": 24,
    "start_time": "2021-06-08T15:02:04.490Z"
   },
   {
    "duration": 71084,
    "start_time": "2021-06-08T15:02:07.883Z"
   },
   {
    "duration": 948,
    "start_time": "2021-06-08T15:03:22.645Z"
   },
   {
    "duration": 19,
    "start_time": "2021-06-08T15:03:24.184Z"
   },
   {
    "duration": 17382,
    "start_time": "2021-06-08T15:03:39.102Z"
   },
   {
    "duration": 52,
    "start_time": "2021-06-08T15:03:59.134Z"
   },
   {
    "duration": 22,
    "start_time": "2021-06-08T15:03:59.853Z"
   },
   {
    "duration": 512,
    "start_time": "2021-06-08T15:13:19.361Z"
   },
   {
    "duration": 355,
    "start_time": "2021-06-08T15:13:29.079Z"
   },
   {
    "duration": 8,
    "start_time": "2021-06-08T15:13:56.589Z"
   },
   {
    "duration": 743,
    "start_time": "2021-06-08T15:13:57.631Z"
   },
   {
    "duration": 30,
    "start_time": "2021-06-08T15:13:59.079Z"
   },
   {
    "duration": 8605,
    "start_time": "2021-06-08T15:14:01.426Z"
   },
   {
    "duration": 115,
    "start_time": "2021-06-08T15:14:11.472Z"
   },
   {
    "duration": 1953,
    "start_time": "2021-06-08T15:14:33.258Z"
   },
   {
    "duration": 6702,
    "start_time": "2021-06-08T15:14:35.214Z"
   },
   {
    "duration": 36,
    "start_time": "2021-06-08T15:14:41.919Z"
   },
   {
    "duration": 10660,
    "start_time": "2021-06-08T15:14:41.958Z"
   },
   {
    "duration": 86,
    "start_time": "2021-06-08T15:14:54.841Z"
   },
   {
    "duration": 2997,
    "start_time": "2021-06-08T15:14:58.515Z"
   },
   {
    "duration": 5,
    "start_time": "2021-06-08T15:15:02.284Z"
   },
   {
    "duration": 14358,
    "start_time": "2021-06-08T15:15:04.666Z"
   },
   {
    "duration": 5,
    "start_time": "2021-06-08T15:15:19.826Z"
   },
   {
    "duration": 8,
    "start_time": "2021-06-08T15:15:22.292Z"
   },
   {
    "duration": 15113,
    "start_time": "2021-06-08T15:15:31.819Z"
   },
   {
    "duration": 8,
    "start_time": "2021-06-08T15:15:51.504Z"
   },
   {
    "duration": 16,
    "start_time": "2021-06-08T15:15:52.893Z"
   },
   {
    "duration": 574,
    "start_time": "2021-06-08T15:16:13.555Z"
   },
   {
    "duration": 988,
    "start_time": "2021-06-08T15:16:26.501Z"
   },
   {
    "duration": 1036,
    "start_time": "2021-06-08T15:20:07.850Z"
   },
   {
    "duration": 17,
    "start_time": "2021-06-08T15:20:21.546Z"
   },
   {
    "duration": 17,
    "start_time": "2021-06-08T15:20:46.762Z"
   },
   {
    "duration": 431,
    "start_time": "2021-06-08T15:21:07.933Z"
   },
   {
    "duration": 12,
    "start_time": "2021-06-08T15:21:32.338Z"
   },
   {
    "duration": 19,
    "start_time": "2021-06-08T15:21:43.729Z"
   },
   {
    "duration": 9,
    "start_time": "2021-06-08T15:25:38.634Z"
   },
   {
    "duration": 29,
    "start_time": "2021-06-08T15:26:40.005Z"
   },
   {
    "duration": 3036,
    "start_time": "2021-06-08T15:27:20.184Z"
   },
   {
    "duration": 991,
    "start_time": "2021-06-08T15:27:24.750Z"
   },
   {
    "duration": 44,
    "start_time": "2021-06-08T15:27:37.254Z"
   },
   {
    "duration": 78,
    "start_time": "2021-06-08T15:48:24.897Z"
   },
   {
    "duration": 274,
    "start_time": "2021-06-08T15:48:52.204Z"
   },
   {
    "duration": 85,
    "start_time": "2021-06-08T16:55:32.607Z"
   },
   {
    "duration": 97,
    "start_time": "2021-06-08T16:59:15.308Z"
   },
   {
    "duration": 87,
    "start_time": "2021-06-08T16:59:26.751Z"
   },
   {
    "duration": 34,
    "start_time": "2021-06-08T16:59:38.764Z"
   },
   {
    "duration": 31,
    "start_time": "2021-06-08T17:00:13.299Z"
   },
   {
    "duration": 45,
    "start_time": "2021-06-08T17:00:32.033Z"
   },
   {
    "duration": 1893,
    "start_time": "2021-06-08T17:00:52.649Z"
   },
   {
    "duration": 777,
    "start_time": "2021-06-08T17:00:54.544Z"
   },
   {
    "duration": 37,
    "start_time": "2021-06-08T17:00:55.325Z"
   },
   {
    "duration": 10701,
    "start_time": "2021-06-08T17:00:55.365Z"
   },
   {
    "duration": 97,
    "start_time": "2021-06-08T17:01:06.069Z"
   },
   {
    "duration": 2968,
    "start_time": "2021-06-08T17:01:06.168Z"
   },
   {
    "duration": 16,
    "start_time": "2021-06-08T17:01:09.139Z"
   },
   {
    "duration": 13584,
    "start_time": "2021-06-08T17:01:09.158Z"
   },
   {
    "duration": 9,
    "start_time": "2021-06-08T17:01:22.746Z"
   },
   {
    "duration": 10,
    "start_time": "2021-06-08T17:01:22.758Z"
   },
   {
    "duration": 15170,
    "start_time": "2021-06-08T17:01:22.771Z"
   },
   {
    "duration": 1011,
    "start_time": "2021-06-08T17:01:37.943Z"
   },
   {
    "duration": 29,
    "start_time": "2021-06-08T17:01:38.957Z"
   },
   {
    "duration": 587926,
    "start_time": "2021-06-08T17:05:26.264Z"
   },
   {
    "duration": 669,
    "start_time": "2021-06-08T17:17:13.331Z"
   },
   {
    "duration": 1054,
    "start_time": "2021-06-08T17:17:23.632Z"
   },
   {
    "duration": 1724,
    "start_time": "2021-06-09T12:08:39.593Z"
   },
   {
    "duration": 771,
    "start_time": "2021-06-09T12:08:41.320Z"
   },
   {
    "duration": 29,
    "start_time": "2021-06-09T12:08:42.094Z"
   },
   {
    "duration": 10118,
    "start_time": "2021-06-09T12:08:44.979Z"
   },
   {
    "duration": 112,
    "start_time": "2021-06-09T12:09:00.759Z"
   },
   {
    "duration": 2916,
    "start_time": "2021-06-09T12:10:12.985Z"
   },
   {
    "duration": 7,
    "start_time": "2021-06-09T12:10:17.013Z"
   },
   {
    "duration": 6,
    "start_time": "2021-06-09T12:10:40.802Z"
   },
   {
    "duration": 5,
    "start_time": "2021-06-09T12:10:55.489Z"
   },
   {
    "duration": 12779,
    "start_time": "2021-06-09T12:27:16.254Z"
   },
   {
    "duration": 5,
    "start_time": "2021-06-09T12:27:43.929Z"
   },
   {
    "duration": 7,
    "start_time": "2021-06-09T12:28:00.145Z"
   },
   {
    "duration": 9384,
    "start_time": "2021-06-09T12:29:17.418Z"
   },
   {
    "duration": 906,
    "start_time": "2021-06-09T12:29:30.775Z"
   },
   {
    "duration": 21,
    "start_time": "2021-06-09T12:33:18.989Z"
   },
   {
    "duration": 21,
    "start_time": "2021-06-09T12:33:36.768Z"
   },
   {
    "duration": 30,
    "start_time": "2021-06-09T12:35:41.602Z"
   },
   {
    "duration": 1501,
    "start_time": "2021-06-09T12:38:40.872Z"
   },
   {
    "duration": 270,
    "start_time": "2021-06-09T12:40:29.657Z"
   },
   {
    "duration": 41178,
    "start_time": "2021-06-09T12:41:43.381Z"
   },
   {
    "duration": 715,
    "start_time": "2021-06-09T12:42:34.414Z"
   },
   {
    "duration": 86672,
    "start_time": "2021-06-09T12:51:44.953Z"
   },
   {
    "duration": 1557,
    "start_time": "2021-06-09T12:53:17.503Z"
   },
   {
    "duration": 464808,
    "start_time": "2021-06-09T13:08:19.617Z"
   },
   {
    "duration": 449,
    "start_time": "2021-06-09T13:18:20.323Z"
   },
   {
    "duration": 1085,
    "start_time": "2021-06-09T13:18:50.180Z"
   },
   {
    "duration": 2282,
    "start_time": "2021-06-09T13:19:30.778Z"
   },
   {
    "duration": 5,
    "start_time": "2021-06-09T13:28:15.874Z"
   },
   {
    "duration": 1785,
    "start_time": "2021-06-09T13:29:14.323Z"
   },
   {
    "duration": 708,
    "start_time": "2021-06-09T13:29:16.110Z"
   },
   {
    "duration": 22,
    "start_time": "2021-06-09T13:29:16.821Z"
   },
   {
    "duration": 10081,
    "start_time": "2021-06-09T13:29:16.862Z"
   },
   {
    "duration": 96,
    "start_time": "2021-06-09T13:29:28.945Z"
   },
   {
    "duration": 2661,
    "start_time": "2021-06-09T13:29:30.865Z"
   },
   {
    "duration": 6,
    "start_time": "2021-06-09T13:29:35.014Z"
   },
   {
    "duration": 12474,
    "start_time": "2021-06-09T13:29:35.863Z"
   },
   {
    "duration": 4,
    "start_time": "2021-06-09T13:29:48.340Z"
   },
   {
    "duration": 1855,
    "start_time": "2021-06-09T13:32:23.545Z"
   },
   {
    "duration": 722,
    "start_time": "2021-06-09T13:32:25.738Z"
   },
   {
    "duration": 33,
    "start_time": "2021-06-09T13:32:27.043Z"
   },
   {
    "duration": 10185,
    "start_time": "2021-06-09T13:32:28.379Z"
   },
   {
    "duration": 106,
    "start_time": "2021-06-09T13:32:39.606Z"
   },
   {
    "duration": 2746,
    "start_time": "2021-06-09T13:32:41.999Z"
   },
   {
    "duration": 6,
    "start_time": "2021-06-09T13:32:45.336Z"
   },
   {
    "duration": 12946,
    "start_time": "2021-06-09T13:32:53.540Z"
   },
   {
    "duration": 5,
    "start_time": "2021-06-09T13:33:08.091Z"
   },
   {
    "duration": 394,
    "start_time": "2021-06-09T13:33:45.221Z"
   },
   {
    "duration": 5,
    "start_time": "2021-06-09T13:34:16.926Z"
   },
   {
    "duration": 1509,
    "start_time": "2021-06-09T13:35:03.007Z"
   },
   {
    "duration": 950,
    "start_time": "2021-06-09T13:35:21.772Z"
   },
   {
    "duration": 556,
    "start_time": "2021-06-09T13:35:41.693Z"
   },
   {
    "duration": 276,
    "start_time": "2021-06-09T13:36:36.415Z"
   },
   {
    "duration": 41,
    "start_time": "2021-06-09T13:36:45.787Z"
   },
   {
    "duration": 257,
    "start_time": "2021-06-09T13:37:38.086Z"
   },
   {
    "duration": 5,
    "start_time": "2021-06-09T13:37:43.639Z"
   },
   {
    "duration": 248,
    "start_time": "2021-06-09T13:44:25.925Z"
   },
   {
    "duration": 9,
    "start_time": "2021-06-09T13:46:09.689Z"
   },
   {
    "duration": 766,
    "start_time": "2021-06-09T13:46:13.165Z"
   },
   {
    "duration": 28,
    "start_time": "2021-06-09T13:46:14.593Z"
   },
   {
    "duration": 8418,
    "start_time": "2021-06-09T13:46:16.437Z"
   },
   {
    "duration": 161,
    "start_time": "2021-06-09T13:46:26.719Z"
   },
   {
    "duration": 123,
    "start_time": "2021-06-09T13:47:12.853Z"
   },
   {
    "duration": 118,
    "start_time": "2021-06-09T13:47:26.038Z"
   },
   {
    "duration": 110,
    "start_time": "2021-06-09T13:47:34.774Z"
   },
   {
    "duration": 114,
    "start_time": "2021-06-09T13:48:09.076Z"
   },
   {
    "duration": 264,
    "start_time": "2021-06-09T13:48:23.344Z"
   },
   {
    "duration": 4,
    "start_time": "2021-06-09T13:48:29.829Z"
   },
   {
    "duration": 1758,
    "start_time": "2021-06-09T13:48:48.287Z"
   },
   {
    "duration": 853,
    "start_time": "2021-06-09T13:48:50.047Z"
   },
   {
    "duration": 29,
    "start_time": "2021-06-09T13:48:50.903Z"
   },
   {
    "duration": 10192,
    "start_time": "2021-06-09T13:48:51.601Z"
   },
   {
    "duration": 138,
    "start_time": "2021-06-09T13:49:02.970Z"
   },
   {
    "duration": 2783,
    "start_time": "2021-06-09T13:49:05.273Z"
   },
   {
    "duration": 6,
    "start_time": "2021-06-09T13:49:09.752Z"
   },
   {
    "duration": 13501,
    "start_time": "2021-06-09T13:49:10.845Z"
   },
   {
    "duration": 7,
    "start_time": "2021-06-09T13:49:24.349Z"
   },
   {
    "duration": 1830,
    "start_time": "2021-06-09T13:51:31.480Z"
   },
   {
    "duration": 735,
    "start_time": "2021-06-09T13:51:33.313Z"
   },
   {
    "duration": 30,
    "start_time": "2021-06-09T13:51:34.051Z"
   },
   {
    "duration": 10378,
    "start_time": "2021-06-09T13:51:34.398Z"
   },
   {
    "duration": 139,
    "start_time": "2021-06-09T13:51:44.779Z"
   },
   {
    "duration": 2758,
    "start_time": "2021-06-09T13:51:46.330Z"
   },
   {
    "duration": 6,
    "start_time": "2021-06-09T13:51:49.725Z"
   },
   {
    "duration": 13372,
    "start_time": "2021-06-09T13:51:51.211Z"
   },
   {
    "duration": 5,
    "start_time": "2021-06-09T13:52:05.628Z"
   },
   {
    "duration": 1835,
    "start_time": "2021-06-09T13:52:32.719Z"
   },
   {
    "duration": 780,
    "start_time": "2021-06-09T13:52:34.556Z"
   },
   {
    "duration": 34,
    "start_time": "2021-06-09T13:52:35.339Z"
   },
   {
    "duration": 10871,
    "start_time": "2021-06-09T13:52:35.375Z"
   },
   {
    "duration": 138,
    "start_time": "2021-06-09T13:52:48.099Z"
   },
   {
    "duration": 2831,
    "start_time": "2021-06-09T13:52:49.629Z"
   },
   {
    "duration": 6,
    "start_time": "2021-06-09T13:52:54.751Z"
   },
   {
    "duration": 13348,
    "start_time": "2021-06-09T13:52:56.180Z"
   },
   {
    "duration": 308,
    "start_time": "2021-06-09T13:53:21.778Z"
   },
   {
    "duration": 1887,
    "start_time": "2021-06-09T13:53:44.511Z"
   },
   {
    "duration": 749,
    "start_time": "2021-06-09T13:53:46.401Z"
   },
   {
    "duration": 33,
    "start_time": "2021-06-09T13:53:47.152Z"
   },
   {
    "duration": 10731,
    "start_time": "2021-06-09T13:53:48.065Z"
   },
   {
    "duration": 145,
    "start_time": "2021-06-09T13:54:01.249Z"
   },
   {
    "duration": 2810,
    "start_time": "2021-06-09T13:54:13.076Z"
   },
   {
    "duration": 6,
    "start_time": "2021-06-09T13:54:19.280Z"
   },
   {
    "duration": 13037,
    "start_time": "2021-06-09T13:54:20.936Z"
   },
   {
    "duration": 1901,
    "start_time": "2021-06-09T13:55:18.030Z"
   },
   {
    "duration": 747,
    "start_time": "2021-06-09T13:55:19.933Z"
   },
   {
    "duration": 26,
    "start_time": "2021-06-09T13:55:20.683Z"
   },
   {
    "duration": 10287,
    "start_time": "2021-06-09T13:55:21.396Z"
   },
   {
    "duration": 141,
    "start_time": "2021-06-09T13:55:32.345Z"
   },
   {
    "duration": 1894,
    "start_time": "2021-06-09T13:55:45.541Z"
   },
   {
    "duration": 739,
    "start_time": "2021-06-09T13:55:47.438Z"
   },
   {
    "duration": 31,
    "start_time": "2021-06-09T13:55:48.180Z"
   },
   {
    "duration": 10462,
    "start_time": "2021-06-09T13:55:48.213Z"
   },
   {
    "duration": 149,
    "start_time": "2021-06-09T13:55:58.677Z"
   },
   {
    "duration": 1814,
    "start_time": "2021-06-09T13:57:03.211Z"
   },
   {
    "duration": 753,
    "start_time": "2021-06-09T13:57:05.027Z"
   },
   {
    "duration": 28,
    "start_time": "2021-06-09T13:57:05.782Z"
   },
   {
    "duration": 10584,
    "start_time": "2021-06-09T13:57:06.172Z"
   },
   {
    "duration": 109,
    "start_time": "2021-06-09T13:57:24.885Z"
   },
   {
    "duration": 106,
    "start_time": "2021-06-09T13:57:39.599Z"
   },
   {
    "duration": 22,
    "start_time": "2021-06-09T13:58:02.976Z"
   },
   {
    "duration": 19,
    "start_time": "2021-06-09T13:58:13.757Z"
   },
   {
    "duration": 21,
    "start_time": "2021-06-09T13:58:25.861Z"
   },
   {
    "duration": 18,
    "start_time": "2021-06-09T13:58:37.717Z"
   },
   {
    "duration": 5,
    "start_time": "2021-06-09T13:58:42.411Z"
   },
   {
    "duration": 5,
    "start_time": "2021-06-09T13:58:47.019Z"
   },
   {
    "duration": 1879,
    "start_time": "2021-06-09T13:59:22.166Z"
   },
   {
    "duration": 749,
    "start_time": "2021-06-09T13:59:24.047Z"
   },
   {
    "duration": 25,
    "start_time": "2021-06-09T13:59:24.799Z"
   },
   {
    "duration": 10785,
    "start_time": "2021-06-09T13:59:24.826Z"
   },
   {
    "duration": 120,
    "start_time": "2021-06-09T13:59:35.614Z"
   },
   {
    "duration": 28,
    "start_time": "2021-06-09T13:59:35.736Z"
   }
  ],
  "kernelspec": {
   "display_name": "Python 3",
   "language": "python",
   "name": "python3"
  },
  "language_info": {
   "codemirror_mode": {
    "name": "ipython",
    "version": 3
   },
   "file_extension": ".py",
   "mimetype": "text/x-python",
   "name": "python",
   "nbconvert_exporter": "python",
   "pygments_lexer": "ipython3",
   "version": "3.8.8"
  },
  "toc": {
   "base_numbering": 1,
   "nav_menu": {},
   "number_sections": true,
   "sideBar": true,
   "skip_h1_title": true,
   "title_cell": "Table of Contents",
   "title_sidebar": "Contents",
   "toc_cell": false,
   "toc_position": {},
   "toc_section_display": true,
   "toc_window_display": false
  }
 },
 "nbformat": 4,
 "nbformat_minor": 5
}
