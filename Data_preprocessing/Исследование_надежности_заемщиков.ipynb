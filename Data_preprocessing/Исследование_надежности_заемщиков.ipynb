{
 "cells": [
  {
   "cell_type": "markdown",
   "metadata": {},
   "source": [
    "# Исследование надёжности заёмщиков"
   ]
  },
  {
   "cell_type": "markdown",
   "metadata": {},
   "source": [
    "Заказчик — кредитный отдел банка.\n",
    "Входные данные, полученные от банка — статистика о платёжеспособности клиентов. Таблица с данными включает в себя следующую информацию о каждом клиенте:\n",
    "1. Количество детей\n",
    "2. Возраст\n",
    "3. Общий стаж работы\n",
    "4. Сведения об образовании\n",
    "5. Семейное положение\n",
    "6. Пол\n",
    "7. Тип занятости\n",
    "8. Общий доход\n",
    "9. Цель кредита\n",
    "10. Факт наличия или отсутствия задолженностей по кредиту\n",
    "\n",
    "**Задача** - исследовать зависимость факта погашения кредита в срок от следующих факторов:\n",
    "1. Семейное положение\n",
    "2. Количество детей\n",
    "3. Уровень дохода\n",
    "4. Цель кредита"
   ]
  },
  {
   "cell_type": "markdown",
   "metadata": {},
   "source": [
    "## 1. Загрузка данных. Общая информация"
   ]
  },
  {
   "cell_type": "code",
   "execution_count": 2,
   "metadata": {
    "scrolled": true
   },
   "outputs": [],
   "source": [
    "import pandas as pd\n",
    "data = pd.read_csv('C:/Users/leoci/Яндекс Практикум/Projects/Data_preprocessing/data.csv')"
   ]
  },
  {
   "cell_type": "code",
   "execution_count": 3,
   "metadata": {},
   "outputs": [
    {
     "data": {
      "text/html": [
       "<div>\n",
       "<style scoped>\n",
       "    .dataframe tbody tr th:only-of-type {\n",
       "        vertical-align: middle;\n",
       "    }\n",
       "\n",
       "    .dataframe tbody tr th {\n",
       "        vertical-align: top;\n",
       "    }\n",
       "\n",
       "    .dataframe thead th {\n",
       "        text-align: right;\n",
       "    }\n",
       "</style>\n",
       "<table border=\"1\" class=\"dataframe\">\n",
       "  <thead>\n",
       "    <tr style=\"text-align: right;\">\n",
       "      <th></th>\n",
       "      <th>children</th>\n",
       "      <th>days_employed</th>\n",
       "      <th>dob_years</th>\n",
       "      <th>education</th>\n",
       "      <th>education_id</th>\n",
       "      <th>family_status</th>\n",
       "      <th>family_status_id</th>\n",
       "      <th>gender</th>\n",
       "      <th>income_type</th>\n",
       "      <th>debt</th>\n",
       "      <th>total_income</th>\n",
       "      <th>purpose</th>\n",
       "    </tr>\n",
       "  </thead>\n",
       "  <tbody>\n",
       "    <tr>\n",
       "      <th>0</th>\n",
       "      <td>1</td>\n",
       "      <td>-8437.673028</td>\n",
       "      <td>42</td>\n",
       "      <td>высшее</td>\n",
       "      <td>0</td>\n",
       "      <td>женат / замужем</td>\n",
       "      <td>0</td>\n",
       "      <td>F</td>\n",
       "      <td>сотрудник</td>\n",
       "      <td>0</td>\n",
       "      <td>253875.639453</td>\n",
       "      <td>покупка жилья</td>\n",
       "    </tr>\n",
       "    <tr>\n",
       "      <th>1</th>\n",
       "      <td>1</td>\n",
       "      <td>-4024.803754</td>\n",
       "      <td>36</td>\n",
       "      <td>среднее</td>\n",
       "      <td>1</td>\n",
       "      <td>женат / замужем</td>\n",
       "      <td>0</td>\n",
       "      <td>F</td>\n",
       "      <td>сотрудник</td>\n",
       "      <td>0</td>\n",
       "      <td>112080.014102</td>\n",
       "      <td>приобретение автомобиля</td>\n",
       "    </tr>\n",
       "    <tr>\n",
       "      <th>2</th>\n",
       "      <td>0</td>\n",
       "      <td>-5623.422610</td>\n",
       "      <td>33</td>\n",
       "      <td>Среднее</td>\n",
       "      <td>1</td>\n",
       "      <td>женат / замужем</td>\n",
       "      <td>0</td>\n",
       "      <td>M</td>\n",
       "      <td>сотрудник</td>\n",
       "      <td>0</td>\n",
       "      <td>145885.952297</td>\n",
       "      <td>покупка жилья</td>\n",
       "    </tr>\n",
       "    <tr>\n",
       "      <th>3</th>\n",
       "      <td>3</td>\n",
       "      <td>-4124.747207</td>\n",
       "      <td>32</td>\n",
       "      <td>среднее</td>\n",
       "      <td>1</td>\n",
       "      <td>женат / замужем</td>\n",
       "      <td>0</td>\n",
       "      <td>M</td>\n",
       "      <td>сотрудник</td>\n",
       "      <td>0</td>\n",
       "      <td>267628.550329</td>\n",
       "      <td>дополнительное образование</td>\n",
       "    </tr>\n",
       "    <tr>\n",
       "      <th>4</th>\n",
       "      <td>0</td>\n",
       "      <td>340266.072047</td>\n",
       "      <td>53</td>\n",
       "      <td>среднее</td>\n",
       "      <td>1</td>\n",
       "      <td>гражданский брак</td>\n",
       "      <td>1</td>\n",
       "      <td>F</td>\n",
       "      <td>пенсионер</td>\n",
       "      <td>0</td>\n",
       "      <td>158616.077870</td>\n",
       "      <td>сыграть свадьбу</td>\n",
       "    </tr>\n",
       "    <tr>\n",
       "      <th>5</th>\n",
       "      <td>0</td>\n",
       "      <td>-926.185831</td>\n",
       "      <td>27</td>\n",
       "      <td>высшее</td>\n",
       "      <td>0</td>\n",
       "      <td>гражданский брак</td>\n",
       "      <td>1</td>\n",
       "      <td>M</td>\n",
       "      <td>компаньон</td>\n",
       "      <td>0</td>\n",
       "      <td>255763.565419</td>\n",
       "      <td>покупка жилья</td>\n",
       "    </tr>\n",
       "    <tr>\n",
       "      <th>6</th>\n",
       "      <td>0</td>\n",
       "      <td>-2879.202052</td>\n",
       "      <td>43</td>\n",
       "      <td>высшее</td>\n",
       "      <td>0</td>\n",
       "      <td>женат / замужем</td>\n",
       "      <td>0</td>\n",
       "      <td>F</td>\n",
       "      <td>компаньон</td>\n",
       "      <td>0</td>\n",
       "      <td>240525.971920</td>\n",
       "      <td>операции с жильем</td>\n",
       "    </tr>\n",
       "    <tr>\n",
       "      <th>7</th>\n",
       "      <td>0</td>\n",
       "      <td>-152.779569</td>\n",
       "      <td>50</td>\n",
       "      <td>СРЕДНЕЕ</td>\n",
       "      <td>1</td>\n",
       "      <td>женат / замужем</td>\n",
       "      <td>0</td>\n",
       "      <td>M</td>\n",
       "      <td>сотрудник</td>\n",
       "      <td>0</td>\n",
       "      <td>135823.934197</td>\n",
       "      <td>образование</td>\n",
       "    </tr>\n",
       "    <tr>\n",
       "      <th>8</th>\n",
       "      <td>2</td>\n",
       "      <td>-6929.865299</td>\n",
       "      <td>35</td>\n",
       "      <td>ВЫСШЕЕ</td>\n",
       "      <td>0</td>\n",
       "      <td>гражданский брак</td>\n",
       "      <td>1</td>\n",
       "      <td>F</td>\n",
       "      <td>сотрудник</td>\n",
       "      <td>0</td>\n",
       "      <td>95856.832424</td>\n",
       "      <td>на проведение свадьбы</td>\n",
       "    </tr>\n",
       "    <tr>\n",
       "      <th>9</th>\n",
       "      <td>0</td>\n",
       "      <td>-2188.756445</td>\n",
       "      <td>41</td>\n",
       "      <td>среднее</td>\n",
       "      <td>1</td>\n",
       "      <td>женат / замужем</td>\n",
       "      <td>0</td>\n",
       "      <td>M</td>\n",
       "      <td>сотрудник</td>\n",
       "      <td>0</td>\n",
       "      <td>144425.938277</td>\n",
       "      <td>покупка жилья для семьи</td>\n",
       "    </tr>\n",
       "  </tbody>\n",
       "</table>\n",
       "</div>"
      ],
      "text/plain": [
       "   children  days_employed  dob_years education  education_id  \\\n",
       "0         1   -8437.673028         42    высшее             0   \n",
       "1         1   -4024.803754         36   среднее             1   \n",
       "2         0   -5623.422610         33   Среднее             1   \n",
       "3         3   -4124.747207         32   среднее             1   \n",
       "4         0  340266.072047         53   среднее             1   \n",
       "5         0    -926.185831         27    высшее             0   \n",
       "6         0   -2879.202052         43    высшее             0   \n",
       "7         0    -152.779569         50   СРЕДНЕЕ             1   \n",
       "8         2   -6929.865299         35    ВЫСШЕЕ             0   \n",
       "9         0   -2188.756445         41   среднее             1   \n",
       "\n",
       "      family_status  family_status_id gender income_type  debt   total_income  \\\n",
       "0   женат / замужем                 0      F   сотрудник     0  253875.639453   \n",
       "1   женат / замужем                 0      F   сотрудник     0  112080.014102   \n",
       "2   женат / замужем                 0      M   сотрудник     0  145885.952297   \n",
       "3   женат / замужем                 0      M   сотрудник     0  267628.550329   \n",
       "4  гражданский брак                 1      F   пенсионер     0  158616.077870   \n",
       "5  гражданский брак                 1      M   компаньон     0  255763.565419   \n",
       "6   женат / замужем                 0      F   компаньон     0  240525.971920   \n",
       "7   женат / замужем                 0      M   сотрудник     0  135823.934197   \n",
       "8  гражданский брак                 1      F   сотрудник     0   95856.832424   \n",
       "9   женат / замужем                 0      M   сотрудник     0  144425.938277   \n",
       "\n",
       "                      purpose  \n",
       "0               покупка жилья  \n",
       "1     приобретение автомобиля  \n",
       "2               покупка жилья  \n",
       "3  дополнительное образование  \n",
       "4             сыграть свадьбу  \n",
       "5               покупка жилья  \n",
       "6           операции с жильем  \n",
       "7                 образование  \n",
       "8       на проведение свадьбы  \n",
       "9     покупка жилья для семьи  "
      ]
     },
     "execution_count": 3,
     "metadata": {},
     "output_type": "execute_result"
    }
   ],
   "source": [
    "data.head(10)"
   ]
  },
  {
   "cell_type": "code",
   "execution_count": null,
   "metadata": {},
   "outputs": [],
   "source": [
    "print(data.info())\n",
    "print(data.columns)"
   ]
  },
  {
   "cell_type": "markdown",
   "metadata": {},
   "source": [
    "### Вывод"
   ]
  },
  {
   "cell_type": "markdown",
   "metadata": {},
   "source": [
    "Таблица состоит из 12 столбцов и 21525 строк. \n",
    "\n",
    "Есть 2 столбца с пропущенными значениями: \"общий трудовой стаж\" и \"ежемесячный доход\", при чём, количество пропущенных значений в данных столбцах совпадает. \n",
    "\n",
    "Названия столбцов заданы корректно (нет пробелов, всё в нижнем регистре, латинским алфавитом) => с таблицей можно удобно работать."
   ]
  },
  {
   "cell_type": "markdown",
   "metadata": {},
   "source": [
    "## 2. Предобработка данных"
   ]
  },
  {
   "cell_type": "markdown",
   "metadata": {},
   "source": [
    "### Обработка пропусков"
   ]
  },
  {
   "cell_type": "code",
   "execution_count": null,
   "metadata": {},
   "outputs": [],
   "source": [
    "nan_data = data.loc[data['days_employed'].isna() == True].reset_index(drop = True)\n",
    "print(nan_data.info())\n",
    "print('')\n",
    "\n",
    "data['days_employed'] = data['days_employed'].fillna(0)\n",
    "\n",
    "median_income = data.groupby('income_type')['total_income'].median()\n",
    "for row in range(len(data)):\n",
    "    if data.loc[row, 'total_income'] != data.loc[row, 'total_income']:\n",
    "        type = data.loc[row, 'income_type']\n",
    "        data.loc[row, 'total_income'] = median_income[type]\n",
    "\n",
    "print(data.info())\n"
   ]
  },
  {
   "cell_type": "markdown",
   "metadata": {},
   "source": [
    "### Вывод"
   ]
  },
  {
   "cell_type": "markdown",
   "metadata": {},
   "source": [
    "В Шаге 1 мы отметили, что количество пропущенных значений в столбцах \"общий трудовой стаж\" и \"ежемесячный доход\" совпадает. Проверим, совпадают ли пропуски в столбцах по строкам. Создаём таблицу, состоящую из данных с пропусками в столбце \"общий трудовой стаж\", смотрим сводную инфомацию по таблице и видим, что в столбце \"ежемесячный доход\" так же нет ни одного значения, значит пропущенные значения в столбцах \"общий трудовой стаж\" и \"ежемесячный доход\" совпадают по строкам. \n",
    "\n",
    "Вывод: у некторох клиентов, по каким-то причинам, отсутствуют данные о доходах и трудовом стаже. Причиной может быть нежелание клиента указывать данную информацию.\n",
    "\n",
    "Количество строк с пропусками составляет 10% от общих данных. Достаточно большой процент, просто удалить пропуски нельзя, необходимо их заполнить. \n",
    "\n",
    "Рассмотрим столбец \"Общий трудовой стаж\". Для заполнения пропусков в нём хорошо подойдет среднее значение по возрастным группам, т.к. данные строго ограничены возрастом человека, а значит не могут иметь сильно выбивающихся значений. Однако, в этом столбце есть артефакты в виде отрицательных значений и значений стажа в несколько сотен лет. Это очевидные ошибки в данных, нужно преобразовать отрицательные значения в положительные, а многовековые трудовые стажи удалить и заполнить обратно вместе с осталбными пропусками. Общий трудовой стаж нас не интересует в рамках данной задачи, поэтому просто заполним пропуски в нём нулями.\n",
    "\n",
    "Рассмотрим столбец \"ежемесячный доход\". Во-первых, в этом столбце некоторые данные могут сильно выбиваться, поэтому разумно заполнить пропуски медианным значением. Во-вторых, в данных присутствуют люди с разным типом занятости, поэтому сгруппируем доходы людей по типу занятости и заполним пропуски медианными значениями на основании полученных групп.\n",
    "\n",
    "После обработки пропусков проверяем сводную информацию по таблице, убеждаемся что пропусков не осталось."
   ]
  },
  {
   "cell_type": "markdown",
   "metadata": {},
   "source": [
    "### Замена типа данных"
   ]
  },
  {
   "cell_type": "code",
   "execution_count": null,
   "metadata": {
    "scrolled": true
   },
   "outputs": [],
   "source": [
    "data['days_employed'] = data['days_employed'].astype('int')\n",
    "data['total_income'] = data['total_income'] / 1000\n",
    "data['total_income'] = data['total_income'].astype('int')\n",
    "display(data.head())\n",
    "print('')\n",
    "print(data.info())"
   ]
  },
  {
   "cell_type": "markdown",
   "metadata": {},
   "source": [
    "### Вывод"
   ]
  },
  {
   "cell_type": "markdown",
   "metadata": {},
   "source": [
    "Рабочий стаж удобнее видеть в целочисленном формате. \n",
    "\n",
    "Среднегодовой доход для наглядности удобно представить в тысячах рублей, в целочисленном формате.\n",
    "\n",
    "Все значения в столбцах имеют одинаковый тип данных, поэтому для замены типа данных применяем метод astype() к столбцу."
   ]
  },
  {
   "cell_type": "markdown",
   "metadata": {},
   "source": [
    "### Обработка дубликатов"
   ]
  },
  {
   "cell_type": "code",
   "execution_count": null,
   "metadata": {},
   "outputs": [],
   "source": [
    "def lower(text):\n",
    "    lower_text = text.lower()\n",
    "    return lower_text\n",
    "\n",
    "data['education'] = data['education'].apply(lower)\n",
    "print(data.duplicated().sum())\n",
    "print('')\n",
    "data = data.drop_duplicates().reset_index(drop=True)\n",
    "print(data.duplicated().sum())"
   ]
  },
  {
   "cell_type": "markdown",
   "metadata": {},
   "source": [
    "### Вывод"
   ]
  },
  {
   "cell_type": "markdown",
   "metadata": {},
   "source": [
    "В предоставленных данных нет ни одного столбца, каждое значение которого должно было бы быть уникальным, поэтому проверяем наличие дубликатов методом duplicated() с использованием метода sum(). Дубликаты в данных есть, возможно из-за технических ошибок, например дважды отправленной одной и той же анкеты. Удаляем их с восстановлением индексов в таблице методом drop_duplicates с применением метода reset_index, делаем контрольную проверку на наличие дубликатов."
   ]
  },
  {
   "cell_type": "markdown",
   "metadata": {},
   "source": [
    "### Лемматизация"
   ]
  },
  {
   "cell_type": "code",
   "execution_count": null,
   "metadata": {},
   "outputs": [],
   "source": [
    "from collections import Counter\n",
    "from pymystem3 import Mystem\n",
    "m = Mystem()\n",
    "\n",
    "def lemmas(purpose):\n",
    "    purpose_lemma = m.lemmatize(purpose)\n",
    "    return purpose_lemma\n",
    "data_purpose_lemmas = data['purpose'].apply(lemmas)\n",
    "print(data_purpose_lemmas.value_counts())\n",
    "print('')\n",
    "\n",
    "def purpose_id(purpose_lemma):\n",
    "    if 'автомобиль' in purpose_lemma:\n",
    "        return 0\n",
    "    if 'свадьба' in purpose_lemma:\n",
    "        return 1\n",
    "    if 'недвижимость' in purpose_lemma:\n",
    "        return 2\n",
    "    if 'жилье' in purpose_lemma:\n",
    "        return 2\n",
    "    if 'образование' in purpose_lemma:\n",
    "        return 3\n",
    "data['purpose_id'] = data_purpose_lemmas.apply(purpose_id)\n",
    "\n",
    "\n"
   ]
  },
  {
   "cell_type": "code",
   "execution_count": null,
   "metadata": {},
   "outputs": [],
   "source": [
    "data.head(10)"
   ]
  },
  {
   "cell_type": "markdown",
   "metadata": {},
   "source": [
    "### Вывод"
   ]
  },
  {
   "cell_type": "markdown",
   "metadata": {},
   "source": [
    "Создадим новый столбец, в котором будут содержаться лемматизированные значения целей кредита. Скопируем существующий столбец с целями кредитов, а дальше применим к нему лемматизацию. Выведем все существующие лемматизированные значения целей кредита. Видим, что множество совпадающих целей записаны по разному. Присвоим свой индекс для каждой цели, для этого создадим функцию, проверяющую лемматизированную цель на наличие ключевых слов: \"жилье\" или \"недвижимость\", \"автомобиль\", \"образование\", \"свадьба\" и возвращающую соответствующий индекс цели кредита."
   ]
  },
  {
   "cell_type": "markdown",
   "metadata": {},
   "source": [
    "### Категоризация данных"
   ]
  },
  {
   "cell_type": "code",
   "execution_count": null,
   "metadata": {},
   "outputs": [],
   "source": [
    "print(data.columns)\n",
    "print('')\n",
    "data_log = data[['children', 'days_employed', 'dob_years', 'education_id',\n",
    "       'family_status_id', 'gender', 'income_type', 'debt',\n",
    "       'total_income', 'purpose_id']]\n",
    "\n",
    "data_log.head(10)"
   ]
  },
  {
   "cell_type": "code",
   "execution_count": null,
   "metadata": {},
   "outputs": [],
   "source": [
    "import warnings\n",
    "warnings.filterwarnings('ignore')\n",
    "\n",
    "data_dict_education = data[['education', 'education_id']]\n",
    "data_dict_family_status = data[['family_status', 'family_status_id']]\n",
    "data_dict_purpose = data[['purpose', 'purpose_id']]\n",
    "\n",
    "data_dict_education = data_dict_education.drop_duplicates().reset_index(drop = True)\n",
    "display(data_dict_education)\n",
    "print('')\n",
    "\n",
    "data_dict_family_status = data_dict_family_status.drop_duplicates().reset_index(drop = True)\n",
    "display(data_dict_family_status)\n",
    "print('')\n",
    "\n",
    "data_dict_purpose = data_dict_purpose.drop_duplicates().reset_index(drop = True)\n",
    "display(data_dict_purpose.sort_values(by ='purpose_id'))\n",
    "print('')"
   ]
  },
  {
   "cell_type": "code",
   "execution_count": null,
   "metadata": {},
   "outputs": [],
   "source": [
    "data['total_income_groups'] = pd.qcut(data['total_income'], 5)\n",
    "data['total_income_groups'].value_counts()"
   ]
  },
  {
   "cell_type": "markdown",
   "metadata": {},
   "source": [
    "### Вывод"
   ]
  },
  {
   "cell_type": "markdown",
   "metadata": {},
   "source": [
    "Создадим следующие словари:\n",
    "\n",
    "1. Словарь образования. Для его создания необходимо привести все значения \"образование\" в нижний регистр.\n",
    "2. Словарь семейного положения. Он необходим, потому что семейное положение записывается длинными строками. Гораздо удобнее будет обращение по индексу/номеру.\n",
    "3. Словарь целей кредита. Так же необходим по причине длинных записей, а так же разных записей обозначающих одну цель.\n",
    "\n",
    "Значения столбца с доходом разобьем на 5 равных категорий при помощи метода qcut()."
   ]
  },
  {
   "cell_type": "markdown",
   "metadata": {},
   "source": [
    "## 3. Ответы на вопросы"
   ]
  },
  {
   "cell_type": "markdown",
   "metadata": {},
   "source": [
    "1) Есть ли зависимость между наличием детей и возвратом кредита в срок?"
   ]
  },
  {
   "cell_type": "code",
   "execution_count": null,
   "metadata": {},
   "outputs": [],
   "source": [
    "data_children = data[['children', 'debt']]\n",
    "print(data_children['children'].value_counts())\n",
    "print('')\n",
    "\n",
    "data_children['children'] = data_children['children'].replace((4,5,20), '>3')\n",
    "data_children['children'] = data_children['children'].replace((-1), 0)\n",
    "\n",
    "data_children = data_children.groupby('children').agg({'debt' : ['sum', 'count', 'mean']})\n",
    "\n",
    "def percent(value):\n",
    "    new_value = '{:.1%}'.format(value)\n",
    "    return new_value\n",
    "data_children['debt', 'mean'] = data_children['debt', 'mean'].apply(percent)\n",
    "display(data_children)\n"
   ]
  },
  {
   "cell_type": "markdown",
   "metadata": {},
   "source": [
    "### Вывод"
   ]
  },
  {
   "cell_type": "markdown",
   "metadata": {},
   "source": [
    "Для начала посмотрим количество значений столбца \"Дети\". Ожидаемо, самые часто встречающиеся значения 0,1,2,3. Так же есть люди у которых 4 и 5 детей, но таких людей мало, поэтому объединим их в одну категорию \"больше 3\" детей. Ещё в данных присутствуют артефакты: -1 ребёнок и 20 детей. количесвто таких данных много меньше общего числа данных, поэтому можно от них просто избавится, на общую статистику это не повлияет. А можно предположить что -1 ребёнок это отсутствие детей, а 20 детей это \"больше 3\"\n",
    "\n",
    "Избавившись от артефактов получаем результат, представим его в виде процента людей, имеющих задолженность по кредиту. Можно сделать вывод, что люди без детей исправнее платят по кредиту, потому что легче планировать свой бюджет. Тяжелее всего спланировать свои финансы приходится людям с 2 детьми."
   ]
  },
  {
   "cell_type": "markdown",
   "metadata": {},
   "source": [
    "2) Есть ли зависимость между семейным положением и возвратом кредита в срок?"
   ]
  },
  {
   "cell_type": "code",
   "execution_count": null,
   "metadata": {},
   "outputs": [],
   "source": [
    "data_family = data[['family_status', 'debt']]\n",
    "\n",
    "data_family = data_family.groupby('family_status').agg({'debt' : ['sum', 'count', 'mean']})\n",
    "\n",
    "data_family['debt', 'mean'] = data_family['debt', 'mean'].apply(percent)\n",
    "display(data_family)"
   ]
  },
  {
   "cell_type": "markdown",
   "metadata": {},
   "source": [
    "### Вывод"
   ]
  },
  {
   "cell_type": "markdown",
   "metadata": {},
   "source": [
    "Можно сделать вывод, что люди, которые состоят (или стостояли) в браке, исправнее платят по кредитам, чем люди, которые в браке никогда не состояли. Возможно это вызвано большей ответственностью, которую люди в браке несут по жизни."
   ]
  },
  {
   "cell_type": "markdown",
   "metadata": {},
   "source": [
    "3) Есть ли зависимость между уровнем дохода и возвратом кредита в срок?"
   ]
  },
  {
   "cell_type": "code",
   "execution_count": null,
   "metadata": {},
   "outputs": [],
   "source": [
    "data_income = data[['total_income_groups', 'debt']]\n",
    "\n",
    "data_income = data_income.groupby('total_income_groups').agg({'debt' : ['sum', 'count', 'mean']})\n",
    "\n",
    "data_income['debt', 'mean'] = data_income['debt', 'mean'].apply(percent)\n",
    "display(data_income)"
   ]
  },
  {
   "cell_type": "markdown",
   "metadata": {},
   "source": [
    "### Вывод"
   ]
  },
  {
   "cell_type": "markdown",
   "metadata": {},
   "source": [
    "Исправнее всего платят люди с высокой (больше 200 тыс. руб.), потому что у таких людей достаточный доход для погашения кредитов в срок. На втором месте находятся люди из катгории самых невысоких зарплат (20 - 98 тыс. руб.), Такая зависимость может наблюдаться потому что люди с не высокой зарплатой привыкли жить, тщательно планируя свой бюджет. А серединная категория людей (от 98 до 214) имеет больший процент должников, возможно, потому что люди из этой категории не испытывают необходимости тщательно планировать свой бюджет, что приводит к нерациональным тратам и нехватке средств на погашение кредита."
   ]
  },
  {
   "cell_type": "markdown",
   "metadata": {},
   "source": [
    "4) Как разные цели кредита влияют на его возврат в срок?"
   ]
  },
  {
   "cell_type": "code",
   "execution_count": null,
   "metadata": {},
   "outputs": [],
   "source": [
    "data_purpose = data[['purpose_id', 'debt']]\n",
    "\n",
    "data_purpose = data_purpose.pivot_table(values = 'debt', index = 'purpose_id', aggfunc = 'mean')\n",
    "data_purpose['debt'] = data_purpose['debt'].apply(percent) \n",
    "display(data_purpose)"
   ]
  },
  {
   "cell_type": "markdown",
   "metadata": {},
   "source": [
    "### Вывод"
   ]
  },
  {
   "cell_type": "markdown",
   "metadata": {},
   "source": [
    "Минимальный процент задолженностей наблюдается по ипотечным кредитам, а максимальный по автомобильным и кредитам на образование. Кредиты на организацию свадьбы занимают место посередине."
   ]
  },
  {
   "cell_type": "markdown",
   "metadata": {},
   "source": [
    "## 4. Общий вывод"
   ]
  },
  {
   "cell_type": "markdown",
   "metadata": {},
   "source": [
    "В данной работе в качесвте исходных данных от банка была получена статистика о платежеспособности клиентов. \n",
    "\n",
    "В ходе работы данные были проанализированы и обработаны:\n",
    "1. приведены к удобной для использования форме\n",
    "2. удалены дубликаты\n",
    "3. обработаны пропущенные значения\n",
    "4. изменен тип данных, где необходимо\n",
    "5. все данные категоризированы\n",
    "\n",
    "В результате были получены зависимости платежеспособности клиентов от количества детей, семейного положения, общего дохода и цели кредита. Исправнее всего платят:\n",
    "1. люди без детей - 7,5% должников, против 9,5% среди людей с двумя детьми\n",
    "2. люди состоящие/состоявшие в браке ~7% должников, против ~9,5% среди людей, никогда не бывавшими в браке\n",
    "3. люди с высокой зарплатой >214 тыс. руб. - 7% должников, против ~8,2% среди людей с зарплатой меньше\n",
    "4. люди, взявшие ипотеку - 7,2% должников"
   ]
  },
  {
   "cell_type": "code",
   "execution_count": null,
   "metadata": {},
   "outputs": [],
   "source": []
  }
 ],
 "metadata": {
  "kernelspec": {
   "display_name": "Python 3",
   "language": "python",
   "name": "python3"
  },
  "language_info": {
   "codemirror_mode": {
    "name": "ipython",
    "version": 3
   },
   "file_extension": ".py",
   "mimetype": "text/x-python",
   "name": "python",
   "nbconvert_exporter": "python",
   "pygments_lexer": "ipython3",
   "version": "3.8.8"
  },
  "toc": {
   "base_numbering": 1,
   "nav_menu": {},
   "number_sections": true,
   "sideBar": true,
   "skip_h1_title": false,
   "title_cell": "Table of Contents",
   "title_sidebar": "Contents",
   "toc_cell": false,
   "toc_position": {},
   "toc_section_display": true,
   "toc_window_display": false
  }
 },
 "nbformat": 4,
 "nbformat_minor": 2
}
