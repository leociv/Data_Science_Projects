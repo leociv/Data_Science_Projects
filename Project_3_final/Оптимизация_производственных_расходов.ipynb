{
 "cells": [
  {
   "cell_type": "markdown",
   "id": "25322d02",
   "metadata": {},
   "source": [
    "# Оптимизация производственнх расходов металлургического комбината "
   ]
  },
  {
   "cell_type": "markdown",
   "id": "482ca76b",
   "metadata": {},
   "source": [
    "Чтобы оптимизировать производственные расходы, металлургический комбинат решил уменьшить потребление электроэнергии на этапе обработки стали. Необходимо построить модель, которая предскажет температуру стали."
   ]
  },
  {
   "cell_type": "markdown",
   "id": "e8e27ae2",
   "metadata": {},
   "source": [
    "# Описание этапов обработки стали\n",
    "\n",
    "Сталь обрабатывают в металлическом ковше вместимостью около 100 тонн. Чтобы ковш выдерживал высокие температуры, изнутри его облицовывают огнеупорным кирпичом. Расплавленную сталь заливают в ковш и подогревают до нужной температуры графитовыми электродами. Они установлены в крышке ковша. \n",
    "\n",
    "Из сплава выводится сера (десульфурация), добавлением примесей корректируется химический состав и отбираются пробы. Сталь легируют — изменяют её состав — подавая куски сплава из бункера для сыпучих материалов или проволоку через специальный трайб-аппарат.\n",
    "\n",
    "Перед тем как первый раз ввести легирующие добавки, измеряют температуру стали и производят её химический анализ. Потом температуру на несколько минут повышают, добавляют легирующие материалы и продувают сплав инертным газом. Затем его перемешивают и снова проводят измерения. Такой цикл повторяется до достижения целевого химического состава и оптимальной температуры плавки.\n",
    "\n",
    "Тогда расплавленная сталь отправляется на доводку металла или поступает в машину непрерывной разливки. Оттуда готовый продукт выходит в виде заготовок-слябов."
   ]
  },
  {
   "cell_type": "markdown",
   "id": "f3983543",
   "metadata": {},
   "source": [
    "# Описание данных\n",
    "\n",
    "Данные состоят из файлов, полученных из разных источников:\n",
    "\n",
    "- data_arc.csv — данные об электродах;\n",
    "- data_bulk.csv — данные о подаче сыпучих материалов (объём);\n",
    "- data_bulk_time.csv — данные о подаче сыпучих материалов (время);\n",
    "- data_gas.csv — данные о продувке сплава газом;\n",
    "- data_temp.csv — результаты измерения температуры;\n",
    "- data_wire.csv — данные о проволочных материалах (объём);\n",
    "- data_wire_time.csv — данные о проволочных материалах (время).\n",
    "\n",
    "Во всех файлах столбец *key* содержит номер партии. В файлах может быть несколько строк с одинаковым значением *key*: они соответствуют разным итерациям обработки."
   ]
  },
  {
   "cell_type": "markdown",
   "id": "748f801a",
   "metadata": {},
   "source": [
    "## Исследовательский анализ данных"
   ]
  },
  {
   "cell_type": "code",
   "execution_count": 1,
   "id": "4f42ec50",
   "metadata": {},
   "outputs": [],
   "source": [
    "import pandas as pd\n",
    "import numpy as np\n",
    "import seaborn as sns\n",
    "import matplotlib.pyplot as plt\n",
    "\n",
    "pd.set_option('display.max_rows', None)\n",
    "pd.set_option('display.max_columns', None)\n",
    "pd.set_option('display.max_colwidth', None)\n",
    "\n",
    "from sklearn.model_selection import train_test_split, GridSearchCV\n",
    "from sklearn.preprocessing import StandardScaler\n",
    "from sklearn.metrics import mean_absolute_error, make_scorer\n",
    "\n",
    "import warnings\n",
    "warnings.filterwarnings('ignore')\n",
    "\n",
    "from catboost import CatBoostRegressor\n",
    "from sklearn.linear_model import LinearRegression\n",
    "from lightgbm import LGBMRegressor\n",
    "from sklearn.ensemble import RandomForestRegressor\n",
    "from sklearn.tree import DecisionTreeRegressor"
   ]
  },
  {
   "cell_type": "code",
   "execution_count": 2,
   "id": "8156ec1f",
   "metadata": {},
   "outputs": [],
   "source": [
    "data_arc = pd.read_csv('C:/Users/leoci/Downloads/final_steel/data_arc.csv')\n",
    "data_bulk = pd.read_csv('C:/Users/leoci/Downloads/final_steel/data_bulk.csv')\n",
    "data_bulk_time = pd.read_csv('C:/Users/leoci/Downloads/final_steel/data_bulk_time.csv')\n",
    "data_gas = pd.read_csv('C:/Users/leoci/Downloads/final_steel/data_gas.csv')\n",
    "data_temp = pd.read_csv('C:/Users/leoci/Downloads/final_steel/data_temp.csv')\n",
    "data_wire = pd.read_csv('C:/Users/leoci/Downloads/final_steel/data_wire.csv')\n",
    "data_wire_time = pd.read_csv('C:/Users/leoci/Downloads/final_steel/data_wire_time.csv')"
   ]
  },
  {
   "cell_type": "markdown",
   "id": "6f23099e",
   "metadata": {},
   "source": [
    "### data_arc"
   ]
  },
  {
   "cell_type": "code",
   "execution_count": 3,
   "id": "8e674dbe",
   "metadata": {},
   "outputs": [
    {
     "data": {
      "text/html": [
       "<div>\n",
       "<style scoped>\n",
       "    .dataframe tbody tr th:only-of-type {\n",
       "        vertical-align: middle;\n",
       "    }\n",
       "\n",
       "    .dataframe tbody tr th {\n",
       "        vertical-align: top;\n",
       "    }\n",
       "\n",
       "    .dataframe thead th {\n",
       "        text-align: right;\n",
       "    }\n",
       "</style>\n",
       "<table border=\"1\" class=\"dataframe\">\n",
       "  <thead>\n",
       "    <tr style=\"text-align: right;\">\n",
       "      <th></th>\n",
       "      <th>key</th>\n",
       "      <th>Начало нагрева дугой</th>\n",
       "      <th>Конец нагрева дугой</th>\n",
       "      <th>Активная мощность</th>\n",
       "      <th>Реактивная мощность</th>\n",
       "    </tr>\n",
       "  </thead>\n",
       "  <tbody>\n",
       "    <tr>\n",
       "      <th>0</th>\n",
       "      <td>1</td>\n",
       "      <td>2019-05-03 11:02:14</td>\n",
       "      <td>2019-05-03 11:06:02</td>\n",
       "      <td>0.976059</td>\n",
       "      <td>0.687084</td>\n",
       "    </tr>\n",
       "    <tr>\n",
       "      <th>1</th>\n",
       "      <td>1</td>\n",
       "      <td>2019-05-03 11:07:28</td>\n",
       "      <td>2019-05-03 11:10:33</td>\n",
       "      <td>0.805607</td>\n",
       "      <td>0.520285</td>\n",
       "    </tr>\n",
       "    <tr>\n",
       "      <th>2</th>\n",
       "      <td>1</td>\n",
       "      <td>2019-05-03 11:11:44</td>\n",
       "      <td>2019-05-03 11:14:36</td>\n",
       "      <td>0.744363</td>\n",
       "      <td>0.498805</td>\n",
       "    </tr>\n",
       "    <tr>\n",
       "      <th>3</th>\n",
       "      <td>1</td>\n",
       "      <td>2019-05-03 11:18:14</td>\n",
       "      <td>2019-05-03 11:24:19</td>\n",
       "      <td>1.659363</td>\n",
       "      <td>1.062669</td>\n",
       "    </tr>\n",
       "    <tr>\n",
       "      <th>4</th>\n",
       "      <td>1</td>\n",
       "      <td>2019-05-03 11:26:09</td>\n",
       "      <td>2019-05-03 11:28:37</td>\n",
       "      <td>0.692755</td>\n",
       "      <td>0.414397</td>\n",
       "    </tr>\n",
       "    <tr>\n",
       "      <th>5</th>\n",
       "      <td>2</td>\n",
       "      <td>2019-05-03 11:34:14</td>\n",
       "      <td>2019-05-03 11:36:31</td>\n",
       "      <td>0.438063</td>\n",
       "      <td>0.283043</td>\n",
       "    </tr>\n",
       "    <tr>\n",
       "      <th>6</th>\n",
       "      <td>2</td>\n",
       "      <td>2019-05-03 11:38:50</td>\n",
       "      <td>2019-05-03 11:44:28</td>\n",
       "      <td>1.296415</td>\n",
       "      <td>0.892914</td>\n",
       "    </tr>\n",
       "    <tr>\n",
       "      <th>7</th>\n",
       "      <td>2</td>\n",
       "      <td>2019-05-03 11:46:19</td>\n",
       "      <td>2019-05-03 11:48:25</td>\n",
       "      <td>0.490377</td>\n",
       "      <td>0.305281</td>\n",
       "    </tr>\n",
       "    <tr>\n",
       "      <th>8</th>\n",
       "      <td>2</td>\n",
       "      <td>2019-05-03 11:49:48</td>\n",
       "      <td>2019-05-03 11:53:18</td>\n",
       "      <td>0.827743</td>\n",
       "      <td>0.516874</td>\n",
       "    </tr>\n",
       "    <tr>\n",
       "      <th>9</th>\n",
       "      <td>3</td>\n",
       "      <td>2019-05-03 12:06:54</td>\n",
       "      <td>2019-05-03 12:11:34</td>\n",
       "      <td>1.062053</td>\n",
       "      <td>0.671494</td>\n",
       "    </tr>\n",
       "  </tbody>\n",
       "</table>\n",
       "</div>"
      ],
      "text/plain": [
       "   key Начало нагрева дугой  Конец нагрева дугой  Активная мощность  \\\n",
       "0    1  2019-05-03 11:02:14  2019-05-03 11:06:02           0.976059   \n",
       "1    1  2019-05-03 11:07:28  2019-05-03 11:10:33           0.805607   \n",
       "2    1  2019-05-03 11:11:44  2019-05-03 11:14:36           0.744363   \n",
       "3    1  2019-05-03 11:18:14  2019-05-03 11:24:19           1.659363   \n",
       "4    1  2019-05-03 11:26:09  2019-05-03 11:28:37           0.692755   \n",
       "5    2  2019-05-03 11:34:14  2019-05-03 11:36:31           0.438063   \n",
       "6    2  2019-05-03 11:38:50  2019-05-03 11:44:28           1.296415   \n",
       "7    2  2019-05-03 11:46:19  2019-05-03 11:48:25           0.490377   \n",
       "8    2  2019-05-03 11:49:48  2019-05-03 11:53:18           0.827743   \n",
       "9    3  2019-05-03 12:06:54  2019-05-03 12:11:34           1.062053   \n",
       "\n",
       "   Реактивная мощность  \n",
       "0             0.687084  \n",
       "1             0.520285  \n",
       "2             0.498805  \n",
       "3             1.062669  \n",
       "4             0.414397  \n",
       "5             0.283043  \n",
       "6             0.892914  \n",
       "7             0.305281  \n",
       "8             0.516874  \n",
       "9             0.671494  "
      ]
     },
     "metadata": {},
     "output_type": "display_data"
    },
    {
     "name": "stdout",
     "output_type": "stream",
     "text": [
      "<class 'pandas.core.frame.DataFrame'>\n",
      "RangeIndex: 14876 entries, 0 to 14875\n",
      "Data columns (total 5 columns):\n",
      " #   Column                Non-Null Count  Dtype  \n",
      "---  ------                --------------  -----  \n",
      " 0   key                   14876 non-null  int64  \n",
      " 1   Начало нагрева дугой  14876 non-null  object \n",
      " 2   Конец нагрева дугой   14876 non-null  object \n",
      " 3   Активная мощность     14876 non-null  float64\n",
      " 4   Реактивная мощность   14876 non-null  float64\n",
      "dtypes: float64(2), int64(1), object(2)\n",
      "memory usage: 581.2+ KB\n",
      "None\n"
     ]
    }
   ],
   "source": [
    "display(data_arc.head(10))\n",
    "print(data_arc.info())"
   ]
  },
  {
   "cell_type": "code",
   "execution_count": 4,
   "id": "8d21406c",
   "metadata": {},
   "outputs": [
    {
     "name": "stdout",
     "output_type": "stream",
     "text": [
      "0\n"
     ]
    }
   ],
   "source": [
    "print(data_arc.duplicated().sum())"
   ]
  },
  {
   "cell_type": "markdown",
   "id": "051fbf11",
   "metadata": {},
   "source": [
    "Датасет содержит 14876 строк и 5 столбцов:\n",
    "- key - номер партии\n",
    "- Время начала нагрева\n",
    "- Время окончания нагрева\n",
    "- Активная мощность\n",
    "- Реактивная мощность\n",
    "  \n",
    "Дубликаты в данных отсутствуют, пропуски в данных отсутствуют.\n",
    "\n",
    "Зададим названия столбцов для более удобной работы"
   ]
  },
  {
   "cell_type": "code",
   "execution_count": 5,
   "id": "002c97b6",
   "metadata": {},
   "outputs": [],
   "source": [
    "data_arc.columns = ['key', 'start_heating', 'finish_heating', 'real_power', 'reactive_power']"
   ]
  },
  {
   "cell_type": "markdown",
   "id": "43f296a0",
   "metadata": {},
   "source": [
    "Преобразуем формат времени в datetime, найдем длительность каждого нагрева в секундах."
   ]
  },
  {
   "cell_type": "code",
   "execution_count": 6,
   "id": "c0237667",
   "metadata": {},
   "outputs": [],
   "source": [
    "data_arc['finish_heating'] = pd.to_datetime(data_arc['finish_heating'], format = '%Y-%m-%d %H:%M:%S')\n",
    "data_arc['start_heating'] = pd.to_datetime(data_arc['start_heating'], format = '%Y-%m-%d %H:%M:%S')"
   ]
  },
  {
   "cell_type": "code",
   "execution_count": 7,
   "id": "117b80d6",
   "metadata": {},
   "outputs": [],
   "source": [
    "data_arc['heating_duration_sek'] = data_arc['finish_heating'] - data_arc['start_heating']\n",
    "data_arc['heating_duration_sek'] = data_arc['heating_duration_sek'].apply(lambda x: x.total_seconds())"
   ]
  },
  {
   "cell_type": "markdown",
   "id": "b84479a3",
   "metadata": {},
   "source": [
    "Проанализируем данные методом describe"
   ]
  },
  {
   "cell_type": "code",
   "execution_count": 8,
   "id": "18f1d05d",
   "metadata": {},
   "outputs": [
    {
     "data": {
      "text/html": [
       "<div>\n",
       "<style scoped>\n",
       "    .dataframe tbody tr th:only-of-type {\n",
       "        vertical-align: middle;\n",
       "    }\n",
       "\n",
       "    .dataframe tbody tr th {\n",
       "        vertical-align: top;\n",
       "    }\n",
       "\n",
       "    .dataframe thead th {\n",
       "        text-align: right;\n",
       "    }\n",
       "</style>\n",
       "<table border=\"1\" class=\"dataframe\">\n",
       "  <thead>\n",
       "    <tr style=\"text-align: right;\">\n",
       "      <th></th>\n",
       "      <th>key</th>\n",
       "      <th>real_power</th>\n",
       "      <th>reactive_power</th>\n",
       "      <th>heating_duration_sek</th>\n",
       "    </tr>\n",
       "  </thead>\n",
       "  <tbody>\n",
       "    <tr>\n",
       "      <th>count</th>\n",
       "      <td>14876.000000</td>\n",
       "      <td>14876.000000</td>\n",
       "      <td>14876.000000</td>\n",
       "      <td>14876.000000</td>\n",
       "    </tr>\n",
       "    <tr>\n",
       "      <th>mean</th>\n",
       "      <td>1615.220422</td>\n",
       "      <td>0.670441</td>\n",
       "      <td>0.452592</td>\n",
       "      <td>171.670946</td>\n",
       "    </tr>\n",
       "    <tr>\n",
       "      <th>std</th>\n",
       "      <td>934.571502</td>\n",
       "      <td>0.408159</td>\n",
       "      <td>5.878702</td>\n",
       "      <td>98.186803</td>\n",
       "    </tr>\n",
       "    <tr>\n",
       "      <th>min</th>\n",
       "      <td>1.000000</td>\n",
       "      <td>0.030002</td>\n",
       "      <td>-715.504924</td>\n",
       "      <td>11.000000</td>\n",
       "    </tr>\n",
       "    <tr>\n",
       "      <th>25%</th>\n",
       "      <td>806.000000</td>\n",
       "      <td>0.395297</td>\n",
       "      <td>0.290991</td>\n",
       "      <td>107.000000</td>\n",
       "    </tr>\n",
       "    <tr>\n",
       "      <th>50%</th>\n",
       "      <td>1617.000000</td>\n",
       "      <td>0.555517</td>\n",
       "      <td>0.415962</td>\n",
       "      <td>147.000000</td>\n",
       "    </tr>\n",
       "    <tr>\n",
       "      <th>75%</th>\n",
       "      <td>2429.000000</td>\n",
       "      <td>0.857034</td>\n",
       "      <td>0.637371</td>\n",
       "      <td>214.000000</td>\n",
       "    </tr>\n",
       "    <tr>\n",
       "      <th>max</th>\n",
       "      <td>3241.000000</td>\n",
       "      <td>3.731596</td>\n",
       "      <td>2.676388</td>\n",
       "      <td>907.000000</td>\n",
       "    </tr>\n",
       "  </tbody>\n",
       "</table>\n",
       "</div>"
      ],
      "text/plain": [
       "                key    real_power  reactive_power  heating_duration_sek\n",
       "count  14876.000000  14876.000000    14876.000000          14876.000000\n",
       "mean    1615.220422      0.670441        0.452592            171.670946\n",
       "std      934.571502      0.408159        5.878702             98.186803\n",
       "min        1.000000      0.030002     -715.504924             11.000000\n",
       "25%      806.000000      0.395297        0.290991            107.000000\n",
       "50%     1617.000000      0.555517        0.415962            147.000000\n",
       "75%     2429.000000      0.857034        0.637371            214.000000\n",
       "max     3241.000000      3.731596        2.676388            907.000000"
      ]
     },
     "metadata": {},
     "output_type": "display_data"
    }
   ],
   "source": [
    "display(data_arc.describe())"
   ]
  },
  {
   "cell_type": "markdown",
   "id": "56e08108",
   "metadata": {},
   "source": [
    "Виден аномальный минимум в реактивной мощности. Посмотрим его отдельно"
   ]
  },
  {
   "cell_type": "code",
   "execution_count": 9,
   "id": "55b065e9",
   "metadata": {},
   "outputs": [
    {
     "data": {
      "text/html": [
       "<div>\n",
       "<style scoped>\n",
       "    .dataframe tbody tr th:only-of-type {\n",
       "        vertical-align: middle;\n",
       "    }\n",
       "\n",
       "    .dataframe tbody tr th {\n",
       "        vertical-align: top;\n",
       "    }\n",
       "\n",
       "    .dataframe thead th {\n",
       "        text-align: right;\n",
       "    }\n",
       "</style>\n",
       "<table border=\"1\" class=\"dataframe\">\n",
       "  <thead>\n",
       "    <tr style=\"text-align: right;\">\n",
       "      <th></th>\n",
       "      <th>key</th>\n",
       "      <th>start_heating</th>\n",
       "      <th>finish_heating</th>\n",
       "      <th>real_power</th>\n",
       "      <th>reactive_power</th>\n",
       "      <th>heating_duration_sek</th>\n",
       "    </tr>\n",
       "  </thead>\n",
       "  <tbody>\n",
       "    <tr>\n",
       "      <th>9780</th>\n",
       "      <td>2116</td>\n",
       "      <td>2019-07-24 00:44:48</td>\n",
       "      <td>2019-07-24 00:46:37</td>\n",
       "      <td>0.495782</td>\n",
       "      <td>-715.504924</td>\n",
       "      <td>109.0</td>\n",
       "    </tr>\n",
       "  </tbody>\n",
       "</table>\n",
       "</div>"
      ],
      "text/plain": [
       "       key       start_heating      finish_heating  real_power  \\\n",
       "9780  2116 2019-07-24 00:44:48 2019-07-24 00:46:37    0.495782   \n",
       "\n",
       "      reactive_power  heating_duration_sek  \n",
       "9780     -715.504924                 109.0  "
      ]
     },
     "metadata": {},
     "output_type": "display_data"
    }
   ],
   "source": [
    "display(data_arc.query('reactive_power < 0'))"
   ]
  },
  {
   "cell_type": "markdown",
   "id": "2d349117",
   "metadata": {},
   "source": [
    "Удалим данный выброс"
   ]
  },
  {
   "cell_type": "code",
   "execution_count": 10,
   "id": "c2bb9d03",
   "metadata": {},
   "outputs": [],
   "source": [
    "data_arc = data_arc.query('key != 2116')"
   ]
  },
  {
   "cell_type": "markdown",
   "id": "1b293012",
   "metadata": {},
   "source": [
    "Сгруппируем данные по номеру партии. Затраченные мощности и время нагрева просуммируем. Добавим столбец с количеством запусков нагрева электродами"
   ]
  },
  {
   "cell_type": "code",
   "execution_count": 11,
   "id": "ea7110a2",
   "metadata": {},
   "outputs": [
    {
     "data": {
      "text/html": [
       "<div>\n",
       "<style scoped>\n",
       "    .dataframe tbody tr th:only-of-type {\n",
       "        vertical-align: middle;\n",
       "    }\n",
       "\n",
       "    .dataframe tbody tr th {\n",
       "        vertical-align: top;\n",
       "    }\n",
       "\n",
       "    .dataframe thead th {\n",
       "        text-align: right;\n",
       "    }\n",
       "</style>\n",
       "<table border=\"1\" class=\"dataframe\">\n",
       "  <thead>\n",
       "    <tr style=\"text-align: right;\">\n",
       "      <th></th>\n",
       "      <th>real_power</th>\n",
       "      <th>reactive_power</th>\n",
       "      <th>heating_duration_sek</th>\n",
       "      <th>launches_number</th>\n",
       "    </tr>\n",
       "    <tr>\n",
       "      <th>key</th>\n",
       "      <th></th>\n",
       "      <th></th>\n",
       "      <th></th>\n",
       "      <th></th>\n",
       "    </tr>\n",
       "  </thead>\n",
       "  <tbody>\n",
       "    <tr>\n",
       "      <th>1</th>\n",
       "      <td>4.878147</td>\n",
       "      <td>3.183241</td>\n",
       "      <td>1098.0</td>\n",
       "      <td>5</td>\n",
       "    </tr>\n",
       "    <tr>\n",
       "      <th>2</th>\n",
       "      <td>3.052598</td>\n",
       "      <td>1.998112</td>\n",
       "      <td>811.0</td>\n",
       "      <td>4</td>\n",
       "    </tr>\n",
       "    <tr>\n",
       "      <th>3</th>\n",
       "      <td>2.525882</td>\n",
       "      <td>1.599076</td>\n",
       "      <td>655.0</td>\n",
       "      <td>5</td>\n",
       "    </tr>\n",
       "    <tr>\n",
       "      <th>4</th>\n",
       "      <td>3.209250</td>\n",
       "      <td>2.060298</td>\n",
       "      <td>741.0</td>\n",
       "      <td>4</td>\n",
       "    </tr>\n",
       "    <tr>\n",
       "      <th>5</th>\n",
       "      <td>3.347173</td>\n",
       "      <td>2.252643</td>\n",
       "      <td>869.0</td>\n",
       "      <td>4</td>\n",
       "    </tr>\n",
       "  </tbody>\n",
       "</table>\n",
       "</div>"
      ],
      "text/plain": [
       "     real_power  reactive_power  heating_duration_sek  launches_number\n",
       "key                                                                   \n",
       "1      4.878147        3.183241                1098.0                5\n",
       "2      3.052598        1.998112                 811.0                4\n",
       "3      2.525882        1.599076                 655.0                5\n",
       "4      3.209250        2.060298                 741.0                4\n",
       "5      3.347173        2.252643                 869.0                4"
      ]
     },
     "metadata": {},
     "output_type": "display_data"
    },
    {
     "data": {
      "text/html": [
       "<div>\n",
       "<style scoped>\n",
       "    .dataframe tbody tr th:only-of-type {\n",
       "        vertical-align: middle;\n",
       "    }\n",
       "\n",
       "    .dataframe tbody tr th {\n",
       "        vertical-align: top;\n",
       "    }\n",
       "\n",
       "    .dataframe thead th {\n",
       "        text-align: right;\n",
       "    }\n",
       "</style>\n",
       "<table border=\"1\" class=\"dataframe\">\n",
       "  <thead>\n",
       "    <tr style=\"text-align: right;\">\n",
       "      <th></th>\n",
       "      <th>real_power</th>\n",
       "      <th>reactive_power</th>\n",
       "      <th>heating_duration_sek</th>\n",
       "      <th>launches_number</th>\n",
       "    </tr>\n",
       "  </thead>\n",
       "  <tbody>\n",
       "    <tr>\n",
       "      <th>count</th>\n",
       "      <td>3213.000000</td>\n",
       "      <td>3213.000000</td>\n",
       "      <td>3213.000000</td>\n",
       "      <td>3213.000000</td>\n",
       "    </tr>\n",
       "    <tr>\n",
       "      <th>mean</th>\n",
       "      <td>3.103529</td>\n",
       "      <td>2.317879</td>\n",
       "      <td>794.691566</td>\n",
       "      <td>4.628696</td>\n",
       "    </tr>\n",
       "    <tr>\n",
       "      <th>std</th>\n",
       "      <td>1.397432</td>\n",
       "      <td>1.054189</td>\n",
       "      <td>332.439136</td>\n",
       "      <td>1.608860</td>\n",
       "    </tr>\n",
       "    <tr>\n",
       "      <th>min</th>\n",
       "      <td>0.186226</td>\n",
       "      <td>0.158247</td>\n",
       "      <td>57.000000</td>\n",
       "      <td>1.000000</td>\n",
       "    </tr>\n",
       "    <tr>\n",
       "      <th>25%</th>\n",
       "      <td>2.126654</td>\n",
       "      <td>1.599076</td>\n",
       "      <td>571.000000</td>\n",
       "      <td>4.000000</td>\n",
       "    </tr>\n",
       "    <tr>\n",
       "      <th>50%</th>\n",
       "      <td>2.990755</td>\n",
       "      <td>2.230260</td>\n",
       "      <td>770.000000</td>\n",
       "      <td>4.000000</td>\n",
       "    </tr>\n",
       "    <tr>\n",
       "      <th>75%</th>\n",
       "      <td>3.901463</td>\n",
       "      <td>2.899524</td>\n",
       "      <td>983.000000</td>\n",
       "      <td>6.000000</td>\n",
       "    </tr>\n",
       "    <tr>\n",
       "      <th>max</th>\n",
       "      <td>17.496497</td>\n",
       "      <td>12.587990</td>\n",
       "      <td>4189.000000</td>\n",
       "      <td>16.000000</td>\n",
       "    </tr>\n",
       "  </tbody>\n",
       "</table>\n",
       "</div>"
      ],
      "text/plain": [
       "        real_power  reactive_power  heating_duration_sek  launches_number\n",
       "count  3213.000000     3213.000000           3213.000000      3213.000000\n",
       "mean      3.103529        2.317879            794.691566         4.628696\n",
       "std       1.397432        1.054189            332.439136         1.608860\n",
       "min       0.186226        0.158247             57.000000         1.000000\n",
       "25%       2.126654        1.599076            571.000000         4.000000\n",
       "50%       2.990755        2.230260            770.000000         4.000000\n",
       "75%       3.901463        2.899524            983.000000         6.000000\n",
       "max      17.496497       12.587990           4189.000000        16.000000"
      ]
     },
     "metadata": {},
     "output_type": "display_data"
    }
   ],
   "source": [
    "data_arc_grouped = data_arc.groupby('key').sum()\n",
    "data_arc_grouped['launches_number'] = data_arc.groupby('key')['real_power'].count()\n",
    "display(data_arc_grouped.head())\n",
    "display(data_arc_grouped.describe())"
   ]
  },
  {
   "cell_type": "markdown",
   "id": "b879044b",
   "metadata": {},
   "source": [
    "Построим боксплоты и гистограммы распределения величин."
   ]
  },
  {
   "cell_type": "code",
   "execution_count": 12,
   "id": "7ee9690b",
   "metadata": {},
   "outputs": [
    {
     "data": {
      "image/png": "[encoded data removed]",
      "text/plain": [
       "<Figure size 432x288 with 1 Axes>"
      ]
     },
     "metadata": {
      "needs_background": "light"
     },
     "output_type": "display_data"
    },
    {
     "data": {
      "image/png": "[encoded data removed]",
      "text/plain": [
       "<Figure size 432x288 with 1 Axes>"
      ]
     },
     "metadata": {
      "needs_background": "light"
     },
     "output_type": "display_data"
    },
    {
     "data": {
      "image/png": "[encoded data removed]",
      "text/plain": [
       "<Figure size 432x288 with 1 Axes>"
      ]
     },
     "metadata": {
      "needs_background": "light"
     },
     "output_type": "display_data"
    },
    {
     "data": {
      "image/png": "[encoded data removed]",
      "text/plain": [
       "<Figure size 432x288 with 1 Axes>"
      ]
     },
     "metadata": {
      "needs_background": "light"
     },
     "output_type": "display_data"
    }
   ],
   "source": [
    "for column in data_arc_grouped.columns:\n",
    "    data_arc_grouped.boxplot(column)\n",
    "    plt.show()"
   ]
  },
  {
   "cell_type": "code",
   "execution_count": 13,
   "id": "f753c3f3",
   "metadata": {},
   "outputs": [
    {
     "data": {
      "image/png": "[encoded data removed]",
      "text/plain": [
       "<Figure size 432x288 with 1 Axes>"
      ]
     },
     "metadata": {
      "needs_background": "light"
     },
     "output_type": "display_data"
    },
    {
     "data": {
      "image/png": "[encoded data removed]",
      "text/plain": [
       "<Figure size 432x288 with 1 Axes>"
      ]
     },
     "metadata": {
      "needs_background": "light"
     },
     "output_type": "display_data"
    },
    {
     "data": {
      "image/png": "[encoded data removed]",
      "text/plain": [
       "<Figure size 432x288 with 1 Axes>"
      ]
     },
     "metadata": {
      "needs_background": "light"
     },
     "output_type": "display_data"
    },
    {
     "data": {
      "image/png": "[encoded data removed]",
      "text/plain": [
       "<Figure size 432x288 with 1 Axes>"
      ]
     },
     "metadata": {
      "needs_background": "light"
     },
     "output_type": "display_data"
    }
   ],
   "source": [
    "for column in data_arc_grouped.columns:\n",
    "    data_arc_grouped[column].plot(kind='hist', bins=100, grid=True, title=column)\n",
    "    plt.show()"
   ]
  },
  {
   "cell_type": "markdown",
   "id": "3f608ae2",
   "metadata": {},
   "source": [
    "В данных есть незначительное количество выбросов по каждому из параметров. Удалим выбросы, ограничив значения каждого параметра."
   ]
  },
  {
   "cell_type": "code",
   "execution_count": 14,
   "id": "66aac038",
   "metadata": {},
   "outputs": [],
   "source": [
    "data_arc_grouped = data_arc_grouped.query('real_power < 8 and reactive_power < 6 \\\n",
    "                                          and heating_duration_sek < 2000 and launches_number <= 10')"
   ]
  },
  {
   "cell_type": "code",
   "execution_count": 15,
   "id": "3b941831",
   "metadata": {},
   "outputs": [
    {
     "data": {
      "image/png": "[encoded data removed]",
      "text/plain": [
       "<Figure size 432x288 with 1 Axes>"
      ]
     },
     "metadata": {
      "needs_background": "light"
     },
     "output_type": "display_data"
    },
    {
     "data": {
      "image/png": "[encoded data removed]",
      "text/plain": [
       "<Figure size 432x288 with 1 Axes>"
      ]
     },
     "metadata": {
      "needs_background": "light"
     },
     "output_type": "display_data"
    },
    {
     "data": {
      "image/png": "[encoded data removed]",
      "text/plain": [
       "<Figure size 432x288 with 1 Axes>"
      ]
     },
     "metadata": {
      "needs_background": "light"
     },
     "output_type": "display_data"
    },
    {
     "data": {
      "image/png": "[encoded data removed]",
      "text/plain": [
       "<Figure size 432x288 with 1 Axes>"
      ]
     },
     "metadata": {
      "needs_background": "light"
     },
     "output_type": "display_data"
    }
   ],
   "source": [
    "for column in data_arc_grouped.columns:\n",
    "    data_arc_grouped[column].plot(kind='hist', bins=50, grid=True, title=column)\n",
    "    plt.show()"
   ]
  },
  {
   "cell_type": "markdown",
   "id": "1882e590",
   "metadata": {},
   "source": [
    "Посмотрим, общую информацию о данных после очистки от выбросов."
   ]
  },
  {
   "cell_type": "code",
   "execution_count": 16,
   "id": "9d25fed6",
   "metadata": {},
   "outputs": [
    {
     "data": {
      "text/html": [
       "<div>\n",
       "<style scoped>\n",
       "    .dataframe tbody tr th:only-of-type {\n",
       "        vertical-align: middle;\n",
       "    }\n",
       "\n",
       "    .dataframe tbody tr th {\n",
       "        vertical-align: top;\n",
       "    }\n",
       "\n",
       "    .dataframe thead th {\n",
       "        text-align: right;\n",
       "    }\n",
       "</style>\n",
       "<table border=\"1\" class=\"dataframe\">\n",
       "  <thead>\n",
       "    <tr style=\"text-align: right;\">\n",
       "      <th></th>\n",
       "      <th>real_power</th>\n",
       "      <th>reactive_power</th>\n",
       "      <th>heating_duration_sek</th>\n",
       "      <th>launches_number</th>\n",
       "    </tr>\n",
       "  </thead>\n",
       "  <tbody>\n",
       "    <tr>\n",
       "      <th>count</th>\n",
       "      <td>3185.000000</td>\n",
       "      <td>3185.000000</td>\n",
       "      <td>3185.000000</td>\n",
       "      <td>3185.000000</td>\n",
       "    </tr>\n",
       "    <tr>\n",
       "      <th>mean</th>\n",
       "      <td>3.058802</td>\n",
       "      <td>2.278620</td>\n",
       "      <td>783.510832</td>\n",
       "      <td>4.578964</td>\n",
       "    </tr>\n",
       "    <tr>\n",
       "      <th>std</th>\n",
       "      <td>1.295738</td>\n",
       "      <td>0.955057</td>\n",
       "      <td>306.779217</td>\n",
       "      <td>1.503387</td>\n",
       "    </tr>\n",
       "    <tr>\n",
       "      <th>min</th>\n",
       "      <td>0.186226</td>\n",
       "      <td>0.158247</td>\n",
       "      <td>57.000000</td>\n",
       "      <td>1.000000</td>\n",
       "    </tr>\n",
       "    <tr>\n",
       "      <th>25%</th>\n",
       "      <td>2.122530</td>\n",
       "      <td>1.592806</td>\n",
       "      <td>569.000000</td>\n",
       "      <td>4.000000</td>\n",
       "    </tr>\n",
       "    <tr>\n",
       "      <th>50%</th>\n",
       "      <td>2.982119</td>\n",
       "      <td>2.219266</td>\n",
       "      <td>766.000000</td>\n",
       "      <td>4.000000</td>\n",
       "    </tr>\n",
       "    <tr>\n",
       "      <th>75%</th>\n",
       "      <td>3.867637</td>\n",
       "      <td>2.875611</td>\n",
       "      <td>977.000000</td>\n",
       "      <td>6.000000</td>\n",
       "    </tr>\n",
       "    <tr>\n",
       "      <th>max</th>\n",
       "      <td>7.893591</td>\n",
       "      <td>5.921184</td>\n",
       "      <td>1960.000000</td>\n",
       "      <td>10.000000</td>\n",
       "    </tr>\n",
       "  </tbody>\n",
       "</table>\n",
       "</div>"
      ],
      "text/plain": [
       "        real_power  reactive_power  heating_duration_sek  launches_number\n",
       "count  3185.000000     3185.000000           3185.000000      3185.000000\n",
       "mean      3.058802        2.278620            783.510832         4.578964\n",
       "std       1.295738        0.955057            306.779217         1.503387\n",
       "min       0.186226        0.158247             57.000000         1.000000\n",
       "25%       2.122530        1.592806            569.000000         4.000000\n",
       "50%       2.982119        2.219266            766.000000         4.000000\n",
       "75%       3.867637        2.875611            977.000000         6.000000\n",
       "max       7.893591        5.921184           1960.000000        10.000000"
      ]
     },
     "metadata": {},
     "output_type": "display_data"
    }
   ],
   "source": [
    "display(data_arc_grouped.describe())"
   ]
  },
  {
   "cell_type": "markdown",
   "id": "7364b00a",
   "metadata": {},
   "source": [
    "### data_bulk"
   ]
  },
  {
   "cell_type": "code",
   "execution_count": 17,
   "id": "bf75f6a1",
   "metadata": {},
   "outputs": [
    {
     "data": {
      "text/html": [
       "<div>\n",
       "<style scoped>\n",
       "    .dataframe tbody tr th:only-of-type {\n",
       "        vertical-align: middle;\n",
       "    }\n",
       "\n",
       "    .dataframe tbody tr th {\n",
       "        vertical-align: top;\n",
       "    }\n",
       "\n",
       "    .dataframe thead th {\n",
       "        text-align: right;\n",
       "    }\n",
       "</style>\n",
       "<table border=\"1\" class=\"dataframe\">\n",
       "  <thead>\n",
       "    <tr style=\"text-align: right;\">\n",
       "      <th></th>\n",
       "      <th>key</th>\n",
       "      <th>Bulk 1</th>\n",
       "      <th>Bulk 2</th>\n",
       "      <th>Bulk 3</th>\n",
       "      <th>Bulk 4</th>\n",
       "      <th>Bulk 5</th>\n",
       "      <th>Bulk 6</th>\n",
       "      <th>Bulk 7</th>\n",
       "      <th>Bulk 8</th>\n",
       "      <th>Bulk 9</th>\n",
       "      <th>Bulk 10</th>\n",
       "      <th>Bulk 11</th>\n",
       "      <th>Bulk 12</th>\n",
       "      <th>Bulk 13</th>\n",
       "      <th>Bulk 14</th>\n",
       "      <th>Bulk 15</th>\n",
       "    </tr>\n",
       "  </thead>\n",
       "  <tbody>\n",
       "    <tr>\n",
       "      <th>0</th>\n",
       "      <td>1</td>\n",
       "      <td>NaN</td>\n",
       "      <td>NaN</td>\n",
       "      <td>NaN</td>\n",
       "      <td>43.0</td>\n",
       "      <td>NaN</td>\n",
       "      <td>NaN</td>\n",
       "      <td>NaN</td>\n",
       "      <td>NaN</td>\n",
       "      <td>NaN</td>\n",
       "      <td>NaN</td>\n",
       "      <td>NaN</td>\n",
       "      <td>206.0</td>\n",
       "      <td>NaN</td>\n",
       "      <td>150.0</td>\n",
       "      <td>154.0</td>\n",
       "    </tr>\n",
       "    <tr>\n",
       "      <th>1</th>\n",
       "      <td>2</td>\n",
       "      <td>NaN</td>\n",
       "      <td>NaN</td>\n",
       "      <td>NaN</td>\n",
       "      <td>73.0</td>\n",
       "      <td>NaN</td>\n",
       "      <td>NaN</td>\n",
       "      <td>NaN</td>\n",
       "      <td>NaN</td>\n",
       "      <td>NaN</td>\n",
       "      <td>NaN</td>\n",
       "      <td>NaN</td>\n",
       "      <td>206.0</td>\n",
       "      <td>NaN</td>\n",
       "      <td>149.0</td>\n",
       "      <td>154.0</td>\n",
       "    </tr>\n",
       "    <tr>\n",
       "      <th>2</th>\n",
       "      <td>3</td>\n",
       "      <td>NaN</td>\n",
       "      <td>NaN</td>\n",
       "      <td>NaN</td>\n",
       "      <td>34.0</td>\n",
       "      <td>NaN</td>\n",
       "      <td>NaN</td>\n",
       "      <td>NaN</td>\n",
       "      <td>NaN</td>\n",
       "      <td>NaN</td>\n",
       "      <td>NaN</td>\n",
       "      <td>NaN</td>\n",
       "      <td>205.0</td>\n",
       "      <td>NaN</td>\n",
       "      <td>152.0</td>\n",
       "      <td>153.0</td>\n",
       "    </tr>\n",
       "    <tr>\n",
       "      <th>3</th>\n",
       "      <td>4</td>\n",
       "      <td>NaN</td>\n",
       "      <td>NaN</td>\n",
       "      <td>NaN</td>\n",
       "      <td>81.0</td>\n",
       "      <td>NaN</td>\n",
       "      <td>NaN</td>\n",
       "      <td>NaN</td>\n",
       "      <td>NaN</td>\n",
       "      <td>NaN</td>\n",
       "      <td>NaN</td>\n",
       "      <td>NaN</td>\n",
       "      <td>207.0</td>\n",
       "      <td>NaN</td>\n",
       "      <td>153.0</td>\n",
       "      <td>154.0</td>\n",
       "    </tr>\n",
       "    <tr>\n",
       "      <th>4</th>\n",
       "      <td>5</td>\n",
       "      <td>NaN</td>\n",
       "      <td>NaN</td>\n",
       "      <td>NaN</td>\n",
       "      <td>78.0</td>\n",
       "      <td>NaN</td>\n",
       "      <td>NaN</td>\n",
       "      <td>NaN</td>\n",
       "      <td>NaN</td>\n",
       "      <td>NaN</td>\n",
       "      <td>NaN</td>\n",
       "      <td>NaN</td>\n",
       "      <td>203.0</td>\n",
       "      <td>NaN</td>\n",
       "      <td>151.0</td>\n",
       "      <td>152.0</td>\n",
       "    </tr>\n",
       "    <tr>\n",
       "      <th>5</th>\n",
       "      <td>6</td>\n",
       "      <td>NaN</td>\n",
       "      <td>NaN</td>\n",
       "      <td>NaN</td>\n",
       "      <td>117.0</td>\n",
       "      <td>NaN</td>\n",
       "      <td>NaN</td>\n",
       "      <td>NaN</td>\n",
       "      <td>NaN</td>\n",
       "      <td>NaN</td>\n",
       "      <td>NaN</td>\n",
       "      <td>NaN</td>\n",
       "      <td>204.0</td>\n",
       "      <td>NaN</td>\n",
       "      <td>201.0</td>\n",
       "      <td>154.0</td>\n",
       "    </tr>\n",
       "    <tr>\n",
       "      <th>6</th>\n",
       "      <td>7</td>\n",
       "      <td>NaN</td>\n",
       "      <td>NaN</td>\n",
       "      <td>NaN</td>\n",
       "      <td>117.0</td>\n",
       "      <td>NaN</td>\n",
       "      <td>NaN</td>\n",
       "      <td>NaN</td>\n",
       "      <td>NaN</td>\n",
       "      <td>NaN</td>\n",
       "      <td>NaN</td>\n",
       "      <td>NaN</td>\n",
       "      <td>204.0</td>\n",
       "      <td>NaN</td>\n",
       "      <td>152.0</td>\n",
       "      <td>154.0</td>\n",
       "    </tr>\n",
       "    <tr>\n",
       "      <th>7</th>\n",
       "      <td>8</td>\n",
       "      <td>NaN</td>\n",
       "      <td>NaN</td>\n",
       "      <td>NaN</td>\n",
       "      <td>99.0</td>\n",
       "      <td>NaN</td>\n",
       "      <td>NaN</td>\n",
       "      <td>NaN</td>\n",
       "      <td>NaN</td>\n",
       "      <td>NaN</td>\n",
       "      <td>NaN</td>\n",
       "      <td>NaN</td>\n",
       "      <td>410.0</td>\n",
       "      <td>NaN</td>\n",
       "      <td>252.0</td>\n",
       "      <td>153.0</td>\n",
       "    </tr>\n",
       "    <tr>\n",
       "      <th>8</th>\n",
       "      <td>9</td>\n",
       "      <td>NaN</td>\n",
       "      <td>NaN</td>\n",
       "      <td>NaN</td>\n",
       "      <td>117.0</td>\n",
       "      <td>NaN</td>\n",
       "      <td>NaN</td>\n",
       "      <td>NaN</td>\n",
       "      <td>NaN</td>\n",
       "      <td>NaN</td>\n",
       "      <td>NaN</td>\n",
       "      <td>NaN</td>\n",
       "      <td>107.0</td>\n",
       "      <td>NaN</td>\n",
       "      <td>99.0</td>\n",
       "      <td>203.0</td>\n",
       "    </tr>\n",
       "    <tr>\n",
       "      <th>9</th>\n",
       "      <td>10</td>\n",
       "      <td>NaN</td>\n",
       "      <td>NaN</td>\n",
       "      <td>NaN</td>\n",
       "      <td>NaN</td>\n",
       "      <td>NaN</td>\n",
       "      <td>NaN</td>\n",
       "      <td>NaN</td>\n",
       "      <td>NaN</td>\n",
       "      <td>NaN</td>\n",
       "      <td>NaN</td>\n",
       "      <td>NaN</td>\n",
       "      <td>203.0</td>\n",
       "      <td>NaN</td>\n",
       "      <td>102.0</td>\n",
       "      <td>204.0</td>\n",
       "    </tr>\n",
       "  </tbody>\n",
       "</table>\n",
       "</div>"
      ],
      "text/plain": [
       "   key  Bulk 1  Bulk 2  Bulk 3  Bulk 4  Bulk 5  Bulk 6  Bulk 7  Bulk 8  \\\n",
       "0    1     NaN     NaN     NaN    43.0     NaN     NaN     NaN     NaN   \n",
       "1    2     NaN     NaN     NaN    73.0     NaN     NaN     NaN     NaN   \n",
       "2    3     NaN     NaN     NaN    34.0     NaN     NaN     NaN     NaN   \n",
       "3    4     NaN     NaN     NaN    81.0     NaN     NaN     NaN     NaN   \n",
       "4    5     NaN     NaN     NaN    78.0     NaN     NaN     NaN     NaN   \n",
       "5    6     NaN     NaN     NaN   117.0     NaN     NaN     NaN     NaN   \n",
       "6    7     NaN     NaN     NaN   117.0     NaN     NaN     NaN     NaN   \n",
       "7    8     NaN     NaN     NaN    99.0     NaN     NaN     NaN     NaN   \n",
       "8    9     NaN     NaN     NaN   117.0     NaN     NaN     NaN     NaN   \n",
       "9   10     NaN     NaN     NaN     NaN     NaN     NaN     NaN     NaN   \n",
       "\n",
       "   Bulk 9  Bulk 10  Bulk 11  Bulk 12  Bulk 13  Bulk 14  Bulk 15  \n",
       "0     NaN      NaN      NaN    206.0      NaN    150.0    154.0  \n",
       "1     NaN      NaN      NaN    206.0      NaN    149.0    154.0  \n",
       "2     NaN      NaN      NaN    205.0      NaN    152.0    153.0  \n",
       "3     NaN      NaN      NaN    207.0      NaN    153.0    154.0  \n",
       "4     NaN      NaN      NaN    203.0      NaN    151.0    152.0  \n",
       "5     NaN      NaN      NaN    204.0      NaN    201.0    154.0  \n",
       "6     NaN      NaN      NaN    204.0      NaN    152.0    154.0  \n",
       "7     NaN      NaN      NaN    410.0      NaN    252.0    153.0  \n",
       "8     NaN      NaN      NaN    107.0      NaN     99.0    203.0  \n",
       "9     NaN      NaN      NaN    203.0      NaN    102.0    204.0  "
      ]
     },
     "metadata": {},
     "output_type": "display_data"
    },
    {
     "name": "stdout",
     "output_type": "stream",
     "text": [
      "<class 'pandas.core.frame.DataFrame'>\n",
      "RangeIndex: 3129 entries, 0 to 3128\n",
      "Data columns (total 16 columns):\n",
      " #   Column   Non-Null Count  Dtype  \n",
      "---  ------   --------------  -----  \n",
      " 0   key      3129 non-null   int64  \n",
      " 1   Bulk 1   252 non-null    float64\n",
      " 2   Bulk 2   22 non-null     float64\n",
      " 3   Bulk 3   1298 non-null   float64\n",
      " 4   Bulk 4   1014 non-null   float64\n",
      " 5   Bulk 5   77 non-null     float64\n",
      " 6   Bulk 6   576 non-null    float64\n",
      " 7   Bulk 7   25 non-null     float64\n",
      " 8   Bulk 8   1 non-null      float64\n",
      " 9   Bulk 9   19 non-null     float64\n",
      " 10  Bulk 10  176 non-null    float64\n",
      " 11  Bulk 11  177 non-null    float64\n",
      " 12  Bulk 12  2450 non-null   float64\n",
      " 13  Bulk 13  18 non-null     float64\n",
      " 14  Bulk 14  2806 non-null   float64\n",
      " 15  Bulk 15  2248 non-null   float64\n",
      "dtypes: float64(15), int64(1)\n",
      "memory usage: 391.2 KB\n",
      "None\n"
     ]
    },
    {
     "data": {
      "text/html": [
       "<div>\n",
       "<style scoped>\n",
       "    .dataframe tbody tr th:only-of-type {\n",
       "        vertical-align: middle;\n",
       "    }\n",
       "\n",
       "    .dataframe tbody tr th {\n",
       "        vertical-align: top;\n",
       "    }\n",
       "\n",
       "    .dataframe thead th {\n",
       "        text-align: right;\n",
       "    }\n",
       "</style>\n",
       "<table border=\"1\" class=\"dataframe\">\n",
       "  <thead>\n",
       "    <tr style=\"text-align: right;\">\n",
       "      <th></th>\n",
       "      <th>key</th>\n",
       "      <th>Bulk 1</th>\n",
       "      <th>Bulk 2</th>\n",
       "      <th>Bulk 3</th>\n",
       "      <th>Bulk 4</th>\n",
       "      <th>Bulk 5</th>\n",
       "      <th>Bulk 6</th>\n",
       "      <th>Bulk 7</th>\n",
       "      <th>Bulk 8</th>\n",
       "      <th>Bulk 9</th>\n",
       "      <th>Bulk 10</th>\n",
       "      <th>Bulk 11</th>\n",
       "      <th>Bulk 12</th>\n",
       "      <th>Bulk 13</th>\n",
       "      <th>Bulk 14</th>\n",
       "      <th>Bulk 15</th>\n",
       "    </tr>\n",
       "  </thead>\n",
       "  <tbody>\n",
       "    <tr>\n",
       "      <th>count</th>\n",
       "      <td>3129.000000</td>\n",
       "      <td>252.000000</td>\n",
       "      <td>22.000000</td>\n",
       "      <td>1298.000000</td>\n",
       "      <td>1014.000000</td>\n",
       "      <td>77.000000</td>\n",
       "      <td>576.000000</td>\n",
       "      <td>25.000000</td>\n",
       "      <td>1.0</td>\n",
       "      <td>19.000000</td>\n",
       "      <td>176.000000</td>\n",
       "      <td>177.000000</td>\n",
       "      <td>2450.000000</td>\n",
       "      <td>18.000000</td>\n",
       "      <td>2806.000000</td>\n",
       "      <td>2248.000000</td>\n",
       "    </tr>\n",
       "    <tr>\n",
       "      <th>mean</th>\n",
       "      <td>1624.383509</td>\n",
       "      <td>39.242063</td>\n",
       "      <td>253.045455</td>\n",
       "      <td>113.879045</td>\n",
       "      <td>104.394477</td>\n",
       "      <td>107.025974</td>\n",
       "      <td>118.925347</td>\n",
       "      <td>305.600000</td>\n",
       "      <td>49.0</td>\n",
       "      <td>76.315789</td>\n",
       "      <td>83.284091</td>\n",
       "      <td>76.819209</td>\n",
       "      <td>260.471020</td>\n",
       "      <td>181.111111</td>\n",
       "      <td>170.284747</td>\n",
       "      <td>160.513345</td>\n",
       "    </tr>\n",
       "    <tr>\n",
       "      <th>std</th>\n",
       "      <td>933.337642</td>\n",
       "      <td>18.277654</td>\n",
       "      <td>21.180578</td>\n",
       "      <td>75.483494</td>\n",
       "      <td>48.184126</td>\n",
       "      <td>81.790646</td>\n",
       "      <td>72.057776</td>\n",
       "      <td>191.022904</td>\n",
       "      <td>NaN</td>\n",
       "      <td>21.720581</td>\n",
       "      <td>26.060347</td>\n",
       "      <td>59.655365</td>\n",
       "      <td>120.649269</td>\n",
       "      <td>46.088009</td>\n",
       "      <td>65.868652</td>\n",
       "      <td>51.765319</td>\n",
       "    </tr>\n",
       "    <tr>\n",
       "      <th>min</th>\n",
       "      <td>1.000000</td>\n",
       "      <td>10.000000</td>\n",
       "      <td>228.000000</td>\n",
       "      <td>6.000000</td>\n",
       "      <td>12.000000</td>\n",
       "      <td>11.000000</td>\n",
       "      <td>17.000000</td>\n",
       "      <td>47.000000</td>\n",
       "      <td>49.0</td>\n",
       "      <td>63.000000</td>\n",
       "      <td>24.000000</td>\n",
       "      <td>8.000000</td>\n",
       "      <td>53.000000</td>\n",
       "      <td>151.000000</td>\n",
       "      <td>16.000000</td>\n",
       "      <td>1.000000</td>\n",
       "    </tr>\n",
       "    <tr>\n",
       "      <th>25%</th>\n",
       "      <td>816.000000</td>\n",
       "      <td>27.000000</td>\n",
       "      <td>242.000000</td>\n",
       "      <td>58.000000</td>\n",
       "      <td>72.000000</td>\n",
       "      <td>70.000000</td>\n",
       "      <td>69.750000</td>\n",
       "      <td>155.000000</td>\n",
       "      <td>49.0</td>\n",
       "      <td>66.000000</td>\n",
       "      <td>64.000000</td>\n",
       "      <td>25.000000</td>\n",
       "      <td>204.000000</td>\n",
       "      <td>153.250000</td>\n",
       "      <td>119.000000</td>\n",
       "      <td>105.000000</td>\n",
       "    </tr>\n",
       "    <tr>\n",
       "      <th>50%</th>\n",
       "      <td>1622.000000</td>\n",
       "      <td>31.000000</td>\n",
       "      <td>251.500000</td>\n",
       "      <td>97.500000</td>\n",
       "      <td>102.000000</td>\n",
       "      <td>86.000000</td>\n",
       "      <td>100.000000</td>\n",
       "      <td>298.000000</td>\n",
       "      <td>49.0</td>\n",
       "      <td>68.000000</td>\n",
       "      <td>86.500000</td>\n",
       "      <td>64.000000</td>\n",
       "      <td>208.000000</td>\n",
       "      <td>155.500000</td>\n",
       "      <td>151.000000</td>\n",
       "      <td>160.000000</td>\n",
       "    </tr>\n",
       "    <tr>\n",
       "      <th>75%</th>\n",
       "      <td>2431.000000</td>\n",
       "      <td>46.000000</td>\n",
       "      <td>257.750000</td>\n",
       "      <td>152.000000</td>\n",
       "      <td>133.000000</td>\n",
       "      <td>132.000000</td>\n",
       "      <td>157.000000</td>\n",
       "      <td>406.000000</td>\n",
       "      <td>49.0</td>\n",
       "      <td>70.500000</td>\n",
       "      <td>102.000000</td>\n",
       "      <td>106.000000</td>\n",
       "      <td>316.000000</td>\n",
       "      <td>203.500000</td>\n",
       "      <td>205.750000</td>\n",
       "      <td>205.000000</td>\n",
       "    </tr>\n",
       "    <tr>\n",
       "      <th>max</th>\n",
       "      <td>3241.000000</td>\n",
       "      <td>185.000000</td>\n",
       "      <td>325.000000</td>\n",
       "      <td>454.000000</td>\n",
       "      <td>281.000000</td>\n",
       "      <td>603.000000</td>\n",
       "      <td>503.000000</td>\n",
       "      <td>772.000000</td>\n",
       "      <td>49.0</td>\n",
       "      <td>147.000000</td>\n",
       "      <td>159.000000</td>\n",
       "      <td>313.000000</td>\n",
       "      <td>1849.000000</td>\n",
       "      <td>305.000000</td>\n",
       "      <td>636.000000</td>\n",
       "      <td>405.000000</td>\n",
       "    </tr>\n",
       "  </tbody>\n",
       "</table>\n",
       "</div>"
      ],
      "text/plain": [
       "               key      Bulk 1      Bulk 2       Bulk 3       Bulk 4  \\\n",
       "count  3129.000000  252.000000   22.000000  1298.000000  1014.000000   \n",
       "mean   1624.383509   39.242063  253.045455   113.879045   104.394477   \n",
       "std     933.337642   18.277654   21.180578    75.483494    48.184126   \n",
       "min       1.000000   10.000000  228.000000     6.000000    12.000000   \n",
       "25%     816.000000   27.000000  242.000000    58.000000    72.000000   \n",
       "50%    1622.000000   31.000000  251.500000    97.500000   102.000000   \n",
       "75%    2431.000000   46.000000  257.750000   152.000000   133.000000   \n",
       "max    3241.000000  185.000000  325.000000   454.000000   281.000000   \n",
       "\n",
       "           Bulk 5      Bulk 6      Bulk 7  Bulk 8      Bulk 9     Bulk 10  \\\n",
       "count   77.000000  576.000000   25.000000     1.0   19.000000  176.000000   \n",
       "mean   107.025974  118.925347  305.600000    49.0   76.315789   83.284091   \n",
       "std     81.790646   72.057776  191.022904     NaN   21.720581   26.060347   \n",
       "min     11.000000   17.000000   47.000000    49.0   63.000000   24.000000   \n",
       "25%     70.000000   69.750000  155.000000    49.0   66.000000   64.000000   \n",
       "50%     86.000000  100.000000  298.000000    49.0   68.000000   86.500000   \n",
       "75%    132.000000  157.000000  406.000000    49.0   70.500000  102.000000   \n",
       "max    603.000000  503.000000  772.000000    49.0  147.000000  159.000000   \n",
       "\n",
       "          Bulk 11      Bulk 12     Bulk 13      Bulk 14      Bulk 15  \n",
       "count  177.000000  2450.000000   18.000000  2806.000000  2248.000000  \n",
       "mean    76.819209   260.471020  181.111111   170.284747   160.513345  \n",
       "std     59.655365   120.649269   46.088009    65.868652    51.765319  \n",
       "min      8.000000    53.000000  151.000000    16.000000     1.000000  \n",
       "25%     25.000000   204.000000  153.250000   119.000000   105.000000  \n",
       "50%     64.000000   208.000000  155.500000   151.000000   160.000000  \n",
       "75%    106.000000   316.000000  203.500000   205.750000   205.000000  \n",
       "max    313.000000  1849.000000  305.000000   636.000000   405.000000  "
      ]
     },
     "metadata": {},
     "output_type": "display_data"
    }
   ],
   "source": [
    "display(data_bulk.head(10))\n",
    "print(data_bulk.info())\n",
    "display(data_bulk.describe())"
   ]
  },
  {
   "cell_type": "code",
   "execution_count": 18,
   "id": "e88a8635",
   "metadata": {},
   "outputs": [
    {
     "name": "stdout",
     "output_type": "stream",
     "text": [
      "0\n"
     ]
    }
   ],
   "source": [
    "print(data_bulk.duplicated().sum())"
   ]
  },
  {
   "cell_type": "markdown",
   "id": "5a4a5a0e",
   "metadata": {},
   "source": [
    "Датасет содержит 3129 строк и 16 столбцов:\n",
    "- key - номер партии\n",
    "- Bulk - номер легирующей добавки\n",
    "  \n",
    "Дубликаты в данных отсутствуют.\n",
    "\n",
    "Пропуски в данных означают, что данная добавка не вводилась в расплав, тоесть их можно заменить нулями.\n",
    "\n",
    "5 видов добавок использовали меньше чем в 25 партиях, а всего партий больше 3000.\n",
    "\n",
    "В данных есть выбросы, например очень болшой максимум в столбце Bulk 12"
   ]
  },
  {
   "cell_type": "code",
   "execution_count": 19,
   "id": "e1ead5e6",
   "metadata": {},
   "outputs": [
    {
     "name": "stdout",
     "output_type": "stream",
     "text": [
      "3129\n"
     ]
    }
   ],
   "source": [
    "print(data_bulk['key'].value_counts().count())"
   ]
  },
  {
   "cell_type": "markdown",
   "id": "a3d9c902",
   "metadata": {},
   "source": [
    "Номера партий в таблице не повторяются"
   ]
  },
  {
   "cell_type": "markdown",
   "id": "6d35483c",
   "metadata": {},
   "source": [
    "Переименуем столбцы"
   ]
  },
  {
   "cell_type": "code",
   "execution_count": 20,
   "id": "9b446228",
   "metadata": {},
   "outputs": [],
   "source": [
    "data_bulk.columns = ['key', 'bulk_1', 'bulk_2', 'bulk_3', 'bulk_4', 'bulk_5', 'bulk_6', 'bulk_7', 'bulk_8', 'bulk_9',\n",
    "                    'bulk_10', 'bulk_11', 'bulk_12', 'bulk_13', 'bulk_14', 'bulk_15']"
   ]
  },
  {
   "cell_type": "markdown",
   "id": "e49883ed",
   "metadata": {},
   "source": [
    "### data_bulk_time"
   ]
  },
  {
   "cell_type": "code",
   "execution_count": 21,
   "id": "be16c9df",
   "metadata": {},
   "outputs": [
    {
     "data": {
      "text/html": [
       "<div>\n",
       "<style scoped>\n",
       "    .dataframe tbody tr th:only-of-type {\n",
       "        vertical-align: middle;\n",
       "    }\n",
       "\n",
       "    .dataframe tbody tr th {\n",
       "        vertical-align: top;\n",
       "    }\n",
       "\n",
       "    .dataframe thead th {\n",
       "        text-align: right;\n",
       "    }\n",
       "</style>\n",
       "<table border=\"1\" class=\"dataframe\">\n",
       "  <thead>\n",
       "    <tr style=\"text-align: right;\">\n",
       "      <th></th>\n",
       "      <th>key</th>\n",
       "      <th>Bulk 1</th>\n",
       "      <th>Bulk 2</th>\n",
       "      <th>Bulk 3</th>\n",
       "      <th>Bulk 4</th>\n",
       "      <th>Bulk 5</th>\n",
       "      <th>Bulk 6</th>\n",
       "      <th>Bulk 7</th>\n",
       "      <th>Bulk 8</th>\n",
       "      <th>Bulk 9</th>\n",
       "      <th>Bulk 10</th>\n",
       "      <th>Bulk 11</th>\n",
       "      <th>Bulk 12</th>\n",
       "      <th>Bulk 13</th>\n",
       "      <th>Bulk 14</th>\n",
       "      <th>Bulk 15</th>\n",
       "    </tr>\n",
       "  </thead>\n",
       "  <tbody>\n",
       "    <tr>\n",
       "      <th>0</th>\n",
       "      <td>1</td>\n",
       "      <td>NaN</td>\n",
       "      <td>NaN</td>\n",
       "      <td>NaN</td>\n",
       "      <td>2019-05-03 11:21:30</td>\n",
       "      <td>NaN</td>\n",
       "      <td>NaN</td>\n",
       "      <td>NaN</td>\n",
       "      <td>NaN</td>\n",
       "      <td>NaN</td>\n",
       "      <td>NaN</td>\n",
       "      <td>NaN</td>\n",
       "      <td>2019-05-03 11:03:52</td>\n",
       "      <td>NaN</td>\n",
       "      <td>2019-05-03 11:03:52</td>\n",
       "      <td>2019-05-03 11:03:52</td>\n",
       "    </tr>\n",
       "    <tr>\n",
       "      <th>1</th>\n",
       "      <td>2</td>\n",
       "      <td>NaN</td>\n",
       "      <td>NaN</td>\n",
       "      <td>NaN</td>\n",
       "      <td>2019-05-03 11:46:38</td>\n",
       "      <td>NaN</td>\n",
       "      <td>NaN</td>\n",
       "      <td>NaN</td>\n",
       "      <td>NaN</td>\n",
       "      <td>NaN</td>\n",
       "      <td>NaN</td>\n",
       "      <td>NaN</td>\n",
       "      <td>2019-05-03 11:40:20</td>\n",
       "      <td>NaN</td>\n",
       "      <td>2019-05-03 11:40:20</td>\n",
       "      <td>2019-05-03 11:40:20</td>\n",
       "    </tr>\n",
       "    <tr>\n",
       "      <th>2</th>\n",
       "      <td>3</td>\n",
       "      <td>NaN</td>\n",
       "      <td>NaN</td>\n",
       "      <td>NaN</td>\n",
       "      <td>2019-05-03 12:31:06</td>\n",
       "      <td>NaN</td>\n",
       "      <td>NaN</td>\n",
       "      <td>NaN</td>\n",
       "      <td>NaN</td>\n",
       "      <td>NaN</td>\n",
       "      <td>NaN</td>\n",
       "      <td>NaN</td>\n",
       "      <td>2019-05-03 12:09:40</td>\n",
       "      <td>NaN</td>\n",
       "      <td>2019-05-03 12:09:40</td>\n",
       "      <td>2019-05-03 12:09:40</td>\n",
       "    </tr>\n",
       "    <tr>\n",
       "      <th>3</th>\n",
       "      <td>4</td>\n",
       "      <td>NaN</td>\n",
       "      <td>NaN</td>\n",
       "      <td>NaN</td>\n",
       "      <td>2019-05-03 12:48:43</td>\n",
       "      <td>NaN</td>\n",
       "      <td>NaN</td>\n",
       "      <td>NaN</td>\n",
       "      <td>NaN</td>\n",
       "      <td>NaN</td>\n",
       "      <td>NaN</td>\n",
       "      <td>NaN</td>\n",
       "      <td>2019-05-03 12:41:24</td>\n",
       "      <td>NaN</td>\n",
       "      <td>2019-05-03 12:41:24</td>\n",
       "      <td>2019-05-03 12:41:24</td>\n",
       "    </tr>\n",
       "    <tr>\n",
       "      <th>4</th>\n",
       "      <td>5</td>\n",
       "      <td>NaN</td>\n",
       "      <td>NaN</td>\n",
       "      <td>NaN</td>\n",
       "      <td>2019-05-03 13:18:50</td>\n",
       "      <td>NaN</td>\n",
       "      <td>NaN</td>\n",
       "      <td>NaN</td>\n",
       "      <td>NaN</td>\n",
       "      <td>NaN</td>\n",
       "      <td>NaN</td>\n",
       "      <td>NaN</td>\n",
       "      <td>2019-05-03 13:12:56</td>\n",
       "      <td>NaN</td>\n",
       "      <td>2019-05-03 13:12:56</td>\n",
       "      <td>2019-05-03 13:12:56</td>\n",
       "    </tr>\n",
       "    <tr>\n",
       "      <th>5</th>\n",
       "      <td>6</td>\n",
       "      <td>NaN</td>\n",
       "      <td>NaN</td>\n",
       "      <td>NaN</td>\n",
       "      <td>2019-05-03 13:59:24</td>\n",
       "      <td>NaN</td>\n",
       "      <td>NaN</td>\n",
       "      <td>NaN</td>\n",
       "      <td>NaN</td>\n",
       "      <td>NaN</td>\n",
       "      <td>NaN</td>\n",
       "      <td>NaN</td>\n",
       "      <td>2019-05-03 13:53:27</td>\n",
       "      <td>NaN</td>\n",
       "      <td>2019-05-03 13:53:27</td>\n",
       "      <td>2019-05-03 13:53:27</td>\n",
       "    </tr>\n",
       "    <tr>\n",
       "      <th>6</th>\n",
       "      <td>7</td>\n",
       "      <td>NaN</td>\n",
       "      <td>NaN</td>\n",
       "      <td>NaN</td>\n",
       "      <td>2019-05-03 14:29:14</td>\n",
       "      <td>NaN</td>\n",
       "      <td>NaN</td>\n",
       "      <td>NaN</td>\n",
       "      <td>NaN</td>\n",
       "      <td>NaN</td>\n",
       "      <td>NaN</td>\n",
       "      <td>NaN</td>\n",
       "      <td>2019-05-03 14:22:19</td>\n",
       "      <td>NaN</td>\n",
       "      <td>2019-05-03 14:22:19</td>\n",
       "      <td>2019-05-03 14:22:19</td>\n",
       "    </tr>\n",
       "    <tr>\n",
       "      <th>7</th>\n",
       "      <td>8</td>\n",
       "      <td>NaN</td>\n",
       "      <td>NaN</td>\n",
       "      <td>NaN</td>\n",
       "      <td>2019-05-03 15:04:05</td>\n",
       "      <td>NaN</td>\n",
       "      <td>NaN</td>\n",
       "      <td>NaN</td>\n",
       "      <td>NaN</td>\n",
       "      <td>NaN</td>\n",
       "      <td>NaN</td>\n",
       "      <td>NaN</td>\n",
       "      <td>2019-05-03 14:55:46</td>\n",
       "      <td>NaN</td>\n",
       "      <td>2019-05-03 14:55:46</td>\n",
       "      <td>2019-05-03 14:55:46</td>\n",
       "    </tr>\n",
       "    <tr>\n",
       "      <th>8</th>\n",
       "      <td>9</td>\n",
       "      <td>NaN</td>\n",
       "      <td>NaN</td>\n",
       "      <td>NaN</td>\n",
       "      <td>2019-05-03 15:47:34</td>\n",
       "      <td>NaN</td>\n",
       "      <td>NaN</td>\n",
       "      <td>NaN</td>\n",
       "      <td>NaN</td>\n",
       "      <td>NaN</td>\n",
       "      <td>NaN</td>\n",
       "      <td>NaN</td>\n",
       "      <td>2019-05-03 15:41:00</td>\n",
       "      <td>NaN</td>\n",
       "      <td>2019-05-03 15:41:00</td>\n",
       "      <td>2019-05-03 15:41:00</td>\n",
       "    </tr>\n",
       "    <tr>\n",
       "      <th>9</th>\n",
       "      <td>10</td>\n",
       "      <td>NaN</td>\n",
       "      <td>NaN</td>\n",
       "      <td>NaN</td>\n",
       "      <td>NaN</td>\n",
       "      <td>NaN</td>\n",
       "      <td>NaN</td>\n",
       "      <td>NaN</td>\n",
       "      <td>NaN</td>\n",
       "      <td>NaN</td>\n",
       "      <td>NaN</td>\n",
       "      <td>NaN</td>\n",
       "      <td>2019-05-03 16:18:52</td>\n",
       "      <td>NaN</td>\n",
       "      <td>2019-05-03 16:18:52</td>\n",
       "      <td>2019-05-03 16:18:52</td>\n",
       "    </tr>\n",
       "  </tbody>\n",
       "</table>\n",
       "</div>"
      ],
      "text/plain": [
       "   key Bulk 1 Bulk 2 Bulk 3               Bulk 4 Bulk 5 Bulk 6 Bulk 7 Bulk 8  \\\n",
       "0    1    NaN    NaN    NaN  2019-05-03 11:21:30    NaN    NaN    NaN    NaN   \n",
       "1    2    NaN    NaN    NaN  2019-05-03 11:46:38    NaN    NaN    NaN    NaN   \n",
       "2    3    NaN    NaN    NaN  2019-05-03 12:31:06    NaN    NaN    NaN    NaN   \n",
       "3    4    NaN    NaN    NaN  2019-05-03 12:48:43    NaN    NaN    NaN    NaN   \n",
       "4    5    NaN    NaN    NaN  2019-05-03 13:18:50    NaN    NaN    NaN    NaN   \n",
       "5    6    NaN    NaN    NaN  2019-05-03 13:59:24    NaN    NaN    NaN    NaN   \n",
       "6    7    NaN    NaN    NaN  2019-05-03 14:29:14    NaN    NaN    NaN    NaN   \n",
       "7    8    NaN    NaN    NaN  2019-05-03 15:04:05    NaN    NaN    NaN    NaN   \n",
       "8    9    NaN    NaN    NaN  2019-05-03 15:47:34    NaN    NaN    NaN    NaN   \n",
       "9   10    NaN    NaN    NaN                  NaN    NaN    NaN    NaN    NaN   \n",
       "\n",
       "  Bulk 9 Bulk 10 Bulk 11              Bulk 12 Bulk 13              Bulk 14  \\\n",
       "0    NaN     NaN     NaN  2019-05-03 11:03:52     NaN  2019-05-03 11:03:52   \n",
       "1    NaN     NaN     NaN  2019-05-03 11:40:20     NaN  2019-05-03 11:40:20   \n",
       "2    NaN     NaN     NaN  2019-05-03 12:09:40     NaN  2019-05-03 12:09:40   \n",
       "3    NaN     NaN     NaN  2019-05-03 12:41:24     NaN  2019-05-03 12:41:24   \n",
       "4    NaN     NaN     NaN  2019-05-03 13:12:56     NaN  2019-05-03 13:12:56   \n",
       "5    NaN     NaN     NaN  2019-05-03 13:53:27     NaN  2019-05-03 13:53:27   \n",
       "6    NaN     NaN     NaN  2019-05-03 14:22:19     NaN  2019-05-03 14:22:19   \n",
       "7    NaN     NaN     NaN  2019-05-03 14:55:46     NaN  2019-05-03 14:55:46   \n",
       "8    NaN     NaN     NaN  2019-05-03 15:41:00     NaN  2019-05-03 15:41:00   \n",
       "9    NaN     NaN     NaN  2019-05-03 16:18:52     NaN  2019-05-03 16:18:52   \n",
       "\n",
       "               Bulk 15  \n",
       "0  2019-05-03 11:03:52  \n",
       "1  2019-05-03 11:40:20  \n",
       "2  2019-05-03 12:09:40  \n",
       "3  2019-05-03 12:41:24  \n",
       "4  2019-05-03 13:12:56  \n",
       "5  2019-05-03 13:53:27  \n",
       "6  2019-05-03 14:22:19  \n",
       "7  2019-05-03 14:55:46  \n",
       "8  2019-05-03 15:41:00  \n",
       "9  2019-05-03 16:18:52  "
      ]
     },
     "metadata": {},
     "output_type": "display_data"
    },
    {
     "name": "stdout",
     "output_type": "stream",
     "text": [
      "<class 'pandas.core.frame.DataFrame'>\n",
      "RangeIndex: 3129 entries, 0 to 3128\n",
      "Data columns (total 16 columns):\n",
      " #   Column   Non-Null Count  Dtype \n",
      "---  ------   --------------  ----- \n",
      " 0   key      3129 non-null   int64 \n",
      " 1   Bulk 1   252 non-null    object\n",
      " 2   Bulk 2   22 non-null     object\n",
      " 3   Bulk 3   1298 non-null   object\n",
      " 4   Bulk 4   1014 non-null   object\n",
      " 5   Bulk 5   77 non-null     object\n",
      " 6   Bulk 6   576 non-null    object\n",
      " 7   Bulk 7   25 non-null     object\n",
      " 8   Bulk 8   1 non-null      object\n",
      " 9   Bulk 9   19 non-null     object\n",
      " 10  Bulk 10  176 non-null    object\n",
      " 11  Bulk 11  177 non-null    object\n",
      " 12  Bulk 12  2450 non-null   object\n",
      " 13  Bulk 13  18 non-null     object\n",
      " 14  Bulk 14  2806 non-null   object\n",
      " 15  Bulk 15  2248 non-null   object\n",
      "dtypes: int64(1), object(15)\n",
      "memory usage: 391.2+ KB\n",
      "None\n"
     ]
    }
   ],
   "source": [
    "display(data_bulk_time.head(10))\n",
    "print(data_bulk_time.info())"
   ]
  },
  {
   "cell_type": "code",
   "execution_count": 22,
   "id": "e0663d1a",
   "metadata": {},
   "outputs": [],
   "source": [
    "data_bulk_time.columns = ['key', 'bulk_1', 'bulk_2', 'bulk_3', 'bulk_4', 'bulk_5', 'bulk_6', 'bulk_7', 'bulk_8', 'bulk_9',\n",
    "                          'bulk_10', 'bulk_11', 'bulk_12', 'bulk_13', 'bulk_14', 'bulk_15']"
   ]
  },
  {
   "cell_type": "markdown",
   "id": "d581db94",
   "metadata": {},
   "source": [
    "Данная таблица соответствует предыдущей, в этой указано время, в которое была сделана легирующая добавка."
   ]
  },
  {
   "cell_type": "markdown",
   "id": "075b3000",
   "metadata": {},
   "source": [
    "### data_gas"
   ]
  },
  {
   "cell_type": "code",
   "execution_count": 23,
   "id": "2a67a9c6",
   "metadata": {},
   "outputs": [
    {
     "data": {
      "text/html": [
       "<div>\n",
       "<style scoped>\n",
       "    .dataframe tbody tr th:only-of-type {\n",
       "        vertical-align: middle;\n",
       "    }\n",
       "\n",
       "    .dataframe tbody tr th {\n",
       "        vertical-align: top;\n",
       "    }\n",
       "\n",
       "    .dataframe thead th {\n",
       "        text-align: right;\n",
       "    }\n",
       "</style>\n",
       "<table border=\"1\" class=\"dataframe\">\n",
       "  <thead>\n",
       "    <tr style=\"text-align: right;\">\n",
       "      <th></th>\n",
       "      <th>key</th>\n",
       "      <th>Газ 1</th>\n",
       "    </tr>\n",
       "  </thead>\n",
       "  <tbody>\n",
       "    <tr>\n",
       "      <th>0</th>\n",
       "      <td>1</td>\n",
       "      <td>29.749986</td>\n",
       "    </tr>\n",
       "    <tr>\n",
       "      <th>1</th>\n",
       "      <td>2</td>\n",
       "      <td>12.555561</td>\n",
       "    </tr>\n",
       "    <tr>\n",
       "      <th>2</th>\n",
       "      <td>3</td>\n",
       "      <td>28.554793</td>\n",
       "    </tr>\n",
       "    <tr>\n",
       "      <th>3</th>\n",
       "      <td>4</td>\n",
       "      <td>18.841219</td>\n",
       "    </tr>\n",
       "    <tr>\n",
       "      <th>4</th>\n",
       "      <td>5</td>\n",
       "      <td>5.413692</td>\n",
       "    </tr>\n",
       "    <tr>\n",
       "      <th>5</th>\n",
       "      <td>6</td>\n",
       "      <td>11.273392</td>\n",
       "    </tr>\n",
       "    <tr>\n",
       "      <th>6</th>\n",
       "      <td>7</td>\n",
       "      <td>9.836267</td>\n",
       "    </tr>\n",
       "    <tr>\n",
       "      <th>7</th>\n",
       "      <td>8</td>\n",
       "      <td>15.171553</td>\n",
       "    </tr>\n",
       "    <tr>\n",
       "      <th>8</th>\n",
       "      <td>9</td>\n",
       "      <td>8.216623</td>\n",
       "    </tr>\n",
       "    <tr>\n",
       "      <th>9</th>\n",
       "      <td>10</td>\n",
       "      <td>6.529891</td>\n",
       "    </tr>\n",
       "  </tbody>\n",
       "</table>\n",
       "</div>"
      ],
      "text/plain": [
       "   key      Газ 1\n",
       "0    1  29.749986\n",
       "1    2  12.555561\n",
       "2    3  28.554793\n",
       "3    4  18.841219\n",
       "4    5   5.413692\n",
       "5    6  11.273392\n",
       "6    7   9.836267\n",
       "7    8  15.171553\n",
       "8    9   8.216623\n",
       "9   10   6.529891"
      ]
     },
     "metadata": {},
     "output_type": "display_data"
    },
    {
     "name": "stdout",
     "output_type": "stream",
     "text": [
      "<class 'pandas.core.frame.DataFrame'>\n",
      "RangeIndex: 3239 entries, 0 to 3238\n",
      "Data columns (total 2 columns):\n",
      " #   Column  Non-Null Count  Dtype  \n",
      "---  ------  --------------  -----  \n",
      " 0   key     3239 non-null   int64  \n",
      " 1   Газ 1   3239 non-null   float64\n",
      "dtypes: float64(1), int64(1)\n",
      "memory usage: 50.7 KB\n",
      "None\n"
     ]
    },
    {
     "data": {
      "text/html": [
       "<div>\n",
       "<style scoped>\n",
       "    .dataframe tbody tr th:only-of-type {\n",
       "        vertical-align: middle;\n",
       "    }\n",
       "\n",
       "    .dataframe tbody tr th {\n",
       "        vertical-align: top;\n",
       "    }\n",
       "\n",
       "    .dataframe thead th {\n",
       "        text-align: right;\n",
       "    }\n",
       "</style>\n",
       "<table border=\"1\" class=\"dataframe\">\n",
       "  <thead>\n",
       "    <tr style=\"text-align: right;\">\n",
       "      <th></th>\n",
       "      <th>key</th>\n",
       "      <th>Газ 1</th>\n",
       "    </tr>\n",
       "  </thead>\n",
       "  <tbody>\n",
       "    <tr>\n",
       "      <th>count</th>\n",
       "      <td>3239.000000</td>\n",
       "      <td>3239.000000</td>\n",
       "    </tr>\n",
       "    <tr>\n",
       "      <th>mean</th>\n",
       "      <td>1621.861377</td>\n",
       "      <td>11.002062</td>\n",
       "    </tr>\n",
       "    <tr>\n",
       "      <th>std</th>\n",
       "      <td>935.386334</td>\n",
       "      <td>6.220327</td>\n",
       "    </tr>\n",
       "    <tr>\n",
       "      <th>min</th>\n",
       "      <td>1.000000</td>\n",
       "      <td>0.008399</td>\n",
       "    </tr>\n",
       "    <tr>\n",
       "      <th>25%</th>\n",
       "      <td>812.500000</td>\n",
       "      <td>7.043089</td>\n",
       "    </tr>\n",
       "    <tr>\n",
       "      <th>50%</th>\n",
       "      <td>1622.000000</td>\n",
       "      <td>9.836267</td>\n",
       "    </tr>\n",
       "    <tr>\n",
       "      <th>75%</th>\n",
       "      <td>2431.500000</td>\n",
       "      <td>13.769915</td>\n",
       "    </tr>\n",
       "    <tr>\n",
       "      <th>max</th>\n",
       "      <td>3241.000000</td>\n",
       "      <td>77.995040</td>\n",
       "    </tr>\n",
       "  </tbody>\n",
       "</table>\n",
       "</div>"
      ],
      "text/plain": [
       "               key        Газ 1\n",
       "count  3239.000000  3239.000000\n",
       "mean   1621.861377    11.002062\n",
       "std     935.386334     6.220327\n",
       "min       1.000000     0.008399\n",
       "25%     812.500000     7.043089\n",
       "50%    1622.000000     9.836267\n",
       "75%    2431.500000    13.769915\n",
       "max    3241.000000    77.995040"
      ]
     },
     "metadata": {},
     "output_type": "display_data"
    }
   ],
   "source": [
    "display(data_gas.head(10))\n",
    "print(data_gas.info())\n",
    "display(data_gas.describe())"
   ]
  },
  {
   "cell_type": "code",
   "execution_count": 24,
   "id": "8ae6649a",
   "metadata": {},
   "outputs": [
    {
     "name": "stdout",
     "output_type": "stream",
     "text": [
      "0\n"
     ]
    }
   ],
   "source": [
    "print(data_gas.duplicated().sum())"
   ]
  },
  {
   "cell_type": "markdown",
   "id": "cf73aa09",
   "metadata": {},
   "source": [
    "Пропусков в данных нет, дубликатов тоже."
   ]
  },
  {
   "cell_type": "code",
   "execution_count": 25,
   "id": "4976cb68",
   "metadata": {},
   "outputs": [],
   "source": [
    "data_gas.columns = ['key', 'gas']"
   ]
  },
  {
   "cell_type": "code",
   "execution_count": 26,
   "id": "9d9491f5",
   "metadata": {},
   "outputs": [
    {
     "name": "stdout",
     "output_type": "stream",
     "text": [
      "3239\n"
     ]
    }
   ],
   "source": [
    "print(data_gas['key'].value_counts().count())"
   ]
  },
  {
   "cell_type": "markdown",
   "id": "50d41040",
   "metadata": {},
   "source": [
    "Номера партий в таблице не повторяются"
   ]
  },
  {
   "cell_type": "code",
   "execution_count": 27,
   "id": "4c4b36ac",
   "metadata": {},
   "outputs": [
    {
     "data": {
      "image/png": "[encoded data removed]",
      "text/plain": [
       "<Figure size 432x288 with 1 Axes>"
      ]
     },
     "metadata": {
      "needs_background": "light"
     },
     "output_type": "display_data"
    },
    {
     "data": {
      "image/png": "[encoded data removed]",
      "text/plain": [
       "<Figure size 432x288 with 1 Axes>"
      ]
     },
     "metadata": {
      "needs_background": "light"
     },
     "output_type": "display_data"
    }
   ],
   "source": [
    "data_gas.boxplot('gas')\n",
    "plt.show()\n",
    "data_gas['gas'].plot(kind='hist', bins=50, grid=True, title='gas')\n",
    "plt.show()"
   ]
  },
  {
   "cell_type": "markdown",
   "id": "0eac0704",
   "metadata": {},
   "source": [
    "Ограничим значения gas, чтобы избавиться от выбросов."
   ]
  },
  {
   "cell_type": "code",
   "execution_count": 28,
   "id": "8e460679",
   "metadata": {},
   "outputs": [
    {
     "data": {
      "image/png": "[encoded data removed]",
      "text/plain": [
       "<Figure size 432x288 with 1 Axes>"
      ]
     },
     "metadata": {
      "needs_background": "light"
     },
     "output_type": "display_data"
    }
   ],
   "source": [
    "data_gas = data_gas.query('gas < 35')\n",
    "data_gas['gas'].plot(kind='hist', bins=50, grid=True, title='gas')\n",
    "plt.show()"
   ]
  },
  {
   "cell_type": "markdown",
   "id": "5453b227",
   "metadata": {},
   "source": [
    "### data_temp"
   ]
  },
  {
   "cell_type": "code",
   "execution_count": 29,
   "id": "892e0cc6",
   "metadata": {},
   "outputs": [
    {
     "data": {
      "text/html": [
       "<div>\n",
       "<style scoped>\n",
       "    .dataframe tbody tr th:only-of-type {\n",
       "        vertical-align: middle;\n",
       "    }\n",
       "\n",
       "    .dataframe tbody tr th {\n",
       "        vertical-align: top;\n",
       "    }\n",
       "\n",
       "    .dataframe thead th {\n",
       "        text-align: right;\n",
       "    }\n",
       "</style>\n",
       "<table border=\"1\" class=\"dataframe\">\n",
       "  <thead>\n",
       "    <tr style=\"text-align: right;\">\n",
       "      <th></th>\n",
       "      <th>key</th>\n",
       "      <th>Время замера</th>\n",
       "      <th>Температура</th>\n",
       "    </tr>\n",
       "  </thead>\n",
       "  <tbody>\n",
       "    <tr>\n",
       "      <th>0</th>\n",
       "      <td>1</td>\n",
       "      <td>2019-05-03 11:16:18</td>\n",
       "      <td>1571.0</td>\n",
       "    </tr>\n",
       "    <tr>\n",
       "      <th>1</th>\n",
       "      <td>1</td>\n",
       "      <td>2019-05-03 11:25:53</td>\n",
       "      <td>1604.0</td>\n",
       "    </tr>\n",
       "    <tr>\n",
       "      <th>2</th>\n",
       "      <td>1</td>\n",
       "      <td>2019-05-03 11:29:11</td>\n",
       "      <td>1618.0</td>\n",
       "    </tr>\n",
       "    <tr>\n",
       "      <th>3</th>\n",
       "      <td>1</td>\n",
       "      <td>2019-05-03 11:30:01</td>\n",
       "      <td>1601.0</td>\n",
       "    </tr>\n",
       "    <tr>\n",
       "      <th>4</th>\n",
       "      <td>1</td>\n",
       "      <td>2019-05-03 11:30:39</td>\n",
       "      <td>1613.0</td>\n",
       "    </tr>\n",
       "    <tr>\n",
       "      <th>5</th>\n",
       "      <td>2</td>\n",
       "      <td>2019-05-03 11:37:27</td>\n",
       "      <td>1581.0</td>\n",
       "    </tr>\n",
       "    <tr>\n",
       "      <th>6</th>\n",
       "      <td>2</td>\n",
       "      <td>2019-05-03 11:38:00</td>\n",
       "      <td>1577.0</td>\n",
       "    </tr>\n",
       "    <tr>\n",
       "      <th>7</th>\n",
       "      <td>2</td>\n",
       "      <td>2019-05-03 11:49:38</td>\n",
       "      <td>1589.0</td>\n",
       "    </tr>\n",
       "    <tr>\n",
       "      <th>8</th>\n",
       "      <td>2</td>\n",
       "      <td>2019-05-03 11:55:50</td>\n",
       "      <td>1604.0</td>\n",
       "    </tr>\n",
       "    <tr>\n",
       "      <th>9</th>\n",
       "      <td>2</td>\n",
       "      <td>2019-05-03 11:58:24</td>\n",
       "      <td>1608.0</td>\n",
       "    </tr>\n",
       "    <tr>\n",
       "      <th>10</th>\n",
       "      <td>2</td>\n",
       "      <td>2019-05-03 11:59:12</td>\n",
       "      <td>1602.0</td>\n",
       "    </tr>\n",
       "    <tr>\n",
       "      <th>11</th>\n",
       "      <td>3</td>\n",
       "      <td>2019-05-03 12:13:17</td>\n",
       "      <td>1596.0</td>\n",
       "    </tr>\n",
       "    <tr>\n",
       "      <th>12</th>\n",
       "      <td>3</td>\n",
       "      <td>2019-05-03 12:18:36</td>\n",
       "      <td>1597.0</td>\n",
       "    </tr>\n",
       "    <tr>\n",
       "      <th>13</th>\n",
       "      <td>3</td>\n",
       "      <td>2019-05-03 12:25:06</td>\n",
       "      <td>1598.0</td>\n",
       "    </tr>\n",
       "    <tr>\n",
       "      <th>14</th>\n",
       "      <td>3</td>\n",
       "      <td>2019-05-03 12:30:48</td>\n",
       "      <td>1599.0</td>\n",
       "    </tr>\n",
       "  </tbody>\n",
       "</table>\n",
       "</div>"
      ],
      "text/plain": [
       "    key         Время замера  Температура\n",
       "0     1  2019-05-03 11:16:18       1571.0\n",
       "1     1  2019-05-03 11:25:53       1604.0\n",
       "2     1  2019-05-03 11:29:11       1618.0\n",
       "3     1  2019-05-03 11:30:01       1601.0\n",
       "4     1  2019-05-03 11:30:39       1613.0\n",
       "5     2  2019-05-03 11:37:27       1581.0\n",
       "6     2  2019-05-03 11:38:00       1577.0\n",
       "7     2  2019-05-03 11:49:38       1589.0\n",
       "8     2  2019-05-03 11:55:50       1604.0\n",
       "9     2  2019-05-03 11:58:24       1608.0\n",
       "10    2  2019-05-03 11:59:12       1602.0\n",
       "11    3  2019-05-03 12:13:17       1596.0\n",
       "12    3  2019-05-03 12:18:36       1597.0\n",
       "13    3  2019-05-03 12:25:06       1598.0\n",
       "14    3  2019-05-03 12:30:48       1599.0"
      ]
     },
     "metadata": {},
     "output_type": "display_data"
    },
    {
     "name": "stdout",
     "output_type": "stream",
     "text": [
      "<class 'pandas.core.frame.DataFrame'>\n",
      "RangeIndex: 15907 entries, 0 to 15906\n",
      "Data columns (total 3 columns):\n",
      " #   Column        Non-Null Count  Dtype  \n",
      "---  ------        --------------  -----  \n",
      " 0   key           15907 non-null  int64  \n",
      " 1   Время замера  15907 non-null  object \n",
      " 2   Температура   13006 non-null  float64\n",
      "dtypes: float64(1), int64(1), object(1)\n",
      "memory usage: 372.9+ KB\n",
      "None\n"
     ]
    },
    {
     "data": {
      "text/html": [
       "<div>\n",
       "<style scoped>\n",
       "    .dataframe tbody tr th:only-of-type {\n",
       "        vertical-align: middle;\n",
       "    }\n",
       "\n",
       "    .dataframe tbody tr th {\n",
       "        vertical-align: top;\n",
       "    }\n",
       "\n",
       "    .dataframe thead th {\n",
       "        text-align: right;\n",
       "    }\n",
       "</style>\n",
       "<table border=\"1\" class=\"dataframe\">\n",
       "  <thead>\n",
       "    <tr style=\"text-align: right;\">\n",
       "      <th></th>\n",
       "      <th>key</th>\n",
       "      <th>Температура</th>\n",
       "    </tr>\n",
       "  </thead>\n",
       "  <tbody>\n",
       "    <tr>\n",
       "      <th>count</th>\n",
       "      <td>15907.000000</td>\n",
       "      <td>13006.000000</td>\n",
       "    </tr>\n",
       "    <tr>\n",
       "      <th>mean</th>\n",
       "      <td>1607.880870</td>\n",
       "      <td>1591.840920</td>\n",
       "    </tr>\n",
       "    <tr>\n",
       "      <th>std</th>\n",
       "      <td>942.212073</td>\n",
       "      <td>21.375851</td>\n",
       "    </tr>\n",
       "    <tr>\n",
       "      <th>min</th>\n",
       "      <td>1.000000</td>\n",
       "      <td>1191.000000</td>\n",
       "    </tr>\n",
       "    <tr>\n",
       "      <th>25%</th>\n",
       "      <td>790.000000</td>\n",
       "      <td>1581.000000</td>\n",
       "    </tr>\n",
       "    <tr>\n",
       "      <th>50%</th>\n",
       "      <td>1618.000000</td>\n",
       "      <td>1591.000000</td>\n",
       "    </tr>\n",
       "    <tr>\n",
       "      <th>75%</th>\n",
       "      <td>2427.000000</td>\n",
       "      <td>1601.000000</td>\n",
       "    </tr>\n",
       "    <tr>\n",
       "      <th>max</th>\n",
       "      <td>3241.000000</td>\n",
       "      <td>1705.000000</td>\n",
       "    </tr>\n",
       "  </tbody>\n",
       "</table>\n",
       "</div>"
      ],
      "text/plain": [
       "                key   Температура\n",
       "count  15907.000000  13006.000000\n",
       "mean    1607.880870   1591.840920\n",
       "std      942.212073     21.375851\n",
       "min        1.000000   1191.000000\n",
       "25%      790.000000   1581.000000\n",
       "50%     1618.000000   1591.000000\n",
       "75%     2427.000000   1601.000000\n",
       "max     3241.000000   1705.000000"
      ]
     },
     "metadata": {},
     "output_type": "display_data"
    }
   ],
   "source": [
    "display(data_temp.head(15))\n",
    "print(data_temp.info())\n",
    "display(data_temp.describe())"
   ]
  },
  {
   "cell_type": "code",
   "execution_count": 30,
   "id": "9de1f538",
   "metadata": {},
   "outputs": [
    {
     "name": "stdout",
     "output_type": "stream",
     "text": [
      "0\n"
     ]
    }
   ],
   "source": [
    "print(data_temp.duplicated().sum())"
   ]
  },
  {
   "cell_type": "markdown",
   "id": "8ca12e77",
   "metadata": {},
   "source": [
    "Дубликатов в данных нет, пропусков тоже.\n",
    "\n",
    "Переименуем столбцы, преобразуем формат данных."
   ]
  },
  {
   "cell_type": "code",
   "execution_count": 31,
   "id": "5eb064d1",
   "metadata": {},
   "outputs": [],
   "source": [
    "data_temp.columns = ['key', 'time', 'temperature']\n",
    "data_temp['time'] = pd.to_datetime(data_temp['time'], format = '%Y-%m-%d %H:%M:%S')"
   ]
  },
  {
   "cell_type": "markdown",
   "id": "a1b6511a",
   "metadata": {},
   "source": [
    "Температура плавления стали зависит от конкретного сплава, но начинается с 1450 градусов Цельсия. При производстве сталь жидкая. Поэтому, минимальное значение в 1191 градус является ошибкой в данных. Проверим, сколько еще измерений показали температуру меньше температуры плавления стали."
   ]
  },
  {
   "cell_type": "code",
   "execution_count": 32,
   "id": "74462700",
   "metadata": {},
   "outputs": [
    {
     "name": "stdout",
     "output_type": "stream",
     "text": [
      "        key                time  temperature\n",
      "4350    867 2019-06-04 14:21:00       1191.0\n",
      "5978   1214 2019-06-16 05:32:00       1208.0\n",
      "7958   1619 2019-06-30 11:03:54       1218.0\n",
      "8913   1818 2019-07-07 00:30:49       1383.0\n",
      "8914   1818 2019-07-07 00:31:40       1383.0\n",
      "10127  2052 2019-07-21 14:51:40       1227.0\n",
      "12564  2561 2019-08-08 07:34:15       1204.0\n"
     ]
    }
   ],
   "source": [
    "print(data_temp.query('temperature < 1450'))"
   ]
  },
  {
   "cell_type": "markdown",
   "id": "81e96f29",
   "metadata": {},
   "source": [
    "Данные строки - ошибки в измерениях. Их необходимо удалить."
   ]
  },
  {
   "cell_type": "code",
   "execution_count": 33,
   "id": "31ce1e17",
   "metadata": {},
   "outputs": [
    {
     "name": "stdout",
     "output_type": "stream",
     "text": [
      "                key   temperature\n",
      "count  12999.000000  12999.000000\n",
      "mean    1328.243942   1592.020078\n",
      "std      804.821269     19.853665\n",
      "min        1.000000   1519.000000\n",
      "25%      638.000000   1581.000000\n",
      "50%     1315.000000   1591.000000\n",
      "75%     1977.500000   1601.000000\n",
      "max     3241.000000   1705.000000\n"
     ]
    }
   ],
   "source": [
    "data_temp = data_temp.query('temperature > 1450')\n",
    "print(data_temp.describe())"
   ]
  },
  {
   "cell_type": "markdown",
   "id": "1138c0c6",
   "metadata": {},
   "source": [
    "Сгруппируем значения по номеру партии. В итоговой таблице создадим следующие столбцы: \n",
    "- разница в секундах между первым и последним измерением температуры\n",
    "- первая измеренная температура\n",
    "- последняя измеренная температура"
   ]
  },
  {
   "cell_type": "code",
   "execution_count": 34,
   "id": "7ed71021",
   "metadata": {},
   "outputs": [],
   "source": [
    "data_temp_grouped_first = data_temp.groupby('key').first()\n",
    "data_temp_grouped_last = data_temp.groupby('key').last()\n",
    "data_temp_grouped = data_temp_grouped_first.merge(data_temp_grouped_last, on='key')\n",
    "data_temp_grouped['temperature_measurement_time_delta'] = data_temp_grouped['time_y'] - data_temp_grouped['time_x']\n",
    "data_temp_grouped['temperature_measurement_time_delta'] = data_temp_grouped['temperature_measurement_time_delta'] \\\n",
    "                                                                           .apply(lambda x: x.total_seconds())\n",
    "data_temp_grouped = data_temp_grouped.drop(['time_x', 'time_y'], axis=1)\n",
    "data_temp_grouped.columns = ['temperature_first', 'temperature_last', 'temperature_measurement_time_delta']"
   ]
  },
  {
   "cell_type": "code",
   "execution_count": 35,
   "id": "e3618729",
   "metadata": {},
   "outputs": [
    {
     "data": {
      "text/html": [
       "<div>\n",
       "<style scoped>\n",
       "    .dataframe tbody tr th:only-of-type {\n",
       "        vertical-align: middle;\n",
       "    }\n",
       "\n",
       "    .dataframe tbody tr th {\n",
       "        vertical-align: top;\n",
       "    }\n",
       "\n",
       "    .dataframe thead th {\n",
       "        text-align: right;\n",
       "    }\n",
       "</style>\n",
       "<table border=\"1\" class=\"dataframe\">\n",
       "  <thead>\n",
       "    <tr style=\"text-align: right;\">\n",
       "      <th></th>\n",
       "      <th>temperature_first</th>\n",
       "      <th>temperature_last</th>\n",
       "      <th>temperature_measurement_time_delta</th>\n",
       "    </tr>\n",
       "  </thead>\n",
       "  <tbody>\n",
       "    <tr>\n",
       "      <th>count</th>\n",
       "      <td>3215.000000</td>\n",
       "      <td>3215.000000</td>\n",
       "      <td>3215.000000</td>\n",
       "    </tr>\n",
       "    <tr>\n",
       "      <th>mean</th>\n",
       "      <td>1589.195023</td>\n",
       "      <td>1594.049767</td>\n",
       "      <td>1427.492691</td>\n",
       "    </tr>\n",
       "    <tr>\n",
       "      <th>std</th>\n",
       "      <td>25.015034</td>\n",
       "      <td>18.649454</td>\n",
       "      <td>1383.004290</td>\n",
       "    </tr>\n",
       "    <tr>\n",
       "      <th>min</th>\n",
       "      <td>1519.000000</td>\n",
       "      <td>1529.000000</td>\n",
       "      <td>0.000000</td>\n",
       "    </tr>\n",
       "    <tr>\n",
       "      <th>25%</th>\n",
       "      <td>1572.000000</td>\n",
       "      <td>1585.000000</td>\n",
       "      <td>608.500000</td>\n",
       "    </tr>\n",
       "    <tr>\n",
       "      <th>50%</th>\n",
       "      <td>1588.000000</td>\n",
       "      <td>1593.000000</td>\n",
       "      <td>1334.000000</td>\n",
       "    </tr>\n",
       "    <tr>\n",
       "      <th>75%</th>\n",
       "      <td>1606.000000</td>\n",
       "      <td>1600.000000</td>\n",
       "      <td>2001.000000</td>\n",
       "    </tr>\n",
       "    <tr>\n",
       "      <th>max</th>\n",
       "      <td>1684.000000</td>\n",
       "      <td>1700.000000</td>\n",
       "      <td>23537.000000</td>\n",
       "    </tr>\n",
       "  </tbody>\n",
       "</table>\n",
       "</div>"
      ],
      "text/plain": [
       "       temperature_first  temperature_last  temperature_measurement_time_delta\n",
       "count        3215.000000       3215.000000                         3215.000000\n",
       "mean         1589.195023       1594.049767                         1427.492691\n",
       "std            25.015034         18.649454                         1383.004290\n",
       "min          1519.000000       1529.000000                            0.000000\n",
       "25%          1572.000000       1585.000000                          608.500000\n",
       "50%          1588.000000       1593.000000                         1334.000000\n",
       "75%          1606.000000       1600.000000                         2001.000000\n",
       "max          1684.000000       1700.000000                        23537.000000"
      ]
     },
     "metadata": {},
     "output_type": "display_data"
    }
   ],
   "source": [
    "display(data_temp_grouped.describe())"
   ]
  },
  {
   "cell_type": "code",
   "execution_count": 36,
   "id": "27ee1a4c",
   "metadata": {},
   "outputs": [
    {
     "data": {
      "image/png": "[encoded data removed]",
      "text/plain": [
       "<Figure size 432x288 with 1 Axes>"
      ]
     },
     "metadata": {
      "needs_background": "light"
     },
     "output_type": "display_data"
    },
    {
     "data": {
      "image/png": "[encoded data removed]",
      "text/plain": [
       "<Figure size 432x288 with 1 Axes>"
      ]
     },
     "metadata": {
      "needs_background": "light"
     },
     "output_type": "display_data"
    },
    {
     "data": {
      "image/png": "[encoded data removed]",
      "text/plain": [
       "<Figure size 432x288 with 1 Axes>"
      ]
     },
     "metadata": {
      "needs_background": "light"
     },
     "output_type": "display_data"
    }
   ],
   "source": [
    "for column in data_temp_grouped.columns:\n",
    "    data_temp_grouped[column].plot(kind='hist', bins=50, grid=True, title=column)\n",
    "    plt.show()"
   ]
  },
  {
   "cell_type": "markdown",
   "id": "dc48820c",
   "metadata": {},
   "source": [
    "Отсеим данные - явные выбросы, в которых процесс обработки длился больше 5000 секунд."
   ]
  },
  {
   "cell_type": "code",
   "execution_count": 37,
   "id": "435f39e5",
   "metadata": {},
   "outputs": [
    {
     "data": {
      "image/png": "[encoded data removed]",
      "text/plain": [
       "<Figure size 432x288 with 1 Axes>"
      ]
     },
     "metadata": {
      "needs_background": "light"
     },
     "output_type": "display_data"
    }
   ],
   "source": [
    "data_temp_grouped = data_temp_grouped.query('temperature_measurement_time_delta < 5001')\n",
    "data_temp_grouped['temperature_measurement_time_delta'].plot(kind='hist', bins=50, grid=True, title='temperature_measurement_time_delta')\n",
    "plt.show()"
   ]
  },
  {
   "cell_type": "markdown",
   "id": "c1d47390",
   "metadata": {},
   "source": [
    "Больше 700 раз встречается время между измерениями температуры равное 0. Это партии, в которых температура была измерена всего 1 раз. Проверим это на первоначальных данных до группировки."
   ]
  },
  {
   "cell_type": "code",
   "execution_count": 38,
   "id": "5b70c5f2",
   "metadata": {},
   "outputs": [
    {
     "name": "stdout",
     "output_type": "stream",
     "text": [
      "740\n"
     ]
    }
   ],
   "source": [
    "data_count = data_temp.groupby('key').count()\n",
    "print(data_count[data_count['time'] == 1]['time'].count())"
   ]
  },
  {
   "cell_type": "markdown",
   "id": "7bf1070f",
   "metadata": {},
   "source": [
    "Итого 740 партий, в которых температуру измеряли всего 1 раз. Удалим эти данные."
   ]
  },
  {
   "cell_type": "code",
   "execution_count": 39,
   "id": "21d60f60",
   "metadata": {},
   "outputs": [],
   "source": [
    "data_temp_grouped = data_temp_grouped.query('temperature_measurement_time_delta > 1')"
   ]
  },
  {
   "cell_type": "code",
   "execution_count": 40,
   "id": "87738287",
   "metadata": {},
   "outputs": [
    {
     "name": "stdout",
     "output_type": "stream",
     "text": [
      "<class 'pandas.core.frame.DataFrame'>\n",
      "Int64Index: 2437 entries, 1 to 2499\n",
      "Data columns (total 3 columns):\n",
      " #   Column                              Non-Null Count  Dtype  \n",
      "---  ------                              --------------  -----  \n",
      " 0   temperature_first                   2437 non-null   float64\n",
      " 1   temperature_last                    2437 non-null   float64\n",
      " 2   temperature_measurement_time_delta  2437 non-null   float64\n",
      "dtypes: float64(3)\n",
      "memory usage: 76.2 KB\n",
      "None\n"
     ]
    }
   ],
   "source": [
    "print(data_temp_grouped.info())"
   ]
  },
  {
   "cell_type": "markdown",
   "id": "4a8235bf",
   "metadata": {},
   "source": [
    "### data_wire"
   ]
  },
  {
   "cell_type": "code",
   "execution_count": 41,
   "id": "febb6c76",
   "metadata": {},
   "outputs": [
    {
     "data": {
      "text/html": [
       "<div>\n",
       "<style scoped>\n",
       "    .dataframe tbody tr th:only-of-type {\n",
       "        vertical-align: middle;\n",
       "    }\n",
       "\n",
       "    .dataframe tbody tr th {\n",
       "        vertical-align: top;\n",
       "    }\n",
       "\n",
       "    .dataframe thead th {\n",
       "        text-align: right;\n",
       "    }\n",
       "</style>\n",
       "<table border=\"1\" class=\"dataframe\">\n",
       "  <thead>\n",
       "    <tr style=\"text-align: right;\">\n",
       "      <th></th>\n",
       "      <th>key</th>\n",
       "      <th>Wire 1</th>\n",
       "      <th>Wire 2</th>\n",
       "      <th>Wire 3</th>\n",
       "      <th>Wire 4</th>\n",
       "      <th>Wire 5</th>\n",
       "      <th>Wire 6</th>\n",
       "      <th>Wire 7</th>\n",
       "      <th>Wire 8</th>\n",
       "      <th>Wire 9</th>\n",
       "    </tr>\n",
       "  </thead>\n",
       "  <tbody>\n",
       "    <tr>\n",
       "      <th>0</th>\n",
       "      <td>1</td>\n",
       "      <td>60.059998</td>\n",
       "      <td>NaN</td>\n",
       "      <td>NaN</td>\n",
       "      <td>NaN</td>\n",
       "      <td>NaN</td>\n",
       "      <td>NaN</td>\n",
       "      <td>NaN</td>\n",
       "      <td>NaN</td>\n",
       "      <td>NaN</td>\n",
       "    </tr>\n",
       "    <tr>\n",
       "      <th>1</th>\n",
       "      <td>2</td>\n",
       "      <td>96.052315</td>\n",
       "      <td>NaN</td>\n",
       "      <td>NaN</td>\n",
       "      <td>NaN</td>\n",
       "      <td>NaN</td>\n",
       "      <td>NaN</td>\n",
       "      <td>NaN</td>\n",
       "      <td>NaN</td>\n",
       "      <td>NaN</td>\n",
       "    </tr>\n",
       "    <tr>\n",
       "      <th>2</th>\n",
       "      <td>3</td>\n",
       "      <td>91.160157</td>\n",
       "      <td>NaN</td>\n",
       "      <td>NaN</td>\n",
       "      <td>NaN</td>\n",
       "      <td>NaN</td>\n",
       "      <td>NaN</td>\n",
       "      <td>NaN</td>\n",
       "      <td>NaN</td>\n",
       "      <td>NaN</td>\n",
       "    </tr>\n",
       "    <tr>\n",
       "      <th>3</th>\n",
       "      <td>4</td>\n",
       "      <td>89.063515</td>\n",
       "      <td>NaN</td>\n",
       "      <td>NaN</td>\n",
       "      <td>NaN</td>\n",
       "      <td>NaN</td>\n",
       "      <td>NaN</td>\n",
       "      <td>NaN</td>\n",
       "      <td>NaN</td>\n",
       "      <td>NaN</td>\n",
       "    </tr>\n",
       "    <tr>\n",
       "      <th>4</th>\n",
       "      <td>5</td>\n",
       "      <td>89.238236</td>\n",
       "      <td>9.114560</td>\n",
       "      <td>NaN</td>\n",
       "      <td>NaN</td>\n",
       "      <td>NaN</td>\n",
       "      <td>NaN</td>\n",
       "      <td>NaN</td>\n",
       "      <td>NaN</td>\n",
       "      <td>NaN</td>\n",
       "    </tr>\n",
       "    <tr>\n",
       "      <th>5</th>\n",
       "      <td>6</td>\n",
       "      <td>99.109917</td>\n",
       "      <td>9.114560</td>\n",
       "      <td>NaN</td>\n",
       "      <td>NaN</td>\n",
       "      <td>NaN</td>\n",
       "      <td>NaN</td>\n",
       "      <td>NaN</td>\n",
       "      <td>NaN</td>\n",
       "      <td>NaN</td>\n",
       "    </tr>\n",
       "    <tr>\n",
       "      <th>6</th>\n",
       "      <td>7</td>\n",
       "      <td>98.061600</td>\n",
       "      <td>NaN</td>\n",
       "      <td>NaN</td>\n",
       "      <td>NaN</td>\n",
       "      <td>NaN</td>\n",
       "      <td>NaN</td>\n",
       "      <td>NaN</td>\n",
       "      <td>NaN</td>\n",
       "      <td>NaN</td>\n",
       "    </tr>\n",
       "    <tr>\n",
       "      <th>7</th>\n",
       "      <td>8</td>\n",
       "      <td>155.282394</td>\n",
       "      <td>NaN</td>\n",
       "      <td>NaN</td>\n",
       "      <td>NaN</td>\n",
       "      <td>NaN</td>\n",
       "      <td>NaN</td>\n",
       "      <td>NaN</td>\n",
       "      <td>NaN</td>\n",
       "      <td>NaN</td>\n",
       "    </tr>\n",
       "    <tr>\n",
       "      <th>8</th>\n",
       "      <td>9</td>\n",
       "      <td>113.393279</td>\n",
       "      <td>9.143681</td>\n",
       "      <td>NaN</td>\n",
       "      <td>NaN</td>\n",
       "      <td>NaN</td>\n",
       "      <td>NaN</td>\n",
       "      <td>NaN</td>\n",
       "      <td>NaN</td>\n",
       "      <td>NaN</td>\n",
       "    </tr>\n",
       "    <tr>\n",
       "      <th>9</th>\n",
       "      <td>10</td>\n",
       "      <td>81.244796</td>\n",
       "      <td>12.376000</td>\n",
       "      <td>NaN</td>\n",
       "      <td>NaN</td>\n",
       "      <td>NaN</td>\n",
       "      <td>NaN</td>\n",
       "      <td>NaN</td>\n",
       "      <td>NaN</td>\n",
       "      <td>NaN</td>\n",
       "    </tr>\n",
       "  </tbody>\n",
       "</table>\n",
       "</div>"
      ],
      "text/plain": [
       "   key      Wire 1     Wire 2  Wire 3  Wire 4  Wire 5  Wire 6  Wire 7  Wire 8  \\\n",
       "0    1   60.059998        NaN     NaN     NaN     NaN     NaN     NaN     NaN   \n",
       "1    2   96.052315        NaN     NaN     NaN     NaN     NaN     NaN     NaN   \n",
       "2    3   91.160157        NaN     NaN     NaN     NaN     NaN     NaN     NaN   \n",
       "3    4   89.063515        NaN     NaN     NaN     NaN     NaN     NaN     NaN   \n",
       "4    5   89.238236   9.114560     NaN     NaN     NaN     NaN     NaN     NaN   \n",
       "5    6   99.109917   9.114560     NaN     NaN     NaN     NaN     NaN     NaN   \n",
       "6    7   98.061600        NaN     NaN     NaN     NaN     NaN     NaN     NaN   \n",
       "7    8  155.282394        NaN     NaN     NaN     NaN     NaN     NaN     NaN   \n",
       "8    9  113.393279   9.143681     NaN     NaN     NaN     NaN     NaN     NaN   \n",
       "9   10   81.244796  12.376000     NaN     NaN     NaN     NaN     NaN     NaN   \n",
       "\n",
       "   Wire 9  \n",
       "0     NaN  \n",
       "1     NaN  \n",
       "2     NaN  \n",
       "3     NaN  \n",
       "4     NaN  \n",
       "5     NaN  \n",
       "6     NaN  \n",
       "7     NaN  \n",
       "8     NaN  \n",
       "9     NaN  "
      ]
     },
     "metadata": {},
     "output_type": "display_data"
    },
    {
     "name": "stdout",
     "output_type": "stream",
     "text": [
      "<class 'pandas.core.frame.DataFrame'>\n",
      "RangeIndex: 3081 entries, 0 to 3080\n",
      "Data columns (total 10 columns):\n",
      " #   Column  Non-Null Count  Dtype  \n",
      "---  ------  --------------  -----  \n",
      " 0   key     3081 non-null   int64  \n",
      " 1   Wire 1  3055 non-null   float64\n",
      " 2   Wire 2  1079 non-null   float64\n",
      " 3   Wire 3  63 non-null     float64\n",
      " 4   Wire 4  14 non-null     float64\n",
      " 5   Wire 5  1 non-null      float64\n",
      " 6   Wire 6  73 non-null     float64\n",
      " 7   Wire 7  11 non-null     float64\n",
      " 8   Wire 8  19 non-null     float64\n",
      " 9   Wire 9  29 non-null     float64\n",
      "dtypes: float64(9), int64(1)\n",
      "memory usage: 240.8 KB\n",
      "None\n"
     ]
    },
    {
     "data": {
      "text/html": [
       "<div>\n",
       "<style scoped>\n",
       "    .dataframe tbody tr th:only-of-type {\n",
       "        vertical-align: middle;\n",
       "    }\n",
       "\n",
       "    .dataframe tbody tr th {\n",
       "        vertical-align: top;\n",
       "    }\n",
       "\n",
       "    .dataframe thead th {\n",
       "        text-align: right;\n",
       "    }\n",
       "</style>\n",
       "<table border=\"1\" class=\"dataframe\">\n",
       "  <thead>\n",
       "    <tr style=\"text-align: right;\">\n",
       "      <th></th>\n",
       "      <th>key</th>\n",
       "      <th>Wire 1</th>\n",
       "      <th>Wire 2</th>\n",
       "      <th>Wire 3</th>\n",
       "      <th>Wire 4</th>\n",
       "      <th>Wire 5</th>\n",
       "      <th>Wire 6</th>\n",
       "      <th>Wire 7</th>\n",
       "      <th>Wire 8</th>\n",
       "      <th>Wire 9</th>\n",
       "    </tr>\n",
       "  </thead>\n",
       "  <tbody>\n",
       "    <tr>\n",
       "      <th>count</th>\n",
       "      <td>3081.000000</td>\n",
       "      <td>3055.000000</td>\n",
       "      <td>1079.000000</td>\n",
       "      <td>63.000000</td>\n",
       "      <td>14.000000</td>\n",
       "      <td>1.000</td>\n",
       "      <td>73.000000</td>\n",
       "      <td>11.000000</td>\n",
       "      <td>19.000000</td>\n",
       "      <td>29.000000</td>\n",
       "    </tr>\n",
       "    <tr>\n",
       "      <th>mean</th>\n",
       "      <td>1623.426485</td>\n",
       "      <td>100.895853</td>\n",
       "      <td>50.577323</td>\n",
       "      <td>189.482681</td>\n",
       "      <td>57.442842</td>\n",
       "      <td>15.132</td>\n",
       "      <td>48.016974</td>\n",
       "      <td>10.039007</td>\n",
       "      <td>53.625193</td>\n",
       "      <td>34.155752</td>\n",
       "    </tr>\n",
       "    <tr>\n",
       "      <th>std</th>\n",
       "      <td>932.996726</td>\n",
       "      <td>42.012518</td>\n",
       "      <td>39.320216</td>\n",
       "      <td>99.513444</td>\n",
       "      <td>28.824667</td>\n",
       "      <td>NaN</td>\n",
       "      <td>33.919845</td>\n",
       "      <td>8.610584</td>\n",
       "      <td>16.881728</td>\n",
       "      <td>19.931616</td>\n",
       "    </tr>\n",
       "    <tr>\n",
       "      <th>min</th>\n",
       "      <td>1.000000</td>\n",
       "      <td>1.918800</td>\n",
       "      <td>0.030160</td>\n",
       "      <td>0.144144</td>\n",
       "      <td>24.148801</td>\n",
       "      <td>15.132</td>\n",
       "      <td>0.034320</td>\n",
       "      <td>0.234208</td>\n",
       "      <td>45.076721</td>\n",
       "      <td>4.622800</td>\n",
       "    </tr>\n",
       "    <tr>\n",
       "      <th>25%</th>\n",
       "      <td>823.000000</td>\n",
       "      <td>72.115684</td>\n",
       "      <td>20.193680</td>\n",
       "      <td>95.135044</td>\n",
       "      <td>40.807002</td>\n",
       "      <td>15.132</td>\n",
       "      <td>25.053600</td>\n",
       "      <td>6.762756</td>\n",
       "      <td>46.094879</td>\n",
       "      <td>22.058401</td>\n",
       "    </tr>\n",
       "    <tr>\n",
       "      <th>50%</th>\n",
       "      <td>1619.000000</td>\n",
       "      <td>100.158234</td>\n",
       "      <td>40.142956</td>\n",
       "      <td>235.194977</td>\n",
       "      <td>45.234282</td>\n",
       "      <td>15.132</td>\n",
       "      <td>42.076324</td>\n",
       "      <td>9.017009</td>\n",
       "      <td>46.279999</td>\n",
       "      <td>30.066399</td>\n",
       "    </tr>\n",
       "    <tr>\n",
       "      <th>75%</th>\n",
       "      <td>2434.000000</td>\n",
       "      <td>126.060483</td>\n",
       "      <td>70.227558</td>\n",
       "      <td>276.252014</td>\n",
       "      <td>76.124619</td>\n",
       "      <td>15.132</td>\n",
       "      <td>64.212723</td>\n",
       "      <td>11.886057</td>\n",
       "      <td>48.089603</td>\n",
       "      <td>43.862003</td>\n",
       "    </tr>\n",
       "    <tr>\n",
       "      <th>max</th>\n",
       "      <td>3241.000000</td>\n",
       "      <td>330.314424</td>\n",
       "      <td>282.780152</td>\n",
       "      <td>385.008668</td>\n",
       "      <td>113.231044</td>\n",
       "      <td>15.132</td>\n",
       "      <td>180.454575</td>\n",
       "      <td>32.847674</td>\n",
       "      <td>102.762401</td>\n",
       "      <td>90.053604</td>\n",
       "    </tr>\n",
       "  </tbody>\n",
       "</table>\n",
       "</div>"
      ],
      "text/plain": [
       "               key       Wire 1       Wire 2      Wire 3      Wire 4  Wire 5  \\\n",
       "count  3081.000000  3055.000000  1079.000000   63.000000   14.000000   1.000   \n",
       "mean   1623.426485   100.895853    50.577323  189.482681   57.442842  15.132   \n",
       "std     932.996726    42.012518    39.320216   99.513444   28.824667     NaN   \n",
       "min       1.000000     1.918800     0.030160    0.144144   24.148801  15.132   \n",
       "25%     823.000000    72.115684    20.193680   95.135044   40.807002  15.132   \n",
       "50%    1619.000000   100.158234    40.142956  235.194977   45.234282  15.132   \n",
       "75%    2434.000000   126.060483    70.227558  276.252014   76.124619  15.132   \n",
       "max    3241.000000   330.314424   282.780152  385.008668  113.231044  15.132   \n",
       "\n",
       "           Wire 6     Wire 7      Wire 8     Wire 9  \n",
       "count   73.000000  11.000000   19.000000  29.000000  \n",
       "mean    48.016974  10.039007   53.625193  34.155752  \n",
       "std     33.919845   8.610584   16.881728  19.931616  \n",
       "min      0.034320   0.234208   45.076721   4.622800  \n",
       "25%     25.053600   6.762756   46.094879  22.058401  \n",
       "50%     42.076324   9.017009   46.279999  30.066399  \n",
       "75%     64.212723  11.886057   48.089603  43.862003  \n",
       "max    180.454575  32.847674  102.762401  90.053604  "
      ]
     },
     "metadata": {},
     "output_type": "display_data"
    }
   ],
   "source": [
    "display(data_wire.head(10))\n",
    "print(data_wire.info())\n",
    "display(data_wire.describe())"
   ]
  },
  {
   "cell_type": "code",
   "execution_count": 42,
   "id": "6eae55f9",
   "metadata": {},
   "outputs": [],
   "source": [
    "data_wire.columns = ['key', 'wire_1', 'wire_2', 'wire_3', 'wire_4', 'wire_5', 'wire_6', 'wire_7', 'wire_8', 'wire_9']"
   ]
  },
  {
   "cell_type": "markdown",
   "id": "d93cf8ae",
   "metadata": {},
   "source": [
    "Пропуски в данных означают не использование данной проволоки в данной партии. Их можно заменить нулями.\n",
    "\n",
    "В большинстве случаев использовалась проволока 1 и 2, все остальные использовались не больше, чем в 75 партиях, что стоставляет меньше 2% случаев."
   ]
  },
  {
   "cell_type": "code",
   "execution_count": 43,
   "id": "3706f737",
   "metadata": {},
   "outputs": [
    {
     "name": "stdout",
     "output_type": "stream",
     "text": [
      "3081\n"
     ]
    }
   ],
   "source": [
    "print(data_wire['key'].value_counts().count())"
   ]
  },
  {
   "cell_type": "markdown",
   "id": "1d867da6",
   "metadata": {},
   "source": [
    "Номера партий не повторяются."
   ]
  },
  {
   "cell_type": "markdown",
   "id": "aa7c0b9a",
   "metadata": {},
   "source": [
    "### data_wire_time"
   ]
  },
  {
   "cell_type": "code",
   "execution_count": 44,
   "id": "6d72417f",
   "metadata": {},
   "outputs": [
    {
     "data": {
      "text/html": [
       "<div>\n",
       "<style scoped>\n",
       "    .dataframe tbody tr th:only-of-type {\n",
       "        vertical-align: middle;\n",
       "    }\n",
       "\n",
       "    .dataframe tbody tr th {\n",
       "        vertical-align: top;\n",
       "    }\n",
       "\n",
       "    .dataframe thead th {\n",
       "        text-align: right;\n",
       "    }\n",
       "</style>\n",
       "<table border=\"1\" class=\"dataframe\">\n",
       "  <thead>\n",
       "    <tr style=\"text-align: right;\">\n",
       "      <th></th>\n",
       "      <th>key</th>\n",
       "      <th>Wire 1</th>\n",
       "      <th>Wire 2</th>\n",
       "      <th>Wire 3</th>\n",
       "      <th>Wire 4</th>\n",
       "      <th>Wire 5</th>\n",
       "      <th>Wire 6</th>\n",
       "      <th>Wire 7</th>\n",
       "      <th>Wire 8</th>\n",
       "      <th>Wire 9</th>\n",
       "    </tr>\n",
       "  </thead>\n",
       "  <tbody>\n",
       "    <tr>\n",
       "      <th>0</th>\n",
       "      <td>1</td>\n",
       "      <td>2019-05-03 11:11:41</td>\n",
       "      <td>NaN</td>\n",
       "      <td>NaN</td>\n",
       "      <td>NaN</td>\n",
       "      <td>NaN</td>\n",
       "      <td>NaN</td>\n",
       "      <td>NaN</td>\n",
       "      <td>NaN</td>\n",
       "      <td>NaN</td>\n",
       "    </tr>\n",
       "    <tr>\n",
       "      <th>1</th>\n",
       "      <td>2</td>\n",
       "      <td>2019-05-03 11:46:10</td>\n",
       "      <td>NaN</td>\n",
       "      <td>NaN</td>\n",
       "      <td>NaN</td>\n",
       "      <td>NaN</td>\n",
       "      <td>NaN</td>\n",
       "      <td>NaN</td>\n",
       "      <td>NaN</td>\n",
       "      <td>NaN</td>\n",
       "    </tr>\n",
       "    <tr>\n",
       "      <th>2</th>\n",
       "      <td>3</td>\n",
       "      <td>2019-05-03 12:13:47</td>\n",
       "      <td>NaN</td>\n",
       "      <td>NaN</td>\n",
       "      <td>NaN</td>\n",
       "      <td>NaN</td>\n",
       "      <td>NaN</td>\n",
       "      <td>NaN</td>\n",
       "      <td>NaN</td>\n",
       "      <td>NaN</td>\n",
       "    </tr>\n",
       "    <tr>\n",
       "      <th>3</th>\n",
       "      <td>4</td>\n",
       "      <td>2019-05-03 12:48:05</td>\n",
       "      <td>NaN</td>\n",
       "      <td>NaN</td>\n",
       "      <td>NaN</td>\n",
       "      <td>NaN</td>\n",
       "      <td>NaN</td>\n",
       "      <td>NaN</td>\n",
       "      <td>NaN</td>\n",
       "      <td>NaN</td>\n",
       "    </tr>\n",
       "    <tr>\n",
       "      <th>4</th>\n",
       "      <td>5</td>\n",
       "      <td>2019-05-03 13:18:15</td>\n",
       "      <td>2019-05-03 13:32:06</td>\n",
       "      <td>NaN</td>\n",
       "      <td>NaN</td>\n",
       "      <td>NaN</td>\n",
       "      <td>NaN</td>\n",
       "      <td>NaN</td>\n",
       "      <td>NaN</td>\n",
       "      <td>NaN</td>\n",
       "    </tr>\n",
       "    <tr>\n",
       "      <th>5</th>\n",
       "      <td>6</td>\n",
       "      <td>2019-05-03 13:59:02</td>\n",
       "      <td>2019-05-03 13:59:54</td>\n",
       "      <td>NaN</td>\n",
       "      <td>NaN</td>\n",
       "      <td>NaN</td>\n",
       "      <td>NaN</td>\n",
       "      <td>NaN</td>\n",
       "      <td>NaN</td>\n",
       "      <td>NaN</td>\n",
       "    </tr>\n",
       "    <tr>\n",
       "      <th>6</th>\n",
       "      <td>7</td>\n",
       "      <td>2019-05-03 14:28:46</td>\n",
       "      <td>NaN</td>\n",
       "      <td>NaN</td>\n",
       "      <td>NaN</td>\n",
       "      <td>NaN</td>\n",
       "      <td>NaN</td>\n",
       "      <td>NaN</td>\n",
       "      <td>NaN</td>\n",
       "      <td>NaN</td>\n",
       "    </tr>\n",
       "    <tr>\n",
       "      <th>7</th>\n",
       "      <td>8</td>\n",
       "      <td>2019-05-03 15:03:42</td>\n",
       "      <td>NaN</td>\n",
       "      <td>NaN</td>\n",
       "      <td>NaN</td>\n",
       "      <td>NaN</td>\n",
       "      <td>NaN</td>\n",
       "      <td>NaN</td>\n",
       "      <td>NaN</td>\n",
       "      <td>NaN</td>\n",
       "    </tr>\n",
       "    <tr>\n",
       "      <th>8</th>\n",
       "      <td>9</td>\n",
       "      <td>2019-05-03 15:42:43</td>\n",
       "      <td>2019-05-03 15:58:12</td>\n",
       "      <td>NaN</td>\n",
       "      <td>NaN</td>\n",
       "      <td>NaN</td>\n",
       "      <td>NaN</td>\n",
       "      <td>NaN</td>\n",
       "      <td>NaN</td>\n",
       "      <td>NaN</td>\n",
       "    </tr>\n",
       "    <tr>\n",
       "      <th>9</th>\n",
       "      <td>10</td>\n",
       "      <td>2019-05-03 16:20:25</td>\n",
       "      <td>2019-05-03 16:21:02</td>\n",
       "      <td>NaN</td>\n",
       "      <td>NaN</td>\n",
       "      <td>NaN</td>\n",
       "      <td>NaN</td>\n",
       "      <td>NaN</td>\n",
       "      <td>NaN</td>\n",
       "      <td>NaN</td>\n",
       "    </tr>\n",
       "  </tbody>\n",
       "</table>\n",
       "</div>"
      ],
      "text/plain": [
       "   key               Wire 1               Wire 2 Wire 3 Wire 4 Wire 5 Wire 6  \\\n",
       "0    1  2019-05-03 11:11:41                  NaN    NaN    NaN    NaN    NaN   \n",
       "1    2  2019-05-03 11:46:10                  NaN    NaN    NaN    NaN    NaN   \n",
       "2    3  2019-05-03 12:13:47                  NaN    NaN    NaN    NaN    NaN   \n",
       "3    4  2019-05-03 12:48:05                  NaN    NaN    NaN    NaN    NaN   \n",
       "4    5  2019-05-03 13:18:15  2019-05-03 13:32:06    NaN    NaN    NaN    NaN   \n",
       "5    6  2019-05-03 13:59:02  2019-05-03 13:59:54    NaN    NaN    NaN    NaN   \n",
       "6    7  2019-05-03 14:28:46                  NaN    NaN    NaN    NaN    NaN   \n",
       "7    8  2019-05-03 15:03:42                  NaN    NaN    NaN    NaN    NaN   \n",
       "8    9  2019-05-03 15:42:43  2019-05-03 15:58:12    NaN    NaN    NaN    NaN   \n",
       "9   10  2019-05-03 16:20:25  2019-05-03 16:21:02    NaN    NaN    NaN    NaN   \n",
       "\n",
       "  Wire 7 Wire 8 Wire 9  \n",
       "0    NaN    NaN    NaN  \n",
       "1    NaN    NaN    NaN  \n",
       "2    NaN    NaN    NaN  \n",
       "3    NaN    NaN    NaN  \n",
       "4    NaN    NaN    NaN  \n",
       "5    NaN    NaN    NaN  \n",
       "6    NaN    NaN    NaN  \n",
       "7    NaN    NaN    NaN  \n",
       "8    NaN    NaN    NaN  \n",
       "9    NaN    NaN    NaN  "
      ]
     },
     "metadata": {},
     "output_type": "display_data"
    },
    {
     "name": "stdout",
     "output_type": "stream",
     "text": [
      "<class 'pandas.core.frame.DataFrame'>\n",
      "RangeIndex: 3081 entries, 0 to 3080\n",
      "Data columns (total 10 columns):\n",
      " #   Column  Non-Null Count  Dtype \n",
      "---  ------  --------------  ----- \n",
      " 0   key     3081 non-null   int64 \n",
      " 1   Wire 1  3055 non-null   object\n",
      " 2   Wire 2  1079 non-null   object\n",
      " 3   Wire 3  63 non-null     object\n",
      " 4   Wire 4  14 non-null     object\n",
      " 5   Wire 5  1 non-null      object\n",
      " 6   Wire 6  73 non-null     object\n",
      " 7   Wire 7  11 non-null     object\n",
      " 8   Wire 8  19 non-null     object\n",
      " 9   Wire 9  29 non-null     object\n",
      "dtypes: int64(1), object(9)\n",
      "memory usage: 240.8+ KB\n",
      "None\n"
     ]
    }
   ],
   "source": [
    "display(data_wire_time.head(10))\n",
    "print(data_wire_time.info())"
   ]
  },
  {
   "cell_type": "code",
   "execution_count": 45,
   "id": "a2116b9e",
   "metadata": {},
   "outputs": [],
   "source": [
    "data_wire_time.columns = ['key', 'wire_1', 'wire_2', 'wire_3', 'wire_4', 'wire_5', 'wire_6', 'wire_7', 'wire_8', 'wire_9']"
   ]
  },
  {
   "cell_type": "code",
   "execution_count": 46,
   "id": "64ba7fdb",
   "metadata": {},
   "outputs": [
    {
     "name": "stdout",
     "output_type": "stream",
     "text": [
      "3081\n"
     ]
    }
   ],
   "source": [
    "print(data_wire_time['key'].value_counts().count())"
   ]
  },
  {
   "cell_type": "markdown",
   "id": "80487d48",
   "metadata": {},
   "source": [
    "Таблица соответствует предыдущей, с указанием времени подачи проволоки."
   ]
  },
  {
   "cell_type": "markdown",
   "id": "4548ecfe",
   "metadata": {},
   "source": [
    "## Создание общей таблицы"
   ]
  },
  {
   "cell_type": "code",
   "execution_count": 47,
   "id": "8b0c8f56",
   "metadata": {},
   "outputs": [],
   "source": [
    "data_all = data_arc_grouped.merge(data_temp_grouped, on='key', how='inner')"
   ]
  },
  {
   "cell_type": "code",
   "execution_count": 48,
   "id": "e2336eaa",
   "metadata": {},
   "outputs": [
    {
     "name": "stdout",
     "output_type": "stream",
     "text": [
      "<class 'pandas.core.frame.DataFrame'>\n",
      "Int64Index: 3185 entries, 1 to 3241\n",
      "Data columns (total 4 columns):\n",
      " #   Column                Non-Null Count  Dtype  \n",
      "---  ------                --------------  -----  \n",
      " 0   real_power            3185 non-null   float64\n",
      " 1   reactive_power        3185 non-null   float64\n",
      " 2   heating_duration_sek  3185 non-null   float64\n",
      " 3   launches_number       3185 non-null   int64  \n",
      "dtypes: float64(3), int64(1)\n",
      "memory usage: 124.4 KB\n"
     ]
    },
    {
     "data": {
      "text/plain": [
       "None"
      ]
     },
     "metadata": {},
     "output_type": "display_data"
    },
    {
     "name": "stdout",
     "output_type": "stream",
     "text": [
      "<class 'pandas.core.frame.DataFrame'>\n",
      "Int64Index: 2437 entries, 1 to 2499\n",
      "Data columns (total 3 columns):\n",
      " #   Column                              Non-Null Count  Dtype  \n",
      "---  ------                              --------------  -----  \n",
      " 0   temperature_first                   2437 non-null   float64\n",
      " 1   temperature_last                    2437 non-null   float64\n",
      " 2   temperature_measurement_time_delta  2437 non-null   float64\n",
      "dtypes: float64(3)\n",
      "memory usage: 76.2 KB\n"
     ]
    },
    {
     "data": {
      "text/plain": [
       "None"
      ]
     },
     "metadata": {},
     "output_type": "display_data"
    },
    {
     "name": "stdout",
     "output_type": "stream",
     "text": [
      "<class 'pandas.core.frame.DataFrame'>\n",
      "Int64Index: 2426 entries, 1 to 2499\n",
      "Data columns (total 7 columns):\n",
      " #   Column                              Non-Null Count  Dtype  \n",
      "---  ------                              --------------  -----  \n",
      " 0   real_power                          2426 non-null   float64\n",
      " 1   reactive_power                      2426 non-null   float64\n",
      " 2   heating_duration_sek                2426 non-null   float64\n",
      " 3   launches_number                     2426 non-null   int64  \n",
      " 4   temperature_first                   2426 non-null   float64\n",
      " 5   temperature_last                    2426 non-null   float64\n",
      " 6   temperature_measurement_time_delta  2426 non-null   float64\n",
      "dtypes: float64(6), int64(1)\n",
      "memory usage: 151.6 KB\n"
     ]
    },
    {
     "data": {
      "text/plain": [
       "None"
      ]
     },
     "metadata": {},
     "output_type": "display_data"
    },
    {
     "data": {
      "text/html": [
       "<div>\n",
       "<style scoped>\n",
       "    .dataframe tbody tr th:only-of-type {\n",
       "        vertical-align: middle;\n",
       "    }\n",
       "\n",
       "    .dataframe tbody tr th {\n",
       "        vertical-align: top;\n",
       "    }\n",
       "\n",
       "    .dataframe thead th {\n",
       "        text-align: right;\n",
       "    }\n",
       "</style>\n",
       "<table border=\"1\" class=\"dataframe\">\n",
       "  <thead>\n",
       "    <tr style=\"text-align: right;\">\n",
       "      <th></th>\n",
       "      <th>real_power</th>\n",
       "      <th>reactive_power</th>\n",
       "      <th>heating_duration_sek</th>\n",
       "      <th>launches_number</th>\n",
       "      <th>temperature_first</th>\n",
       "      <th>temperature_last</th>\n",
       "      <th>temperature_measurement_time_delta</th>\n",
       "    </tr>\n",
       "    <tr>\n",
       "      <th>key</th>\n",
       "      <th></th>\n",
       "      <th></th>\n",
       "      <th></th>\n",
       "      <th></th>\n",
       "      <th></th>\n",
       "      <th></th>\n",
       "      <th></th>\n",
       "    </tr>\n",
       "  </thead>\n",
       "  <tbody>\n",
       "    <tr>\n",
       "      <th>1</th>\n",
       "      <td>4.878147</td>\n",
       "      <td>3.183241</td>\n",
       "      <td>1098.0</td>\n",
       "      <td>5</td>\n",
       "      <td>1571.0</td>\n",
       "      <td>1613.0</td>\n",
       "      <td>861.0</td>\n",
       "    </tr>\n",
       "    <tr>\n",
       "      <th>2</th>\n",
       "      <td>3.052598</td>\n",
       "      <td>1.998112</td>\n",
       "      <td>811.0</td>\n",
       "      <td>4</td>\n",
       "      <td>1581.0</td>\n",
       "      <td>1602.0</td>\n",
       "      <td>1305.0</td>\n",
       "    </tr>\n",
       "    <tr>\n",
       "      <th>3</th>\n",
       "      <td>2.525882</td>\n",
       "      <td>1.599076</td>\n",
       "      <td>655.0</td>\n",
       "      <td>5</td>\n",
       "      <td>1596.0</td>\n",
       "      <td>1599.0</td>\n",
       "      <td>1300.0</td>\n",
       "    </tr>\n",
       "    <tr>\n",
       "      <th>4</th>\n",
       "      <td>3.209250</td>\n",
       "      <td>2.060298</td>\n",
       "      <td>741.0</td>\n",
       "      <td>4</td>\n",
       "      <td>1601.0</td>\n",
       "      <td>1625.0</td>\n",
       "      <td>388.0</td>\n",
       "    </tr>\n",
       "    <tr>\n",
       "      <th>5</th>\n",
       "      <td>3.347173</td>\n",
       "      <td>2.252643</td>\n",
       "      <td>869.0</td>\n",
       "      <td>4</td>\n",
       "      <td>1576.0</td>\n",
       "      <td>1602.0</td>\n",
       "      <td>762.0</td>\n",
       "    </tr>\n",
       "  </tbody>\n",
       "</table>\n",
       "</div>"
      ],
      "text/plain": [
       "     real_power  reactive_power  heating_duration_sek  launches_number  \\\n",
       "key                                                                      \n",
       "1      4.878147        3.183241                1098.0                5   \n",
       "2      3.052598        1.998112                 811.0                4   \n",
       "3      2.525882        1.599076                 655.0                5   \n",
       "4      3.209250        2.060298                 741.0                4   \n",
       "5      3.347173        2.252643                 869.0                4   \n",
       "\n",
       "     temperature_first  temperature_last  temperature_measurement_time_delta  \n",
       "key                                                                           \n",
       "1               1571.0            1613.0                               861.0  \n",
       "2               1581.0            1602.0                              1305.0  \n",
       "3               1596.0            1599.0                              1300.0  \n",
       "4               1601.0            1625.0                               388.0  \n",
       "5               1576.0            1602.0                               762.0  "
      ]
     },
     "metadata": {},
     "output_type": "display_data"
    }
   ],
   "source": [
    "display(data_arc_grouped.info())\n",
    "display(data_temp_grouped.info())\n",
    "display(data_all.info())\n",
    "display(data_all.head())"
   ]
  },
  {
   "cell_type": "markdown",
   "id": "982c3498",
   "metadata": {},
   "source": [
    "В объединенных двух таблицах содержится ключевая информация, такая как мощность, длительность нагрева, начальная и конечная температуры. Если данная информация отсутствует, то нельзя предсказать конечный результат основываясь только на наличии легирующих добавок. Поэтому, на данном этапе, объединили таблицы методом inner."
   ]
  },
  {
   "cell_type": "markdown",
   "id": "2e0c3302",
   "metadata": {},
   "source": [
    "Добавим в таблицу информацию про инертный газ. На данном этапе будем добавлять данные методом left, т.к. нас интересуют только номера партий, про которые есть ключевая информация."
   ]
  },
  {
   "cell_type": "code",
   "execution_count": 49,
   "id": "2005ee16",
   "metadata": {},
   "outputs": [
    {
     "name": "stdout",
     "output_type": "stream",
     "text": [
      "<class 'pandas.core.frame.DataFrame'>\n",
      "Int64Index: 2426 entries, 0 to 2425\n",
      "Data columns (total 9 columns):\n",
      " #   Column                              Non-Null Count  Dtype  \n",
      "---  ------                              --------------  -----  \n",
      " 0   key                                 2426 non-null   int64  \n",
      " 1   real_power                          2426 non-null   float64\n",
      " 2   reactive_power                      2426 non-null   float64\n",
      " 3   heating_duration_sek                2426 non-null   float64\n",
      " 4   launches_number                     2426 non-null   int64  \n",
      " 5   temperature_first                   2426 non-null   float64\n",
      " 6   temperature_last                    2426 non-null   float64\n",
      " 7   temperature_measurement_time_delta  2426 non-null   float64\n",
      " 8   gas                                 2416 non-null   float64\n",
      "dtypes: float64(7), int64(2)\n",
      "memory usage: 189.5 KB\n",
      "None\n"
     ]
    }
   ],
   "source": [
    "data_all = data_all.merge(data_gas, on='key', how='left')\n",
    "print(data_all.info())"
   ]
  },
  {
   "cell_type": "markdown",
   "id": "19e72a59",
   "metadata": {},
   "source": [
    "Всего 10 данных имеют пропуски. Удалим их, раз их так мало."
   ]
  },
  {
   "cell_type": "code",
   "execution_count": 50,
   "id": "460d8434",
   "metadata": {},
   "outputs": [],
   "source": [
    "data_all = data_all.dropna()"
   ]
  },
  {
   "cell_type": "markdown",
   "id": "443167c2",
   "metadata": {},
   "source": [
    "Создадим общую таблицу с легирующими добавками. Объединим таблицы с сыпучими материалами и с проволоками методом outer, потому что на данном этапе необходимы все существующие данные."
   ]
  },
  {
   "cell_type": "code",
   "execution_count": 51,
   "id": "bbe2179e",
   "metadata": {},
   "outputs": [],
   "source": [
    "data_aggregates = data_bulk.merge(data_wire, on='key', how='outer')"
   ]
  },
  {
   "cell_type": "code",
   "execution_count": 52,
   "id": "68a67ead",
   "metadata": {},
   "outputs": [
    {
     "name": "stdout",
     "output_type": "stream",
     "text": [
      "<class 'pandas.core.frame.DataFrame'>\n",
      "Int64Index: 3185 entries, 0 to 3184\n",
      "Data columns (total 25 columns):\n",
      " #   Column   Non-Null Count  Dtype  \n",
      "---  ------   --------------  -----  \n",
      " 0   key      3185 non-null   int64  \n",
      " 1   bulk_1   252 non-null    float64\n",
      " 2   bulk_2   22 non-null     float64\n",
      " 3   bulk_3   1298 non-null   float64\n",
      " 4   bulk_4   1014 non-null   float64\n",
      " 5   bulk_5   77 non-null     float64\n",
      " 6   bulk_6   576 non-null    float64\n",
      " 7   bulk_7   25 non-null     float64\n",
      " 8   bulk_8   1 non-null      float64\n",
      " 9   bulk_9   19 non-null     float64\n",
      " 10  bulk_10  176 non-null    float64\n",
      " 11  bulk_11  177 non-null    float64\n",
      " 12  bulk_12  2450 non-null   float64\n",
      " 13  bulk_13  18 non-null     float64\n",
      " 14  bulk_14  2806 non-null   float64\n",
      " 15  bulk_15  2248 non-null   float64\n",
      " 16  wire_1   3055 non-null   float64\n",
      " 17  wire_2   1079 non-null   float64\n",
      " 18  wire_3   63 non-null     float64\n",
      " 19  wire_4   14 non-null     float64\n",
      " 20  wire_5   1 non-null      float64\n",
      " 21  wire_6   73 non-null     float64\n",
      " 22  wire_7   11 non-null     float64\n",
      " 23  wire_8   19 non-null     float64\n",
      " 24  wire_9   29 non-null     float64\n",
      "dtypes: float64(24), int64(1)\n",
      "memory usage: 647.0 KB\n"
     ]
    },
    {
     "data": {
      "text/plain": [
       "None"
      ]
     },
     "metadata": {},
     "output_type": "display_data"
    }
   ],
   "source": [
    "display(data_aggregates.info())"
   ]
  },
  {
   "cell_type": "markdown",
   "id": "dc1afe9b",
   "metadata": {},
   "source": [
    "Удалим добавки, которые использовались меньше 30 раз. Это использование в меньше чем 1% случаев, данных слишком мало, чтобы они могли положительно повлиятьт на обучение модели.\n",
    "\n",
    "В оставшихся данных заполним пропуски нулями."
   ]
  },
  {
   "cell_type": "code",
   "execution_count": 53,
   "id": "a6338547",
   "metadata": {},
   "outputs": [],
   "source": [
    "data_aggregates = data_aggregates.fillna(0)"
   ]
  },
  {
   "cell_type": "code",
   "execution_count": 54,
   "id": "cf7b23c7",
   "metadata": {},
   "outputs": [],
   "source": [
    "data_aggregates = data_aggregates.drop(['bulk_2', 'bulk_7', 'bulk_8', 'bulk_9', 'bulk_13', 'wire_4', 'wire_5', 'wire_7', 'wire_8', 'wire_9'], axis=1)"
   ]
  },
  {
   "cell_type": "markdown",
   "id": "a0282e1b",
   "metadata": {},
   "source": [
    "Построим heatmap для каждой из таблиц, проверим признаки на мультиколлинеарность."
   ]
  },
  {
   "cell_type": "code",
   "execution_count": 55,
   "id": "da477ba2",
   "metadata": {},
   "outputs": [
    {
     "data": {
      "image/png": "[encoded data removed]",
      "text/plain": [
       "<Figure size 504x504 with 2 Axes>"
      ]
     },
     "metadata": {
      "needs_background": "light"
     },
     "output_type": "display_data"
    }
   ],
   "source": [
    "plt.figure(figsize=(7,7))\n",
    "heatmap = sns.heatmap(data_all.corr(), vmin=-1, vmax=1, annot=True)\n",
    "plt.show()"
   ]
  },
  {
   "cell_type": "markdown",
   "id": "c68f40da",
   "metadata": {},
   "source": [
    "Наблюдается сильная линейная зависимость между активной мощностью, реактивной мощностью и продолжительностью нагрева. Это естественно, т.к. все 3 эти величины связаны известными физическими формулами и получаются одна из другой. Так же достаточно высокая корреляция этих трёх величин с количеством включений нагрева, потому что от этого количества сильно зависит общая продолжительность нагрева.\n",
    "\n",
    "Таким образом, для обучения модели необходимо оставить одну из этих величин, например, продолжительность нагрева в секундах."
   ]
  },
  {
   "cell_type": "code",
   "execution_count": 56,
   "id": "601edf4b",
   "metadata": {},
   "outputs": [],
   "source": [
    "data_all = data_all.drop(['real_power', 'reactive_power', 'launches_number'], axis=1)"
   ]
  },
  {
   "cell_type": "code",
   "execution_count": 57,
   "id": "28944600",
   "metadata": {},
   "outputs": [
    {
     "data": {
      "image/png": "[encoded data removed]",
      "text/plain": [
       "<Figure size 864x864 with 2 Axes>"
      ]
     },
     "metadata": {
      "needs_background": "light"
     },
     "output_type": "display_data"
    }
   ],
   "source": [
    "plt.figure(figsize=(12,12))\n",
    "heatmap = sns.heatmap(data_aggregates.corr(), vmin=-1, vmax=1, annot=True)\n",
    "plt.show()"
   ]
  },
  {
   "cell_type": "markdown",
   "id": "8ed68571",
   "metadata": {},
   "source": [
    "Объединим таблицу с основной информацией и таблицу с добавками методом left."
   ]
  },
  {
   "cell_type": "code",
   "execution_count": 58,
   "id": "c27f1602",
   "metadata": {},
   "outputs": [],
   "source": [
    "data_all = data_all.merge(data_aggregates, on='key', how='left')"
   ]
  },
  {
   "cell_type": "code",
   "execution_count": 59,
   "id": "91a96972",
   "metadata": {},
   "outputs": [
    {
     "name": "stdout",
     "output_type": "stream",
     "text": [
      "<class 'pandas.core.frame.DataFrame'>\n",
      "Int64Index: 2416 entries, 0 to 2415\n",
      "Data columns (total 20 columns):\n",
      " #   Column                              Non-Null Count  Dtype  \n",
      "---  ------                              --------------  -----  \n",
      " 0   key                                 2416 non-null   int64  \n",
      " 1   heating_duration_sek                2416 non-null   float64\n",
      " 2   temperature_first                   2416 non-null   float64\n",
      " 3   temperature_last                    2416 non-null   float64\n",
      " 4   temperature_measurement_time_delta  2416 non-null   float64\n",
      " 5   gas                                 2416 non-null   float64\n",
      " 6   bulk_1                              2389 non-null   float64\n",
      " 7   bulk_3                              2389 non-null   float64\n",
      " 8   bulk_4                              2389 non-null   float64\n",
      " 9   bulk_5                              2389 non-null   float64\n",
      " 10  bulk_6                              2389 non-null   float64\n",
      " 11  bulk_10                             2389 non-null   float64\n",
      " 12  bulk_11                             2389 non-null   float64\n",
      " 13  bulk_12                             2389 non-null   float64\n",
      " 14  bulk_14                             2389 non-null   float64\n",
      " 15  bulk_15                             2389 non-null   float64\n",
      " 16  wire_1                              2389 non-null   float64\n",
      " 17  wire_2                              2389 non-null   float64\n",
      " 18  wire_3                              2389 non-null   float64\n",
      " 19  wire_6                              2389 non-null   float64\n",
      "dtypes: float64(19), int64(1)\n",
      "memory usage: 396.4 KB\n",
      "None\n"
     ]
    }
   ],
   "source": [
    "print(data_all.info())"
   ]
  },
  {
   "cell_type": "markdown",
   "id": "6de50ffe",
   "metadata": {},
   "source": [
    "Есть 27 строк, в которых полностью отсутствует информация о легирующих добавках. Процент таких данных достаточно маленький, поэтому удалим их."
   ]
  },
  {
   "cell_type": "code",
   "execution_count": 60,
   "id": "b04e7ac6",
   "metadata": {},
   "outputs": [],
   "source": [
    "data_all = data_all.dropna()"
   ]
  },
  {
   "cell_type": "code",
   "execution_count": 61,
   "id": "f10cf57f",
   "metadata": {},
   "outputs": [
    {
     "data": {
      "image/png": "[encoded data removed]",
      "text/plain": [
       "<Figure size 1224x1224 with 2 Axes>"
      ]
     },
     "metadata": {
      "needs_background": "light"
     },
     "output_type": "display_data"
    }
   ],
   "source": [
    "plt.figure(figsize=(17,17))\n",
    "heatmap = sns.heatmap(data_all.corr(), vmin=-1, vmax=1, annot=True)\n",
    "plt.show()"
   ]
  },
  {
   "cell_type": "markdown",
   "id": "2a29b857",
   "metadata": {},
   "source": [
    "## Вывод"
   ]
  },
  {
   "cell_type": "markdown",
   "id": "b6a6c35d",
   "metadata": {},
   "source": [
    "Данные проанализированы, очищены от выбросов, приведены к удобному для работы виду. Построена матрица корреляций, удалены признаки, приводящие к мультиколлинеарности."
   ]
  },
  {
   "cell_type": "markdown",
   "id": "23c761a4",
   "metadata": {},
   "source": [
    "# План работы"
   ]
  },
  {
   "cell_type": "markdown",
   "id": "de11aa6f",
   "metadata": {},
   "source": [
    "1. Провести статистический анализ данных (выполнено)\n",
    "2. Объединить таблицы с признаками в одну, оставить необходимые признаки (выполнено)\n",
    "3. Разделить данные на признаки и целевой признак. Разделить на тестовую, валидационную и тренировочную выборки\n",
    "4. Обучить различные модели, сравнить качество, проанализировать результат. При необходимости, провести более тщательную предобработку данных, возможно сделть генерацию дополнительных признаков. Выбрать оптимальную модель\n",
    "5. Сделать выводы по работе"
   ]
  },
  {
   "cell_type": "markdown",
   "id": "b4c01919",
   "metadata": {},
   "source": [
    "# Обучение модели"
   ]
  },
  {
   "cell_type": "markdown",
   "id": "35d3208e",
   "metadata": {},
   "source": [
    "Разделим данные на признаки и целевой признак. Поделим данные на обучающую, валидационную и тестовую выборки."
   ]
  },
  {
   "cell_type": "code",
   "execution_count": 62,
   "id": "f896a54d",
   "metadata": {},
   "outputs": [],
   "source": [
    "X = data_all.drop(['temperature_last', 'key'], axis=1)\n",
    "y = data_all['temperature_last']\n",
    "\n",
    "X_pre_train, X_test, y_pre_train, y_test = train_test_split(X, y, test_size=0.20, random_state=123)\n",
    "X_train, X_valid, y_train, y_valid = train_test_split(X_pre_train, y_pre_train, test_size=0.25, random_state=123)"
   ]
  },
  {
   "cell_type": "code",
   "execution_count": 63,
   "id": "fefd0092",
   "metadata": {},
   "outputs": [],
   "source": [
    "feature_names = X_train.columns"
   ]
  },
  {
   "cell_type": "markdown",
   "id": "aa69f9bb",
   "metadata": {},
   "source": [
    "Произведем масштабирование данных."
   ]
  },
  {
   "cell_type": "code",
   "execution_count": 64,
   "id": "eeff1c6d",
   "metadata": {},
   "outputs": [],
   "source": [
    "scaler = StandardScaler()\n",
    "scaler.fit(X_train)\n",
    "\n",
    "X_train = scaler.transform(X_train)\n",
    "X_valid = scaler.transform(X_valid)\n",
    "X_test = scaler.transform(X_test)"
   ]
  },
  {
   "cell_type": "markdown",
   "id": "10f41b96",
   "metadata": {},
   "source": [
    "Обучим разные модели."
   ]
  },
  {
   "cell_type": "markdown",
   "id": "98ee00d4",
   "metadata": {},
   "source": [
    "### Линейная регрессия"
   ]
  },
  {
   "cell_type": "code",
   "execution_count": 65,
   "id": "50d498a2",
   "metadata": {},
   "outputs": [
    {
     "name": "stdout",
     "output_type": "stream",
     "text": [
      "MAE модели LinearRegression: 7.336\n",
      "Wall time: 12 ms\n"
     ]
    }
   ],
   "source": [
    "%%time\n",
    "\n",
    "model1 = LinearRegression()\n",
    "model1.fit(X_train, y_train)\n",
    "pred1 = model1.predict(X_valid)\n",
    "print(f'MAE модели LinearRegression: {mean_absolute_error(y_valid, pred1):.3f}')"
   ]
  },
  {
   "cell_type": "markdown",
   "id": "2bae70a0",
   "metadata": {},
   "source": [
    "### Случайный лес"
   ]
  },
  {
   "cell_type": "markdown",
   "id": "6974e966",
   "metadata": {},
   "source": [
    "Для случайного леса подберем параметры при помощи GridSearchCV"
   ]
  },
  {
   "cell_type": "code",
   "execution_count": 66,
   "id": "98d72802",
   "metadata": {},
   "outputs": [
    {
     "name": "stdout",
     "output_type": "stream",
     "text": [
      "Комбинация параметров, которая дает лучший результат: {'max_depth': 14, 'n_estimators': 140}\n",
      "Минимальный MAE: 6.290\n",
      "Wall time: 49.2 s\n"
     ]
    }
   ],
   "source": [
    "%%time\n",
    "\n",
    "model = RandomForestRegressor(random_state=123)\n",
    "params = {'max_depth': np.arange(6, 21, 2), 'n_estimators': np.arange(80,151,10)}\n",
    "grid = GridSearchCV(model, params, scoring='neg_mean_absolute_error', cv=2)\n",
    "grid.fit(X_train, y_train)\n",
    "\n",
    "print('Комбинация параметров, которая дает лучший результат:', grid.best_params_)\n",
    "print(f'Минимальный MAE: {abs(grid.best_score_):.3f}')"
   ]
  },
  {
   "cell_type": "markdown",
   "id": "5338f339",
   "metadata": {},
   "source": [
    "Обучим модель с полученными параметрами и проверим на валидационной выборке."
   ]
  },
  {
   "cell_type": "code",
   "execution_count": 67,
   "id": "25768ded",
   "metadata": {},
   "outputs": [
    {
     "name": "stdout",
     "output_type": "stream",
     "text": [
      "MAE модели RandomForest: 6.562\n",
      "Wall time: 907 ms\n"
     ]
    }
   ],
   "source": [
    "%%time\n",
    "\n",
    "model2 = RandomForestRegressor(n_estimators=140, max_depth=14, random_state=123)\n",
    "model2.fit(X_train, y_train)\n",
    "pred2 = model2.predict(X_valid)\n",
    "print(f'MAE модели RandomForest: {mean_absolute_error(y_valid, pred2):.3f}')"
   ]
  },
  {
   "cell_type": "markdown",
   "id": "a699f3e3",
   "metadata": {},
   "source": [
    "### Решающее дерево"
   ]
  },
  {
   "cell_type": "code",
   "execution_count": 68,
   "id": "0d161717",
   "metadata": {},
   "outputs": [
    {
     "name": "stdout",
     "output_type": "stream",
     "text": [
      "MAE модели DecisionTree: 8.910\n",
      "Wall time: 12 ms\n"
     ]
    }
   ],
   "source": [
    "%%time\n",
    "\n",
    "model3 = DecisionTreeRegressor(random_state=123)\n",
    "model3.fit(X_train, y_train)\n",
    "pred3 = model3.predict(X_valid)\n",
    "print(f'MAE модели DecisionTree: {mean_absolute_error(y_valid, pred3):.3f}')"
   ]
  },
  {
   "cell_type": "markdown",
   "id": "3540de6e",
   "metadata": {},
   "source": [
    "### LGBMRegressor"
   ]
  },
  {
   "cell_type": "code",
   "execution_count": 69,
   "id": "d604d8c1",
   "metadata": {},
   "outputs": [
    {
     "name": "stdout",
     "output_type": "stream",
     "text": [
      "Комбинация параметров, которая дает лучший результат: {'max_depth': 3, 'n_estimators': 90}\n",
      "Минимальный MAE: 6.063\n",
      "Wall time: 18.9 s\n"
     ]
    }
   ],
   "source": [
    "%%time\n",
    "\n",
    "model = LGBMRegressor(random_state=123)\n",
    "params = {'max_depth': np.arange(1, 21, 2), 'n_estimators': np.arange(50,221,10)}\n",
    "grid = GridSearchCV(model, params, scoring='neg_mean_absolute_error', cv=2)\n",
    "grid.fit(X_train, y_train)\n",
    "\n",
    "print('Комбинация параметров, которая дает лучший результат:', grid.best_params_)\n",
    "print(f'Минимальный MAE: {abs(grid.best_score_):.3f}')"
   ]
  },
  {
   "cell_type": "code",
   "execution_count": 70,
   "id": "11ea344f",
   "metadata": {},
   "outputs": [
    {
     "name": "stdout",
     "output_type": "stream",
     "text": [
      "MAE модели LGBMRegressor: 6.419\n",
      "Wall time: 22 ms\n"
     ]
    }
   ],
   "source": [
    "%%time\n",
    "\n",
    "model4 = LGBMRegressor(max_depth = 3, n_estimators=90, random_state=123)\n",
    "model4.fit(X_train, y_train)\n",
    "\n",
    "pred4 = model4.predict(X_valid)\n",
    "print(f'MAE модели LGBMRegressor: {mean_absolute_error(y_valid, pred4):.3f}')"
   ]
  },
  {
   "cell_type": "markdown",
   "id": "768c0436",
   "metadata": {},
   "source": [
    "### CatBoostRegressor"
   ]
  },
  {
   "cell_type": "code",
   "execution_count": 71,
   "id": "c7e9dce1",
   "metadata": {},
   "outputs": [
    {
     "name": "stdout",
     "output_type": "stream",
     "text": [
      "Комбинация параметров, которая дает лучший результат: {'iterations': 500, 'learning_rate': 0.028}\n",
      "Минимальный MAE: 5.957\n",
      "Wall time: 38.4 s\n"
     ]
    }
   ],
   "source": [
    "%%time\n",
    "\n",
    "model = CatBoostRegressor(random_seed=123, loss_function='RMSE', verbose=0)\n",
    "params = {'learning_rate': np.arange(0.028, 0.036, 0.002), 'iterations': np.arange(500,800,50)}\n",
    "grid = GridSearchCV(model, params, scoring='neg_mean_absolute_error', cv=2)\n",
    "grid.fit(X_train, y_train)\n",
    "\n",
    "print('Комбинация параметров, которая дает лучший результат:', grid.best_params_)\n",
    "print(f'Минимальный MAE: {abs(grid.best_score_):.3f}')"
   ]
  },
  {
   "cell_type": "code",
   "execution_count": 72,
   "id": "dff143b6",
   "metadata": {},
   "outputs": [
    {
     "name": "stdout",
     "output_type": "stream",
     "text": [
      "0:\tlearn: 14.3939949\ttotal: 49.6ms\tremaining: 24.8s\n",
      "50:\tlearn: 9.4582738\ttotal: 121ms\tremaining: 1.07s\n",
      "100:\tlearn: 7.9500676\ttotal: 195ms\tremaining: 772ms\n",
      "150:\tlearn: 7.2756558\ttotal: 270ms\tremaining: 624ms\n",
      "200:\tlearn: 6.8607718\ttotal: 341ms\tremaining: 508ms\n",
      "250:\tlearn: 6.5425861\ttotal: 411ms\tremaining: 407ms\n",
      "300:\tlearn: 6.2690533\ttotal: 488ms\tremaining: 322ms\n",
      "350:\tlearn: 6.0199352\ttotal: 558ms\tremaining: 237ms\n",
      "400:\tlearn: 5.8179074\ttotal: 627ms\tremaining: 155ms\n",
      "450:\tlearn: 5.6266067\ttotal: 698ms\tremaining: 75.9ms\n",
      "499:\tlearn: 5.4403134\ttotal: 768ms\tremaining: 0us\n",
      "MAE модели CatBoostRegressor: 6.269\n",
      "Wall time: 838 ms\n"
     ]
    }
   ],
   "source": [
    "%%time\n",
    "\n",
    "model5 = CatBoostRegressor(loss_function='RMSE', iterations=500, learning_rate=0.028, random_seed=123)\n",
    "model5.fit(X_train, y_train, verbose=50)\n",
    "\n",
    "pred5 = model5.predict(X_valid)\n",
    "print(f'MAE модели CatBoostRegressor: {mean_absolute_error(y_valid, pred5):.3f}')"
   ]
  },
  {
   "cell_type": "markdown",
   "id": "dceddef3",
   "metadata": {},
   "source": [
    "Наилучший результат на валидационных данных показала модель CatBoostRegressor. \n",
    "\n",
    "Проверим работу моделей на тестовой выборке."
   ]
  },
  {
   "cell_type": "code",
   "execution_count": 73,
   "id": "68a9237f",
   "metadata": {},
   "outputs": [
    {
     "name": "stdout",
     "output_type": "stream",
     "text": [
      "MAE модели LinearRegression: 6.355\n",
      "MAE модели RandomForest: 5.621\n",
      "MAE модели DecisionTree: 8.218\n",
      "MAE модели LGBMRegressor: 5.500\n",
      "MAE модели CatBoostRegressor: 5.290\n"
     ]
    }
   ],
   "source": [
    "pred_test1 = model1.predict(X_test)\n",
    "print(f'MAE модели LinearRegression: {mean_absolute_error(y_test, pred_test1):.3f}')\n",
    "pred_test2 = model2.predict(X_test)\n",
    "print(f'MAE модели RandomForest: {mean_absolute_error(y_test, pred_test2):.3f}')\n",
    "pred_test3 = model3.predict(X_test)\n",
    "print(f'MAE модели DecisionTree: {mean_absolute_error(y_test, pred_test3):.3f}')\n",
    "pred_test4 = model4.predict(X_test)\n",
    "print(f'MAE модели LGBMRegressor: {mean_absolute_error(y_test, pred_test4):.3f}')\n",
    "pred_test5 = model5.predict(X_test)\n",
    "print(f'MAE модели CatBoostRegressor: {mean_absolute_error(y_test, pred_test5):.3f}')"
   ]
  },
  {
   "cell_type": "code",
   "execution_count": 74,
   "id": "db05c6d8",
   "metadata": {},
   "outputs": [],
   "source": [
    "table = pd.DataFrame({'Модель': ['DecisionTree', 'LinearRegression', 'RandomForest', 'LGBM', 'CatBoost'], \\\n",
    "                      'MAE на тестовой выборке': ['8.218', '6.355', '5.621', '5.500', '5.290'], \\\n",
    "                      'Время на fit и predict': ['12 ms', '12 ms', '907 ms', '22 ms', '838 ms']})"
   ]
  },
  {
   "cell_type": "markdown",
   "id": "ac9ee2ad",
   "metadata": {},
   "source": [
    "## Вывод"
   ]
  },
  {
   "cell_type": "markdown",
   "id": "dc1b94ae",
   "metadata": {},
   "source": [
    "Наилучший результат MAE на тестовой выборке, который удалось получить: MAE = 5.29"
   ]
  },
  {
   "cell_type": "markdown",
   "id": "c1a7a569",
   "metadata": {},
   "source": [
    "Проанализируем влияние факторов на целевой признак."
   ]
  },
  {
   "cell_type": "code",
   "execution_count": 75,
   "id": "f4e5a20c",
   "metadata": {},
   "outputs": [],
   "source": [
    "importance = pd.DataFrame({'feature_importance': model5.get_feature_importance(), \n",
    "              'feature_names': feature_names}).sort_values(by=['feature_importance'], ascending=True)"
   ]
  },
  {
   "cell_type": "code",
   "execution_count": 76,
   "id": "552a680f",
   "metadata": {},
   "outputs": [
    {
     "data": {
      "image/png": "[encoded data removed]",
      "text/plain": [
       "<Figure size 720x432 with 1 Axes>"
      ]
     },
     "metadata": {
      "needs_background": "light"
     },
     "output_type": "display_data"
    }
   ],
   "source": [
    "importance.plot.barh(x='feature_names', y='feature_importance', legend=False, figsize=(10,6), grid=True)\n",
    "plt.title('Важность признаков')\n",
    "plt.xlabel('Влияние на целевой признак, %')\n",
    "plt.ylabel('Фактор')\n",
    "plt.show()"
   ]
  },
  {
   "cell_type": "markdown",
   "id": "830d31cc",
   "metadata": {},
   "source": [
    "Наибольшее влияние на целевой признак оказывают: начальная температура расплава, количество легирующей добавки в виде проволоки wire_1 и продолжительность нагрева электродами. Сыпучие добавки 11, 5, 10 и проволоки 6, 3 имеют влияние меньше 1%, следовательно их можно не учитывать при моделировании."
   ]
  },
  {
   "cell_type": "markdown",
   "id": "5f953c4d",
   "metadata": {},
   "source": [
    "# Выводы по работе"
   ]
  },
  {
   "cell_type": "markdown",
   "id": "c4cc3224",
   "metadata": {},
   "source": [
    "В данной работе были получены данные со сталелитейного производства о процессе производства стали в дуговой электроплавильной печи. Данные были предоставлены в разных таблицах.\n",
    "\n",
    "В ходе работы данные были проанализированы, очищены от выбросов, удалены ошибки в данных. Вся информация была собрана в единую таблицу.\n",
    "\n",
    "Было обучено несколько различных моделей, результаты работы которых представлены в таблице."
   ]
  },
  {
   "cell_type": "code",
   "execution_count": 77,
   "id": "0cd9d43e",
   "metadata": {},
   "outputs": [
    {
     "data": {
      "text/html": [
       "<div>\n",
       "<style scoped>\n",
       "    .dataframe tbody tr th:only-of-type {\n",
       "        vertical-align: middle;\n",
       "    }\n",
       "\n",
       "    .dataframe tbody tr th {\n",
       "        vertical-align: top;\n",
       "    }\n",
       "\n",
       "    .dataframe thead th {\n",
       "        text-align: right;\n",
       "    }\n",
       "</style>\n",
       "<table border=\"1\" class=\"dataframe\">\n",
       "  <thead>\n",
       "    <tr style=\"text-align: right;\">\n",
       "      <th></th>\n",
       "      <th>Модель</th>\n",
       "      <th>MAE на тестовой выборке</th>\n",
       "      <th>Время на fit и predict</th>\n",
       "    </tr>\n",
       "  </thead>\n",
       "  <tbody>\n",
       "    <tr>\n",
       "      <th>0</th>\n",
       "      <td>DecisionTree</td>\n",
       "      <td>8.218</td>\n",
       "      <td>20.8 ms</td>\n",
       "    </tr>\n",
       "    <tr>\n",
       "      <th>1</th>\n",
       "      <td>LinearRegression</td>\n",
       "      <td>6.355</td>\n",
       "      <td>22.4 ms</td>\n",
       "    </tr>\n",
       "    <tr>\n",
       "      <th>2</th>\n",
       "      <td>RandomForest</td>\n",
       "      <td>5.621</td>\n",
       "      <td>1.64 s</td>\n",
       "    </tr>\n",
       "    <tr>\n",
       "      <th>3</th>\n",
       "      <td>LGBM</td>\n",
       "      <td>5.500</td>\n",
       "      <td>52.1 ms</td>\n",
       "    </tr>\n",
       "    <tr>\n",
       "      <th>4</th>\n",
       "      <td>CatBoost</td>\n",
       "      <td>5.290</td>\n",
       "      <td>1.48 s</td>\n",
       "    </tr>\n",
       "  </tbody>\n",
       "</table>\n",
       "</div>"
      ],
      "text/plain": [
       "             Модель MAE на тестовой выборке Время на fit и predict\n",
       "0      DecisionTree                   8.218                20.8 ms\n",
       "1  LinearRegression                   6.355                22.4 ms\n",
       "2      RandomForest                   5.621                 1.64 s\n",
       "3              LGBM                   5.500                52.1 ms\n",
       "4          CatBoost                   5.290                 1.48 s"
      ]
     },
     "metadata": {},
     "output_type": "display_data"
    }
   ],
   "source": [
    "display(table)"
   ]
  },
  {
   "cell_type": "markdown",
   "id": "e38430be",
   "metadata": {},
   "source": [
    "Наилучший результат на тестовой выборке выдает модель CatBoostRegressor. \n",
    "\n",
    "Однако, стоит отметить, что модель LGBMRegressor так же показывает хороший результат, но при этом работает в несколько раз быстрее. Это может играть роль при применении модели к большим объемам данных, а так же, при необходимости постоянного переобучения модели. В данной задаче нет ограничения по времени работы модели, поэтому принимаем CatBoostRegressor как наилучшую."
   ]
  },
  {
   "cell_type": "markdown",
   "id": "36c1bf65",
   "metadata": {},
   "source": [
    "Был проведен анализ важности факторов. Результаты представлены на графике."
   ]
  },
  {
   "cell_type": "code",
   "execution_count": 78,
   "id": "61a128e0",
   "metadata": {},
   "outputs": [
    {
     "data": {
      "image/png": "[encoded data removed]",
      "text/plain": [
       "<Figure size 504x360 with 1 Axes>"
      ]
     },
     "metadata": {
      "needs_background": "light"
     },
     "output_type": "display_data"
    }
   ],
   "source": [
    "importance.tail(10).plot.barh(x='feature_names', y='feature_importance', legend=False, figsize=(7,5), grid=True)\n",
    "plt.title('Важность признаков')\n",
    "plt.xlabel('Влияние на целевой признак, %')\n",
    "plt.ylabel('Фактор')\n",
    "plt.show()"
   ]
  },
  {
   "cell_type": "markdown",
   "id": "c44cd3d7",
   "metadata": {},
   "source": [
    "Наибольшее влияние на целевой признак оказывают: \n",
    "- начальная температура расплава\n",
    "- количество легирующей добавки в виде проволоки wire_1\n",
    "- продолжительность нагрева электродами."
   ]
  },
  {
   "cell_type": "markdown",
   "id": "4396d801",
   "metadata": {},
   "source": [
    "# Отчет"
   ]
  },
  {
   "cell_type": "markdown",
   "id": "a7eb1641",
   "metadata": {},
   "source": [
    "В план работы входили следующие пункты:\n",
    "1. Провести статистический анализ данных\n",
    "2. Объединить таблицы с признаками в одну, оставить необходимые признаки\n",
    "3. Разделить данные на признаки и целевой признак. Разделить на тестовую, валидационную и тренировочную выборки\n",
    "4. Обучить различные модели, сравнить качество, проанализировать результат. При необходимости, провести более тщательную предобработку данных, возможно сделть генерацию дополнительных признаков. Выбрать оптимальную модель\n",
    "5. Сделать выводы по работе\n",
    "\n",
    "Все пункты плана были выполнены."
   ]
  },
  {
   "cell_type": "markdown",
   "id": "115739de",
   "metadata": {},
   "source": [
    "Итоговая модель - CatBoostRegressor. MAE данной модели на тестовой выборке составляет 5.29"
   ]
  }
 ],
 "metadata": {
  "ExecuteTimeLog": [
   {
    "duration": 279,
    "start_time": "2021-07-28T15:24:00.777Z"
   },
   {
    "duration": 1421,
    "start_time": "2021-07-28T17:22:35.595Z"
   },
   {
    "duration": -349,
    "start_time": "2021-07-28T17:22:37.367Z"
   },
   {
    "duration": 78,
    "start_time": "2021-07-28T17:22:58.837Z"
   },
   {
    "duration": 1825,
    "start_time": "2021-07-28T17:23:08.864Z"
   },
   {
    "duration": 178,
    "start_time": "2021-07-28T17:23:42.895Z"
   },
   {
    "duration": 16,
    "start_time": "2021-07-28T17:24:29.427Z"
   },
   {
    "duration": 13,
    "start_time": "2021-07-28T17:24:30.170Z"
   },
   {
    "duration": 4,
    "start_time": "2021-07-28T17:24:31.054Z"
   },
   {
    "duration": 13,
    "start_time": "2021-07-28T17:24:31.470Z"
   },
   {
    "duration": 105,
    "start_time": "2021-07-28T17:24:31.731Z"
   },
   {
    "duration": 24,
    "start_time": "2021-07-28T17:24:32.106Z"
   },
   {
    "duration": 15,
    "start_time": "2021-07-28T17:24:32.539Z"
   },
   {
    "duration": 6,
    "start_time": "2021-07-28T17:24:32.915Z"
   },
   {
    "duration": 26,
    "start_time": "2021-07-28T17:24:33.264Z"
   },
   {
    "duration": 502,
    "start_time": "2021-07-28T17:24:33.627Z"
   },
   {
    "duration": 1161,
    "start_time": "2021-07-28T17:24:34.130Z"
   },
   {
    "duration": 7,
    "start_time": "2021-07-28T17:24:35.293Z"
   },
   {
    "duration": 949,
    "start_time": "2021-07-28T17:24:35.301Z"
   },
   {
    "duration": 19,
    "start_time": "2021-07-28T17:24:36.252Z"
   },
   {
    "duration": 59,
    "start_time": "2021-07-28T17:24:36.777Z"
   },
   {
    "duration": 9,
    "start_time": "2021-07-28T17:24:36.997Z"
   },
   {
    "duration": 5,
    "start_time": "2021-07-28T17:24:37.365Z"
   },
   {
    "duration": 3,
    "start_time": "2021-07-28T17:24:38.012Z"
   },
   {
    "duration": 20,
    "start_time": "2021-07-28T17:24:38.381Z"
   },
   {
    "duration": 3,
    "start_time": "2021-07-28T17:24:38.571Z"
   },
   {
    "duration": 22,
    "start_time": "2021-07-28T17:24:39.076Z"
   },
   {
    "duration": 6,
    "start_time": "2021-07-28T17:24:39.345Z"
   },
   {
    "duration": 3,
    "start_time": "2021-07-28T17:24:39.721Z"
   },
   {
    "duration": 5,
    "start_time": "2021-07-28T17:24:39.878Z"
   },
   {
    "duration": 338,
    "start_time": "2021-07-28T17:24:40.357Z"
   },
   {
    "duration": 216,
    "start_time": "2021-07-28T17:24:40.772Z"
   },
   {
    "duration": 22,
    "start_time": "2021-07-28T17:24:41.219Z"
   },
   {
    "duration": 8,
    "start_time": "2021-07-28T17:24:41.404Z"
   },
   {
    "duration": 7,
    "start_time": "2021-07-28T17:24:41.735Z"
   },
   {
    "duration": 8,
    "start_time": "2021-07-28T17:24:42.266Z"
   },
   {
    "duration": 15,
    "start_time": "2021-07-28T17:24:42.607Z"
   },
   {
    "duration": 37,
    "start_time": "2021-07-28T17:24:43.125Z"
   },
   {
    "duration": 17,
    "start_time": "2021-07-28T17:24:43.269Z"
   },
   {
    "duration": 742,
    "start_time": "2021-07-28T17:24:43.504Z"
   },
   {
    "duration": 321,
    "start_time": "2021-07-28T17:24:44.248Z"
   },
   {
    "duration": 7,
    "start_time": "2021-07-28T17:24:44.597Z"
   },
   {
    "duration": 6,
    "start_time": "2021-07-28T17:24:44.988Z"
   },
   {
    "duration": 6,
    "start_time": "2021-07-28T17:24:45.186Z"
   },
   {
    "duration": 42,
    "start_time": "2021-07-28T17:24:45.811Z"
   },
   {
    "duration": 4,
    "start_time": "2021-07-28T17:24:46.012Z"
   },
   {
    "duration": 6,
    "start_time": "2021-07-28T17:24:46.916Z"
   },
   {
    "duration": 15,
    "start_time": "2021-07-28T17:24:47.623Z"
   },
   {
    "duration": 3,
    "start_time": "2021-07-28T17:24:47.910Z"
   },
   {
    "duration": 5,
    "start_time": "2021-07-28T17:24:48.140Z"
   },
   {
    "duration": 6,
    "start_time": "2021-07-28T17:25:02.765Z"
   },
   {
    "duration": 19,
    "start_time": "2021-07-28T17:25:03.555Z"
   },
   {
    "duration": 12,
    "start_time": "2021-07-28T17:26:36.069Z"
   },
   {
    "duration": 5,
    "start_time": "2021-07-28T17:26:36.723Z"
   },
   {
    "duration": 8,
    "start_time": "2021-07-28T17:26:37.865Z"
   },
   {
    "duration": 9,
    "start_time": "2021-07-28T17:26:37.874Z"
   },
   {
    "duration": 3,
    "start_time": "2021-07-28T17:27:03.899Z"
   },
   {
    "duration": 5,
    "start_time": "2021-07-28T17:27:04.384Z"
   },
   {
    "duration": 644,
    "start_time": "2021-07-28T17:27:04.985Z"
   },
   {
    "duration": 4,
    "start_time": "2021-07-28T17:27:24.479Z"
   },
   {
    "duration": 1063,
    "start_time": "2021-07-28T17:27:25.069Z"
   },
   {
    "duration": 7,
    "start_time": "2021-07-28T17:27:27.453Z"
   },
   {
    "duration": 8,
    "start_time": "2021-07-28T17:27:27.635Z"
   },
   {
    "duration": 5,
    "start_time": "2021-07-28T17:27:28.588Z"
   },
   {
    "duration": 1680,
    "start_time": "2021-07-28T17:27:28.819Z"
   },
   {
    "duration": 877,
    "start_time": "2021-07-28T17:28:29.539Z"
   },
   {
    "duration": 250,
    "start_time": "2021-07-28T17:32:20.138Z"
   },
   {
    "duration": 169,
    "start_time": "2021-07-28T17:32:21.733Z"
   },
   {
    "duration": 156,
    "start_time": "2021-07-28T17:32:23.210Z"
   },
   {
    "duration": 161,
    "start_time": "2021-07-28T17:32:23.367Z"
   },
   {
    "duration": 148,
    "start_time": "2021-07-28T17:32:23.529Z"
   },
   {
    "duration": 167,
    "start_time": "2021-07-28T17:32:23.678Z"
   },
   {
    "duration": 171,
    "start_time": "2021-07-28T17:32:23.846Z"
   },
   {
    "duration": 166,
    "start_time": "2021-07-28T17:32:24.019Z"
   },
   {
    "duration": 9,
    "start_time": "2021-07-28T17:32:33.663Z"
   },
   {
    "duration": 7,
    "start_time": "2021-07-28T17:32:34.730Z"
   },
   {
    "duration": 7,
    "start_time": "2021-07-28T17:32:35.878Z"
   },
   {
    "duration": 55078,
    "start_time": "2021-07-28T17:32:36.786Z"
   },
   {
    "duration": 759,
    "start_time": "2021-07-28T17:33:31.866Z"
   },
   {
    "duration": 18,
    "start_time": "2021-07-28T17:33:32.626Z"
   },
   {
    "duration": 290358,
    "start_time": "2021-07-28T17:33:32.645Z"
   },
   {
    "duration": 391,
    "start_time": "2021-07-28T17:38:23.005Z"
   },
   {
    "duration": 306761,
    "start_time": "2021-07-28T17:38:23.398Z"
   },
   {
    "duration": 7192,
    "start_time": "2021-07-28T17:43:30.161Z"
   },
   {
    "duration": 6,
    "start_time": "2021-07-28T17:43:37.355Z"
   }
  ],
  "kernelspec": {
   "display_name": "Python 3",
   "language": "python",
   "name": "python3"
  },
  "language_info": {
   "codemirror_mode": {
    "name": "ipython",
    "version": 3
   },
   "file_extension": ".py",
   "mimetype": "text/x-python",
   "name": "python",
   "nbconvert_exporter": "python",
   "pygments_lexer": "ipython3",
   "version": "3.8.8"
  },
  "toc": {
   "base_numbering": 1,
   "nav_menu": {},
   "number_sections": true,
   "sideBar": true,
   "skip_h1_title": true,
   "title_cell": "Table of Contents",
   "title_sidebar": "Contents",
   "toc_cell": false,
   "toc_position": {},
   "toc_section_display": true,
   "toc_window_display": false
  }
 },
 "nbformat": 4,
 "nbformat_minor": 5
}
