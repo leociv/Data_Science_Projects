{
 "cells": [
  {
   "cell_type": "markdown",
   "metadata": {},
   "source": [
    "# Рекомендация тарифов"
   ]
  },
  {
   "cell_type": "markdown",
   "metadata": {},
   "source": [
    "В нашем распоряжении данные о поведении клиентов, которые уже перешли на эти тарифы (из проекта **«Статистический анализ данных»**). Предобработка данных не понадобится — мы её уже сделали.\n",
    "\n",
    "**Задача** - построить модель для задачи классификации, которая выберет подходящий тариф. "
   ]
  },
  {
   "cell_type": "code",
   "execution_count": 1,
   "metadata": {},
   "outputs": [],
   "source": [
    "import pandas as pd\n",
    "import numpy as np\n",
    "from sklearn.model_selection import train_test_split\n",
    "from sklearn.tree import DecisionTreeClassifier\n",
    "from sklearn.ensemble import RandomForestClassifier\n",
    "from sklearn.linear_model import LogisticRegression\n",
    "import warnings\n",
    "warnings.filterwarnings('ignore')\n",
    "from sklearn.dummy import DummyClassifier"
   ]
  },
  {
   "cell_type": "markdown",
   "metadata": {},
   "source": [
    "## 1. Общая информация"
   ]
  },
  {
   "cell_type": "code",
   "execution_count": 2,
   "metadata": {},
   "outputs": [
    {
     "data": {
      "text/html": [
       "<div>\n",
       "<style scoped>\n",
       "    .dataframe tbody tr th:only-of-type {\n",
       "        vertical-align: middle;\n",
       "    }\n",
       "\n",
       "    .dataframe tbody tr th {\n",
       "        vertical-align: top;\n",
       "    }\n",
       "\n",
       "    .dataframe thead th {\n",
       "        text-align: right;\n",
       "    }\n",
       "</style>\n",
       "<table border=\"1\" class=\"dataframe\">\n",
       "  <thead>\n",
       "    <tr style=\"text-align: right;\">\n",
       "      <th></th>\n",
       "      <th>calls</th>\n",
       "      <th>minutes</th>\n",
       "      <th>messages</th>\n",
       "      <th>mb_used</th>\n",
       "      <th>is_ultra</th>\n",
       "    </tr>\n",
       "  </thead>\n",
       "  <tbody>\n",
       "    <tr>\n",
       "      <th>0</th>\n",
       "      <td>40.0</td>\n",
       "      <td>311.90</td>\n",
       "      <td>83.0</td>\n",
       "      <td>19915.42</td>\n",
       "      <td>0</td>\n",
       "    </tr>\n",
       "    <tr>\n",
       "      <th>1</th>\n",
       "      <td>85.0</td>\n",
       "      <td>516.75</td>\n",
       "      <td>56.0</td>\n",
       "      <td>22696.96</td>\n",
       "      <td>0</td>\n",
       "    </tr>\n",
       "    <tr>\n",
       "      <th>2</th>\n",
       "      <td>77.0</td>\n",
       "      <td>467.66</td>\n",
       "      <td>86.0</td>\n",
       "      <td>21060.45</td>\n",
       "      <td>0</td>\n",
       "    </tr>\n",
       "    <tr>\n",
       "      <th>3</th>\n",
       "      <td>106.0</td>\n",
       "      <td>745.53</td>\n",
       "      <td>81.0</td>\n",
       "      <td>8437.39</td>\n",
       "      <td>1</td>\n",
       "    </tr>\n",
       "    <tr>\n",
       "      <th>4</th>\n",
       "      <td>66.0</td>\n",
       "      <td>418.74</td>\n",
       "      <td>1.0</td>\n",
       "      <td>14502.75</td>\n",
       "      <td>0</td>\n",
       "    </tr>\n",
       "  </tbody>\n",
       "</table>\n",
       "</div>"
      ],
      "text/plain": [
       "   calls  minutes  messages   mb_used  is_ultra\n",
       "0   40.0   311.90      83.0  19915.42         0\n",
       "1   85.0   516.75      56.0  22696.96         0\n",
       "2   77.0   467.66      86.0  21060.45         0\n",
       "3  106.0   745.53      81.0   8437.39         1\n",
       "4   66.0   418.74       1.0  14502.75         0"
      ]
     },
     "metadata": {},
     "output_type": "display_data"
    },
    {
     "name": "stdout",
     "output_type": "stream",
     "text": [
      "<class 'pandas.core.frame.DataFrame'>\n",
      "RangeIndex: 3214 entries, 0 to 3213\n",
      "Data columns (total 5 columns):\n",
      " #   Column    Non-Null Count  Dtype  \n",
      "---  ------    --------------  -----  \n",
      " 0   calls     3214 non-null   float64\n",
      " 1   minutes   3214 non-null   float64\n",
      " 2   messages  3214 non-null   float64\n",
      " 3   mb_used   3214 non-null   float64\n",
      " 4   is_ultra  3214 non-null   int64  \n",
      "dtypes: float64(4), int64(1)\n",
      "memory usage: 125.7 KB\n"
     ]
    },
    {
     "data": {
      "text/plain": [
       "None"
      ]
     },
     "metadata": {},
     "output_type": "display_data"
    },
    {
     "name": "stdout",
     "output_type": "stream",
     "text": [
      "0\n"
     ]
    }
   ],
   "source": [
    "data = pd.read_csv('C:/Users/leoci/Яндекс Практикум/Projects/Introduction_to_the_machine_learning/users_behavior.csv')\n",
    "display(data.head(5))\n",
    "display(data.info())\n",
    "print(data.duplicated().sum())"
   ]
  },
  {
   "cell_type": "markdown",
   "metadata": {},
   "source": [
    "Датасет содержит следующие данные за месяц о пользователях:\n",
    "1. количество звонков\n",
    "2. количество потраченных минут\n",
    "3. количество отправленных сообщений\n",
    "4. количество потраченных мегабайт интернета\n",
    "5. тариф\n",
    "\n",
    "В датасете  3214 строк. Пропусков нет. Дубликатов нет. Предобработка данных не требуется"
   ]
  },
  {
   "cell_type": "markdown",
   "metadata": {},
   "source": [
    "## 2. Разбиение данных на выборки"
   ]
  },
  {
   "cell_type": "markdown",
   "metadata": {},
   "source": [
    "Данные необходимо разбить на 3 выборки: обучающую, валидационную, тестовую. Разбиение выполним в соотношении 3:1:1. Для разбиения используем функцию train_test_split. Данная функция делит датасет на два, поэтому будем делить в 2 этапа. В первый этап выделим тестовую выборку размером 20% от общих данных, во второй этап оставшиеся данные разделим на обучающую и валидационную выборки, задав параметр test_size как 0.25, потому что нам надо получить 20% изначальных данных от 80% оставшихся данных после первого деления, что составляет одну четверть."
   ]
  },
  {
   "cell_type": "code",
   "execution_count": 3,
   "metadata": {},
   "outputs": [
    {
     "name": "stdout",
     "output_type": "stream",
     "text": [
      "(1928, 5)\n",
      "(643, 5)\n",
      "(643, 5)\n"
     ]
    }
   ],
   "source": [
    "data_pre_train, data_test = train_test_split(data, test_size=0.2, random_state=123)\n",
    "data_train, data_valid = train_test_split(data_pre_train, test_size=0.25, random_state=123)\n",
    "\n",
    "print(data_train.shape)\n",
    "print(data_valid.shape)\n",
    "print(data_test.shape)"
   ]
  },
  {
   "cell_type": "markdown",
   "metadata": {},
   "source": [
    "## 3. Исследование моделей"
   ]
  },
  {
   "cell_type": "markdown",
   "metadata": {},
   "source": [
    "Целевым признаком в данной задаче является тариф абонента. Разобьем все выборки на целевой признак и остальные признаки."
   ]
  },
  {
   "cell_type": "code",
   "execution_count": 4,
   "metadata": {},
   "outputs": [],
   "source": [
    "train_features = data_train.drop('is_ultra', axis=1)\n",
    "train_target = data_train['is_ultra']\n",
    "\n",
    "valid_features = data_valid.drop('is_ultra', axis=1)\n",
    "valid_target = data_valid['is_ultra']\n",
    "\n",
    "test_features = data_test.drop('is_ultra', axis=1)\n",
    "test_target = data_test['is_ultra']"
   ]
  },
  {
   "cell_type": "markdown",
   "metadata": {},
   "source": [
    "Исследуем три модели: дерево решений, случайный лес и логистическую регрессию."
   ]
  },
  {
   "cell_type": "markdown",
   "metadata": {},
   "source": [
    "### 3.1. Дерево решений"
   ]
  },
  {
   "cell_type": "code",
   "execution_count": 5,
   "metadata": {},
   "outputs": [
    {
     "name": "stdout",
     "output_type": "stream",
     "text": [
      "\n",
      "Наилучший результат accuracy = 0.7947 при глубине дерева 9\n"
     ]
    }
   ],
   "source": [
    "best_model_tree = None\n",
    "best_result_tree = 0\n",
    "best_depth_tree = 0\n",
    "for depth in range(1, 16):\n",
    "    model = DecisionTreeClassifier(random_state=123, max_depth=depth)\n",
    "    model.fit(train_features, train_target)\n",
    "    result = model.score(valid_features, valid_target)\n",
    "    if result > best_result_tree:\n",
    "        best_result_tree = result\n",
    "        best_model_tree = model\n",
    "        best_depth_tree = depth\n",
    "print('')\n",
    "print('Наилучший результат accuracy = {:.4f}'.format(best_result_tree), 'при глубине дерева', best_depth_tree)"
   ]
  },
  {
   "cell_type": "markdown",
   "metadata": {},
   "source": [
    "### 3.2. Случайный лес"
   ]
  },
  {
   "cell_type": "code",
   "execution_count": 6,
   "metadata": {},
   "outputs": [
    {
     "name": "stdout",
     "output_type": "stream",
     "text": [
      "\n",
      "Наилучший результат accuracy = 0.8103 при количестве деревьев 8 и при глубине дерева 8\n"
     ]
    }
   ],
   "source": [
    "best_model_forest = None\n",
    "best_result_forest = 0\n",
    "best_depth_forest = 0\n",
    "best_n_estimators_forest = 0\n",
    "for est in range(1,16):\n",
    "    for depth in range(1,11):\n",
    "        model = RandomForestClassifier(random_state=123, n_estimators=est, max_depth=depth)\n",
    "        model.fit(train_features, train_target)\n",
    "        result = model.score(valid_features, valid_target)\n",
    "        if result > best_result_forest:\n",
    "            best_result_forest = result\n",
    "            best_depth_forest = depth\n",
    "            best_n_estimators_forest = est\n",
    "            best_model_forest = model\n",
    "print('')\n",
    "print('Наилучший результат accuracy = {:.4f}'.format(best_result_forest), 'при количестве деревьев', best_n_estimators_forest, 'и при глубине дерева', best_depth_forest)"
   ]
  },
  {
   "cell_type": "markdown",
   "metadata": {},
   "source": [
    "### 3.3. Логистическая регрессия"
   ]
  },
  {
   "cell_type": "code",
   "execution_count": 7,
   "metadata": {},
   "outputs": [
    {
     "name": "stdout",
     "output_type": "stream",
     "text": [
      "Accuracy = 0.7341\n"
     ]
    }
   ],
   "source": [
    "model = LogisticRegression(random_state=123)\n",
    "model.fit(train_features, train_target)\n",
    "result = model.score(valid_features, valid_target)\n",
    "print('Accuracy = {:.4f}'.format(result))        "
   ]
  },
  {
   "cell_type": "markdown",
   "metadata": {},
   "source": [
    "### 3.4. Вывод"
   ]
  },
  {
   "cell_type": "markdown",
   "metadata": {},
   "source": [
    "Наилучшее значение Accuracy получается при использовании модели Случайный лес. Однако, на валидационной выборке Случайный лес не сильно выигрывает в качестве у Дерева решений (всего 1,5% правильных ответов), а Дерево решений значительно быстрее по скорости работы. Качество логистической регрессии сильно уступает другим моделям.\n",
    "\n",
    "На тестовой выборке проверим обе модели (дерево решений и случайный лес)"
   ]
  },
  {
   "cell_type": "markdown",
   "metadata": {},
   "source": [
    "## 4. Проверка моделей на тестовой выборке"
   ]
  },
  {
   "cell_type": "code",
   "execution_count": 8,
   "metadata": {},
   "outputs": [
    {
     "name": "stdout",
     "output_type": "stream",
     "text": [
      "Accuracy модели дерево решений на тестовой выборке: 0.7869\n",
      "Accuracy модели случайный лес на тестовой выборке: 0.7947\n"
     ]
    }
   ],
   "source": [
    "print('Accuracy модели дерево решений на тестовой выборке: {:.4f}'.format(best_model_tree.score(test_features, test_target)))\n",
    "print('Accuracy модели случайный лес на тестовой выборке: {:.4f}'.format(best_model_forest.score(test_features, test_target)))"
   ]
  },
  {
   "cell_type": "markdown",
   "metadata": {},
   "source": [
    "### 4.1. Вывод"
   ]
  },
  {
   "cell_type": "markdown",
   "metadata": {},
   "source": [
    "На тестовой выборке случайный лес остался лучше чем дерево решений по качеству, однако его превосходство меньше чем 1%, а скорость работы у дерева решений выше. \n",
    "\n",
    "Таким образом, может быть целесообразно применять модель дерево решений для прогнозирования больших объемов данных."
   ]
  },
  {
   "cell_type": "markdown",
   "metadata": {},
   "source": [
    "## 5. Проверка модели на адекватность"
   ]
  },
  {
   "cell_type": "markdown",
   "metadata": {},
   "source": [
    "Сравним точность полученных моделей с константной моделью. В константной модели будем всегда предсказывать 0, т.к. пользователей тарифа Смарт больше."
   ]
  },
  {
   "cell_type": "code",
   "execution_count": 9,
   "metadata": {},
   "outputs": [
    {
     "name": "stdout",
     "output_type": "stream",
     "text": [
      "Точность константной модели основанной на большем классе: 0.6998444790046656\n"
     ]
    }
   ],
   "source": [
    "const_model = DummyClassifier(strategy='constant', constant=0)\n",
    "const_model.fit(test_features, test_target)\n",
    "print('Точность константной модели основанной на большем классе:', const_model.score(test_features, test_target))"
   ]
  },
  {
   "cell_type": "markdown",
   "metadata": {},
   "source": [
    "### 5.1. Вывод"
   ]
  },
  {
   "cell_type": "markdown",
   "metadata": {},
   "source": [
    "Обученные модели дерева решений и случайного леса превосходят в точности константную модель. Можно сделать вывод, что модели являются адекватными. А модель логистическая регрессия имеет точность почти равную константной модели, поэтому данная модель не подходит для данной задачи."
   ]
  },
  {
   "cell_type": "markdown",
   "metadata": {},
   "source": [
    "## 6. Вывод"
   ]
  },
  {
   "cell_type": "markdown",
   "metadata": {},
   "source": [
    "В данной работе были обучены модели для предсказания подходящего тарифа для абонента. Были исследованы следующие модели:\n",
    "1. Дерево решений: работает быстро, обладает достаточно высокой accuracy.\n",
    "2. Случайный лес: работает медленнее, точность сравнима с деревом решений, разница менее 1%.\n",
    "3. Логистическая регрессия: имеет точность не сильно выше константной модели, поэтому не подходит для данной задачи."
   ]
  },
  {
   "cell_type": "code",
   "execution_count": null,
   "metadata": {},
   "outputs": [],
   "source": []
  }
 ],
 "metadata": {
  "kernelspec": {
   "display_name": "Python 3",
   "language": "python",
   "name": "python3"
  },
  "language_info": {
   "codemirror_mode": {
    "name": "ipython",
    "version": 3
   },
   "file_extension": ".py",
   "mimetype": "text/x-python",
   "name": "python",
   "nbconvert_exporter": "python",
   "pygments_lexer": "ipython3",
   "version": "3.8.8"
  },
  "toc": {
   "base_numbering": "1",
   "nav_menu": {},
   "number_sections": false,
   "sideBar": true,
   "skip_h1_title": true,
   "title_cell": "Table of Contents",
   "title_sidebar": "Contents",
   "toc_cell": false,
   "toc_position": {},
   "toc_section_display": true,
   "toc_window_display": false
  }
 },
 "nbformat": 4,
 "nbformat_minor": 2
}
