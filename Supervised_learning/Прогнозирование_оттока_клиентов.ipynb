{
 "cells": [
  {
   "cell_type": "markdown",
   "metadata": {},
   "source": [
    "# Отток клиентов"
   ]
  },
  {
   "cell_type": "markdown",
   "metadata": {},
   "source": [
    "Из банка стали уходить клиенты. Маркетологи посчитали, что сохранять текущих клиентов дешевле, чем привлекать новых.\n",
    "\n",
    "Нужно спрогнозировать, уйдёт клиент из банка в ближайшее время или нет. В нашем распоряжении исторические данные о поведении клиентов и расторжении договоров с банком. \n",
    "\n",
    "**Описание данных:**\n",
    "\n",
    "**Признаки**\n",
    "- RowNumber — индекс строки в данных\n",
    "- CustomerId — уникальный идентификатор клиента\n",
    "- Surname — фамилия\n",
    "- CreditScore — кредитный рейтинг\n",
    "- Geography — страна проживания\n",
    "- Gender — пол\n",
    "- Age — возраст\n",
    "- Tenure — наличие недвижимости у клиента\n",
    "- Balance — баланс на счёте\n",
    "- NumOfProducts — количество продуктов банка, используемых клиентом\n",
    "- HasCrCard — наличие кредитной карты\n",
    "- IsActiveMember — активность клиента\n",
    "- EstimatedSalary — предполагаемая зарплата\n",
    "\n",
    "**Целевой признак**\n",
    "- Exited — факт ухода клиента\n",
    "\n",
    "**Задача** - Построить модель с предельно большим значением *F1*-меры.\n"
   ]
  },
  {
   "cell_type": "code",
   "execution_count": 1,
   "metadata": {},
   "outputs": [],
   "source": [
    "import pandas as pd\n",
    "import numpy as np\n",
    "import matplotlib.pyplot as plt\n",
    "\n",
    "import warnings\n",
    "warnings.filterwarnings('ignore')\n",
    "\n",
    "from sklearn.model_selection import train_test_split\n",
    "from sklearn.preprocessing import StandardScaler\n",
    "from sklearn.utils import shuffle\n",
    "\n",
    "from sklearn.tree import DecisionTreeClassifier\n",
    "from sklearn.ensemble import RandomForestClassifier\n",
    "from sklearn.linear_model import LogisticRegression\n",
    "from sklearn.dummy import DummyClassifier\n",
    "\n",
    "from sklearn.metrics import accuracy_score\n",
    "from sklearn.metrics import f1_score\n",
    "from sklearn.metrics import roc_auc_score"
   ]
  },
  {
   "cell_type": "markdown",
   "metadata": {},
   "source": [
    "## Подготовка данных"
   ]
  },
  {
   "cell_type": "markdown",
   "metadata": {},
   "source": [
    "### Загрузка и изучение данных"
   ]
  },
  {
   "cell_type": "code",
   "execution_count": 2,
   "metadata": {},
   "outputs": [],
   "source": [
    "data = pd.read_csv('/datasets/Churn.csv')"
   ]
  },
  {
   "cell_type": "code",
   "execution_count": 3,
   "metadata": {},
   "outputs": [
    {
     "data": {
      "text/html": [
       "<div>\n",
       "<style scoped>\n",
       "    .dataframe tbody tr th:only-of-type {\n",
       "        vertical-align: middle;\n",
       "    }\n",
       "\n",
       "    .dataframe tbody tr th {\n",
       "        vertical-align: top;\n",
       "    }\n",
       "\n",
       "    .dataframe thead th {\n",
       "        text-align: right;\n",
       "    }\n",
       "</style>\n",
       "<table border=\"1\" class=\"dataframe\">\n",
       "  <thead>\n",
       "    <tr style=\"text-align: right;\">\n",
       "      <th></th>\n",
       "      <th>RowNumber</th>\n",
       "      <th>CustomerId</th>\n",
       "      <th>Surname</th>\n",
       "      <th>CreditScore</th>\n",
       "      <th>Geography</th>\n",
       "      <th>Gender</th>\n",
       "      <th>Age</th>\n",
       "      <th>Tenure</th>\n",
       "      <th>Balance</th>\n",
       "      <th>NumOfProducts</th>\n",
       "      <th>HasCrCard</th>\n",
       "      <th>IsActiveMember</th>\n",
       "      <th>EstimatedSalary</th>\n",
       "      <th>Exited</th>\n",
       "    </tr>\n",
       "  </thead>\n",
       "  <tbody>\n",
       "    <tr>\n",
       "      <td>0</td>\n",
       "      <td>1</td>\n",
       "      <td>15634602</td>\n",
       "      <td>Hargrave</td>\n",
       "      <td>619</td>\n",
       "      <td>France</td>\n",
       "      <td>Female</td>\n",
       "      <td>42</td>\n",
       "      <td>2.0</td>\n",
       "      <td>0.00</td>\n",
       "      <td>1</td>\n",
       "      <td>1</td>\n",
       "      <td>1</td>\n",
       "      <td>101348.88</td>\n",
       "      <td>1</td>\n",
       "    </tr>\n",
       "    <tr>\n",
       "      <td>1</td>\n",
       "      <td>2</td>\n",
       "      <td>15647311</td>\n",
       "      <td>Hill</td>\n",
       "      <td>608</td>\n",
       "      <td>Spain</td>\n",
       "      <td>Female</td>\n",
       "      <td>41</td>\n",
       "      <td>1.0</td>\n",
       "      <td>83807.86</td>\n",
       "      <td>1</td>\n",
       "      <td>0</td>\n",
       "      <td>1</td>\n",
       "      <td>112542.58</td>\n",
       "      <td>0</td>\n",
       "    </tr>\n",
       "    <tr>\n",
       "      <td>2</td>\n",
       "      <td>3</td>\n",
       "      <td>15619304</td>\n",
       "      <td>Onio</td>\n",
       "      <td>502</td>\n",
       "      <td>France</td>\n",
       "      <td>Female</td>\n",
       "      <td>42</td>\n",
       "      <td>8.0</td>\n",
       "      <td>159660.80</td>\n",
       "      <td>3</td>\n",
       "      <td>1</td>\n",
       "      <td>0</td>\n",
       "      <td>113931.57</td>\n",
       "      <td>1</td>\n",
       "    </tr>\n",
       "    <tr>\n",
       "      <td>3</td>\n",
       "      <td>4</td>\n",
       "      <td>15701354</td>\n",
       "      <td>Boni</td>\n",
       "      <td>699</td>\n",
       "      <td>France</td>\n",
       "      <td>Female</td>\n",
       "      <td>39</td>\n",
       "      <td>1.0</td>\n",
       "      <td>0.00</td>\n",
       "      <td>2</td>\n",
       "      <td>0</td>\n",
       "      <td>0</td>\n",
       "      <td>93826.63</td>\n",
       "      <td>0</td>\n",
       "    </tr>\n",
       "    <tr>\n",
       "      <td>4</td>\n",
       "      <td>5</td>\n",
       "      <td>15737888</td>\n",
       "      <td>Mitchell</td>\n",
       "      <td>850</td>\n",
       "      <td>Spain</td>\n",
       "      <td>Female</td>\n",
       "      <td>43</td>\n",
       "      <td>2.0</td>\n",
       "      <td>125510.82</td>\n",
       "      <td>1</td>\n",
       "      <td>1</td>\n",
       "      <td>1</td>\n",
       "      <td>79084.10</td>\n",
       "      <td>0</td>\n",
       "    </tr>\n",
       "    <tr>\n",
       "      <td>5</td>\n",
       "      <td>6</td>\n",
       "      <td>15574012</td>\n",
       "      <td>Chu</td>\n",
       "      <td>645</td>\n",
       "      <td>Spain</td>\n",
       "      <td>Male</td>\n",
       "      <td>44</td>\n",
       "      <td>8.0</td>\n",
       "      <td>113755.78</td>\n",
       "      <td>2</td>\n",
       "      <td>1</td>\n",
       "      <td>0</td>\n",
       "      <td>149756.71</td>\n",
       "      <td>1</td>\n",
       "    </tr>\n",
       "    <tr>\n",
       "      <td>6</td>\n",
       "      <td>7</td>\n",
       "      <td>15592531</td>\n",
       "      <td>Bartlett</td>\n",
       "      <td>822</td>\n",
       "      <td>France</td>\n",
       "      <td>Male</td>\n",
       "      <td>50</td>\n",
       "      <td>7.0</td>\n",
       "      <td>0.00</td>\n",
       "      <td>2</td>\n",
       "      <td>1</td>\n",
       "      <td>1</td>\n",
       "      <td>10062.80</td>\n",
       "      <td>0</td>\n",
       "    </tr>\n",
       "    <tr>\n",
       "      <td>7</td>\n",
       "      <td>8</td>\n",
       "      <td>15656148</td>\n",
       "      <td>Obinna</td>\n",
       "      <td>376</td>\n",
       "      <td>Germany</td>\n",
       "      <td>Female</td>\n",
       "      <td>29</td>\n",
       "      <td>4.0</td>\n",
       "      <td>115046.74</td>\n",
       "      <td>4</td>\n",
       "      <td>1</td>\n",
       "      <td>0</td>\n",
       "      <td>119346.88</td>\n",
       "      <td>1</td>\n",
       "    </tr>\n",
       "    <tr>\n",
       "      <td>8</td>\n",
       "      <td>9</td>\n",
       "      <td>15792365</td>\n",
       "      <td>He</td>\n",
       "      <td>501</td>\n",
       "      <td>France</td>\n",
       "      <td>Male</td>\n",
       "      <td>44</td>\n",
       "      <td>4.0</td>\n",
       "      <td>142051.07</td>\n",
       "      <td>2</td>\n",
       "      <td>0</td>\n",
       "      <td>1</td>\n",
       "      <td>74940.50</td>\n",
       "      <td>0</td>\n",
       "    </tr>\n",
       "    <tr>\n",
       "      <td>9</td>\n",
       "      <td>10</td>\n",
       "      <td>15592389</td>\n",
       "      <td>H?</td>\n",
       "      <td>684</td>\n",
       "      <td>France</td>\n",
       "      <td>Male</td>\n",
       "      <td>27</td>\n",
       "      <td>2.0</td>\n",
       "      <td>134603.88</td>\n",
       "      <td>1</td>\n",
       "      <td>1</td>\n",
       "      <td>1</td>\n",
       "      <td>71725.73</td>\n",
       "      <td>0</td>\n",
       "    </tr>\n",
       "  </tbody>\n",
       "</table>\n",
       "</div>"
      ],
      "text/plain": [
       "   RowNumber  CustomerId   Surname  CreditScore Geography  Gender  Age  \\\n",
       "0          1    15634602  Hargrave          619    France  Female   42   \n",
       "1          2    15647311      Hill          608     Spain  Female   41   \n",
       "2          3    15619304      Onio          502    France  Female   42   \n",
       "3          4    15701354      Boni          699    France  Female   39   \n",
       "4          5    15737888  Mitchell          850     Spain  Female   43   \n",
       "5          6    15574012       Chu          645     Spain    Male   44   \n",
       "6          7    15592531  Bartlett          822    France    Male   50   \n",
       "7          8    15656148    Obinna          376   Germany  Female   29   \n",
       "8          9    15792365        He          501    France    Male   44   \n",
       "9         10    15592389        H?          684    France    Male   27   \n",
       "\n",
       "   Tenure    Balance  NumOfProducts  HasCrCard  IsActiveMember  \\\n",
       "0     2.0       0.00              1          1               1   \n",
       "1     1.0   83807.86              1          0               1   \n",
       "2     8.0  159660.80              3          1               0   \n",
       "3     1.0       0.00              2          0               0   \n",
       "4     2.0  125510.82              1          1               1   \n",
       "5     8.0  113755.78              2          1               0   \n",
       "6     7.0       0.00              2          1               1   \n",
       "7     4.0  115046.74              4          1               0   \n",
       "8     4.0  142051.07              2          0               1   \n",
       "9     2.0  134603.88              1          1               1   \n",
       "\n",
       "   EstimatedSalary  Exited  \n",
       "0        101348.88       1  \n",
       "1        112542.58       0  \n",
       "2        113931.57       1  \n",
       "3         93826.63       0  \n",
       "4         79084.10       0  \n",
       "5        149756.71       1  \n",
       "6         10062.80       0  \n",
       "7        119346.88       1  \n",
       "8         74940.50       0  \n",
       "9         71725.73       0  "
      ]
     },
     "metadata": {},
     "output_type": "display_data"
    },
    {
     "name": "stdout",
     "output_type": "stream",
     "text": [
      "<class 'pandas.core.frame.DataFrame'>\n",
      "RangeIndex: 10000 entries, 0 to 9999\n",
      "Data columns (total 14 columns):\n",
      "RowNumber          10000 non-null int64\n",
      "CustomerId         10000 non-null int64\n",
      "Surname            10000 non-null object\n",
      "CreditScore        10000 non-null int64\n",
      "Geography          10000 non-null object\n",
      "Gender             10000 non-null object\n",
      "Age                10000 non-null int64\n",
      "Tenure             9091 non-null float64\n",
      "Balance            10000 non-null float64\n",
      "NumOfProducts      10000 non-null int64\n",
      "HasCrCard          10000 non-null int64\n",
      "IsActiveMember     10000 non-null int64\n",
      "EstimatedSalary    10000 non-null float64\n",
      "Exited             10000 non-null int64\n",
      "dtypes: float64(3), int64(8), object(3)\n",
      "memory usage: 1.1+ MB\n"
     ]
    },
    {
     "data": {
      "text/plain": [
       "None"
      ]
     },
     "metadata": {},
     "output_type": "display_data"
    }
   ],
   "source": [
    "display(data.head(10))\n",
    "display(data.info())"
   ]
  },
  {
   "cell_type": "markdown",
   "metadata": {},
   "source": [
    "Таблица содержит 14 столбцов.\n",
    "\n",
    "1. Столбцы: \"RowNumber\", \"CustomerId\", \"Surname\" являются идентефикаторами каждого конкретного клиента. Эти данные никак не влияют на целевой признак, а для идентификации клиента достаточно одного столбца \"CustomerId\" поэтому остальные нужно удалить, чтобы они не оказывали влияния на обучающуюся модель.\n",
    "2. Целевой признак - \"Exited\".\n",
    "3. Остальные столбцы - признаки.\n",
    "\n",
    "В столбце \"Tenure\" присутствуют пропуски. Возможно, пропуски означают что у клиента нет недвижимости, поэтому заменим пропуски нулями. После замены пропусков на нули, изменим тип данных на целочисленный"
   ]
  },
  {
   "cell_type": "code",
   "execution_count": 4,
   "metadata": {},
   "outputs": [],
   "source": [
    "data = data.drop(['RowNumber', 'Surname'], axis=1)"
   ]
  },
  {
   "cell_type": "code",
   "execution_count": 5,
   "metadata": {},
   "outputs": [
    {
     "name": "stdout",
     "output_type": "stream",
     "text": [
      "0     1291\n",
      "1      952\n",
      "2      950\n",
      "8      933\n",
      "3      928\n",
      "5      927\n",
      "7      925\n",
      "4      885\n",
      "9      882\n",
      "6      881\n",
      "10     446\n",
      "Name: Tenure, dtype: int64\n"
     ]
    }
   ],
   "source": [
    "data['Tenure'].fillna(0, inplace=True)\n",
    "data['Tenure'] = data['Tenure'].astype(int)\n",
    "print(data['Tenure'].value_counts())"
   ]
  },
  {
   "cell_type": "markdown",
   "metadata": {},
   "source": [
    "### Кодирование признаков"
   ]
  },
  {
   "cell_type": "markdown",
   "metadata": {},
   "source": [
    "В данных присутствуют два категориальных признака, заданных текстом. Нам необходимо исследовать различные модели, а логистическая регрессия не работает с категориальными признаками. Поэтому, переведем эти признаки в численные техникой прямого кодирования OHE.\n",
    "\n",
    "Для начала убедимся, что данные в столбцах с категориальными признакими заданы корректно, без опечаток и каждое значение уникально."
   ]
  },
  {
   "cell_type": "code",
   "execution_count": 6,
   "metadata": {},
   "outputs": [
    {
     "name": "stdout",
     "output_type": "stream",
     "text": [
      "['France' 'Spain' 'Germany']\n",
      "\n",
      "France     5014\n",
      "Germany    2509\n",
      "Spain      2477\n",
      "Name: Geography, dtype: int64\n",
      "\n",
      "['Female' 'Male']\n",
      "\n",
      "Male      5457\n",
      "Female    4543\n",
      "Name: Gender, dtype: int64\n"
     ]
    }
   ],
   "source": [
    "print(data['Geography'].unique())\n",
    "print('')\n",
    "print(data['Geography'].value_counts())\n",
    "print('')\n",
    "print(data['Gender'].unique())\n",
    "print('')\n",
    "print(data['Gender'].value_counts())"
   ]
  },
  {
   "cell_type": "markdown",
   "metadata": {},
   "source": [
    "Данные заданы корректно, без опечаток, пропусков нет. Закодируем признаки, придав аргументу drop_first значение True, т.к. новые столбцы сильно связаны между собой."
   ]
  },
  {
   "cell_type": "code",
   "execution_count": 7,
   "metadata": {},
   "outputs": [],
   "source": [
    "data_ohe = pd.get_dummies(data, drop_first = True)"
   ]
  },
  {
   "cell_type": "code",
   "execution_count": 8,
   "metadata": {},
   "outputs": [
    {
     "data": {
      "text/html": [
       "<div>\n",
       "<style scoped>\n",
       "    .dataframe tbody tr th:only-of-type {\n",
       "        vertical-align: middle;\n",
       "    }\n",
       "\n",
       "    .dataframe tbody tr th {\n",
       "        vertical-align: top;\n",
       "    }\n",
       "\n",
       "    .dataframe thead th {\n",
       "        text-align: right;\n",
       "    }\n",
       "</style>\n",
       "<table border=\"1\" class=\"dataframe\">\n",
       "  <thead>\n",
       "    <tr style=\"text-align: right;\">\n",
       "      <th></th>\n",
       "      <th>CustomerId</th>\n",
       "      <th>CreditScore</th>\n",
       "      <th>Age</th>\n",
       "      <th>Tenure</th>\n",
       "      <th>Balance</th>\n",
       "      <th>NumOfProducts</th>\n",
       "      <th>HasCrCard</th>\n",
       "      <th>IsActiveMember</th>\n",
       "      <th>EstimatedSalary</th>\n",
       "      <th>Exited</th>\n",
       "      <th>Geography_Germany</th>\n",
       "      <th>Geography_Spain</th>\n",
       "      <th>Gender_Male</th>\n",
       "    </tr>\n",
       "  </thead>\n",
       "  <tbody>\n",
       "    <tr>\n",
       "      <td>0</td>\n",
       "      <td>15634602</td>\n",
       "      <td>619</td>\n",
       "      <td>42</td>\n",
       "      <td>2</td>\n",
       "      <td>0.00</td>\n",
       "      <td>1</td>\n",
       "      <td>1</td>\n",
       "      <td>1</td>\n",
       "      <td>101348.88</td>\n",
       "      <td>1</td>\n",
       "      <td>0</td>\n",
       "      <td>0</td>\n",
       "      <td>0</td>\n",
       "    </tr>\n",
       "    <tr>\n",
       "      <td>1</td>\n",
       "      <td>15647311</td>\n",
       "      <td>608</td>\n",
       "      <td>41</td>\n",
       "      <td>1</td>\n",
       "      <td>83807.86</td>\n",
       "      <td>1</td>\n",
       "      <td>0</td>\n",
       "      <td>1</td>\n",
       "      <td>112542.58</td>\n",
       "      <td>0</td>\n",
       "      <td>0</td>\n",
       "      <td>1</td>\n",
       "      <td>0</td>\n",
       "    </tr>\n",
       "    <tr>\n",
       "      <td>2</td>\n",
       "      <td>15619304</td>\n",
       "      <td>502</td>\n",
       "      <td>42</td>\n",
       "      <td>8</td>\n",
       "      <td>159660.80</td>\n",
       "      <td>3</td>\n",
       "      <td>1</td>\n",
       "      <td>0</td>\n",
       "      <td>113931.57</td>\n",
       "      <td>1</td>\n",
       "      <td>0</td>\n",
       "      <td>0</td>\n",
       "      <td>0</td>\n",
       "    </tr>\n",
       "    <tr>\n",
       "      <td>3</td>\n",
       "      <td>15701354</td>\n",
       "      <td>699</td>\n",
       "      <td>39</td>\n",
       "      <td>1</td>\n",
       "      <td>0.00</td>\n",
       "      <td>2</td>\n",
       "      <td>0</td>\n",
       "      <td>0</td>\n",
       "      <td>93826.63</td>\n",
       "      <td>0</td>\n",
       "      <td>0</td>\n",
       "      <td>0</td>\n",
       "      <td>0</td>\n",
       "    </tr>\n",
       "    <tr>\n",
       "      <td>4</td>\n",
       "      <td>15737888</td>\n",
       "      <td>850</td>\n",
       "      <td>43</td>\n",
       "      <td>2</td>\n",
       "      <td>125510.82</td>\n",
       "      <td>1</td>\n",
       "      <td>1</td>\n",
       "      <td>1</td>\n",
       "      <td>79084.10</td>\n",
       "      <td>0</td>\n",
       "      <td>0</td>\n",
       "      <td>1</td>\n",
       "      <td>0</td>\n",
       "    </tr>\n",
       "  </tbody>\n",
       "</table>\n",
       "</div>"
      ],
      "text/plain": [
       "   CustomerId  CreditScore  Age  Tenure    Balance  NumOfProducts  HasCrCard  \\\n",
       "0    15634602          619   42       2       0.00              1          1   \n",
       "1    15647311          608   41       1   83807.86              1          0   \n",
       "2    15619304          502   42       8  159660.80              3          1   \n",
       "3    15701354          699   39       1       0.00              2          0   \n",
       "4    15737888          850   43       2  125510.82              1          1   \n",
       "\n",
       "   IsActiveMember  EstimatedSalary  Exited  Geography_Germany  \\\n",
       "0               1        101348.88       1                  0   \n",
       "1               1        112542.58       0                  0   \n",
       "2               0        113931.57       1                  0   \n",
       "3               0         93826.63       0                  0   \n",
       "4               1         79084.10       0                  0   \n",
       "\n",
       "   Geography_Spain  Gender_Male  \n",
       "0                0            0  \n",
       "1                1            0  \n",
       "2                0            0  \n",
       "3                0            0  \n",
       "4                1            0  "
      ]
     },
     "metadata": {},
     "output_type": "display_data"
    }
   ],
   "source": [
    "display(data_ohe.head())"
   ]
  },
  {
   "cell_type": "markdown",
   "metadata": {},
   "source": [
    "### Разбиение данных на выборки"
   ]
  },
  {
   "cell_type": "markdown",
   "metadata": {},
   "source": [
    "Разобъем данные на обучающую, тестовую и валидационную выборки."
   ]
  },
  {
   "cell_type": "code",
   "execution_count": 9,
   "metadata": {},
   "outputs": [
    {
     "name": "stdout",
     "output_type": "stream",
     "text": [
      "(6000, 13)\n",
      "(2000, 13)\n",
      "(2000, 13)\n"
     ]
    }
   ],
   "source": [
    "pre_train, test = train_test_split(data_ohe, test_size=0.2, random_state=123, stratify=data_ohe['Exited'])\n",
    "train, valid = train_test_split(pre_train, test_size=0.25, random_state=123, stratify=pre_train['Exited'])\n",
    "\n",
    "print(train.shape)\n",
    "print(valid.shape)\n",
    "print(test.shape)"
   ]
  },
  {
   "cell_type": "markdown",
   "metadata": {},
   "source": [
    "Создадим переменные с признаками и с целевым признаком."
   ]
  },
  {
   "cell_type": "code",
   "execution_count": 10,
   "metadata": {},
   "outputs": [
    {
     "name": "stdout",
     "output_type": "stream",
     "text": [
      "(2000, 11)\n",
      "(2000,)\n",
      "\n",
      "(6000, 11)\n",
      "(6000,)\n",
      "\n",
      "(2000, 11)\n",
      "(2000,)\n",
      "\n"
     ]
    }
   ],
   "source": [
    "test_features = test.drop(['CustomerId', 'Exited'], axis=1)\n",
    "test_target = test['Exited']\n",
    "print(test_features.shape)\n",
    "print(test_target.shape)\n",
    "print('')\n",
    "\n",
    "train_features = train.drop(['CustomerId', 'Exited'], axis=1)\n",
    "train_target = train['Exited']\n",
    "print(train_features.shape)\n",
    "print(train_target.shape)\n",
    "print('')\n",
    "\n",
    "valid_features = valid.drop(['CustomerId', 'Exited'], axis=1)\n",
    "valid_target = valid['Exited']\n",
    "print(valid_features.shape)\n",
    "print(valid_target.shape)\n",
    "print('')"
   ]
  },
  {
   "cell_type": "markdown",
   "metadata": {},
   "source": [
    "### Масштабирование признаков"
   ]
  },
  {
   "cell_type": "markdown",
   "metadata": {},
   "source": [
    "В данной задаче будем считать признаким равнозначимыми. Для этого проведем масштабирование численных признаков методом стандартизации данных. Мы кодировали данные техникой OHE, которая переводит категориальные признаки в численные, поэтому все наши признаки сейчас численные. Масштабирование применим ко всем признакам."
   ]
  },
  {
   "cell_type": "code",
   "execution_count": 11,
   "metadata": {},
   "outputs": [
    {
     "name": "stdout",
     "output_type": "stream",
     "text": [
      "Index(['CreditScore', 'Age', 'Tenure', 'Balance', 'NumOfProducts', 'HasCrCard',\n",
      "       'IsActiveMember', 'EstimatedSalary', 'Geography_Germany',\n",
      "       'Geography_Spain', 'Gender_Male'],\n",
      "      dtype='object')\n"
     ]
    }
   ],
   "source": [
    "print(train_features.columns)"
   ]
  },
  {
   "cell_type": "code",
   "execution_count": 12,
   "metadata": {},
   "outputs": [],
   "source": [
    "numeric = ['CreditScore', 'Age', 'Tenure', 'Balance', 'NumOfProducts', 'HasCrCard',\n",
    "       'IsActiveMember', 'EstimatedSalary', 'Geography_Germany',\n",
    "       'Geography_Spain', 'Gender_Male']\n",
    "\n",
    "scaler = StandardScaler()\n",
    "scaler.fit(train_features)\n",
    "\n",
    "train_features[numeric] = scaler.transform(train_features[numeric])\n",
    "test_features[numeric] = scaler.transform(test_features[numeric])\n",
    "valid_features[numeric] = scaler.transform(valid_features[numeric])"
   ]
  },
  {
   "cell_type": "markdown",
   "metadata": {},
   "source": [
    "## Исследование задачи"
   ]
  },
  {
   "cell_type": "markdown",
   "metadata": {},
   "source": [
    "### Дерево решений"
   ]
  },
  {
   "cell_type": "markdown",
   "metadata": {},
   "source": [
    "Обучим модель решающего дерева и проверим метрику accuracy."
   ]
  },
  {
   "cell_type": "code",
   "execution_count": 13,
   "metadata": {},
   "outputs": [
    {
     "name": "stdout",
     "output_type": "stream",
     "text": [
      "Accuracy = 0.8005\n",
      "F1 = 0.5055762081784386\n"
     ]
    }
   ],
   "source": [
    "model_tree = DecisionTreeClassifier(random_state=123)\n",
    "model_tree.fit(train_features, train_target)\n",
    "tree_valid_predictions = model_tree.predict(valid_features)\n",
    "print('Accuracy =', accuracy_score(valid_target, tree_valid_predictions))\n",
    "print('F1 =', f1_score(valid_target, tree_valid_predictions))"
   ]
  },
  {
   "cell_type": "markdown",
   "metadata": {},
   "source": [
    "Построим константную модель, отвечающую всегда 0, проверим ее метрику accuracy, она же будет равна процентному отношению отрицательных ответов."
   ]
  },
  {
   "cell_type": "code",
   "execution_count": 14,
   "metadata": {},
   "outputs": [
    {
     "name": "stdout",
     "output_type": "stream",
     "text": [
      "Accuracy константной модели = 0.7965\n"
     ]
    }
   ],
   "source": [
    "const_model = DummyClassifier(strategy='constant', constant=0)\n",
    "const_model.fit(train_features, train_target)\n",
    "print('Accuracy константной модели =', const_model.score(valid_features, valid_target))"
   ]
  },
  {
   "cell_type": "markdown",
   "metadata": {},
   "source": [
    "**Вывод**\n",
    "\n",
    "Модель дерева решений предсказывает ответы хуже, чем костантная, это никуда не годиться.\n",
    "\n",
    "Наблюдается достаточно сильный дисбаланс классов, равный 1:5 положительных ответов к отрицательным\n",
    "\n",
    "Проверим модели логистической регрессии и случайного леса."
   ]
  },
  {
   "cell_type": "markdown",
   "metadata": {},
   "source": [
    "### Случайный лес"
   ]
  },
  {
   "cell_type": "code",
   "execution_count": 15,
   "metadata": {},
   "outputs": [
    {
     "name": "stdout",
     "output_type": "stream",
     "text": [
      "Accuracy = 0.847\n",
      "F1 = 0.5377643504531722\n"
     ]
    }
   ],
   "source": [
    "model_forest = RandomForestClassifier(random_state=123)\n",
    "model_forest.fit(train_features, train_target)\n",
    "forest_valid_predictions = model_forest.predict(valid_features)\n",
    "print('Accuracy =', accuracy_score(valid_target, forest_valid_predictions))\n",
    "print('F1 =', f1_score(valid_target, forest_valid_predictions))"
   ]
  },
  {
   "cell_type": "markdown",
   "metadata": {},
   "source": [
    "Случайный лес предсказывает ответы лучше, чем дерево решений, но accuracy и f1 всё ещё низкие."
   ]
  },
  {
   "cell_type": "markdown",
   "metadata": {},
   "source": [
    "### Логистическая регрессия"
   ]
  },
  {
   "cell_type": "code",
   "execution_count": 16,
   "metadata": {},
   "outputs": [
    {
     "name": "stdout",
     "output_type": "stream",
     "text": [
      "Accuracy = 0.804\n",
      "F1 = 0.3217993079584775\n"
     ]
    }
   ],
   "source": [
    "model_logreg = LogisticRegression(random_state=123)\n",
    "model_logreg.fit(train_features, train_target)\n",
    "logreg_valid_predictions = model_logreg.predict(valid_features)\n",
    "print('Accuracy =', accuracy_score(valid_target, logreg_valid_predictions))\n",
    "print('F1 =', f1_score(valid_target, logreg_valid_predictions))"
   ]
  },
  {
   "cell_type": "markdown",
   "metadata": {},
   "source": [
    "### Вывод"
   ]
  },
  {
   "cell_type": "markdown",
   "metadata": {},
   "source": [
    "В ответах наблюдается дисбаланс классов. Соотношение положительных и отрицательных ответов 1:5.\n",
    "Модели, обученные без учета дисбаланса классов не дают достаточных показателей метрики f1."
   ]
  },
  {
   "cell_type": "markdown",
   "metadata": {},
   "source": [
    "## Борьба с дисбалансом"
   ]
  },
  {
   "cell_type": "markdown",
   "metadata": {},
   "source": [
    "Устраним дисбаланс классов разными методами и посмотрим на полученный результат."
   ]
  },
  {
   "cell_type": "markdown",
   "metadata": {},
   "source": [
    "### Upsampling"
   ]
  },
  {
   "cell_type": "markdown",
   "metadata": {},
   "source": [
    "Устраним дисбаланс классов методом upsampling"
   ]
  },
  {
   "cell_type": "code",
   "execution_count": 17,
   "metadata": {},
   "outputs": [
    {
     "name": "stdout",
     "output_type": "stream",
     "text": [
      "(6000, 11)\n",
      "(10892, 11)\n",
      "(10892,)\n"
     ]
    }
   ],
   "source": [
    "def upsample(features, target, repeat):\n",
    "    \n",
    "    features_zeros = features[target == 0]\n",
    "    features_ones = features[target == 1]\n",
    "    target_zeros = target[target == 0]\n",
    "    target_ones = target[target == 1]\n",
    "    \n",
    "    features_upsampled = pd.concat([features_zeros] + [features_ones] * repeat)\n",
    "    target_upsampled = pd.concat([target_zeros] + [target_ones] * repeat)\n",
    "    \n",
    "    features_upsampled, target_upsampled = shuffle(\n",
    "        features_upsampled, target_upsampled, random_state=123)\n",
    "    \n",
    "    return features_upsampled, target_upsampled\n",
    "\n",
    "train_features_upsampled, train_target_upsampled = upsample(train_features, train_target, 5)\n",
    "\n",
    "print(train_features.shape)\n",
    "print(train_features_upsampled.shape)\n",
    "print(train_target_upsampled.shape)"
   ]
  },
  {
   "cell_type": "markdown",
   "metadata": {},
   "source": [
    "Обучим разные модели и посчитаем метрики accuracy, f1, auc-roc."
   ]
  },
  {
   "cell_type": "markdown",
   "metadata": {},
   "source": [
    "**Дерево решений**"
   ]
  },
  {
   "cell_type": "code",
   "execution_count": 18,
   "metadata": {},
   "outputs": [
    {
     "name": "stdout",
     "output_type": "stream",
     "text": [
      "Best depth = 7\n",
      "Accuracy = 0.758\n",
      "F1 = 0.5686274509803922\n",
      "auc_roc = 0.8168546049901981\n",
      "\n"
     ]
    }
   ],
   "source": [
    "best_accuracy = 0\n",
    "best_f1 = 0\n",
    "best_auc_roc = 0\n",
    "best_depth = 0\n",
    "best_model_tree_upsampled = None\n",
    "\n",
    "for depth in range(1,16):      \n",
    "    model_tree_upsampled = DecisionTreeClassifier(random_state=123, max_depth=depth)\n",
    "    model_tree_upsampled.fit(train_features_upsampled, train_target_upsampled)\n",
    "    tree_upsampled_valid_predictions = model_tree_upsampled.predict(valid_features)\n",
    "    tree_upsampled_prob = model_tree_upsampled.predict_proba(valid_features)\n",
    "    tree_upsampled_prob_one = tree_upsampled_prob[:, 1]\n",
    "    \n",
    "    if f1_score(valid_target, tree_upsampled_valid_predictions) > best_f1:\n",
    "        best_accuracy = accuracy_score(valid_target, tree_upsampled_valid_predictions)\n",
    "        best_f1 = f1_score(valid_target, tree_upsampled_valid_predictions)\n",
    "        best_auc_roc = roc_auc_score(valid_target, tree_upsampled_prob_one)\n",
    "        best_depth = depth\n",
    "        best_model_tree_upsampled = model_tree_upsampled\n",
    "        \n",
    "print('Best depth =', best_depth)\n",
    "print('Accuracy =', best_accuracy)\n",
    "print('F1 =', best_f1)\n",
    "print('auc_roc =', best_auc_roc)\n",
    "print('')"
   ]
  },
  {
   "cell_type": "markdown",
   "metadata": {},
   "source": [
    "**Случайный лес**"
   ]
  },
  {
   "cell_type": "code",
   "execution_count": 19,
   "metadata": {},
   "outputs": [
    {
     "name": "stdout",
     "output_type": "stream",
     "text": [
      "Best n_estimators =  15 best depth = 12\n",
      "Accuracy = 0.8205\n",
      "F1 = 0.5943502824858756\n",
      "auc_roc = 0.8340644188101816\n",
      "\n"
     ]
    }
   ],
   "source": [
    "best_accuracy = 0\n",
    "best_f1 = 0\n",
    "best_auc_roc = 0\n",
    "best_depth = 0\n",
    "best_est = 0\n",
    "best_model_forest_upsampled = None\n",
    "\n",
    "for est in range(1, 16):\n",
    "    for depth in range(1, 16):\n",
    "        model_forest_upsampled = RandomForestClassifier(n_estimators = est, random_state=123, max_depth=depth)\n",
    "        model_forest_upsampled.fit(train_features_upsampled, train_target_upsampled)\n",
    "        forest_upsampled_valid_predictions = model_forest_upsampled.predict(valid_features)\n",
    "        forest_upsampled_prob = model_forest_upsampled.predict_proba(valid_features)\n",
    "        forest_upsampled_prob_one = forest_upsampled_prob[:, 1]\n",
    "    \n",
    "        if f1_score(valid_target, forest_upsampled_valid_predictions) > best_f1:\n",
    "            best_accuracy = accuracy_score(valid_target, forest_upsampled_valid_predictions)\n",
    "            best_f1 = f1_score(valid_target, forest_upsampled_valid_predictions)\n",
    "            best_auc_roc = roc_auc_score(valid_target, forest_upsampled_prob_one)\n",
    "            best_depth = depth\n",
    "            best_est = est\n",
    "            best_model_forest_upsampled = model_forest_upsampled\n",
    "            \n",
    "print('Best n_estimators = ', best_est, 'best depth =', best_depth)\n",
    "print('Accuracy =', best_accuracy)\n",
    "print('F1 =', best_f1)\n",
    "print('auc_roc =', best_auc_roc)\n",
    "print('')"
   ]
  },
  {
   "cell_type": "markdown",
   "metadata": {},
   "source": [
    "**Логистическая регрессия**"
   ]
  },
  {
   "cell_type": "code",
   "execution_count": 20,
   "metadata": {},
   "outputs": [
    {
     "name": "stdout",
     "output_type": "stream",
     "text": [
      "Accuracy = 0.6465\n",
      "F1 = 0.4835646457268079\n",
      "auc_roc = 0.7692376505935828\n"
     ]
    }
   ],
   "source": [
    "model_logreg_upsampled = LogisticRegression(random_state=123, solver='liblinear')\n",
    "model_logreg_upsampled.fit(train_features_upsampled, train_target_upsampled)\n",
    "logreg_upsampled_valid_predictions = model_logreg_upsampled.predict(valid_features)\n",
    "logreg_upsampled_prob = model_logreg_upsampled.predict_proba(valid_features)\n",
    "logreg_upsampled_prob_one = logreg_upsampled_prob[:, 1]\n",
    "\n",
    "print('Accuracy =', accuracy_score(valid_target, logreg_upsampled_valid_predictions))\n",
    "print('F1 =', f1_score(valid_target, logreg_upsampled_valid_predictions))\n",
    "print('auc_roc =', roc_auc_score(valid_target, logreg_upsampled_prob_one))"
   ]
  },
  {
   "cell_type": "markdown",
   "metadata": {},
   "source": [
    "### Downsampling"
   ]
  },
  {
   "cell_type": "code",
   "execution_count": 21,
   "metadata": {},
   "outputs": [
    {
     "name": "stdout",
     "output_type": "stream",
     "text": [
      "(6000, 11)\n",
      "(2178, 11)\n",
      "(2178,)\n"
     ]
    }
   ],
   "source": [
    "def downsample(features, target, fraction):\n",
    "    \n",
    "    features_zeros = features[target == 0]\n",
    "    features_ones = features[target == 1]\n",
    "    target_zeros = target[target == 0]\n",
    "    target_ones = target[target == 1]\n",
    "    \n",
    "    features_downsampled = pd.concat(\n",
    "        [features_zeros.sample(frac=fraction, random_state = 123)] + [features_ones])\n",
    "    target_downsampled = pd.concat(\n",
    "        [target_zeros.sample(frac=fraction, random_state = 123)] + [target_ones])\n",
    "    \n",
    "    features_downsampled, target_downsampled = shuffle(\n",
    "        features_downsampled, target_downsampled, random_state=123)\n",
    "    \n",
    "    return features_downsampled, target_downsampled\n",
    "\n",
    "train_features_downsampled, train_target_downsampled = downsample(train_features, train_target, 0.2)\n",
    "\n",
    "print(train_features.shape)\n",
    "print(train_features_downsampled.shape)\n",
    "print(train_target_downsampled.shape)"
   ]
  },
  {
   "cell_type": "markdown",
   "metadata": {},
   "source": [
    "**Дерево решений**"
   ]
  },
  {
   "cell_type": "code",
   "execution_count": 22,
   "metadata": {},
   "outputs": [
    {
     "name": "stdout",
     "output_type": "stream",
     "text": [
      "Best depth = 5\n",
      "Accuracy = 0.727\n",
      "F1 = 0.5531914893617021\n",
      "auc_roc = 0.8240251036861206\n",
      "\n"
     ]
    }
   ],
   "source": [
    "best_accuracy = 0\n",
    "best_f1 = 0\n",
    "best_auc_roc = 0\n",
    "best_depth = 0\n",
    "best_model_tree_downsampled = None\n",
    "\n",
    "for depth in range(1,16):      \n",
    "    model_tree_downsampled = DecisionTreeClassifier(random_state=123, max_depth=depth)\n",
    "    model_tree_downsampled.fit(train_features_downsampled, train_target_downsampled)\n",
    "    tree_downsampled_valid_predictions = model_tree_downsampled.predict(valid_features)\n",
    "    tree_downsampled_prob = model_tree_downsampled.predict_proba(valid_features)\n",
    "    tree_downsampled_prob_one = tree_downsampled_prob[:, 1]\n",
    "    \n",
    "    if f1_score(valid_target, tree_downsampled_valid_predictions) > best_f1:\n",
    "        best_accuracy = accuracy_score(valid_target, tree_downsampled_valid_predictions)\n",
    "        best_f1 = f1_score(valid_target, tree_downsampled_valid_predictions)\n",
    "        best_auc_roc = roc_auc_score(valid_target, tree_downsampled_prob_one)\n",
    "        best_depth = depth\n",
    "        best_model_tree_downsampled = model_tree_downsampled\n",
    "        \n",
    "print('Best depth =', best_depth)\n",
    "print('Accuracy =', best_accuracy)\n",
    "print('F1 =', best_f1)\n",
    "print('auc_roc =', best_auc_roc)\n",
    "print('')"
   ]
  },
  {
   "cell_type": "markdown",
   "metadata": {},
   "source": [
    "**Случайный лес**"
   ]
  },
  {
   "cell_type": "code",
   "execution_count": 23,
   "metadata": {},
   "outputs": [
    {
     "name": "stdout",
     "output_type": "stream",
     "text": [
      "Best n_estimators =  13 best depth = 7\n",
      "Accuracy = 0.728\n",
      "F1 = 0.5555555555555556\n",
      "auc_roc = 0.8426114866792833\n",
      "\n"
     ]
    }
   ],
   "source": [
    "best_accuracy = 0\n",
    "best_f1 = 0\n",
    "best_auc_roc = 0\n",
    "best_depth = 0\n",
    "best_est = 0\n",
    "best_model_forest_downsampled = None\n",
    "\n",
    "for est in range(1, 16):\n",
    "    for depth in range(1, 16):\n",
    "        model_forest_downsampled = RandomForestClassifier(n_estimators = est, random_state=123, max_depth=depth)\n",
    "        model_forest_downsampled.fit(train_features_downsampled, train_target_downsampled)\n",
    "        forest_downsampled_valid_predictions = model_forest_downsampled.predict(valid_features)\n",
    "        forest_downsampled_prob = model_forest_downsampled.predict_proba(valid_features)\n",
    "        forest_downsampled_prob_one = forest_downsampled_prob[:, 1]\n",
    "    \n",
    "        if f1_score(valid_target, forest_downsampled_valid_predictions) > best_f1:\n",
    "            best_accuracy = accuracy_score(valid_target, forest_downsampled_valid_predictions)\n",
    "            best_f1 = f1_score(valid_target, forest_downsampled_valid_predictions)\n",
    "            best_auc_roc = roc_auc_score(valid_target, forest_downsampled_prob_one)\n",
    "            best_depth = depth\n",
    "            best_est = est\n",
    "            best_model_forest_downsampled = model_forest_downsampled\n",
    "            \n",
    "print('Best n_estimators = ', best_est, 'best depth =', best_depth)\n",
    "print('Accuracy =', best_accuracy)\n",
    "print('F1 =', best_f1)\n",
    "print('auc_roc =', best_auc_roc)\n",
    "print('')"
   ]
  },
  {
   "cell_type": "markdown",
   "metadata": {},
   "source": [
    "**Логистическая регрессия**"
   ]
  },
  {
   "cell_type": "code",
   "execution_count": 24,
   "metadata": {},
   "outputs": [
    {
     "name": "stdout",
     "output_type": "stream",
     "text": [
      "Accuracy = 0.6375\n",
      "F1 = 0.4772891131939438\n",
      "auc_roc = 0.7678927000960899\n"
     ]
    }
   ],
   "source": [
    "model_logreg_downsampled = LogisticRegression(random_state=123, solver='liblinear')\n",
    "model_logreg_downsampled.fit(train_features_downsampled, train_target_downsampled)\n",
    "logreg_downsampled_valid_predictions = model_logreg_downsampled.predict(valid_features)\n",
    "logreg_downsampled_prob = model_logreg_downsampled.predict_proba(valid_features)\n",
    "logreg_downsampled_prob_one = logreg_downsampled_prob[:, 1]\n",
    "\n",
    "print('Accuracy =', accuracy_score(valid_target, logreg_downsampled_valid_predictions))\n",
    "print('F1 =', f1_score(valid_target, logreg_downsampled_valid_predictions))\n",
    "print('auc_roc =', roc_auc_score(valid_target, logreg_downsampled_prob_one))"
   ]
  },
  {
   "cell_type": "markdown",
   "metadata": {},
   "source": [
    "### Вывод"
   ]
  },
  {
   "cell_type": "markdown",
   "metadata": {},
   "source": [
    "Было применено два метода устранения дисбаланса: upsampling и downsampling. Результаты обучения моделей в обоих случаях похожи, однако, при обучении модели случайного леса, получены лучшие метрики на данных, обработанных методом upsample.\n",
    "\n",
    "Самыми лучшими метриками обладает модель случайного леса, обученная на данных, обработанных методом upsample."
   ]
  },
  {
   "cell_type": "markdown",
   "metadata": {},
   "source": [
    "## Тестирование модели"
   ]
  },
  {
   "cell_type": "markdown",
   "metadata": {},
   "source": [
    "Проверим лучшую из полученных моделей на тестовой выборке"
   ]
  },
  {
   "cell_type": "code",
   "execution_count": 25,
   "metadata": {},
   "outputs": [
    {
     "name": "stdout",
     "output_type": "stream",
     "text": [
      "accuracy = 0.827\n",
      "f1 = 0.6094808126410836\n",
      "auc_roc = 0.8477961783046529\n"
     ]
    }
   ],
   "source": [
    "test_predictions = best_model_forest_upsampled.predict(test_features)\n",
    "test_prob = best_model_forest_downsampled.predict_proba(test_features)\n",
    "test_prob_one = test_prob[:, 1]\n",
    "\n",
    "print('accuracy =', accuracy_score(test_target, test_predictions))\n",
    "print('f1 =', f1_score(test_target, test_predictions))\n",
    "print('auc_roc =', roc_auc_score(test_target, test_prob_one))"
   ]
  },
  {
   "cell_type": "markdown",
   "metadata": {},
   "source": [
    "## Вывод"
   ]
  },
  {
   "cell_type": "markdown",
   "metadata": {},
   "source": [
    "В работе было необходимо спрогнозировать уход клиента из банка.\n",
    "\n",
    "Данные были предварительно подготовлены:\n",
    "1. Закодированы категориальные признаки\n",
    "2. Разбиты на обучающую, валидационную и тестовую выборки\n",
    "3. Признаки масштабированы\n",
    "\n",
    "Были обучены три модели: дерево решений, случайный лес, логистическая регрессия.\n",
    "\n",
    "Результаты предсказаний, полученные на данных без учёта дисбаланса классов, оказались неудовлетварительными. \n",
    "\n",
    "Дисбаланс классов был устранен двумя методами: upsampling и downsampling. В результате, наилучшая модель получилась на данных, обработанных методом upsampling.\n",
    "\n",
    "Удалось достичь значения метрики f1 = 0.59 и подтвердить данное значение на тестовой выборке. При этом, метрика accuracy превышает аналогичную для константной модели всего на 0.04. А значение метрики AUC-ROC равно 0.858, что далеко до идеала, но значительно превышает значение случайной модели."
   ]
  }
 ],
 "metadata": {
  "kernelspec": {
   "display_name": "Python 3",
   "language": "python",
   "name": "python3"
  },
  "language_info": {
   "codemirror_mode": {
    "name": "ipython",
    "version": 3
   },
   "file_extension": ".py",
   "mimetype": "text/x-python",
   "name": "python",
   "nbconvert_exporter": "python",
   "pygments_lexer": "ipython3",
   "version": "3.8.8"
  },
  "toc": {
   "base_numbering": "1",
   "nav_menu": {},
   "number_sections": true,
   "sideBar": true,
   "skip_h1_title": true,
   "title_cell": "Table of Contents",
   "title_sidebar": "Contents",
   "toc_cell": false,
   "toc_position": {
    "height": "calc(100% - 180px)",
    "left": "10px",
    "top": "150px",
    "width": "238.396px"
   },
   "toc_section_display": true,
   "toc_window_display": false
  }
 },
 "nbformat": 4,
 "nbformat_minor": 2
}
