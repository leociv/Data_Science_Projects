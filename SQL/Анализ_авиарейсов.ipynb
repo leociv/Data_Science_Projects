{
 "cells": [
  {
   "cell_type": "markdown",
   "metadata": {
    "toc": true
   },
   "source": [
    "<h1>Содержание<span class=\"tocSkip\"></span></h1>\n",
    "<div class=\"toc\"><ul class=\"toc-item\"><li><span><a href=\"#Аналитика\" data-toc-modified-id=\"Аналитика-1\"><span class=\"toc-item-num\">1&nbsp;&nbsp;</span>Аналитика</a></span></li><li><span><a href=\"#Выводы\" data-toc-modified-id=\"Выводы-2\"><span class=\"toc-item-num\">2&nbsp;&nbsp;</span>Выводы</a></span></li><li><span><a href=\"#Чек-лист-проверки\" data-toc-modified-id=\"Чек-лист-проверки-3\"><span class=\"toc-item-num\">3&nbsp;&nbsp;</span>Чек-лист проверки</a></span></li></ul></div>"
   ]
  },
  {
   "cell_type": "markdown",
   "metadata": {},
   "source": [
    "# Спрос на рейсы авиакомпании"
   ]
  },
  {
   "cell_type": "markdown",
   "metadata": {},
   "source": [
    "Нам предстоит изучить базу данных и проанализировать спрос пассажиров на рейсы в города, где проходят крупнейшие культурные фестивали."
   ]
  },
  {
   "cell_type": "markdown",
   "metadata": {},
   "source": [
    "У нас есть файлы с результатами запросов из предыдущих заданий. Составление следующих датасетов выполнено при помощи SQL запросов в тренажере Яндекс.Практикум. В данном проекте выполняется только анализ полученных ранее данных.\n",
    "\n",
    "**query_1.csv** — результат первого запроса. В нём содержится такая информация:\n",
    "\n",
    "- *model* — **модель самолета;\n",
    "- *flights_amount* — количество рейсов для каждой модели самолетов *model* в сентябре 2018 года.\n",
    "\n",
    "**query_3.csv** — результат третьего запроса. В нём содержится такая информация:\n",
    "\n",
    "- *city* — город;\n",
    "- *average_flights* — среднее количество рейсов, прибывающих в город (*city*) за день в сентябре 2018 года.\n",
    "\n",
    "**Задача**:\n",
    "- выбрать топ-10 городов по количеству рейсов;\n",
    "- построить графики: модели самолётов и количество рейсов, города и количество рейсов, топ-10 городов и количество рейсов;"
   ]
  },
  {
   "cell_type": "markdown",
   "metadata": {},
   "source": [
    "## Аналитика"
   ]
  },
  {
   "cell_type": "code",
   "execution_count": 1,
   "metadata": {},
   "outputs": [],
   "source": [
    "import pandas as pd\n",
    "import numpy as np\n",
    "import matplotlib.pyplot as plt\n",
    "import seaborn as sns"
   ]
  },
  {
   "cell_type": "code",
   "execution_count": 2,
   "metadata": {},
   "outputs": [],
   "source": [
    "df1 = pd.read_csv('/datasets/query_1.csv')\n",
    "df2 = pd.read_csv('/datasets/query_3.csv')"
   ]
  },
  {
   "cell_type": "code",
   "execution_count": 3,
   "metadata": {},
   "outputs": [
    {
     "data": {
      "text/html": [
       "<div>\n",
       "<style scoped>\n",
       "    .dataframe tbody tr th:only-of-type {\n",
       "        vertical-align: middle;\n",
       "    }\n",
       "\n",
       "    .dataframe tbody tr th {\n",
       "        vertical-align: top;\n",
       "    }\n",
       "\n",
       "    .dataframe thead th {\n",
       "        text-align: right;\n",
       "    }\n",
       "</style>\n",
       "<table border=\"1\" class=\"dataframe\">\n",
       "  <thead>\n",
       "    <tr style=\"text-align: right;\">\n",
       "      <th></th>\n",
       "      <th>model</th>\n",
       "      <th>flights_amount</th>\n",
       "    </tr>\n",
       "  </thead>\n",
       "  <tbody>\n",
       "    <tr>\n",
       "      <td>0</td>\n",
       "      <td>Airbus A319-100</td>\n",
       "      <td>607</td>\n",
       "    </tr>\n",
       "    <tr>\n",
       "      <td>1</td>\n",
       "      <td>Airbus A321-200</td>\n",
       "      <td>960</td>\n",
       "    </tr>\n",
       "    <tr>\n",
       "      <td>2</td>\n",
       "      <td>Boeing 737-300</td>\n",
       "      <td>630</td>\n",
       "    </tr>\n",
       "    <tr>\n",
       "      <td>3</td>\n",
       "      <td>Boeing 767-300</td>\n",
       "      <td>600</td>\n",
       "    </tr>\n",
       "    <tr>\n",
       "      <td>4</td>\n",
       "      <td>Boeing 777-300</td>\n",
       "      <td>300</td>\n",
       "    </tr>\n",
       "    <tr>\n",
       "      <td>5</td>\n",
       "      <td>Bombardier CRJ-200</td>\n",
       "      <td>4446</td>\n",
       "    </tr>\n",
       "    <tr>\n",
       "      <td>6</td>\n",
       "      <td>Cessna 208 Caravan</td>\n",
       "      <td>4557</td>\n",
       "    </tr>\n",
       "    <tr>\n",
       "      <td>7</td>\n",
       "      <td>Sukhoi SuperJet-100</td>\n",
       "      <td>4185</td>\n",
       "    </tr>\n",
       "  </tbody>\n",
       "</table>\n",
       "</div>"
      ],
      "text/plain": [
       "                 model  flights_amount\n",
       "0      Airbus A319-100             607\n",
       "1      Airbus A321-200             960\n",
       "2       Boeing 737-300             630\n",
       "3       Boeing 767-300             600\n",
       "4       Boeing 777-300             300\n",
       "5   Bombardier CRJ-200            4446\n",
       "6   Cessna 208 Caravan            4557\n",
       "7  Sukhoi SuperJet-100            4185"
      ]
     },
     "metadata": {},
     "output_type": "display_data"
    },
    {
     "data": {
      "text/html": [
       "<div>\n",
       "<style scoped>\n",
       "    .dataframe tbody tr th:only-of-type {\n",
       "        vertical-align: middle;\n",
       "    }\n",
       "\n",
       "    .dataframe tbody tr th {\n",
       "        vertical-align: top;\n",
       "    }\n",
       "\n",
       "    .dataframe thead th {\n",
       "        text-align: right;\n",
       "    }\n",
       "</style>\n",
       "<table border=\"1\" class=\"dataframe\">\n",
       "  <thead>\n",
       "    <tr style=\"text-align: right;\">\n",
       "      <th></th>\n",
       "      <th>city</th>\n",
       "      <th>average_flights</th>\n",
       "    </tr>\n",
       "  </thead>\n",
       "  <tbody>\n",
       "    <tr>\n",
       "      <td>0</td>\n",
       "      <td>Абакан</td>\n",
       "      <td>3.870968</td>\n",
       "    </tr>\n",
       "    <tr>\n",
       "      <td>1</td>\n",
       "      <td>Анадырь</td>\n",
       "      <td>1.000000</td>\n",
       "    </tr>\n",
       "    <tr>\n",
       "      <td>2</td>\n",
       "      <td>Анапа</td>\n",
       "      <td>2.161290</td>\n",
       "    </tr>\n",
       "    <tr>\n",
       "      <td>3</td>\n",
       "      <td>Архангельск</td>\n",
       "      <td>5.354839</td>\n",
       "    </tr>\n",
       "    <tr>\n",
       "      <td>4</td>\n",
       "      <td>Астрахань</td>\n",
       "      <td>2.451613</td>\n",
       "    </tr>\n",
       "    <tr>\n",
       "      <td>...</td>\n",
       "      <td>...</td>\n",
       "      <td>...</td>\n",
       "    </tr>\n",
       "    <tr>\n",
       "      <td>96</td>\n",
       "      <td>Чита</td>\n",
       "      <td>1.580645</td>\n",
       "    </tr>\n",
       "    <tr>\n",
       "      <td>97</td>\n",
       "      <td>Элиста</td>\n",
       "      <td>4.870968</td>\n",
       "    </tr>\n",
       "    <tr>\n",
       "      <td>98</td>\n",
       "      <td>Южно-Сахалинск</td>\n",
       "      <td>4.290323</td>\n",
       "    </tr>\n",
       "    <tr>\n",
       "      <td>99</td>\n",
       "      <td>Якутск</td>\n",
       "      <td>2.741935</td>\n",
       "    </tr>\n",
       "    <tr>\n",
       "      <td>100</td>\n",
       "      <td>Ярославль</td>\n",
       "      <td>1.322581</td>\n",
       "    </tr>\n",
       "  </tbody>\n",
       "</table>\n",
       "<p>101 rows × 2 columns</p>\n",
       "</div>"
      ],
      "text/plain": [
       "               city  average_flights\n",
       "0            Абакан         3.870968\n",
       "1           Анадырь         1.000000\n",
       "2             Анапа         2.161290\n",
       "3       Архангельск         5.354839\n",
       "4         Астрахань         2.451613\n",
       "..              ...              ...\n",
       "96             Чита         1.580645\n",
       "97           Элиста         4.870968\n",
       "98   Южно-Сахалинск         4.290323\n",
       "99           Якутск         2.741935\n",
       "100       Ярославль         1.322581\n",
       "\n",
       "[101 rows x 2 columns]"
      ]
     },
     "metadata": {},
     "output_type": "display_data"
    }
   ],
   "source": [
    "display(df1)\n",
    "display(df2)"
   ]
  },
  {
   "cell_type": "code",
   "execution_count": 4,
   "metadata": {},
   "outputs": [
    {
     "name": "stdout",
     "output_type": "stream",
     "text": [
      "<class 'pandas.core.frame.DataFrame'>\n",
      "RangeIndex: 8 entries, 0 to 7\n",
      "Data columns (total 2 columns):\n",
      "model             8 non-null object\n",
      "flights_amount    8 non-null int64\n",
      "dtypes: int64(1), object(1)\n",
      "memory usage: 256.0+ bytes\n",
      "None\n",
      "\n",
      "<class 'pandas.core.frame.DataFrame'>\n",
      "RangeIndex: 101 entries, 0 to 100\n",
      "Data columns (total 2 columns):\n",
      "city               101 non-null object\n",
      "average_flights    101 non-null float64\n",
      "dtypes: float64(1), object(1)\n",
      "memory usage: 1.7+ KB\n",
      "None\n",
      "0\n"
     ]
    }
   ],
   "source": [
    "print(df1.info())\n",
    "print('')\n",
    "print(df2.info())\n",
    "print(df2.duplicated().sum())"
   ]
  },
  {
   "cell_type": "markdown",
   "metadata": {},
   "source": [
    "Файлы импортированы. Первый датасет состоит из 8 строк и 2 столбцов. В первом столбце содержится модель самолета, во втором - количество рейсов в сентябре 2018. Пропусков в данных нет, дубликатов тоже. Типы данных заданы верно, названия - object, целые числа - int64.\n",
    "\n",
    "Второй датасет состоит из 101 строки и 2 столбцов. В первом столбце - названия городов, во втором - среднее количество рейсов, прибывающих в этот город за день в сентябре 2018 года. Пропусков в данных нет, дубликатов тоже. Типы данных заданы верно, названия - object, дробные числа - float64.\n",
    "\n",
    "Столбцы в обоих датасетах названы корректно. Латиницей, в нижнем регистре, без пробелов"
   ]
  },
  {
   "cell_type": "markdown",
   "metadata": {},
   "source": [
    "Создадим отдельную выборку из топ-10 городов по количеству рейсов в день"
   ]
  },
  {
   "cell_type": "code",
   "execution_count": 5,
   "metadata": {},
   "outputs": [
    {
     "data": {
      "text/html": [
       "<div>\n",
       "<style scoped>\n",
       "    .dataframe tbody tr th:only-of-type {\n",
       "        vertical-align: middle;\n",
       "    }\n",
       "\n",
       "    .dataframe tbody tr th {\n",
       "        vertical-align: top;\n",
       "    }\n",
       "\n",
       "    .dataframe thead th {\n",
       "        text-align: right;\n",
       "    }\n",
       "</style>\n",
       "<table border=\"1\" class=\"dataframe\">\n",
       "  <thead>\n",
       "    <tr style=\"text-align: right;\">\n",
       "      <th></th>\n",
       "      <th>city</th>\n",
       "      <th>average_flights</th>\n",
       "    </tr>\n",
       "  </thead>\n",
       "  <tbody>\n",
       "    <tr>\n",
       "      <td>43</td>\n",
       "      <td>Москва</td>\n",
       "      <td>129.774194</td>\n",
       "    </tr>\n",
       "    <tr>\n",
       "      <td>70</td>\n",
       "      <td>Санкт-Петербург</td>\n",
       "      <td>31.161290</td>\n",
       "    </tr>\n",
       "    <tr>\n",
       "      <td>54</td>\n",
       "      <td>Новосибирск</td>\n",
       "      <td>17.322581</td>\n",
       "    </tr>\n",
       "    <tr>\n",
       "      <td>33</td>\n",
       "      <td>Красноярск</td>\n",
       "      <td>11.580645</td>\n",
       "    </tr>\n",
       "    <tr>\n",
       "      <td>20</td>\n",
       "      <td>Екатеринбург</td>\n",
       "      <td>11.322581</td>\n",
       "    </tr>\n",
       "    <tr>\n",
       "      <td>67</td>\n",
       "      <td>Ростов-на-Дону</td>\n",
       "      <td>10.193548</td>\n",
       "    </tr>\n",
       "    <tr>\n",
       "      <td>63</td>\n",
       "      <td>Пермь</td>\n",
       "      <td>10.129032</td>\n",
       "    </tr>\n",
       "    <tr>\n",
       "      <td>10</td>\n",
       "      <td>Брянск</td>\n",
       "      <td>10.000000</td>\n",
       "    </tr>\n",
       "    <tr>\n",
       "      <td>74</td>\n",
       "      <td>Сочи</td>\n",
       "      <td>9.612903</td>\n",
       "    </tr>\n",
       "    <tr>\n",
       "      <td>84</td>\n",
       "      <td>Ульяновск</td>\n",
       "      <td>9.580645</td>\n",
       "    </tr>\n",
       "  </tbody>\n",
       "</table>\n",
       "</div>"
      ],
      "text/plain": [
       "               city  average_flights\n",
       "43           Москва       129.774194\n",
       "70  Санкт-Петербург        31.161290\n",
       "54      Новосибирск        17.322581\n",
       "33       Красноярск        11.580645\n",
       "20     Екатеринбург        11.322581\n",
       "67   Ростов-на-Дону        10.193548\n",
       "63            Пермь        10.129032\n",
       "10           Брянск        10.000000\n",
       "74             Сочи         9.612903\n",
       "84        Ульяновск         9.580645"
      ]
     },
     "metadata": {},
     "output_type": "display_data"
    }
   ],
   "source": [
    "top10 = df2.sort_values(by='average_flights', ascending=False).head(10)\n",
    "display(top10)"
   ]
  },
  {
   "cell_type": "markdown",
   "metadata": {},
   "source": [
    "Построим графики"
   ]
  },
  {
   "cell_type": "code",
   "execution_count": 6,
   "metadata": {},
   "outputs": [
    {
     "data": {
      "image/png": "[encoded data removed]",
      "text/plain": [
       "<Figure size 1152x576 with 1 Axes>"
      ]
     },
     "metadata": {
      "needs_background": "light"
     },
     "output_type": "display_data"
    }
   ],
   "source": [
    "plt.figure(figsize=(16,8))\n",
    "sns.barplot(data=df1, x='model', y='flights_amount')\n",
    "plt.xlabel('Модель самолета')\n",
    "plt.ylabel('Количество рейсов в месяц')\n",
    "plt.title('Количество рейсов для каждого самолета')\n",
    "plt.show()"
   ]
  },
  {
   "cell_type": "markdown",
   "metadata": {},
   "source": [
    "Отчетливо видно, что рейсы больших самолетов Boeing значительно уступают по количеству любым другим, это происходит из-за отсутствия необходимости такой большой пассажировместимости и емкости топливного бака на большинстве рейсов в России, а то количество рейсов которое есть, скорее всего используется для заграничных перелетов. Самолёты Airbus совершают немного больше рейсов, чем Boeing, однако сильно уступают маленьким самолетам, таким как Bombsrdier и Cessna. Можно предположить, что во многих городах России отсутствует необходимость в большой вместимости самолетов, что объясняет такое количество рейсов Bombsrdier и Cessna, а Sukhoi - самолет отечественного производства, и стоит дешевле западных Airbus, скорее всего это основная причина, по которой он используется в России значительно чаще, хотя пассажировместимость сравнима с Airbus."
   ]
  },
  {
   "cell_type": "code",
   "execution_count": 7,
   "metadata": {},
   "outputs": [
    {
     "data": {
      "image/png": "[encoded data removed]",
      "text/plain": [
       "<Figure size 1152x576 with 1 Axes>"
      ]
     },
     "metadata": {
      "needs_background": "light"
     },
     "output_type": "display_data"
    }
   ],
   "source": [
    "df2.sort_values(by='average_flights', ascending=False).plot(kind='bar', figsize=(16,8))\n",
    "plt.xlabel('Город')\n",
    "plt.ylabel('Количество рейсов в день')\n",
    "plt.title('Количество рейсов в день для каждого города')\n",
    "plt.show()"
   ]
  },
  {
   "cell_type": "markdown",
   "metadata": {},
   "source": [
    "На данном графике отчетливо видно, что после первой десятки городов, ни один город не имеет более 10 рейсов в день. Это объясняется низкой плотностью населения в не столичных регионах страны, а также слабой развитостью инфраструктуры за пределами крупных городов."
   ]
  },
  {
   "cell_type": "code",
   "execution_count": 8,
   "metadata": {},
   "outputs": [
    {
     "data": {
      "image/png": "[encoded data removed]",
      "text/plain": [
       "<Figure size 1152x576 with 1 Axes>"
      ]
     },
     "metadata": {
      "needs_background": "light"
     },
     "output_type": "display_data"
    }
   ],
   "source": [
    "plt.figure(figsize=(16,8))\n",
    "sns.barplot(data=top10, x='city', y='average_flights')\n",
    "plt.xlabel('Город')\n",
    "plt.ylabel('Количество рейсов в день')\n",
    "plt.title('Количество рейсов в день для каждого города')\n",
    "plt.show()"
   ]
  },
  {
   "cell_type": "markdown",
   "metadata": {},
   "source": [
    "На данном графике видно, что Москва не просто самый многочисленный по населению город в стране, но и выступает как огромный транспортный узел, имея почти в 4 раза больше рейсов, чем следующий за ней Санкт-Петербург, который является вторым городом в стране, что и отражается на диаграмме. На третьем месте Новосибирск, который по совместительству третий город в стране по населению. Однако, несмотря на разницу в населениях между СПБ и Новосибирском в почти 4 раза, новосибирск имеет лиш на ~10 рейсов в день меньше. Новосибирск является достаточно загруженным аэропортом, так как выступает в роли крупного транспортного узла в Сибири. Все последующие города примерно похожи по размеру и населению на Новосибирск, однако не являются такими крупными транспортными узлами, поэтому все они имеют примерно одинаковое количество рейсов в день, которое соответствует крупности этих городов."
   ]
  },
  {
   "cell_type": "markdown",
   "metadata": {},
   "source": [
    "## Выводы"
   ]
  },
  {
   "cell_type": "markdown",
   "metadata": {},
   "source": [
    "В данном проекте были выполнены задачи по извлечению данных при помощи SQL запросов, в рамках тренажёра."
   ]
  },
  {
   "cell_type": "markdown",
   "metadata": {},
   "source": [
    "Некоторые из полученных данных были проанализированы, были построены графики, написаны описания графиков.\n",
    "\n",
    "Общей тенденцией для России является использование небольших самолетов, а так же, использование самолетов отечественного производства.\n",
    "\n",
    "Количество рейсов по городам повторяет распределение городов по численности населения."
   ]
  }
 ],
 "metadata": {
  "ExecuteTimeLog": [
   {
    "duration": 840,
    "start_time": "2021-07-01T17:35:19.594Z"
   },
   {
    "duration": 2963,
    "start_time": "2021-07-01T17:40:01.681Z"
   },
   {
    "duration": 20,
    "start_time": "2021-07-01T17:40:09.377Z"
   },
   {
    "duration": 30,
    "start_time": "2021-07-01T17:40:21.492Z"
   },
   {
    "duration": 29,
    "start_time": "2021-07-01T17:40:38.981Z"
   },
   {
    "duration": 16,
    "start_time": "2021-07-01T17:41:38.875Z"
   },
   {
    "duration": 7,
    "start_time": "2021-07-01T17:41:56.844Z"
   },
   {
    "duration": 13,
    "start_time": "2021-07-01T17:42:33.851Z"
   },
   {
    "duration": 15,
    "start_time": "2021-07-01T17:47:06.025Z"
   },
   {
    "duration": 15,
    "start_time": "2021-07-01T17:47:19.413Z"
   },
   {
    "duration": 15,
    "start_time": "2021-07-01T17:47:29.635Z"
   },
   {
    "duration": 647,
    "start_time": "2021-07-01T17:51:32.684Z"
   },
   {
    "duration": 5,
    "start_time": "2021-07-01T17:52:08.522Z"
   },
   {
    "duration": 17,
    "start_time": "2021-07-01T17:52:17.682Z"
   },
   {
    "duration": 251,
    "start_time": "2021-07-01T18:08:15.586Z"
   },
   {
    "duration": 266,
    "start_time": "2021-07-01T18:08:21.463Z"
   },
   {
    "duration": 530,
    "start_time": "2021-07-01T18:09:20.897Z"
   },
   {
    "duration": 269,
    "start_time": "2021-07-01T18:09:38.013Z"
   },
   {
    "duration": 590,
    "start_time": "2021-07-01T18:12:27.464Z"
   },
   {
    "duration": 308,
    "start_time": "2021-07-01T18:13:41.910Z"
   },
   {
    "duration": 304,
    "start_time": "2021-07-01T18:14:06.217Z"
   },
   {
    "duration": 421,
    "start_time": "2021-07-01T18:16:01.197Z"
   },
   {
    "duration": 446,
    "start_time": "2021-07-01T18:16:07.354Z"
   },
   {
    "duration": 454,
    "start_time": "2021-07-01T18:16:13.923Z"
   },
   {
    "duration": 474,
    "start_time": "2021-07-01T18:16:27.479Z"
   },
   {
    "duration": 533,
    "start_time": "2021-07-01T18:16:55.400Z"
   },
   {
    "duration": 482,
    "start_time": "2021-07-01T18:17:18.747Z"
   },
   {
    "duration": 470,
    "start_time": "2021-07-01T18:17:47.233Z"
   },
   {
    "duration": 266,
    "start_time": "2021-07-01T18:18:42.523Z"
   },
   {
    "duration": 306,
    "start_time": "2021-07-01T18:18:52.797Z"
   },
   {
    "duration": 297,
    "start_time": "2021-07-01T18:19:06.363Z"
   },
   {
    "duration": 768,
    "start_time": "2021-07-01T18:19:24.145Z"
   },
   {
    "duration": 739,
    "start_time": "2021-07-01T18:19:33.313Z"
   },
   {
    "duration": 517,
    "start_time": "2021-07-01T18:19:44.394Z"
   },
   {
    "duration": 269,
    "start_time": "2021-07-01T18:20:11.740Z"
   },
   {
    "duration": 414,
    "start_time": "2021-07-01T18:20:23.984Z"
   },
   {
    "duration": 2016,
    "start_time": "2021-07-01T18:21:04.388Z"
   },
   {
    "duration": 2163,
    "start_time": "2021-07-01T18:21:16.279Z"
   },
   {
    "duration": 1920,
    "start_time": "2021-07-01T18:21:32.248Z"
   },
   {
    "duration": 2062,
    "start_time": "2021-07-01T18:22:10.841Z"
   },
   {
    "duration": 2086,
    "start_time": "2021-07-01T18:38:09.939Z"
   },
   {
    "duration": 503,
    "start_time": "2021-07-01T18:41:15.557Z"
   },
   {
    "duration": 1563,
    "start_time": "2021-07-01T18:51:25.730Z"
   },
   {
    "duration": 31,
    "start_time": "2021-07-01T18:51:27.296Z"
   },
   {
    "duration": 25,
    "start_time": "2021-07-01T18:51:27.330Z"
   },
   {
    "duration": 14,
    "start_time": "2021-07-01T18:51:27.358Z"
   },
   {
    "duration": 16,
    "start_time": "2021-07-01T18:51:27.384Z"
   },
   {
    "duration": 647,
    "start_time": "2021-07-01T18:51:27.403Z"
   },
   {
    "duration": 2041,
    "start_time": "2021-07-01T18:51:28.053Z"
   },
   {
    "duration": 568,
    "start_time": "2021-07-01T18:51:30.099Z"
   },
   {
    "duration": 688,
    "start_time": "2021-07-01T18:51:45.333Z"
   },
   {
    "duration": 1370,
    "start_time": "2021-07-02T05:24:46.075Z"
   },
   {
    "duration": 33,
    "start_time": "2021-07-02T05:24:47.448Z"
   },
   {
    "duration": 30,
    "start_time": "2021-07-02T05:24:47.484Z"
   },
   {
    "duration": 14,
    "start_time": "2021-07-02T05:24:47.516Z"
   },
   {
    "duration": 12,
    "start_time": "2021-07-02T05:24:47.933Z"
   },
   {
    "duration": 454,
    "start_time": "2021-07-02T05:24:48.255Z"
   },
   {
    "duration": 1828,
    "start_time": "2021-07-02T05:24:48.712Z"
   },
   {
    "duration": 471,
    "start_time": "2021-07-02T05:24:50.543Z"
   }
  ],
  "kernelspec": {
   "display_name": "Python 3",
   "language": "python",
   "name": "python3"
  },
  "language_info": {
   "codemirror_mode": {
    "name": "ipython",
    "version": 3
   },
   "file_extension": ".py",
   "mimetype": "text/x-python",
   "name": "python",
   "nbconvert_exporter": "python",
   "pygments_lexer": "ipython3",
   "version": "3.8.8"
  },
  "toc": {
   "base_numbering": 1,
   "nav_menu": {},
   "number_sections": true,
   "sideBar": true,
   "skip_h1_title": true,
   "title_cell": "Содержание",
   "title_sidebar": "Contents",
   "toc_cell": true,
   "toc_position": {},
   "toc_section_display": true,
   "toc_window_display": false
  }
 },
 "nbformat": 4,
 "nbformat_minor": 2
}
