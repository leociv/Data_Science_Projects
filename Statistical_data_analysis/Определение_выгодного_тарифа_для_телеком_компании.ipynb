{
 "cells": [
  {
   "cell_type": "markdown",
   "metadata": {},
   "source": [
    "# Определение перспективного тарифа для телеком компании"
   ]
  },
  {
   "cell_type": "markdown",
   "metadata": {},
   "source": [
    "Телеком компания предлагает клиентам два тарифных плана: «Смарт» и «Ультра»."
   ]
  },
  {
   "cell_type": "markdown",
   "metadata": {},
   "source": [
    "##  Описание тарифов"
   ]
  },
  {
   "cell_type": "markdown",
   "metadata": {},
   "source": [
    "### Тариф «Смарт»"
   ]
  },
  {
   "cell_type": "markdown",
   "metadata": {},
   "source": [
    "1. Ежемесячная плата: 550 рублей\n",
    "2. Включено 500 минут разговора, 50 сообщений и 15 Гб интернет-трафика\n",
    "3. Стоимость услуг сверх тарифного пакета:\n",
    "\n",
    "    минута разговора: 3 рубля\n",
    "\n",
    "    сообщение: 3 рубля\n",
    "\n",
    "    1 Гб интернет-трафика: 200 рублей"
   ]
  },
  {
   "cell_type": "markdown",
   "metadata": {},
   "source": [
    "### Тариф «Ультра»"
   ]
  },
  {
   "cell_type": "markdown",
   "metadata": {},
   "source": [
    "1. Ежемесячная плата: 1950 рублей\n",
    "2. Включено 3000 минут разговора, 1000 сообщений и 30 Гб интернет-трафика\n",
    "3. Стоимость услуг сверх тарифного пакета:\n",
    "\n",
    "    минута разговора: 1 рубль\n",
    "\n",
    "    сообщение: 1 рубль\n",
    "\n",
    "    1 Гб интернет-трафика: 150 рублей"
   ]
  },
  {
   "cell_type": "markdown",
   "metadata": {},
   "source": [
    "Значения минут и мегабайтов всегда округляются вверх. Если пользователь проговорил всего 1 секунду, в тарифе засчитывается целая минута."
   ]
  },
  {
   "cell_type": "markdown",
   "metadata": {},
   "source": [
    "В распоряжении имеются следующие данные:\n",
    "1. Таблица users (информация о пользователях):\n",
    "- user_id — уникальный идентификатор пользователя\n",
    "- first_name — имя пользователя\n",
    "- last_name — фамилия пользователя\n",
    "- age — возраст пользователя (годы)\n",
    "- reg_date — дата подключения тарифа (день, месяц, год)\n",
    "- churn_date — дата прекращения пользования тарифом (если значение пропущено, то тариф ещё действовал на момент выгрузки данных)\n",
    "- city — город проживания пользователя\n",
    "- tarif — название тарифного плана\n",
    "2. Таблица calls (информация о звонках):\n",
    "- id — уникальный номер звонка\n",
    "- call_date — дата звонка\n",
    "- duration — длительность звонка в минутах\n",
    "- user_id — идентификатор пользователя, сделавшего звонок\n",
    "3. Таблица messages (информация о сообщениях):\n",
    "- id — уникальный номер сообщения\n",
    "- message_date — дата сообщения\n",
    "- user_id — идентификатор пользователя, отправившего сообщение\n",
    "4. Таблица internet (информация об интернет-сессиях):\n",
    "- id — уникальный номер сессии\n",
    "- mb_used — объём потраченного за сессию интернет-трафика (в мегабайтах)\n",
    "- session_date — дата интернет-сессии\n",
    "- user_id — идентификатор пользователя\n",
    "5. Таблица tariffs (информация о тарифах):\n",
    "- tariff_name — название тарифа\n",
    "- rub_monthly_fee — ежемесячная абонентская плата в рублях\n",
    "- minutes_included — количество минут разговора в месяц, включённых в абонентскую плату\n",
    "- messages_included — количество сообщений в месяц, включённых в абонентскую плату\n",
    "- mb_per_month_included — объём интернет-трафика, включённого в абонентскую плату (в мегабайтах)\n",
    "- rub_per_minute — стоимость минуты разговора сверх тарифного пакета\n",
    "- rub_per_message — стоимость отправки сообщения сверх тарифного пакета\n",
    "- rub_per_gb — стоимость дополнительного гигабайта интернет-трафика сверх тарифного пакета"
   ]
  },
  {
   "cell_type": "markdown",
   "metadata": {},
   "source": [
    "**Задачи**:\n",
    "1. Понять, какой тариф более перспективный.\n",
    "2. Проверить гипотезу, что средняя выручка с пользователей тарифов «Ультра» и «Смарт» различаются.\n",
    "3. Проверить гипотезу, что средняя выручка с пользователей из Москвы отличается от выручки с пользователей из других регионов."
   ]
  },
  {
   "cell_type": "markdown",
   "metadata": {},
   "source": [
    "## 1. Загрузка данных. Общая информация"
   ]
  },
  {
   "cell_type": "code",
   "execution_count": 1,
   "metadata": {},
   "outputs": [],
   "source": [
    "import pandas as pd\n",
    "import numpy as np\n",
    "import matplotlib.pyplot as plt\n",
    "import warnings\n",
    "warnings.filterwarnings('ignore')"
   ]
  },
  {
   "cell_type": "code",
   "execution_count": 2,
   "metadata": {},
   "outputs": [
    {
     "data": {
      "text/html": [
       "<div>\n",
       "<style scoped>\n",
       "    .dataframe tbody tr th:only-of-type {\n",
       "        vertical-align: middle;\n",
       "    }\n",
       "\n",
       "    .dataframe tbody tr th {\n",
       "        vertical-align: top;\n",
       "    }\n",
       "\n",
       "    .dataframe thead th {\n",
       "        text-align: right;\n",
       "    }\n",
       "</style>\n",
       "<table border=\"1\" class=\"dataframe\">\n",
       "  <thead>\n",
       "    <tr style=\"text-align: right;\">\n",
       "      <th></th>\n",
       "      <th>id</th>\n",
       "      <th>call_date</th>\n",
       "      <th>duration</th>\n",
       "      <th>user_id</th>\n",
       "    </tr>\n",
       "  </thead>\n",
       "  <tbody>\n",
       "    <tr>\n",
       "      <th>0</th>\n",
       "      <td>1000_0</td>\n",
       "      <td>2018-07-25</td>\n",
       "      <td>0.00</td>\n",
       "      <td>1000</td>\n",
       "    </tr>\n",
       "    <tr>\n",
       "      <th>1</th>\n",
       "      <td>1000_1</td>\n",
       "      <td>2018-08-17</td>\n",
       "      <td>0.00</td>\n",
       "      <td>1000</td>\n",
       "    </tr>\n",
       "    <tr>\n",
       "      <th>2</th>\n",
       "      <td>1000_2</td>\n",
       "      <td>2018-06-11</td>\n",
       "      <td>2.85</td>\n",
       "      <td>1000</td>\n",
       "    </tr>\n",
       "    <tr>\n",
       "      <th>3</th>\n",
       "      <td>1000_3</td>\n",
       "      <td>2018-09-21</td>\n",
       "      <td>13.80</td>\n",
       "      <td>1000</td>\n",
       "    </tr>\n",
       "    <tr>\n",
       "      <th>4</th>\n",
       "      <td>1000_4</td>\n",
       "      <td>2018-12-15</td>\n",
       "      <td>5.18</td>\n",
       "      <td>1000</td>\n",
       "    </tr>\n",
       "  </tbody>\n",
       "</table>\n",
       "</div>"
      ],
      "text/plain": [
       "       id   call_date  duration  user_id\n",
       "0  1000_0  2018-07-25      0.00     1000\n",
       "1  1000_1  2018-08-17      0.00     1000\n",
       "2  1000_2  2018-06-11      2.85     1000\n",
       "3  1000_3  2018-09-21     13.80     1000\n",
       "4  1000_4  2018-12-15      5.18     1000"
      ]
     },
     "metadata": {},
     "output_type": "display_data"
    },
    {
     "name": "stdout",
     "output_type": "stream",
     "text": [
      "\n",
      "<class 'pandas.core.frame.DataFrame'>\n",
      "RangeIndex: 202607 entries, 0 to 202606\n",
      "Data columns (total 4 columns):\n",
      " #   Column     Non-Null Count   Dtype  \n",
      "---  ------     --------------   -----  \n",
      " 0   id         202607 non-null  object \n",
      " 1   call_date  202607 non-null  object \n",
      " 2   duration   202607 non-null  float64\n",
      " 3   user_id    202607 non-null  int64  \n",
      "dtypes: float64(1), int64(1), object(2)\n",
      "memory usage: 6.2+ MB\n",
      "None\n",
      "\n",
      "0\n"
     ]
    }
   ],
   "source": [
    "calls = pd.read_csv('C:/Users/leoci/Яндекс Практикум/Projects/Statistical_data_analysis/calls.csv')\n",
    "display(calls.head())\n",
    "print('')\n",
    "print(calls.info())\n",
    "print('')\n",
    "print(calls.duplicated().sum())"
   ]
  },
  {
   "cell_type": "code",
   "execution_count": 3,
   "metadata": {},
   "outputs": [
    {
     "data": {
      "text/html": [
       "<div>\n",
       "<style scoped>\n",
       "    .dataframe tbody tr th:only-of-type {\n",
       "        vertical-align: middle;\n",
       "    }\n",
       "\n",
       "    .dataframe tbody tr th {\n",
       "        vertical-align: top;\n",
       "    }\n",
       "\n",
       "    .dataframe thead th {\n",
       "        text-align: right;\n",
       "    }\n",
       "</style>\n",
       "<table border=\"1\" class=\"dataframe\">\n",
       "  <thead>\n",
       "    <tr style=\"text-align: right;\">\n",
       "      <th></th>\n",
       "      <th>Unnamed: 0</th>\n",
       "      <th>id</th>\n",
       "      <th>mb_used</th>\n",
       "      <th>session_date</th>\n",
       "      <th>user_id</th>\n",
       "    </tr>\n",
       "  </thead>\n",
       "  <tbody>\n",
       "    <tr>\n",
       "      <th>0</th>\n",
       "      <td>0</td>\n",
       "      <td>1000_0</td>\n",
       "      <td>112.95</td>\n",
       "      <td>2018-11-25</td>\n",
       "      <td>1000</td>\n",
       "    </tr>\n",
       "    <tr>\n",
       "      <th>1</th>\n",
       "      <td>1</td>\n",
       "      <td>1000_1</td>\n",
       "      <td>1052.81</td>\n",
       "      <td>2018-09-07</td>\n",
       "      <td>1000</td>\n",
       "    </tr>\n",
       "    <tr>\n",
       "      <th>2</th>\n",
       "      <td>2</td>\n",
       "      <td>1000_2</td>\n",
       "      <td>1197.26</td>\n",
       "      <td>2018-06-25</td>\n",
       "      <td>1000</td>\n",
       "    </tr>\n",
       "    <tr>\n",
       "      <th>3</th>\n",
       "      <td>3</td>\n",
       "      <td>1000_3</td>\n",
       "      <td>550.27</td>\n",
       "      <td>2018-08-22</td>\n",
       "      <td>1000</td>\n",
       "    </tr>\n",
       "    <tr>\n",
       "      <th>4</th>\n",
       "      <td>4</td>\n",
       "      <td>1000_4</td>\n",
       "      <td>302.56</td>\n",
       "      <td>2018-09-24</td>\n",
       "      <td>1000</td>\n",
       "    </tr>\n",
       "  </tbody>\n",
       "</table>\n",
       "</div>"
      ],
      "text/plain": [
       "   Unnamed: 0      id  mb_used session_date  user_id\n",
       "0           0  1000_0   112.95   2018-11-25     1000\n",
       "1           1  1000_1  1052.81   2018-09-07     1000\n",
       "2           2  1000_2  1197.26   2018-06-25     1000\n",
       "3           3  1000_3   550.27   2018-08-22     1000\n",
       "4           4  1000_4   302.56   2018-09-24     1000"
      ]
     },
     "metadata": {},
     "output_type": "display_data"
    },
    {
     "name": "stdout",
     "output_type": "stream",
     "text": [
      "\n",
      "<class 'pandas.core.frame.DataFrame'>\n",
      "RangeIndex: 149396 entries, 0 to 149395\n",
      "Data columns (total 5 columns):\n",
      " #   Column        Non-Null Count   Dtype  \n",
      "---  ------        --------------   -----  \n",
      " 0   Unnamed: 0    149396 non-null  int64  \n",
      " 1   id            149396 non-null  object \n",
      " 2   mb_used       149396 non-null  float64\n",
      " 3   session_date  149396 non-null  object \n",
      " 4   user_id       149396 non-null  int64  \n",
      "dtypes: float64(1), int64(2), object(2)\n",
      "memory usage: 5.7+ MB\n",
      "None\n",
      "\n",
      "0\n"
     ]
    }
   ],
   "source": [
    "internet = pd.read_csv('C:/Users/leoci/Яндекс Практикум/Projects/Statistical_data_analysis/internet.csv')\n",
    "display(internet.head())\n",
    "print('')\n",
    "print(internet.info())\n",
    "print('')\n",
    "print(internet.duplicated().sum())"
   ]
  },
  {
   "cell_type": "code",
   "execution_count": 4,
   "metadata": {},
   "outputs": [
    {
     "data": {
      "text/html": [
       "<div>\n",
       "<style scoped>\n",
       "    .dataframe tbody tr th:only-of-type {\n",
       "        vertical-align: middle;\n",
       "    }\n",
       "\n",
       "    .dataframe tbody tr th {\n",
       "        vertical-align: top;\n",
       "    }\n",
       "\n",
       "    .dataframe thead th {\n",
       "        text-align: right;\n",
       "    }\n",
       "</style>\n",
       "<table border=\"1\" class=\"dataframe\">\n",
       "  <thead>\n",
       "    <tr style=\"text-align: right;\">\n",
       "      <th></th>\n",
       "      <th>id</th>\n",
       "      <th>message_date</th>\n",
       "      <th>user_id</th>\n",
       "    </tr>\n",
       "  </thead>\n",
       "  <tbody>\n",
       "    <tr>\n",
       "      <th>0</th>\n",
       "      <td>1000_0</td>\n",
       "      <td>2018-06-27</td>\n",
       "      <td>1000</td>\n",
       "    </tr>\n",
       "    <tr>\n",
       "      <th>1</th>\n",
       "      <td>1000_1</td>\n",
       "      <td>2018-10-08</td>\n",
       "      <td>1000</td>\n",
       "    </tr>\n",
       "    <tr>\n",
       "      <th>2</th>\n",
       "      <td>1000_2</td>\n",
       "      <td>2018-08-04</td>\n",
       "      <td>1000</td>\n",
       "    </tr>\n",
       "    <tr>\n",
       "      <th>3</th>\n",
       "      <td>1000_3</td>\n",
       "      <td>2018-06-16</td>\n",
       "      <td>1000</td>\n",
       "    </tr>\n",
       "    <tr>\n",
       "      <th>4</th>\n",
       "      <td>1000_4</td>\n",
       "      <td>2018-12-05</td>\n",
       "      <td>1000</td>\n",
       "    </tr>\n",
       "  </tbody>\n",
       "</table>\n",
       "</div>"
      ],
      "text/plain": [
       "       id message_date  user_id\n",
       "0  1000_0   2018-06-27     1000\n",
       "1  1000_1   2018-10-08     1000\n",
       "2  1000_2   2018-08-04     1000\n",
       "3  1000_3   2018-06-16     1000\n",
       "4  1000_4   2018-12-05     1000"
      ]
     },
     "metadata": {},
     "output_type": "display_data"
    },
    {
     "name": "stdout",
     "output_type": "stream",
     "text": [
      "\n",
      "<class 'pandas.core.frame.DataFrame'>\n",
      "RangeIndex: 123036 entries, 0 to 123035\n",
      "Data columns (total 3 columns):\n",
      " #   Column        Non-Null Count   Dtype \n",
      "---  ------        --------------   ----- \n",
      " 0   id            123036 non-null  object\n",
      " 1   message_date  123036 non-null  object\n",
      " 2   user_id       123036 non-null  int64 \n",
      "dtypes: int64(1), object(2)\n",
      "memory usage: 2.8+ MB\n",
      "None\n",
      "\n",
      "0\n"
     ]
    }
   ],
   "source": [
    "messages = pd.read_csv('C:/Users/leoci/Яндекс Практикум/Projects/Statistical_data_analysis/messages.csv')\n",
    "display(messages.head())\n",
    "print('')\n",
    "print(messages.info())\n",
    "print('')\n",
    "print(messages.duplicated().sum())"
   ]
  },
  {
   "cell_type": "code",
   "execution_count": 5,
   "metadata": {},
   "outputs": [
    {
     "data": {
      "text/html": [
       "<div>\n",
       "<style scoped>\n",
       "    .dataframe tbody tr th:only-of-type {\n",
       "        vertical-align: middle;\n",
       "    }\n",
       "\n",
       "    .dataframe tbody tr th {\n",
       "        vertical-align: top;\n",
       "    }\n",
       "\n",
       "    .dataframe thead th {\n",
       "        text-align: right;\n",
       "    }\n",
       "</style>\n",
       "<table border=\"1\" class=\"dataframe\">\n",
       "  <thead>\n",
       "    <tr style=\"text-align: right;\">\n",
       "      <th></th>\n",
       "      <th>messages_included</th>\n",
       "      <th>mb_per_month_included</th>\n",
       "      <th>minutes_included</th>\n",
       "      <th>rub_monthly_fee</th>\n",
       "      <th>rub_per_gb</th>\n",
       "      <th>rub_per_message</th>\n",
       "      <th>rub_per_minute</th>\n",
       "      <th>tariff_name</th>\n",
       "    </tr>\n",
       "  </thead>\n",
       "  <tbody>\n",
       "    <tr>\n",
       "      <th>0</th>\n",
       "      <td>50</td>\n",
       "      <td>15360</td>\n",
       "      <td>500</td>\n",
       "      <td>550</td>\n",
       "      <td>200</td>\n",
       "      <td>3</td>\n",
       "      <td>3</td>\n",
       "      <td>smart</td>\n",
       "    </tr>\n",
       "    <tr>\n",
       "      <th>1</th>\n",
       "      <td>1000</td>\n",
       "      <td>30720</td>\n",
       "      <td>3000</td>\n",
       "      <td>1950</td>\n",
       "      <td>150</td>\n",
       "      <td>1</td>\n",
       "      <td>1</td>\n",
       "      <td>ultra</td>\n",
       "    </tr>\n",
       "  </tbody>\n",
       "</table>\n",
       "</div>"
      ],
      "text/plain": [
       "   messages_included  mb_per_month_included  minutes_included  \\\n",
       "0                 50                  15360               500   \n",
       "1               1000                  30720              3000   \n",
       "\n",
       "   rub_monthly_fee  rub_per_gb  rub_per_message  rub_per_minute tariff_name  \n",
       "0              550         200                3               3       smart  \n",
       "1             1950         150                1               1       ultra  "
      ]
     },
     "metadata": {},
     "output_type": "display_data"
    },
    {
     "name": "stdout",
     "output_type": "stream",
     "text": [
      "\n",
      "<class 'pandas.core.frame.DataFrame'>\n",
      "RangeIndex: 2 entries, 0 to 1\n",
      "Data columns (total 8 columns):\n",
      " #   Column                 Non-Null Count  Dtype \n",
      "---  ------                 --------------  ----- \n",
      " 0   messages_included      2 non-null      int64 \n",
      " 1   mb_per_month_included  2 non-null      int64 \n",
      " 2   minutes_included       2 non-null      int64 \n",
      " 3   rub_monthly_fee        2 non-null      int64 \n",
      " 4   rub_per_gb             2 non-null      int64 \n",
      " 5   rub_per_message        2 non-null      int64 \n",
      " 6   rub_per_minute         2 non-null      int64 \n",
      " 7   tariff_name            2 non-null      object\n",
      "dtypes: int64(7), object(1)\n",
      "memory usage: 256.0+ bytes\n",
      "None\n"
     ]
    }
   ],
   "source": [
    "tariffs = pd.read_csv('C:/Users/leoci/Яндекс Практикум/Projects/Statistical_data_analysis/tariffs.csv')\n",
    "display(tariffs.head())\n",
    "print('')\n",
    "print(tariffs.info())"
   ]
  },
  {
   "cell_type": "code",
   "execution_count": 6,
   "metadata": {},
   "outputs": [
    {
     "data": {
      "text/html": [
       "<div>\n",
       "<style scoped>\n",
       "    .dataframe tbody tr th:only-of-type {\n",
       "        vertical-align: middle;\n",
       "    }\n",
       "\n",
       "    .dataframe tbody tr th {\n",
       "        vertical-align: top;\n",
       "    }\n",
       "\n",
       "    .dataframe thead th {\n",
       "        text-align: right;\n",
       "    }\n",
       "</style>\n",
       "<table border=\"1\" class=\"dataframe\">\n",
       "  <thead>\n",
       "    <tr style=\"text-align: right;\">\n",
       "      <th></th>\n",
       "      <th>user_id</th>\n",
       "      <th>age</th>\n",
       "      <th>churn_date</th>\n",
       "      <th>city</th>\n",
       "      <th>first_name</th>\n",
       "      <th>last_name</th>\n",
       "      <th>reg_date</th>\n",
       "      <th>tariff</th>\n",
       "    </tr>\n",
       "  </thead>\n",
       "  <tbody>\n",
       "    <tr>\n",
       "      <th>0</th>\n",
       "      <td>1000</td>\n",
       "      <td>52</td>\n",
       "      <td>NaN</td>\n",
       "      <td>Краснодар</td>\n",
       "      <td>Рафаил</td>\n",
       "      <td>Верещагин</td>\n",
       "      <td>2018-05-25</td>\n",
       "      <td>ultra</td>\n",
       "    </tr>\n",
       "    <tr>\n",
       "      <th>1</th>\n",
       "      <td>1001</td>\n",
       "      <td>41</td>\n",
       "      <td>NaN</td>\n",
       "      <td>Москва</td>\n",
       "      <td>Иван</td>\n",
       "      <td>Ежов</td>\n",
       "      <td>2018-11-01</td>\n",
       "      <td>smart</td>\n",
       "    </tr>\n",
       "    <tr>\n",
       "      <th>2</th>\n",
       "      <td>1002</td>\n",
       "      <td>59</td>\n",
       "      <td>NaN</td>\n",
       "      <td>Стерлитамак</td>\n",
       "      <td>Евгений</td>\n",
       "      <td>Абрамович</td>\n",
       "      <td>2018-06-17</td>\n",
       "      <td>smart</td>\n",
       "    </tr>\n",
       "    <tr>\n",
       "      <th>3</th>\n",
       "      <td>1003</td>\n",
       "      <td>23</td>\n",
       "      <td>NaN</td>\n",
       "      <td>Москва</td>\n",
       "      <td>Белла</td>\n",
       "      <td>Белякова</td>\n",
       "      <td>2018-08-17</td>\n",
       "      <td>ultra</td>\n",
       "    </tr>\n",
       "    <tr>\n",
       "      <th>4</th>\n",
       "      <td>1004</td>\n",
       "      <td>68</td>\n",
       "      <td>NaN</td>\n",
       "      <td>Новокузнецк</td>\n",
       "      <td>Татьяна</td>\n",
       "      <td>Авдеенко</td>\n",
       "      <td>2018-05-14</td>\n",
       "      <td>ultra</td>\n",
       "    </tr>\n",
       "  </tbody>\n",
       "</table>\n",
       "</div>"
      ],
      "text/plain": [
       "   user_id  age churn_date         city first_name  last_name    reg_date  \\\n",
       "0     1000   52        NaN    Краснодар     Рафаил  Верещагин  2018-05-25   \n",
       "1     1001   41        NaN       Москва       Иван       Ежов  2018-11-01   \n",
       "2     1002   59        NaN  Стерлитамак    Евгений  Абрамович  2018-06-17   \n",
       "3     1003   23        NaN       Москва      Белла   Белякова  2018-08-17   \n",
       "4     1004   68        NaN  Новокузнецк    Татьяна   Авдеенко  2018-05-14   \n",
       "\n",
       "  tariff  \n",
       "0  ultra  \n",
       "1  smart  \n",
       "2  smart  \n",
       "3  ultra  \n",
       "4  ultra  "
      ]
     },
     "metadata": {},
     "output_type": "display_data"
    },
    {
     "name": "stdout",
     "output_type": "stream",
     "text": [
      "\n",
      "<class 'pandas.core.frame.DataFrame'>\n",
      "RangeIndex: 500 entries, 0 to 499\n",
      "Data columns (total 8 columns):\n",
      " #   Column      Non-Null Count  Dtype \n",
      "---  ------      --------------  ----- \n",
      " 0   user_id     500 non-null    int64 \n",
      " 1   age         500 non-null    int64 \n",
      " 2   churn_date  38 non-null     object\n",
      " 3   city        500 non-null    object\n",
      " 4   first_name  500 non-null    object\n",
      " 5   last_name   500 non-null    object\n",
      " 6   reg_date    500 non-null    object\n",
      " 7   tariff      500 non-null    object\n",
      "dtypes: int64(2), object(6)\n",
      "memory usage: 31.4+ KB\n",
      "None\n",
      "\n",
      "0\n"
     ]
    }
   ],
   "source": [
    "users = pd.read_csv('C:/Users/leoci/Яндекс Практикум/Projects/Statistical_data_analysis/users.csv')\n",
    "display(users.head())\n",
    "print('')\n",
    "print(users.info())\n",
    "print('')\n",
    "print(users.duplicated().sum())"
   ]
  },
  {
   "cell_type": "markdown",
   "metadata": {},
   "source": [
    "### Вывод"
   ]
  },
  {
   "cell_type": "markdown",
   "metadata": {},
   "source": [
    "Данные представлены корректно. Пропуски в датасетах отсутствуют, дубликаты тоже. Названия столбцов корректные.\n",
    "\n",
    "В датасетах \"calls\" и \"internet\" присутствуют нулевые значения в столбцах \"duration\" и \"mb_used\" соответственно. В данных по звонкам это, скорее всего, пропущенные вызовы. В данных по интернету - какие-то ошибки, нулевые сессии. "
   ]
  },
  {
   "cell_type": "markdown",
   "metadata": {},
   "source": [
    "## 2. Подготовка данных"
   ]
  },
  {
   "cell_type": "markdown",
   "metadata": {},
   "source": [
    "### Изменение типов данных, обработка нулевых значений"
   ]
  },
  {
   "cell_type": "markdown",
   "metadata": {},
   "source": [
    "Приведем данные к нужным типам. Заменим тип данных в столбцах, содержащих дату."
   ]
  },
  {
   "cell_type": "code",
   "execution_count": 7,
   "metadata": {},
   "outputs": [],
   "source": [
    "calls['call_date'] = pd.to_datetime(calls['call_date'], format='%Y-%m-%d')\n",
    "internet['session_date'] = pd.to_datetime(internet['session_date'], format='%Y-%m-%d')\n",
    "messages['message_date'] = pd.to_datetime(messages['message_date'], format='%Y-%m-%d')\n",
    "users['churn_date'] = pd.to_datetime(users['churn_date'], format='%Y-%m-%d')\n",
    "users['reg_date'] = pd.to_datetime(users['reg_date'], format='%Y-%m-%d')"
   ]
  },
  {
   "cell_type": "markdown",
   "metadata": {},
   "source": [
    "Нулевые значения в длительности звонков - скорее всего пропущенные входящие звонки. Как известно, входящие звонки, особенно пропущенные, являются бесплатными. Так же, эти звонки не вносят никакого вклада в общую статистику по минутам разговора абонента. Таким образом, данные звонки лучше просто удалить, чтобы не портили статистику.\n",
    "\n",
    "Такая же ситуация с интернет сессиями равными нулю. "
   ]
  },
  {
   "cell_type": "code",
   "execution_count": 8,
   "metadata": {},
   "outputs": [
    {
     "name": "stdout",
     "output_type": "stream",
     "text": [
      "<class 'pandas.core.frame.DataFrame'>\n",
      "RangeIndex: 162994 entries, 0 to 162993\n",
      "Data columns (total 4 columns):\n",
      " #   Column     Non-Null Count   Dtype         \n",
      "---  ------     --------------   -----         \n",
      " 0   id         162994 non-null  object        \n",
      " 1   call_date  162994 non-null  datetime64[ns]\n",
      " 2   duration   162994 non-null  float64       \n",
      " 3   user_id    162994 non-null  int64         \n",
      "dtypes: datetime64[ns](1), float64(1), int64(1), object(1)\n",
      "memory usage: 5.0+ MB\n",
      "None\n"
     ]
    }
   ],
   "source": [
    "calls = calls.query(\"duration != 0\").reset_index(drop=True)\n",
    "print(calls.info())"
   ]
  },
  {
   "cell_type": "code",
   "execution_count": 9,
   "metadata": {},
   "outputs": [
    {
     "name": "stdout",
     "output_type": "stream",
     "text": [
      "<class 'pandas.core.frame.DataFrame'>\n",
      "RangeIndex: 129798 entries, 0 to 129797\n",
      "Data columns (total 5 columns):\n",
      " #   Column        Non-Null Count   Dtype         \n",
      "---  ------        --------------   -----         \n",
      " 0   Unnamed: 0    129798 non-null  int64         \n",
      " 1   id            129798 non-null  object        \n",
      " 2   mb_used       129798 non-null  float64       \n",
      " 3   session_date  129798 non-null  datetime64[ns]\n",
      " 4   user_id       129798 non-null  int64         \n",
      "dtypes: datetime64[ns](1), float64(1), int64(2), object(1)\n",
      "memory usage: 5.0+ MB\n",
      "None\n"
     ]
    }
   ],
   "source": [
    "internet = internet.query(\"mb_used != 0\").reset_index(drop=True)\n",
    "print(internet.info())"
   ]
  },
  {
   "cell_type": "markdown",
   "metadata": {},
   "source": [
    "В данных про интернет присутствует странный столбец \"Unnamed: 0\", который просто дублирует индексы датасета. Удалим данный столбец."
   ]
  },
  {
   "cell_type": "code",
   "execution_count": 10,
   "metadata": {},
   "outputs": [],
   "source": [
    "internet = internet.drop('Unnamed: 0', 1)"
   ]
  },
  {
   "cell_type": "markdown",
   "metadata": {},
   "source": [
    "### Добавление данных в таблицу"
   ]
  },
  {
   "cell_type": "markdown",
   "metadata": {},
   "source": [
    "Посчитаем общее количесвто потраченных за календарный месяц минут, мегабайт и сообщений для каждого абонента.\n",
    "\n",
    "Данные приведены только за 2018 год, поэтому создадим столбец с номером месяца и сгруппируем данные по нему."
   ]
  },
  {
   "cell_type": "code",
   "execution_count": 11,
   "metadata": {},
   "outputs": [
    {
     "name": "stdout",
     "output_type": "stream",
     "text": [
      "<class 'pandas.core.frame.DataFrame'>\n",
      "RangeIndex: 3168 entries, 0 to 3167\n",
      "Data columns (total 3 columns):\n",
      " #   Column    Non-Null Count  Dtype  \n",
      "---  ------    --------------  -----  \n",
      " 0   user_id   3168 non-null   int64  \n",
      " 1   month     3168 non-null   int64  \n",
      " 2   duration  3168 non-null   float64\n",
      "dtypes: float64(1), int64(2)\n",
      "memory usage: 74.4 KB\n",
      "None\n",
      "\n",
      "<class 'pandas.core.frame.DataFrame'>\n",
      "RangeIndex: 3201 entries, 0 to 3200\n",
      "Data columns (total 3 columns):\n",
      " #   Column   Non-Null Count  Dtype  \n",
      "---  ------   --------------  -----  \n",
      " 0   user_id  3201 non-null   int64  \n",
      " 1   month    3201 non-null   int64  \n",
      " 2   mb_used  3201 non-null   float64\n",
      "dtypes: float64(1), int64(2)\n",
      "memory usage: 75.1 KB\n",
      "None\n",
      "\n",
      "<class 'pandas.core.frame.DataFrame'>\n",
      "RangeIndex: 2717 entries, 0 to 2716\n",
      "Data columns (total 3 columns):\n",
      " #   Column    Non-Null Count  Dtype\n",
      "---  ------    --------------  -----\n",
      " 0   user_id   2717 non-null   int64\n",
      " 1   month     2717 non-null   int64\n",
      " 2   messages  2717 non-null   int64\n",
      "dtypes: int64(3)\n",
      "memory usage: 63.8 KB\n",
      "None\n",
      "\n"
     ]
    }
   ],
   "source": [
    "calls['month'] = calls['call_date'].dt.month\n",
    "calls_users = calls.pivot_table(index = ['user_id', 'month'], values = 'duration', aggfunc = 'sum').reset_index()\n",
    "\n",
    "internet['month'] = internet['session_date'].dt.month\n",
    "internet_users = internet.pivot_table(index = ['user_id', 'month'], values = 'mb_used', aggfunc = 'sum').reset_index()\n",
    "\n",
    "messages['month'] = messages['message_date'].dt.month\n",
    "messages_users = messages.pivot_table(index = ['user_id', 'month'], values = 'id', aggfunc = 'count')\n",
    "messages_users.columns = ['messages']\n",
    "messages_users.reset_index(inplace=True)\n",
    "print(calls_users.info())\n",
    "print('')\n",
    "print(internet_users.info())\n",
    "print('')\n",
    "print(messages_users.info())\n",
    "print('')"
   ]
  },
  {
   "cell_type": "markdown",
   "metadata": {},
   "source": [
    "Создадим общую таблицу с ежемесячными данными о минутах, мегабайтах и сообщениях для каждого абонента. В неё же добавим название тарифа для каждого абонента."
   ]
  },
  {
   "cell_type": "code",
   "execution_count": 12,
   "metadata": {},
   "outputs": [
    {
     "data": {
      "text/html": [
       "<div>\n",
       "<style scoped>\n",
       "    .dataframe tbody tr th:only-of-type {\n",
       "        vertical-align: middle;\n",
       "    }\n",
       "\n",
       "    .dataframe tbody tr th {\n",
       "        vertical-align: top;\n",
       "    }\n",
       "\n",
       "    .dataframe thead th {\n",
       "        text-align: right;\n",
       "    }\n",
       "</style>\n",
       "<table border=\"1\" class=\"dataframe\">\n",
       "  <thead>\n",
       "    <tr style=\"text-align: right;\">\n",
       "      <th></th>\n",
       "      <th>user_id</th>\n",
       "      <th>month</th>\n",
       "      <th>duration</th>\n",
       "      <th>mb_used</th>\n",
       "      <th>messages</th>\n",
       "      <th>city</th>\n",
       "      <th>tariff</th>\n",
       "    </tr>\n",
       "  </thead>\n",
       "  <tbody>\n",
       "    <tr>\n",
       "      <th>0</th>\n",
       "      <td>1000</td>\n",
       "      <td>5</td>\n",
       "      <td>150.06</td>\n",
       "      <td>2253.49</td>\n",
       "      <td>22.0</td>\n",
       "      <td>Краснодар</td>\n",
       "      <td>ultra</td>\n",
       "    </tr>\n",
       "    <tr>\n",
       "      <th>1</th>\n",
       "      <td>1000</td>\n",
       "      <td>6</td>\n",
       "      <td>158.90</td>\n",
       "      <td>23233.77</td>\n",
       "      <td>60.0</td>\n",
       "      <td>Краснодар</td>\n",
       "      <td>ultra</td>\n",
       "    </tr>\n",
       "    <tr>\n",
       "      <th>2</th>\n",
       "      <td>1000</td>\n",
       "      <td>7</td>\n",
       "      <td>318.80</td>\n",
       "      <td>14003.64</td>\n",
       "      <td>75.0</td>\n",
       "      <td>Краснодар</td>\n",
       "      <td>ultra</td>\n",
       "    </tr>\n",
       "    <tr>\n",
       "      <th>3</th>\n",
       "      <td>1000</td>\n",
       "      <td>8</td>\n",
       "      <td>389.87</td>\n",
       "      <td>14055.93</td>\n",
       "      <td>81.0</td>\n",
       "      <td>Краснодар</td>\n",
       "      <td>ultra</td>\n",
       "    </tr>\n",
       "    <tr>\n",
       "      <th>4</th>\n",
       "      <td>1000</td>\n",
       "      <td>9</td>\n",
       "      <td>440.14</td>\n",
       "      <td>14568.91</td>\n",
       "      <td>57.0</td>\n",
       "      <td>Краснодар</td>\n",
       "      <td>ultra</td>\n",
       "    </tr>\n",
       "    <tr>\n",
       "      <th>5</th>\n",
       "      <td>1000</td>\n",
       "      <td>10</td>\n",
       "      <td>328.45</td>\n",
       "      <td>14702.49</td>\n",
       "      <td>73.0</td>\n",
       "      <td>Краснодар</td>\n",
       "      <td>ultra</td>\n",
       "    </tr>\n",
       "    <tr>\n",
       "      <th>6</th>\n",
       "      <td>1000</td>\n",
       "      <td>11</td>\n",
       "      <td>319.04</td>\n",
       "      <td>14756.47</td>\n",
       "      <td>58.0</td>\n",
       "      <td>Краснодар</td>\n",
       "      <td>ultra</td>\n",
       "    </tr>\n",
       "    <tr>\n",
       "      <th>7</th>\n",
       "      <td>1000</td>\n",
       "      <td>12</td>\n",
       "      <td>312.98</td>\n",
       "      <td>9817.61</td>\n",
       "      <td>70.0</td>\n",
       "      <td>Краснодар</td>\n",
       "      <td>ultra</td>\n",
       "    </tr>\n",
       "    <tr>\n",
       "      <th>8</th>\n",
       "      <td>1001</td>\n",
       "      <td>11</td>\n",
       "      <td>408.12</td>\n",
       "      <td>18429.34</td>\n",
       "      <td>NaN</td>\n",
       "      <td>Москва</td>\n",
       "      <td>smart</td>\n",
       "    </tr>\n",
       "    <tr>\n",
       "      <th>9</th>\n",
       "      <td>1001</td>\n",
       "      <td>12</td>\n",
       "      <td>391.34</td>\n",
       "      <td>14036.66</td>\n",
       "      <td>NaN</td>\n",
       "      <td>Москва</td>\n",
       "      <td>smart</td>\n",
       "    </tr>\n",
       "  </tbody>\n",
       "</table>\n",
       "</div>"
      ],
      "text/plain": [
       "   user_id  month  duration   mb_used  messages       city tariff\n",
       "0     1000      5    150.06   2253.49      22.0  Краснодар  ultra\n",
       "1     1000      6    158.90  23233.77      60.0  Краснодар  ultra\n",
       "2     1000      7    318.80  14003.64      75.0  Краснодар  ultra\n",
       "3     1000      8    389.87  14055.93      81.0  Краснодар  ultra\n",
       "4     1000      9    440.14  14568.91      57.0  Краснодар  ultra\n",
       "5     1000     10    328.45  14702.49      73.0  Краснодар  ultra\n",
       "6     1000     11    319.04  14756.47      58.0  Краснодар  ultra\n",
       "7     1000     12    312.98   9817.61      70.0  Краснодар  ultra\n",
       "8     1001     11    408.12  18429.34       NaN     Москва  smart\n",
       "9     1001     12    391.34  14036.66       NaN     Москва  smart"
      ]
     },
     "metadata": {},
     "output_type": "display_data"
    },
    {
     "name": "stdout",
     "output_type": "stream",
     "text": [
      "\n",
      "<class 'pandas.core.frame.DataFrame'>\n",
      "Int64Index: 3214 entries, 0 to 3213\n",
      "Data columns (total 7 columns):\n",
      " #   Column    Non-Null Count  Dtype  \n",
      "---  ------    --------------  -----  \n",
      " 0   user_id   3214 non-null   int64  \n",
      " 1   month     3214 non-null   int64  \n",
      " 2   duration  3168 non-null   float64\n",
      " 3   mb_used   3201 non-null   float64\n",
      " 4   messages  2717 non-null   float64\n",
      " 5   city      3214 non-null   object \n",
      " 6   tariff    3214 non-null   object \n",
      "dtypes: float64(3), int64(2), object(2)\n",
      "memory usage: 200.9+ KB\n",
      "None\n"
     ]
    }
   ],
   "source": [
    "users_data = pd.merge(calls_users, internet_users, how='outer', on=['user_id','month'])\n",
    "users_data = pd.merge(users_data, messages_users, how='outer', on=['user_id','month'])\n",
    "users_tariff = users[['user_id', 'city', 'tariff']] \n",
    "users_data = pd.merge(users_data, users_tariff, how='left', on='user_id')\n",
    "display(users_data.head(10))\n",
    "print('')\n",
    "print(users_data.info())"
   ]
  },
  {
   "cell_type": "markdown",
   "metadata": {},
   "source": [
    "Добавим в общую графу итоговую плату абонента за месяц"
   ]
  },
  {
   "cell_type": "code",
   "execution_count": 13,
   "metadata": {},
   "outputs": [
    {
     "data": {
      "text/html": [
       "<div>\n",
       "<style scoped>\n",
       "    .dataframe tbody tr th:only-of-type {\n",
       "        vertical-align: middle;\n",
       "    }\n",
       "\n",
       "    .dataframe tbody tr th {\n",
       "        vertical-align: top;\n",
       "    }\n",
       "\n",
       "    .dataframe thead th {\n",
       "        text-align: right;\n",
       "    }\n",
       "</style>\n",
       "<table border=\"1\" class=\"dataframe\">\n",
       "  <thead>\n",
       "    <tr style=\"text-align: right;\">\n",
       "      <th></th>\n",
       "      <th>messages_included</th>\n",
       "      <th>mb_per_month_included</th>\n",
       "      <th>minutes_included</th>\n",
       "      <th>rub_monthly_fee</th>\n",
       "      <th>rub_per_gb</th>\n",
       "      <th>rub_per_message</th>\n",
       "      <th>rub_per_minute</th>\n",
       "    </tr>\n",
       "  </thead>\n",
       "  <tbody>\n",
       "    <tr>\n",
       "      <th>smart</th>\n",
       "      <td>50</td>\n",
       "      <td>15360</td>\n",
       "      <td>500</td>\n",
       "      <td>550</td>\n",
       "      <td>200</td>\n",
       "      <td>3</td>\n",
       "      <td>3</td>\n",
       "    </tr>\n",
       "    <tr>\n",
       "      <th>ultra</th>\n",
       "      <td>1000</td>\n",
       "      <td>30720</td>\n",
       "      <td>3000</td>\n",
       "      <td>1950</td>\n",
       "      <td>150</td>\n",
       "      <td>1</td>\n",
       "      <td>1</td>\n",
       "    </tr>\n",
       "  </tbody>\n",
       "</table>\n",
       "</div>"
      ],
      "text/plain": [
       "       messages_included  mb_per_month_included  minutes_included  \\\n",
       "smart                 50                  15360               500   \n",
       "ultra               1000                  30720              3000   \n",
       "\n",
       "       rub_monthly_fee  rub_per_gb  rub_per_message  rub_per_minute  \n",
       "smart              550         200                3               3  \n",
       "ultra             1950         150                1               1  "
      ]
     },
     "metadata": {},
     "output_type": "display_data"
    }
   ],
   "source": [
    "tariffs.set_index('tariff_name', inplace=True)\n",
    "tariffs.index.name = None\n",
    "display(tariffs)"
   ]
  },
  {
   "cell_type": "code",
   "execution_count": 14,
   "metadata": {},
   "outputs": [],
   "source": [
    "def profit(row):\n",
    "    user_tariff = row['tariff']\n",
    "    \n",
    "    if row['duration'] - tariffs.loc[user_tariff, 'minutes_included'] > 0:\n",
    "        calls_cost = np.ceil(row['duration'] - tariffs.loc[user_tariff, 'minutes_included']) * tariffs.loc[user_tariff, 'rub_per_minute']\n",
    "    else:\n",
    "        calls_cost = 0\n",
    "        \n",
    "    if row['mb_used'] - tariffs.loc[user_tariff, 'mb_per_month_included'] > 0:\n",
    "        internet_cost = np.ceil((row['mb_used'] - tariffs.loc[user_tariff, 'mb_per_month_included']) / 1024) * tariffs.loc[user_tariff, 'rub_per_gb']\n",
    "    else:\n",
    "        internet_cost = 0\n",
    "        \n",
    "    if row['messages'] - tariffs.loc[user_tariff, 'messages_included'] > 0:\n",
    "        messages_cost = (row['messages'] - tariffs.loc[user_tariff, 'messages_included']) * tariffs.loc[user_tariff, 'rub_per_message']\n",
    "    else:\n",
    "        messages_cost = 0\n",
    "    \n",
    "    total_cost = calls_cost + internet_cost + messages_cost + tariffs.loc[user_tariff, 'rub_monthly_fee']\n",
    "    return total_cost\n",
    "    \n",
    "users_data['total_cost'] = users_data.apply(profit, axis = 1)"
   ]
  },
  {
   "cell_type": "code",
   "execution_count": 15,
   "metadata": {},
   "outputs": [
    {
     "name": "stdout",
     "output_type": "stream",
     "text": [
      "<class 'pandas.core.frame.DataFrame'>\n",
      "Int64Index: 3214 entries, 0 to 3213\n",
      "Data columns (total 8 columns):\n",
      " #   Column      Non-Null Count  Dtype  \n",
      "---  ------      --------------  -----  \n",
      " 0   user_id     3214 non-null   int64  \n",
      " 1   month       3214 non-null   int64  \n",
      " 2   duration    3168 non-null   float64\n",
      " 3   mb_used     3201 non-null   float64\n",
      " 4   messages    2717 non-null   float64\n",
      " 5   city        3214 non-null   object \n",
      " 6   tariff      3214 non-null   object \n",
      " 7   total_cost  3214 non-null   float64\n",
      "dtypes: float64(4), int64(2), object(2)\n",
      "memory usage: 226.0+ KB\n",
      "None\n"
     ]
    }
   ],
   "source": [
    "print(users_data.info())"
   ]
  },
  {
   "cell_type": "markdown",
   "metadata": {},
   "source": [
    "### Вывод"
   ]
  },
  {
   "cell_type": "markdown",
   "metadata": {},
   "source": [
    "Данные были подготовлены для удобной работы с ними. Были обработаны нулевые значения, изменен тип данных. \n",
    "\n",
    "Данные были собраны в единую наглядную таблицу, сгруппированы по месяцам для каждого абонента. В эту же таблицу были посчитаны и добвлены итоговые затраты в каждый месяц для каждого абонента."
   ]
  },
  {
   "cell_type": "markdown",
   "metadata": {},
   "source": [
    "## 3. Анализ данных"
   ]
  },
  {
   "cell_type": "markdown",
   "metadata": {},
   "source": [
    "Создадим две отдельные таблицы с данными для абонентов, использующих тарифы \"Ультра\" и \"Смарт\"."
   ]
  },
  {
   "cell_type": "code",
   "execution_count": 16,
   "metadata": {},
   "outputs": [],
   "source": [
    "smart_data = users_data.query('tariff == \"smart\"')\n",
    "ultra_data = users_data.query('tariff == \"ultra\"')"
   ]
  },
  {
   "cell_type": "markdown",
   "metadata": {},
   "source": [
    "### Интернет"
   ]
  },
  {
   "cell_type": "markdown",
   "metadata": {},
   "source": [
    "Проанализируем использование интернет-трафика абонентами.\n",
    "\n",
    "Посчитаем средний объем интернет-трафика в месяц, дисперсию и стандартное отклонение для пользователей каждого тарифа."
   ]
  },
  {
   "cell_type": "code",
   "execution_count": 17,
   "metadata": {},
   "outputs": [
    {
     "data": {
      "text/html": [
       "<div>\n",
       "<style scoped>\n",
       "    .dataframe tbody tr th:only-of-type {\n",
       "        vertical-align: middle;\n",
       "    }\n",
       "\n",
       "    .dataframe tbody tr th {\n",
       "        vertical-align: top;\n",
       "    }\n",
       "\n",
       "    .dataframe thead th {\n",
       "        text-align: right;\n",
       "    }\n",
       "</style>\n",
       "<table border=\"1\" class=\"dataframe\">\n",
       "  <thead>\n",
       "    <tr style=\"text-align: right;\">\n",
       "      <th></th>\n",
       "      <th>tariff</th>\n",
       "      <th>smart</th>\n",
       "      <th>ultra</th>\n",
       "    </tr>\n",
       "  </thead>\n",
       "  <tbody>\n",
       "    <tr>\n",
       "      <th rowspan=\"3\" valign=\"top\">mb_used</th>\n",
       "      <th>mean</th>\n",
       "      <td>16222</td>\n",
       "      <td>19688</td>\n",
       "    </tr>\n",
       "    <tr>\n",
       "      <th>std</th>\n",
       "      <td>5852</td>\n",
       "      <td>9928</td>\n",
       "    </tr>\n",
       "    <tr>\n",
       "      <th>var</th>\n",
       "      <td>34257208</td>\n",
       "      <td>98567864</td>\n",
       "    </tr>\n",
       "  </tbody>\n",
       "</table>\n",
       "</div>"
      ],
      "text/plain": [
       "tariff           smart     ultra\n",
       "mb_used mean     16222     19688\n",
       "        std       5852      9928\n",
       "        var   34257208  98567864"
      ]
     },
     "execution_count": 17,
     "metadata": {},
     "output_type": "execute_result"
    }
   ],
   "source": [
    "users_data.groupby('tariff').agg({'mb_used': ['mean', np.std, np.var]}).T.astype('int')"
   ]
  },
  {
   "cell_type": "markdown",
   "metadata": {},
   "source": [
    "Средний объем интернет-трафика в месяц у пользователей тарифа \"Смарт\" превышает объем, включенный в абонентскую плату. У пользователей тарифа \"Ультра\" - наоборот.\n",
    "\n",
    "Построим диаграммы размаха и гистограммы использования интернет трафика для обоих тарифов."
   ]
  },
  {
   "cell_type": "code",
   "execution_count": 18,
   "metadata": {},
   "outputs": [
    {
     "data": {
      "image/png": "[encoded data removed]",
      "text/plain": [
       "<Figure size 432x288 with 1 Axes>"
      ]
     },
     "metadata": {
      "needs_background": "light"
     },
     "output_type": "display_data"
    },
    {
     "data": {
      "image/png": "[encoded data removed]",
      "text/plain": [
       "<Figure size 432x288 with 1 Axes>"
      ]
     },
     "metadata": {
      "needs_background": "light"
     },
     "output_type": "display_data"
    }
   ],
   "source": [
    "smart_data.boxplot('mb_used')\n",
    "plt.title('Интернет-трафик \"Смарт\"')\n",
    "plt.xlabel('Интернет-трафик за месяц, Мб')\n",
    "plt.show()\n",
    "\n",
    "ultra_data.boxplot('mb_used')\n",
    "plt.title('Интернет-трафик \"Ультра\"')\n",
    "plt.xlabel('Интернет-трафик за месяц, Мб')\n",
    "plt.show()"
   ]
  },
  {
   "cell_type": "code",
   "execution_count": 19,
   "metadata": {},
   "outputs": [
    {
     "data": {
      "image/png": "[encoded data removed]",
      "text/plain": [
       "<Figure size 432x288 with 1 Axes>"
      ]
     },
     "metadata": {
      "needs_background": "light"
     },
     "output_type": "display_data"
    }
   ],
   "source": [
    "smart_data['mb_used'].plot(kind='hist', bins=90, grid=True, title='Интернет-трафик', alpha=0.5, legend=True, label='Smart')\n",
    "plt.xlabel('Интернет-трафик за месяц, Мб')\n",
    "ultra_data['mb_used'].plot(kind='hist', bins=90, grid=True, title='Интернет-трафик', alpha=0.5, legend=True, label='Ultra')\n",
    "plt.show()"
   ]
  },
  {
   "cell_type": "markdown",
   "metadata": {},
   "source": [
    "Из графиков видно, что у пользователей тарифа \"Смарт\" объём потраченного интернет трафика распределён нормально, при этом больше половины пользователей перерасходуют интернет. \n",
    "\n",
    "Среди пользователей тарифа \"Ультра\" перерасходующих интернет меньше, и больше среднеквадратичное отклонение величины. В данном тарифе лимиты достаточно большие для обычной жизни, можно предположить, что тариф часто используют для какого-нибудь одного пакета, например для большого количества звонков."
   ]
  },
  {
   "cell_type": "markdown",
   "metadata": {},
   "source": [
    "### Звонки"
   ]
  },
  {
   "cell_type": "markdown",
   "metadata": {},
   "source": [
    "Проанализируем использование минут абонентами.\n",
    "\n",
    "Посчитаем среднее количество минут в месяц, дисперсию и стандартное отклонение для пользователей каждого тарифа."
   ]
  },
  {
   "cell_type": "code",
   "execution_count": 20,
   "metadata": {},
   "outputs": [
    {
     "data": {
      "text/html": [
       "<div>\n",
       "<style scoped>\n",
       "    .dataframe tbody tr th:only-of-type {\n",
       "        vertical-align: middle;\n",
       "    }\n",
       "\n",
       "    .dataframe tbody tr th {\n",
       "        vertical-align: top;\n",
       "    }\n",
       "\n",
       "    .dataframe thead th {\n",
       "        text-align: right;\n",
       "    }\n",
       "</style>\n",
       "<table border=\"1\" class=\"dataframe\">\n",
       "  <thead>\n",
       "    <tr style=\"text-align: right;\">\n",
       "      <th></th>\n",
       "      <th>tariff</th>\n",
       "      <th>smart</th>\n",
       "      <th>ultra</th>\n",
       "    </tr>\n",
       "  </thead>\n",
       "  <tbody>\n",
       "    <tr>\n",
       "      <th rowspan=\"3\" valign=\"top\">duration</th>\n",
       "      <th>mean</th>\n",
       "      <td>395</td>\n",
       "      <td>517</td>\n",
       "    </tr>\n",
       "    <tr>\n",
       "      <th>std</th>\n",
       "      <td>178</td>\n",
       "      <td>288</td>\n",
       "    </tr>\n",
       "    <tr>\n",
       "      <th>var</th>\n",
       "      <td>31940</td>\n",
       "      <td>83232</td>\n",
       "    </tr>\n",
       "  </tbody>\n",
       "</table>\n",
       "</div>"
      ],
      "text/plain": [
       "tariff         smart  ultra\n",
       "duration mean    395    517\n",
       "         std     178    288\n",
       "         var   31940  83232"
      ]
     },
     "execution_count": 20,
     "metadata": {},
     "output_type": "execute_result"
    }
   ],
   "source": [
    "users_data.groupby('tariff').agg({'duration': ['mean', np.std, np.var]}).T.astype('int')"
   ]
  },
  {
   "cell_type": "markdown",
   "metadata": {},
   "source": [
    "Среднее количество минут в месяц у пользователей тарифа \"Смарт\" не превышает объем, включенный в абонентскую плату. У пользователей тарифа \"Ультра\" в среднем расходуется больше минут, но значительно меньше, чем лимит по данному тарифу.\n",
    "\n",
    "Построим диаграммы размаха и гистограммы использования минут для обоих тарифов."
   ]
  },
  {
   "cell_type": "code",
   "execution_count": 21,
   "metadata": {},
   "outputs": [
    {
     "data": {
      "image/png": "[encoded data removed]",
      "text/plain": [
       "<Figure size 432x288 with 1 Axes>"
      ]
     },
     "metadata": {
      "needs_background": "light"
     },
     "output_type": "display_data"
    },
    {
     "data": {
      "image/png": "[encoded data removed]",
      "text/plain": [
       "<Figure size 432x288 with 1 Axes>"
      ]
     },
     "metadata": {
      "needs_background": "light"
     },
     "output_type": "display_data"
    }
   ],
   "source": [
    "smart_data.boxplot('duration')\n",
    "plt.title('Звонки \"Смарт\"')\n",
    "plt.xlabel('Количество минут разговора за месяц')\n",
    "plt.show()\n",
    "\n",
    "ultra_data.boxplot('duration')\n",
    "plt.title('Звонки \"Ультра\"')\n",
    "plt.xlabel('Количество минут разговора за месяц')\n",
    "plt.show()"
   ]
  },
  {
   "cell_type": "code",
   "execution_count": 22,
   "metadata": {},
   "outputs": [
    {
     "data": {
      "image/png": "[encoded data removed]",
      "text/plain": [
       "<Figure size 432x288 with 1 Axes>"
      ]
     },
     "metadata": {
      "needs_background": "light"
     },
     "output_type": "display_data"
    }
   ],
   "source": [
    "smart_data['duration'].plot(kind='hist', bins=70, grid=True, title='Звонки', alpha=0.5, legend=True, label='Smart')\n",
    "plt.xlabel('Количесвто минут разговора за месяц')\n",
    "ultra_data['duration'].plot(kind='hist', bins=70, grid=True, title='Звонки', alpha=0.5, legend=True, label='Ultra')\n",
    "plt.show()"
   ]
  },
  {
   "cell_type": "markdown",
   "metadata": {},
   "source": [
    "Из графиков видно, что у пользователей тарифа \"Смарт\" количество потраченных минут представляет собой распределение Пуассона, при этом медиана равняется 400 минут и приблизительно соответствует мат. ожиданию данного распределения, а третий квартиль заканчивается на 500, что равняется лимиту по тарифу. Таким образом, большинству пользователей данного тарифа достаточно предоставляемого пакета. Так же, можно заметить выбросы - пользователей, тратящих больше 1000 минут в месяц, данным абонентам стоит задуматься о смене тарифа.\n",
    "\n",
    "Среди пользователей тарифа \"Ультра\" перерасходующих минуты нет, большинсвто людей тратят от 300 до 700 минут в месяц."
   ]
  },
  {
   "cell_type": "markdown",
   "metadata": {},
   "source": [
    "### Сообщения"
   ]
  },
  {
   "cell_type": "markdown",
   "metadata": {},
   "source": [
    "Проанализируем использование сообщений абонентами.\n",
    "\n",
    "Посчитаем среднее количество сообщений в месяц, дисперсию и стандартное отклонение для пользователей каждого тарифа."
   ]
  },
  {
   "cell_type": "code",
   "execution_count": 23,
   "metadata": {},
   "outputs": [
    {
     "data": {
      "text/html": [
       "<div>\n",
       "<style scoped>\n",
       "    .dataframe tbody tr th:only-of-type {\n",
       "        vertical-align: middle;\n",
       "    }\n",
       "\n",
       "    .dataframe tbody tr th {\n",
       "        vertical-align: top;\n",
       "    }\n",
       "\n",
       "    .dataframe thead th {\n",
       "        text-align: right;\n",
       "    }\n",
       "</style>\n",
       "<table border=\"1\" class=\"dataframe\">\n",
       "  <thead>\n",
       "    <tr style=\"text-align: right;\">\n",
       "      <th></th>\n",
       "      <th>tariff</th>\n",
       "      <th>smart</th>\n",
       "      <th>ultra</th>\n",
       "    </tr>\n",
       "  </thead>\n",
       "  <tbody>\n",
       "    <tr>\n",
       "      <th rowspan=\"3\" valign=\"top\">messages</th>\n",
       "      <th>mean</th>\n",
       "      <td>38</td>\n",
       "      <td>61</td>\n",
       "    </tr>\n",
       "    <tr>\n",
       "      <th>std</th>\n",
       "      <td>26</td>\n",
       "      <td>45</td>\n",
       "    </tr>\n",
       "    <tr>\n",
       "      <th>var</th>\n",
       "      <td>717</td>\n",
       "      <td>2109</td>\n",
       "    </tr>\n",
       "  </tbody>\n",
       "</table>\n",
       "</div>"
      ],
      "text/plain": [
       "tariff         smart  ultra\n",
       "messages mean     38     61\n",
       "         std      26     45\n",
       "         var     717   2109"
      ]
     },
     "execution_count": 23,
     "metadata": {},
     "output_type": "execute_result"
    }
   ],
   "source": [
    "users_data.groupby('tariff').agg({'messages': ['mean', np.std, np.var]}).T.astype('int')"
   ]
  },
  {
   "cell_type": "markdown",
   "metadata": {},
   "source": [
    "Видно, пользователи \"Смарт\" в среднем укладываются в предоставленное количество сообщений, а пользователи \"Ультра\" не могут израсходовать весь предоставленный объем сообщений. \n",
    "\n",
    "Построим диаграммы размаха и гистограммы использования сообщений для обоих тарифов."
   ]
  },
  {
   "cell_type": "code",
   "execution_count": 24,
   "metadata": {},
   "outputs": [
    {
     "data": {
      "image/png": "[encoded data removed]",
      "text/plain": [
       "<Figure size 432x288 with 1 Axes>"
      ]
     },
     "metadata": {
      "needs_background": "light"
     },
     "output_type": "display_data"
    },
    {
     "data": {
      "image/png": "[encoded data removed]",
      "text/plain": [
       "<Figure size 432x288 with 1 Axes>"
      ]
     },
     "metadata": {
      "needs_background": "light"
     },
     "output_type": "display_data"
    }
   ],
   "source": [
    "smart_data.boxplot('messages')\n",
    "plt.title('Сообщения \"Смарт\"')\n",
    "plt.xlabel('Количество сообщений за месяц')\n",
    "plt.show()\n",
    "\n",
    "ultra_data.boxplot('messages')\n",
    "plt.title('Сообщения \"Ультра\"')\n",
    "plt.xlabel('Количество сообщений за месяц')\n",
    "plt.show()"
   ]
  },
  {
   "cell_type": "code",
   "execution_count": 25,
   "metadata": {},
   "outputs": [
    {
     "data": {
      "image/png": "[encoded data removed]",
      "text/plain": [
       "<Figure size 432x288 with 1 Axes>"
      ]
     },
     "metadata": {
      "needs_background": "light"
     },
     "output_type": "display_data"
    }
   ],
   "source": [
    "smart_data['messages'].plot(kind='hist', bins=70, grid=True, title='Сообщения', alpha=0.5, legend=True, label='Smart')\n",
    "plt.xlabel('Количесвто сообщений за месяц')\n",
    "ultra_data['messages'].plot(kind='hist', bins=70, grid=True, title='Сообщения', alpha=0.5, legend=True, label='Ultra')\n",
    "plt.show()"
   ]
  },
  {
   "cell_type": "markdown",
   "metadata": {},
   "source": [
    "Потраченные сообщения за месяц на обоих тарифах - это среднее количество событий (отправленных сбщ) за единицу времени (1 месяц), а такая дискретная величина распределяется согласно распределению Пуассона, что наглядно подтверждается гистограммами. На тарифе \"Смарт\" почти 3 квартиля пользователей укладываются в предоставленные лимиты по сообщениям, однако остальным сообщений не хватает. На тарифе \"Ультра\" лимит достаточно большой, что никто не может потратить даже одну пятую его часть."
   ]
  },
  {
   "cell_type": "markdown",
   "metadata": {},
   "source": [
    "### Вывод"
   ]
  },
  {
   "cell_type": "markdown",
   "metadata": {},
   "source": [
    "В целом, пользователям тарифа \"Смарт\" гораздо сильнее не хватает предоставляемых пакетов, и приходится переплачивать за дополнительный объем данных. В то время как почти все пользователи \"Ультра\" укладываются в лимиты по всем параметрам, а по звонкам и сообщениям не могут израсходовать даже половину лимитов."
   ]
  },
  {
   "cell_type": "markdown",
   "metadata": {},
   "source": [
    "## 4. Проверка гипотез"
   ]
  },
  {
   "cell_type": "markdown",
   "metadata": {},
   "source": [
    "По заданию необходимо проверить две гипотезы:\n",
    "1. средняя выручка пользователей тарифов «Ультра» и «Смарт» различается;\n",
    "2. средняя выручка пользователей из Москвы отличается от выручки пользователей из других регионов;"
   ]
  },
  {
   "cell_type": "markdown",
   "metadata": {},
   "source": [
    "Проверяем первую гипотезу. Нулевая гипотеза должна формулироваться исходя из знака равенства. Сформулируем нулевую гипотезу: \"средняя выручка тарифов \"Ультра\" и \"Смарт\" равна\". Тогда альтернативная гипотеза будет следующая: \"средняя выручка пользователей тарифов \"Ультра\" и \"Смарт\" не равна\""
   ]
  },
  {
   "cell_type": "markdown",
   "metadata": {},
   "source": [
    "Предварительно проверим, можно ли считать дисперсии наших выборок равными."
   ]
  },
  {
   "cell_type": "code",
   "execution_count": 26,
   "metadata": {},
   "outputs": [
    {
     "name": "stdout",
     "output_type": "stream",
     "text": [
      "Дисперсии отличаются на: 353.5%\n"
     ]
    }
   ],
   "source": [
    "print('Дисперсии отличаются на: {:.1%}'\n",
    "      .format(\n",
    "          (max(np.var(ultra_data['total_cost']), np.var(smart_data['total_cost']))\n",
    "          - min(np.var(ultra_data['total_cost']), np.var(smart_data['total_cost'])))\n",
    "          / min(np.var(ultra_data['total_cost']), np.var(smart_data['total_cost'])))\n",
    "     )"
   ]
  },
  {
   "cell_type": "markdown",
   "metadata": {},
   "source": [
    "Дисперсии отличаются очень сильно, поэтому параметр equal_var при тестировании будет иметь значение False"
   ]
  },
  {
   "cell_type": "code",
   "execution_count": 27,
   "metadata": {},
   "outputs": [
    {
     "name": "stdout",
     "output_type": "stream",
     "text": [
      "p-value: 6.179723168444486e-274\n",
      "Отвергаем нулевую гипотезу\n"
     ]
    }
   ],
   "source": [
    "from scipy import stats as st\n",
    "\n",
    "alpha = .05\n",
    "\n",
    "results_1 = st.ttest_ind(smart_data['total_cost'], ultra_data['total_cost'], equal_var=False)\n",
    "\n",
    "print('p-value:', results_1.pvalue)\n",
    "\n",
    "if results_1.pvalue < alpha:\n",
    "    print('Отвергаем нулевую гипотезу')\n",
    "else:\n",
    "    print('Не отвергаем нулевую гипотезу')"
   ]
  },
  {
   "cell_type": "markdown",
   "metadata": {},
   "source": [
    "Как видно из результата т-теста, полученное p-value много меньше 1%, значит выручки с пользователей тарифов \"Ультра\" и \"Смарт\" отличаются.\n",
    "\n",
    "Построим диаграммы размаха для выручек по данным тарифам, для наглядного представления их отличия."
   ]
  },
  {
   "cell_type": "code",
   "execution_count": 28,
   "metadata": {},
   "outputs": [
    {
     "data": {
      "image/png": "[encoded data removed]",
      "text/plain": [
       "<Figure size 432x288 with 1 Axes>"
      ]
     },
     "metadata": {
      "needs_background": "light"
     },
     "output_type": "display_data"
    },
    {
     "data": {
      "image/png": "[encoded data removed]",
      "text/plain": [
       "<Figure size 432x288 with 1 Axes>"
      ]
     },
     "metadata": {
      "needs_background": "light"
     },
     "output_type": "display_data"
    }
   ],
   "source": [
    "smart_data.boxplot('total_cost')\n",
    "plt.title('Выручка \"Смарт\"')\n",
    "plt.xlabel('Выручка за месяц, руб')\n",
    "plt.show()\n",
    "\n",
    "ultra_data.boxplot('total_cost')\n",
    "plt.title('Выручка \"Ультра\"')\n",
    "plt.xlabel('Выручка за месяц, руб')\n",
    "plt.show()"
   ]
  },
  {
   "cell_type": "markdown",
   "metadata": {},
   "source": [
    "Из диаграмм размаха видно, что пользователи тарифа \"Ультра\" все укладываются в абонентскую плату, за исключением отдельных выбросов. Медианная оплата мобильной связи у пользователей тарифа \"Смарт\" почти в 2 раза превышает абонентскую плату, но больше трёх квартилей пользователей по прежнему платят меньше, чем по тарифу \"Ультра\"."
   ]
  },
  {
   "cell_type": "markdown",
   "metadata": {},
   "source": [
    "Проверяем вторую гипотезу. Нулевая гипотеза должна формулироваться исходя из знака равенства. Сформулируем нулевую гипотезу: \"средняя выручка пользователей из Москвы и из других регионов равна\". Тогда альтернативная гипотеза будет следующая: \"средняя выручка пользователей из Москвы и из других регионов не равна\""
   ]
  },
  {
   "cell_type": "markdown",
   "metadata": {},
   "source": [
    "Проверим, что в столбце \"город\" все названия заданы корректно и создадим два отдельных датасета для пользователей из Москвы и из других регионов."
   ]
  },
  {
   "cell_type": "code",
   "execution_count": 29,
   "metadata": {},
   "outputs": [
    {
     "name": "stdout",
     "output_type": "stream",
     "text": [
      "['Краснодар' 'Москва' 'Стерлитамак' 'Новокузнецк' 'Набережные Челны'\n",
      " 'Ульяновск' 'Челябинск' 'Пермь' 'Тюмень' 'Самара' 'Санкт-Петербург'\n",
      " 'Иваново' 'Чебоксары' 'Омск' 'Уфа' 'Томск' 'Чита' 'Мурманск'\n",
      " 'Петрозаводск' 'Тверь' 'Екатеринбург' 'Махачкала' 'Вологда' 'Череповец'\n",
      " 'Ярославль' 'Сочи' 'Хабаровск' 'Ставрополь' 'Рязань' 'Улан-Удэ' 'Тула'\n",
      " 'Саратов' 'Ростов-на-Дону' 'Казань' 'Иркутск' 'Курск' 'Калуга' 'Якутск'\n",
      " 'Астрахань' 'Химки' 'Владикавказ' 'Волгоград' 'Саранск' 'Ижевск'\n",
      " 'Новосибирск' 'Брянск' 'Тольятти' 'Нижний Тагил' 'Орёл' 'Белгород'\n",
      " 'Воронеж' 'Курган' 'Барнаул' 'Красноярск' 'Архангельск' 'Липецк'\n",
      " 'Кемерово' 'Киров' 'Сургут' 'Пенза' 'Волжский' 'Магнитогорск'\n",
      " 'Нижний Новгород' 'Кострома' 'Владивосток' 'Тамбов' 'Балашиха'\n",
      " 'Севастополь' 'Калининград' 'Оренбург' 'Смоленск' 'Нижневартовск'\n",
      " 'Владимир' 'Новороссийск' 'Грозный' 'Подольск']\n"
     ]
    }
   ],
   "source": [
    "print(users_data['city'].unique())"
   ]
  },
  {
   "cell_type": "code",
   "execution_count": 30,
   "metadata": {},
   "outputs": [],
   "source": [
    "moscow_data = users_data.query('city == \"Москва\"')\n",
    "regions_data = users_data.query('city != \"Москва\"')"
   ]
  },
  {
   "cell_type": "markdown",
   "metadata": {},
   "source": [
    "Предварительно проверим, можно ли считать дисперсии наших выборок равными."
   ]
  },
  {
   "cell_type": "code",
   "execution_count": 31,
   "metadata": {},
   "outputs": [
    {
     "name": "stdout",
     "output_type": "stream",
     "text": [
      "Дисперсии отличаются на: 14.6%\n"
     ]
    }
   ],
   "source": [
    "print('Дисперсии отличаются на: {:.1%}'\n",
    "      .format(\n",
    "          (max(np.var(moscow_data['total_cost']), np.var(regions_data['total_cost']))\n",
    "          - min(np.var(moscow_data['total_cost']), np.var(regions_data['total_cost'])))\n",
    "          / min(np.var(moscow_data['total_cost']), np.var(regions_data['total_cost'])))\n",
    "     )"
   ]
  },
  {
   "cell_type": "markdown",
   "metadata": {},
   "source": [
    "Дисперсии отличаются больше чем на 10%, значит параметр equal_var=False"
   ]
  },
  {
   "cell_type": "code",
   "execution_count": 32,
   "metadata": {},
   "outputs": [
    {
     "name": "stdout",
     "output_type": "stream",
     "text": [
      "p-value: 0.46532858228722906\n",
      "Не отвергаем нулевую гипотезу\n"
     ]
    }
   ],
   "source": [
    "alpha = .05\n",
    "\n",
    "results_2 = st.ttest_ind(moscow_data['total_cost'], regions_data['total_cost'], equal_var=False)\n",
    "print('p-value:', results_2.pvalue)\n",
    "\n",
    "if results_2.pvalue < alpha:\n",
    "    print('Отвергаем нулевую гипотезу')\n",
    "else:\n",
    "    print('Не отвергаем нулевую гипотезу')"
   ]
  },
  {
   "cell_type": "markdown",
   "metadata": {},
   "source": [
    "Исходя из полученного p-value, можно сделать вывод, что высока вероятность того, что абоненты из Москвы и правда приносят телеком компании больше выручку, чем абоненты из других регионов."
   ]
  },
  {
   "cell_type": "markdown",
   "metadata": {},
   "source": [
    "## Вывод"
   ]
  },
  {
   "cell_type": "markdown",
   "metadata": {},
   "source": [
    "В данной работе были проанализированы данные об использовании абонентами двух тарифов компании \"Мегалайн\". В ходе работы была создана общая таблица, включающая данные об использовании всех пакетов услуг каждым абонентом помесячно, была посчитана ежемесячная выручка компании с каждого абонента.\n",
    "\n",
    "Из построенных графиков и проведенных анализов можно сделать выводы:\n",
    "1. В соврменном мире очень мало используются сообщения, важнее всего людям интернет и звонки.\n",
    "2. Предоставляемого оператором интернета часто недостаточно, даже на дорогом тарифе.\n",
    "3. Выручка с тарифа \"Ультра\" больше, даже с учетом перерасхода пакетов абонентами тарифа \"Смарт\".\n",
    "4. Высока вероятность того, что пользователи из Москвы приносят больше выручку, чем из других регионов."
   ]
  }
 ],
 "metadata": {
  "kernelspec": {
   "display_name": "Python 3",
   "language": "python",
   "name": "python3"
  },
  "language_info": {
   "codemirror_mode": {
    "name": "ipython",
    "version": 3
   },
   "file_extension": ".py",
   "mimetype": "text/x-python",
   "name": "python",
   "nbconvert_exporter": "python",
   "pygments_lexer": "ipython3",
   "version": "3.8.8"
  },
  "toc": {
   "base_numbering": 1,
   "nav_menu": {},
   "number_sections": true,
   "sideBar": true,
   "skip_h1_title": false,
   "title_cell": "Table of Contents",
   "title_sidebar": "Contents",
   "toc_cell": false,
   "toc_position": {},
   "toc_section_display": true,
   "toc_window_display": false
  }
 },
 "nbformat": 4,
 "nbformat_minor": 2
}
